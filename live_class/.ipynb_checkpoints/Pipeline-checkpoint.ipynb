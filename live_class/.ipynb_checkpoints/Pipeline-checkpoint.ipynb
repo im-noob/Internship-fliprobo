{
 "cells": [
  {
   "cell_type": "code",
   "execution_count": 14,
   "metadata": {},
   "outputs": [],
   "source": [
    "from sklearn import linear_model\n",
    "from sklearn.datasets import load_boston\n",
    "from sklearn.linear_model import SGDRegressor\n",
    "\n",
    "from sklearn.decomposition import PCA\n",
    "from sklearn.preprocessing import StandardScaler\n",
    "from sklearn.model_selection import cross_val_score\n",
    "from sklearn.metrics import r2_score, mean_squared_error\n",
    "from sklearn.pipeline import Pipeline\n",
    "\n",
    "import numpy as np\n",
    "import pandas as pd\n",
    "\n",
    "x = load_boston()\n",
    "data = pd.DataFrame(x.data, columns = x.feature_names)\n",
    "y= x.target"
   ]
  },
  {
   "cell_type": "code",
   "execution_count": 15,
   "metadata": {},
   "outputs": [
    {
     "name": "stdout",
     "output_type": "stream",
     "text": [
      "SGDRegressor: 0.496194 (0.253783)\n"
     ]
    }
   ],
   "source": [
    "pipe =[]\n",
    "pipe.append(('SC',StandardScaler()))\n",
    "pipe.append(('PCA',PCA(n_components=8)))\n",
    "pipe.append(('SDG', SGDRegressor(alpha=0.1,learning_rate='optimal',max_iter=400,penalty='l2')))\n",
    "model = Pipeline(pipe)\n",
    "\n",
    "cv_result = cross_val_score(model,data,y,cv=5)\n",
    "msg = \"%s: %f (%f)\" % ('SGDRegressor', cv_result.mean(),cv_result.std())\n",
    "print(msg)"
   ]
  },
  {
   "cell_type": "code",
   "execution_count": 16,
   "metadata": {},
   "outputs": [
    {
     "name": "stdout",
     "output_type": "stream",
     "text": [
      "SGDClassifier: 0.496194 (0.253783)\n"
     ]
    }
   ],
   "source": [
    "from sklearn.linear_model import SGDClassifier\n",
    "from sklearn.datasets import load_iris\n",
    "\n",
    "x = load_iris()\n",
    "data = pd.DataFrame(x.data,columns=x.feature_names)\n",
    "y=x.target\n",
    "\n",
    "\n",
    "model  = SGDClassifier()\n",
    "\n",
    "cv_results = cross_val_score(model,data,y,cv=5)\n",
    "msg = \"%s: %f (%f)\" % ('SGDClassifier', cv_result.mean(),cv_result.std())\n",
    "print(msg)\n"
   ]
  },
  {
   "cell_type": "code",
   "execution_count": null,
   "metadata": {},
   "outputs": [],
   "source": []
  }
 ],
 "metadata": {
  "kernelspec": {
   "display_name": "Python 3",
   "language": "python",
   "name": "python3"
  },
  "language_info": {
   "codemirror_mode": {
    "name": "ipython",
    "version": 3
   },
   "file_extension": ".py",
   "mimetype": "text/x-python",
   "name": "python",
   "nbconvert_exporter": "python",
   "pygments_lexer": "ipython3",
   "version": "3.8.5"
  }
 },
 "nbformat": 4,
 "nbformat_minor": 4
}
