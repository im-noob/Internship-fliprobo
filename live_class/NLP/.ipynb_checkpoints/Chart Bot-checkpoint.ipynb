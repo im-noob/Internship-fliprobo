{
 "cells": [
  {
   "cell_type": "code",
   "execution_count": 2,
   "id": "c0e7ba7b",
   "metadata": {},
   "outputs": [],
   "source": [
    "from nltk.chat.util import Chat, reflections"
   ]
  },
  {
   "cell_type": "code",
   "execution_count": 3,
   "id": "95c5b639",
   "metadata": {},
   "outputs": [
    {
     "data": {
      "text/plain": [
       "{'i am': 'you are',\n",
       " 'i was': 'you were',\n",
       " 'i': 'you',\n",
       " \"i'm\": 'you are',\n",
       " \"i'd\": 'you would',\n",
       " \"i've\": 'you have',\n",
       " \"i'll\": 'you will',\n",
       " 'my': 'your',\n",
       " 'you are': 'I am',\n",
       " 'you were': 'I was',\n",
       " \"you've\": 'I have',\n",
       " \"you'll\": 'I will',\n",
       " 'your': 'my',\n",
       " 'yours': 'mine',\n",
       " 'you': 'me',\n",
       " 'me': 'you'}"
      ]
     },
     "execution_count": 3,
     "metadata": {},
     "output_type": "execute_result"
    }
   ],
   "source": [
    "reflections"
   ]
  },
  {
   "cell_type": "code",
   "execution_count": 4,
   "id": "e66368b0",
   "metadata": {},
   "outputs": [
    {
     "data": {
      "text/plain": [
       "nltk.chat.util.Chat"
      ]
     },
     "execution_count": 4,
     "metadata": {},
     "output_type": "execute_result"
    }
   ],
   "source": [
    "Chat"
   ]
  },
  {
   "cell_type": "code",
   "execution_count": 8,
   "id": "6bb4d132",
   "metadata": {},
   "outputs": [],
   "source": [
    "pairs = [\n",
    "    [\n",
    "        r\"(.*) plan (.*)\",\n",
    "        ['We have 249 rs per month plan']\n",
    "    ],\n",
    "    [\n",
    "        r\"(.*)help(.*)\",\n",
    "        [\"I can help you \"]\n",
    "    ],\n",
    "    [\n",
    "        r\"(.*) your name ?\",\n",
    "        [\"My name is Jarvis and I'm a chatbot. \"]\n",
    "    ],\n",
    "    [\n",
    "        r\"(.*) your name ?\",\n",
    "        [\"I'm doing very well\",'i am great.', 'I am very cool!']\n",
    "    ],\n",
    "    [\n",
    "        r\"sorry (.*)\",\n",
    "        [\"It's all right\",\"It's OK, never mind\"]\n",
    "    ],\n",
    "    [\n",
    "        r\"i am (good|well|okay|ok|fine)\",\n",
    "        [\"Nice to hear that\",\"Alright, great !\"]\n",
    "        \n",
    "    ],\n",
    "    [\n",
    "        r\"(hi|hey|hello|hola|holla)(.*)\",\n",
    "        ['Hello','Hey there']\n",
    "    ],\n",
    "    [\n",
    "        r\"what (.*) want ?\",\n",
    "        [\"I want to learn Natural Language Processing\"]\n",
    "    ],\n",
    "    [\n",
    "        r\"(.*)created(.*)\",\n",
    "        [\"Ironman created me using his brain\",\"it's top secret\"]\n",
    "    ],\n",
    "    [\n",
    "        r\"(.*) (location|city) ?\",\n",
    "        ['Bengalauru, India']\n",
    "    ],\n",
    "    [\n",
    "        r\"(.*) ranning in (.*)\",\n",
    "        ['No rain in the past 4 days here in %2',\"In %2 there is a 50% chance of rain\"]\n",
    "    ],\n",
    "    [\n",
    "        r\"How (.*) health (.*)\",\n",
    "        [\"Health is very important, but i am a computer, so don't need to worry about my health\"]\n",
    "    ],\n",
    "    [\n",
    "        r\"(.*)(sports|game|sport)(.*)\",\n",
    "        [\"I'm a very big fan of Football\"]\n",
    "    ],\n",
    "    [\n",
    "        r\"who (.*) (player|striker|forward)?\",\n",
    "        [\"Dhoni\"]\n",
    "    ],\n",
    "    [\n",
    "        r\"(quit|bye|tata|good night)\",\n",
    "        [\"Bye for now. See you soon :)\",\"It was nice talking to you. See you soon:)\",\"Seeya\"]\n",
    "    ],\n",
    "    [\n",
    "        r\"(.*)\",\n",
    "        [\"I did not get that, Do you want to connect to our boss ?\",\"I'm really sorry try once more.\"]\n",
    "    ]\n",
    "]"
   ]
  },
  {
   "cell_type": "code",
   "execution_count": 9,
   "id": "3035e1d5",
   "metadata": {},
   "outputs": [
    {
     "name": "stdout",
     "output_type": "stream",
     "text": [
      "Hi i'm jarvis and I like to chat \n",
      "Please type in lowercase english language to start conversation. Type quit to leave\n"
     ]
    }
   ],
   "source": [
    "print(\"Hi i'm jarvis and I like to chat \\nPlease type in lowercase english language to start conversation. Type quit to leave\")\n",
    "chat = Chat(pairs,reflections)"
   ]
  },
  {
   "cell_type": "code",
   "execution_count": 10,
   "id": "7050bf29",
   "metadata": {},
   "outputs": [
    {
     "name": "stdout",
     "output_type": "stream",
     "text": [
      ">Hello\n",
      "Hey there\n",
      ">how are you\n",
      "I did not get that, Do you want to connect to our boss ?\n",
      ">help me\n",
      "I can help you \n",
      ">name\n",
      "I did not get that, Do you want to connect to our boss ?\n",
      ">what's your name\n",
      "My name is Jarvis and I'm a chatbot. \n",
      ">good\n",
      "I'm really sorry try once more.\n",
      ">who created you ?\n",
      "Ironman created me using his brain\n",
      ">bye\n",
      "It was nice talking to you. See you soon:)\n",
      ">quit\n",
      "Bye for now. See you soon :)\n"
     ]
    }
   ],
   "source": [
    "chat.converse()"
   ]
  },
  {
   "cell_type": "code",
   "execution_count": null,
   "id": "341b816f",
   "metadata": {},
   "outputs": [],
   "source": []
  }
 ],
 "metadata": {
  "kernelspec": {
   "display_name": "Python 3",
   "language": "python",
   "name": "python3"
  },
  "language_info": {
   "codemirror_mode": {
    "name": "ipython",
    "version": 3
   },
   "file_extension": ".py",
   "mimetype": "text/x-python",
   "name": "python",
   "nbconvert_exporter": "python",
   "pygments_lexer": "ipython3",
   "version": "3.8.8"
  }
 },
 "nbformat": 4,
 "nbformat_minor": 5
}
