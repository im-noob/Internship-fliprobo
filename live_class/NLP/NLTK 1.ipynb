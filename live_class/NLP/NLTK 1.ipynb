{
 "cells": [
  {
   "cell_type": "code",
   "execution_count": 1,
   "id": "f590a890",
   "metadata": {},
   "outputs": [
    {
     "name": "stdout",
     "output_type": "stream",
     "text": [
      "Requirement already satisfied: nltk in /home/aarav/anaconda3/lib/python3.8/site-packages (3.6.1)\r\n",
      "Requirement already satisfied: regex in /home/aarav/anaconda3/lib/python3.8/site-packages (from nltk) (2021.4.4)\r\n",
      "Requirement already satisfied: click in /home/aarav/anaconda3/lib/python3.8/site-packages (from nltk) (7.1.2)\r\n",
      "Requirement already satisfied: joblib in /home/aarav/anaconda3/lib/python3.8/site-packages (from nltk) (1.0.1)\r\n",
      "Requirement already satisfied: tqdm in /home/aarav/anaconda3/lib/python3.8/site-packages (from nltk) (4.59.0)\r\n"
     ]
    }
   ],
   "source": [
    "!pip install nltk"
   ]
  },
  {
   "cell_type": "markdown",
   "id": "837a4f2d",
   "metadata": {},
   "source": [
    "# Work Tokenize"
   ]
  },
  {
   "cell_type": "code",
   "execution_count": 2,
   "id": "26cdaf39",
   "metadata": {},
   "outputs": [],
   "source": [
    "import nltk\n",
    "from nltk.tokenize import word_tokenize"
   ]
  },
  {
   "cell_type": "code",
   "execution_count": 3,
   "id": "d91636a2",
   "metadata": {},
   "outputs": [],
   "source": [
    "text = 'I am learning Natural Language preprocessing'"
   ]
  },
  {
   "cell_type": "code",
   "execution_count": 4,
   "id": "3deb05fd",
   "metadata": {},
   "outputs": [
    {
     "name": "stdout",
     "output_type": "stream",
     "text": [
      "['I', 'am', 'learning', 'Natural', 'Language', 'preprocessing']\n"
     ]
    }
   ],
   "source": [
    "print(word_tokenize(text))"
   ]
  },
  {
   "cell_type": "markdown",
   "id": "cb9277ce",
   "metadata": {},
   "source": [
    "# Sentence Tokenize"
   ]
  },
  {
   "cell_type": "code",
   "execution_count": 5,
   "id": "fc6ba3ee",
   "metadata": {},
   "outputs": [],
   "source": [
    "from nltk.tokenize import sent_tokenize"
   ]
  },
  {
   "cell_type": "code",
   "execution_count": 6,
   "id": "6966ade5",
   "metadata": {},
   "outputs": [],
   "source": [
    "text = \" Our Compnay annual growth rate is 25.50%. Good job Mr. Bajaj\""
   ]
  },
  {
   "cell_type": "code",
   "execution_count": 7,
   "id": "f2f19d88",
   "metadata": {},
   "outputs": [
    {
     "data": {
      "text/plain": [
       "[' Our Compnay annual growth rate is 25.50%.', 'Good job Mr. Bajaj']"
      ]
     },
     "execution_count": 7,
     "metadata": {},
     "output_type": "execute_result"
    }
   ],
   "source": [
    "sent_tokenize(text)"
   ]
  },
  {
   "cell_type": "markdown",
   "id": "2d59cacb",
   "metadata": {},
   "source": [
    "# Regular Expression "
   ]
  },
  {
   "cell_type": "code",
   "execution_count": 8,
   "id": "892e1a40",
   "metadata": {},
   "outputs": [],
   "source": [
    "from nltk.tokenize import regexp_tokenize"
   ]
  },
  {
   "cell_type": "code",
   "execution_count": 9,
   "id": "a2b09911",
   "metadata": {},
   "outputs": [],
   "source": [
    "text = \"NLP is fun and Can deal with texts and sounds, but can't deal with images. We have session at 11AM!. We can earn lot of $\""
   ]
  },
  {
   "cell_type": "code",
   "execution_count": 10,
   "id": "e37fa53a",
   "metadata": {},
   "outputs": [
    {
     "data": {
      "text/plain": [
       "['is',\n",
       " 'fun',\n",
       " 'and',\n",
       " 'an',\n",
       " 'deal',\n",
       " 'with',\n",
       " 'texts',\n",
       " 'and',\n",
       " 'sounds',\n",
       " 'but',\n",
       " 'can',\n",
       " 't',\n",
       " 'deal',\n",
       " 'with',\n",
       " 'images',\n",
       " 'e',\n",
       " 'have',\n",
       " 'session',\n",
       " 'at',\n",
       " 'e',\n",
       " 'can',\n",
       " 'earn',\n",
       " 'lot',\n",
       " 'of']"
      ]
     },
     "execution_count": 10,
     "metadata": {},
     "output_type": "execute_result"
    }
   ],
   "source": [
    "regexp_tokenize(text,\"[a-z]+\")"
   ]
  },
  {
   "cell_type": "code",
   "execution_count": 11,
   "id": "583136f1",
   "metadata": {},
   "outputs": [
    {
     "data": {
      "text/plain": [
       "['is',\n",
       " 'fun',\n",
       " 'and',\n",
       " 'an',\n",
       " 'deal',\n",
       " 'with',\n",
       " 'texts',\n",
       " 'and',\n",
       " 'sounds',\n",
       " 'but',\n",
       " \"can't\",\n",
       " 'deal',\n",
       " 'with',\n",
       " 'images',\n",
       " 'e',\n",
       " 'have',\n",
       " 'session',\n",
       " 'at',\n",
       " 'e',\n",
       " 'can',\n",
       " 'earn',\n",
       " 'lot',\n",
       " 'of']"
      ]
     },
     "execution_count": 11,
     "metadata": {},
     "output_type": "execute_result"
    }
   ],
   "source": [
    "regexp_tokenize(text,\"[a-z']+\")"
   ]
  },
  {
   "cell_type": "code",
   "execution_count": 12,
   "id": "228c2069",
   "metadata": {},
   "outputs": [
    {
     "data": {
      "text/plain": [
       "['NLP', 'C', 'W', 'AM', 'W']"
      ]
     },
     "execution_count": 12,
     "metadata": {},
     "output_type": "execute_result"
    }
   ],
   "source": [
    "regexp_tokenize(text,\"[A-Z]+\")"
   ]
  },
  {
   "cell_type": "code",
   "execution_count": 13,
   "id": "950b7ed8",
   "metadata": {},
   "outputs": [
    {
     "data": {
      "text/plain": [
       "['N', 'L', 'P', 'C', 'W', 'A', 'M', 'W']"
      ]
     },
     "execution_count": 13,
     "metadata": {},
     "output_type": "execute_result"
    }
   ],
   "source": [
    "regexp_tokenize(text,\"[A-Z]\")"
   ]
  },
  {
   "cell_type": "code",
   "execution_count": 14,
   "id": "57b94739",
   "metadata": {},
   "outputs": [
    {
     "data": {
      "text/plain": [
       "[\"NLP is fun and Can deal with texts and sounds, but can't deal with images. We have session at 11AM!. We can earn lot of $\"]"
      ]
     },
     "execution_count": 14,
     "metadata": {},
     "output_type": "execute_result"
    }
   ],
   "source": [
    "regexp_tokenize(text,\"[\\a-z']+\")"
   ]
  },
  {
   "cell_type": "code",
   "execution_count": 15,
   "id": "ddc3096f",
   "metadata": {},
   "outputs": [
    {
     "data": {
      "text/plain": [
       "['NLP ',\n",
       " ' ',\n",
       " ' ',\n",
       " ' C',\n",
       " ' ',\n",
       " ' ',\n",
       " ' ',\n",
       " ' ',\n",
       " ' ',\n",
       " ', ',\n",
       " ' ',\n",
       " \"'\",\n",
       " ' ',\n",
       " ' ',\n",
       " ' ',\n",
       " '. W',\n",
       " ' ',\n",
       " ' ',\n",
       " ' ',\n",
       " ' 11AM!. W',\n",
       " ' ',\n",
       " ' ',\n",
       " ' ',\n",
       " ' ',\n",
       " ' $']"
      ]
     },
     "execution_count": 15,
     "metadata": {},
     "output_type": "execute_result"
    }
   ],
   "source": [
    "regexp_tokenize(text,\"[^a-z]+\")"
   ]
  },
  {
   "cell_type": "code",
   "execution_count": 16,
   "id": "fd838f25",
   "metadata": {},
   "outputs": [
    {
     "data": {
      "text/plain": [
       "['11']"
      ]
     },
     "execution_count": 16,
     "metadata": {},
     "output_type": "execute_result"
    }
   ],
   "source": [
    "regexp_tokenize(text,\"[0-9]+\")"
   ]
  },
  {
   "cell_type": "code",
   "execution_count": 17,
   "id": "83d17199",
   "metadata": {},
   "outputs": [
    {
     "data": {
      "text/plain": [
       "[\"NLP is fun and Can deal with texts and sounds, but can't deal with images. We have session at \",\n",
       " 'AM!. We can earn lot of $']"
      ]
     },
     "execution_count": 17,
     "metadata": {},
     "output_type": "execute_result"
    }
   ],
   "source": [
    "regexp_tokenize(text,\"[^0-9]+\")"
   ]
  },
  {
   "cell_type": "code",
   "execution_count": 18,
   "id": "a744b593",
   "metadata": {},
   "outputs": [
    {
     "data": {
      "text/plain": [
       "['$']"
      ]
     },
     "execution_count": 18,
     "metadata": {},
     "output_type": "execute_result"
    }
   ],
   "source": [
    "regexp_tokenize(text,\"[$]\")"
   ]
  },
  {
   "cell_type": "markdown",
   "id": "95180b26",
   "metadata": {},
   "source": [
    "# STOP Words"
   ]
  },
  {
   "cell_type": "code",
   "execution_count": 19,
   "id": "4b1e365b",
   "metadata": {},
   "outputs": [],
   "source": [
    "from nltk.corpus import stopwords"
   ]
  },
  {
   "cell_type": "code",
   "execution_count": 20,
   "id": "37fde3b3",
   "metadata": {
    "scrolled": false
   },
   "outputs": [
    {
     "name": "stdout",
     "output_type": "stream",
     "text": [
      "['i', 'me', 'my', 'myself', 'we', 'our', 'ours', 'ourselves', 'you', \"you're\", \"you've\", \"you'll\", \"you'd\", 'your', 'yours', 'yourself', 'yourselves', 'he', 'him', 'his', 'himself', 'she', \"she's\", 'her', 'hers', 'herself', 'it', \"it's\", 'its', 'itself', 'they', 'them', 'their', 'theirs', 'themselves', 'what', 'which', 'who', 'whom', 'this', 'that', \"that'll\", 'these', 'those', 'am', 'is', 'are', 'was', 'were', 'be', 'been', 'being', 'have', 'has', 'had', 'having', 'do', 'does', 'did', 'doing', 'a', 'an', 'the', 'and', 'but', 'if', 'or', 'because', 'as', 'until', 'while', 'of', 'at', 'by', 'for', 'with', 'about', 'against', 'between', 'into', 'through', 'during', 'before', 'after', 'above', 'below', 'to', 'from', 'up', 'down', 'in', 'out', 'on', 'off', 'over', 'under', 'again', 'further', 'then', 'once', 'here', 'there', 'when', 'where', 'why', 'how', 'all', 'any', 'both', 'each', 'few', 'more', 'most', 'other', 'some', 'such', 'no', 'nor', 'not', 'only', 'own', 'same', 'so', 'than', 'too', 'very', 's', 't', 'can', 'will', 'just', 'don', \"don't\", 'should', \"should've\", 'now', 'd', 'll', 'm', 'o', 're', 've', 'y', 'ain', 'aren', \"aren't\", 'couldn', \"couldn't\", 'didn', \"didn't\", 'doesn', \"doesn't\", 'hadn', \"hadn't\", 'hasn', \"hasn't\", 'haven', \"haven't\", 'isn', \"isn't\", 'ma', 'mightn', \"mightn't\", 'mustn', \"mustn't\", 'needn', \"needn't\", 'shan', \"shan't\", 'shouldn', \"shouldn't\", 'wasn', \"wasn't\", 'weren', \"weren't\", 'won', \"won't\", 'wouldn', \"wouldn't\"]\n",
      "179\n"
     ]
    }
   ],
   "source": [
    "stop_words = stopwords.words('english')\n",
    "print(stop_words)\n",
    "print(len(stop_words))"
   ]
  },
  {
   "cell_type": "code",
   "execution_count": 21,
   "id": "ad74a115",
   "metadata": {},
   "outputs": [],
   "source": [
    "import string"
   ]
  },
  {
   "cell_type": "code",
   "execution_count": 22,
   "id": "86175119",
   "metadata": {},
   "outputs": [
    {
     "data": {
      "text/plain": [
       "'!\"#$%&\\'()*+,-./:;<=>?@[\\\\]^_`{|}~'"
      ]
     },
     "execution_count": 22,
     "metadata": {},
     "output_type": "execute_result"
    }
   ],
   "source": [
    "string.punctuation"
   ]
  },
  {
   "cell_type": "markdown",
   "id": "55f77def",
   "metadata": {},
   "source": [
    "# Steamming"
   ]
  },
  {
   "cell_type": "code",
   "execution_count": 23,
   "id": "8739531f",
   "metadata": {},
   "outputs": [],
   "source": [
    "import nltk\n",
    "from nltk.stem import PorterStemmer, LancasterStemmer, SnowballStemmer"
   ]
  },
  {
   "cell_type": "code",
   "execution_count": 24,
   "id": "db74eac7",
   "metadata": {},
   "outputs": [
    {
     "name": "stdout",
     "output_type": "stream",
     "text": [
      "Porter stemmer \n",
      "hobbi\n",
      "hobbi\n",
      "comput\n",
      "comput\n",
      "****************************\n",
      "Lancaster stemmer \n",
      "hobby\n",
      "hobby\n",
      "comput\n",
      "comput\n",
      "****************************\n",
      "Snowball stemmer \n",
      "hobbi\n",
      "hobbi\n",
      "comput\n",
      "comput\n",
      "****************************\n"
     ]
    }
   ],
   "source": [
    "porterStemmer = PorterStemmer()\n",
    "lancasterStemmer = LancasterStemmer()\n",
    "snowballStemmer = SnowballStemmer('english')\n",
    "\n",
    "print('Porter stemmer ')\n",
    "print(porterStemmer.stem('hobby'))\n",
    "print(porterStemmer.stem('hobbies'))\n",
    "print(porterStemmer.stem('computer'))\n",
    "print(porterStemmer.stem('computation'))\n",
    "print('****************************')\n",
    "\n",
    "\n",
    "print('Lancaster stemmer ')\n",
    "print(lancasterStemmer.stem('hobby'))\n",
    "print(lancasterStemmer.stem('hobbies'))\n",
    "print(lancasterStemmer.stem('computer'))\n",
    "print(lancasterStemmer.stem('computation'))\n",
    "print('****************************')\n",
    "\n",
    "print('Snowball stemmer ')\n",
    "print(snowballStemmer.stem('hobby'))\n",
    "print(snowballStemmer.stem('hobbies'))\n",
    "print(snowballStemmer.stem('computer'))\n",
    "print(snowballStemmer.stem('computation'))\n",
    "print('****************************')"
   ]
  },
  {
   "cell_type": "code",
   "execution_count": 25,
   "id": "e197b78a",
   "metadata": {},
   "outputs": [
    {
     "name": "stdout",
     "output_type": "stream",
     "text": [
      "['I', 'was', 'going', 'to', 'office', 'on', 'my', 'bike', 'when', 'i', 'saw', 'a', 'car', 'passing', 'by', 'hit', 'the', 'three', '.']\n"
     ]
    }
   ],
   "source": [
    "sentence = \"I was going to office on my bike when i saw a car passing by hit the three.\"\n",
    "token = list(nltk.word_tokenize(sentence))\n",
    "print(token)"
   ]
  },
  {
   "cell_type": "code",
   "execution_count": 26,
   "id": "6f7d3406",
   "metadata": {},
   "outputs": [
    {
     "data": {
      "text/plain": [
       "'I was going to office on my bike when i saw a car passing by hit the three.'"
      ]
     },
     "execution_count": 26,
     "metadata": {},
     "output_type": "execute_result"
    }
   ],
   "source": [
    "sentence"
   ]
  },
  {
   "cell_type": "code",
   "execution_count": 27,
   "id": "148ce940",
   "metadata": {},
   "outputs": [
    {
     "name": "stdout",
     "output_type": "stream",
     "text": [
      "i was go to offic on my bike when i saw a car pass by hit the three .\n",
      "i was going to off on my bik when i saw a car pass by hit the three .\n",
      "i wa go to offic on my bike when i saw a car pass by hit the three .\n"
     ]
    }
   ],
   "source": [
    "for stemmer in (snowballStemmer,lancasterStemmer,porterStemmer):\n",
    "    stem = [stemmer.stem(t) for t in token]\n",
    "    print(\" \".join(stem))"
   ]
  },
  {
   "cell_type": "code",
   "execution_count": 28,
   "id": "6ce4ea4e",
   "metadata": {},
   "outputs": [
    {
     "name": "stdout",
     "output_type": "stream",
     "text": [
      "run\n",
      "run\n",
      "ran\n"
     ]
    }
   ],
   "source": [
    "print(porterStemmer.stem('running'))\n",
    "print(porterStemmer.stem('runs'))\n",
    "print(porterStemmer.stem('ran'))"
   ]
  },
  {
   "cell_type": "markdown",
   "id": "3c8eb264",
   "metadata": {},
   "source": [
    "# Lemmatization"
   ]
  },
  {
   "cell_type": "code",
   "execution_count": 29,
   "id": "05658d0e",
   "metadata": {},
   "outputs": [],
   "source": [
    "from nltk.stem import WordNetLemmatizer"
   ]
  },
  {
   "cell_type": "code",
   "execution_count": 30,
   "id": "d2e284e0",
   "metadata": {},
   "outputs": [
    {
     "name": "stdout",
     "output_type": "stream",
     "text": [
      "running\n",
      "run\n",
      "ran\n"
     ]
    }
   ],
   "source": [
    "lemma = WordNetLemmatizer()\n",
    "\n",
    "print(lemma.lemmatize('running'))\n",
    "print(lemma.lemmatize('runs'))\n",
    "print(lemma.lemmatize('ran'))"
   ]
  },
  {
   "cell_type": "code",
   "execution_count": 31,
   "id": "d14e2f05",
   "metadata": {},
   "outputs": [
    {
     "name": "stdout",
     "output_type": "stream",
     "text": [
      "run\n",
      "run\n",
      "run\n"
     ]
    }
   ],
   "source": [
    "print(lemma.lemmatize('running',pos='v'))\n",
    "print(lemma.lemmatize('runs',pos='v'))\n",
    "print(lemma.lemmatize('ran',pos='v'))"
   ]
  },
  {
   "cell_type": "code",
   "execution_count": 32,
   "id": "6ff3446d",
   "metadata": {},
   "outputs": [
    {
     "name": "stdout",
     "output_type": "stream",
     "text": [
      "Steamming for Bring is bring\n",
      "Steamming for King is king\n",
      "Steamming for Going is go\n",
      "Steamming for Anything is anyth\n",
      "Steamming for Sing is sing\n",
      "Steamming for Ring is ring\n",
      "Steamming for Nothing is noth\n",
      "Steamming for Thing is thing\n"
     ]
    }
   ],
   "source": [
    "text = \"Bring King Going Anything Sing Ring Nothing Thing\"\n",
    "\n",
    "import nltk\n",
    "from nltk.stem.porter import PorterStemmer\n",
    "porterStemmer = PorterStemmer()\n",
    "\n",
    "tokenization = nltk.word_tokenize(text)\n",
    "\n",
    "for w in tokenization: \n",
    "    print('Steamming for {} is {}'.format(w,porterStemmer.stem(w)))"
   ]
  },
  {
   "cell_type": "code",
   "execution_count": 33,
   "id": "0a0ad953",
   "metadata": {},
   "outputs": [
    {
     "name": "stdout",
     "output_type": "stream",
     "text": [
      "Lemma for Bring is Bring\n",
      "Lemma for King is King\n",
      "Lemma for Going is Going\n",
      "Lemma for Anything is Anything\n",
      "Lemma for Sing is Sing\n",
      "Lemma for Ring is Ring\n",
      "Lemma for Nothing is Nothing\n",
      "Lemma for Thing is Thing\n"
     ]
    }
   ],
   "source": [
    "from nltk.stem import WordNetLemmatizer\n",
    "wordNetLemmatizer = WordNetLemmatizer()\n",
    "\n",
    "tokenization = nltk.word_tokenize(text)\n",
    "\n",
    "for w in tokenization:\n",
    "    print('Lemma for {} is {}'.format(w,wordNetLemmatizer.lemmatize(w)))"
   ]
  },
  {
   "cell_type": "markdown",
   "id": "cc42a0eb",
   "metadata": {},
   "source": [
    "# Wordnet"
   ]
  },
  {
   "cell_type": "code",
   "execution_count": 34,
   "id": "ad37f7c0",
   "metadata": {},
   "outputs": [],
   "source": [
    "from nltk.corpus import wordnet"
   ]
  },
  {
   "cell_type": "code",
   "execution_count": 35,
   "id": "471e841c",
   "metadata": {},
   "outputs": [
    {
     "name": "stdout",
     "output_type": "stream",
     "text": [
      "Synonyms =>  {'dearest', 'be_intimate', 'have_sex', 'beloved', 'love_life', 'roll_in_the_hay', 'get_laid', 'fuck', 'bonk', 'hump', 'sexual_love', 'sleep_with', 'love', 'making_love', 'enjoy', 'eff', 'have_intercourse', 'have_it_away', 'have_a_go_at_it', 'erotic_love', 'passion', 'bang', 'lie_with', 'lovemaking', 'do_it', 'make_love', 'sleep_together', 'make_out', 'honey', 'jazz', 'bed', 'screw', 'dear', 'have_it_off', 'know', 'get_it_on'}\n",
      "antonyms =>  {'hate'}\n"
     ]
    }
   ],
   "source": [
    "synonyms = []\n",
    "antonyms = []\n",
    "\n",
    "for sys in wordnet.synsets('love'):\n",
    "    for l in sys.lemmas():\n",
    "        synonyms.append(l.name())\n",
    "        if l.antonyms():\n",
    "            antonyms.append(l.antonyms()[0].name())\n",
    "            \n",
    "print('Synonyms => ',set(synonyms))\n",
    "print('antonyms => ',set(antonyms))"
   ]
  },
  {
   "cell_type": "markdown",
   "id": "ac5480ad",
   "metadata": {},
   "source": [
    "# Vertorization"
   ]
  },
  {
   "cell_type": "code",
   "execution_count": 36,
   "id": "5122c040",
   "metadata": {},
   "outputs": [],
   "source": [
    "from sklearn.feature_extraction.text import CountVectorizer"
   ]
  },
  {
   "cell_type": "code",
   "execution_count": 37,
   "id": "a6cd128d",
   "metadata": {},
   "outputs": [],
   "source": [
    "from nltk.corpus import stopwords\n",
    "import pandas as pd"
   ]
  },
  {
   "cell_type": "code",
   "execution_count": 38,
   "id": "45d8d47b",
   "metadata": {},
   "outputs": [],
   "source": [
    "string = ['This is an example of bag of words!']"
   ]
  },
  {
   "cell_type": "code",
   "execution_count": 39,
   "id": "eec12eaa",
   "metadata": {},
   "outputs": [
    {
     "name": "stdout",
     "output_type": "stream",
     "text": [
      "Bag of words:  ['an', 'bag', 'example', 'is', 'of', 'this', 'words']\n"
     ]
    }
   ],
   "source": [
    "countVectorizer1 = CountVectorizer()\n",
    "countVectorizer1.fit_transform(string)\n",
    "print('Bag of words: ',countVectorizer1.get_feature_names())"
   ]
  },
  {
   "cell_type": "code",
   "execution_count": 40,
   "id": "1e9ab7f9",
   "metadata": {},
   "outputs": [
    {
     "name": "stdout",
     "output_type": "stream",
     "text": [
      "CountVectorizer()\n"
     ]
    }
   ],
   "source": [
    "print(countVectorizer1)"
   ]
  },
  {
   "cell_type": "code",
   "execution_count": 41,
   "id": "292814c3",
   "metadata": {},
   "outputs": [
    {
     "data": {
      "text/plain": [
       "{'this': 5, 'is': 3, 'an': 0, 'example': 2, 'of': 4, 'bag': 1, 'words': 6}"
      ]
     },
     "execution_count": 41,
     "metadata": {},
     "output_type": "execute_result"
    }
   ],
   "source": [
    "countVectorizer1.vocabulary_"
   ]
  },
  {
   "cell_type": "code",
   "execution_count": 42,
   "id": "94ccb882",
   "metadata": {},
   "outputs": [
    {
     "data": {
      "text/plain": [
       "CountVectorizer()"
      ]
     },
     "execution_count": 42,
     "metadata": {},
     "output_type": "execute_result"
    }
   ],
   "source": [
    "countVectorizer2 = CountVectorizer()\n",
    "countVectorizer2.fit(string)"
   ]
  },
  {
   "cell_type": "code",
   "execution_count": 43,
   "id": "5d02e3a7",
   "metadata": {},
   "outputs": [
    {
     "name": "stdout",
     "output_type": "stream",
     "text": [
      "text peresent at [[0 0 0 2 1 0 1]]\n",
      "original indexes ['an', 'bag', 'example', 'is', 'of', 'this', 'words']\n"
     ]
    }
   ],
   "source": [
    "string2 = ['Lets understand is of words is']\n",
    "c_new_vect = countVectorizer2.transform(string2)\n",
    "\n",
    "print('text peresent at', c_new_vect.toarray())\n",
    "print('original indexes',countVectorizer1.get_feature_names())"
   ]
  },
  {
   "cell_type": "code",
   "execution_count": 44,
   "id": "f063e8b3",
   "metadata": {},
   "outputs": [
    {
     "name": "stdout",
     "output_type": "stream",
     "text": [
      "CountVectorizer(stop_words=['i', 'me', 'my', 'myself', 'we', 'our', 'ours',\n",
      "                            'ourselves', 'you', \"you're\", \"you've\", \"you'll\",\n",
      "                            \"you'd\", 'your', 'yours', 'yourself', 'yourselves',\n",
      "                            'he', 'him', 'his', 'himself', 'she', \"she's\",\n",
      "                            'her', 'hers', 'herself', 'it', \"it's\", 'its',\n",
      "                            'itself', ...])\n"
     ]
    }
   ],
   "source": [
    "stop_words = stopwords.words('english')\n",
    "string = [\"This is an example of bag of words!\"]\n",
    "countVectorizer = CountVectorizer(stop_words=stop_words)\n",
    "print(countVectorizer)"
   ]
  },
  {
   "cell_type": "code",
   "execution_count": 45,
   "id": "32a456ed",
   "metadata": {},
   "outputs": [
    {
     "data": {
      "text/plain": [
       "<1x3 sparse matrix of type '<class 'numpy.int64'>'\n",
       "\twith 3 stored elements in Compressed Sparse Row format>"
      ]
     },
     "execution_count": 45,
     "metadata": {},
     "output_type": "execute_result"
    }
   ],
   "source": [
    "countVectorizer.fit_transform(string)"
   ]
  },
  {
   "cell_type": "code",
   "execution_count": 46,
   "id": "f4298da6",
   "metadata": {},
   "outputs": [
    {
     "name": "stdout",
     "output_type": "stream",
     "text": [
      "Bag of words: ['bag', 'example', 'words']\n",
      "vocab: {'example': 1, 'bag': 0, 'words': 2}\n"
     ]
    }
   ],
   "source": [
    "print('Bag of words:',countVectorizer.get_feature_names())\n",
    "print('vocab:',countVectorizer.vocabulary_)"
   ]
  },
  {
   "cell_type": "markdown",
   "id": "7cbda1b4",
   "metadata": {},
   "source": [
    "#### function "
   ]
  },
  {
   "cell_type": "code",
   "execution_count": 47,
   "id": "f63ce9da",
   "metadata": {},
   "outputs": [],
   "source": [
    "def text_matrix(string,model):\n",
    "    result = model.fit_transform(string)\n",
    "    return pd.DataFrame(result.toarray(),columns=model.get_feature_names())"
   ]
  },
  {
   "cell_type": "code",
   "execution_count": 48,
   "id": "0f170901",
   "metadata": {},
   "outputs": [
    {
     "data": {
      "text/html": [
       "<div>\n",
       "<style scoped>\n",
       "    .dataframe tbody tr th:only-of-type {\n",
       "        vertical-align: middle;\n",
       "    }\n",
       "\n",
       "    .dataframe tbody tr th {\n",
       "        vertical-align: top;\n",
       "    }\n",
       "\n",
       "    .dataframe thead th {\n",
       "        text-align: right;\n",
       "    }\n",
       "</style>\n",
       "<table border=\"1\" class=\"dataframe\">\n",
       "  <thead>\n",
       "    <tr style=\"text-align: right;\">\n",
       "      <th></th>\n",
       "      <th>are</th>\n",
       "      <th>but</th>\n",
       "      <th>for</th>\n",
       "      <th>get</th>\n",
       "      <th>in</th>\n",
       "      <th>is</th>\n",
       "      <th>making</th>\n",
       "      <th>mantra</th>\n",
       "      <th>natural</th>\n",
       "      <th>only</th>\n",
       "      <th>pratice</th>\n",
       "      <th>process</th>\n",
       "      <th>processing</th>\n",
       "      <th>slowly</th>\n",
       "      <th>success</th>\n",
       "      <th>the</th>\n",
       "      <th>there</th>\n",
       "      <th>we</th>\n",
       "      <th>will</th>\n",
       "    </tr>\n",
       "  </thead>\n",
       "  <tbody>\n",
       "    <tr>\n",
       "      <th>0</th>\n",
       "      <td>1</td>\n",
       "      <td>0</td>\n",
       "      <td>0</td>\n",
       "      <td>0</td>\n",
       "      <td>1</td>\n",
       "      <td>0</td>\n",
       "      <td>1</td>\n",
       "      <td>0</td>\n",
       "      <td>1</td>\n",
       "      <td>0</td>\n",
       "      <td>0</td>\n",
       "      <td>1</td>\n",
       "      <td>1</td>\n",
       "      <td>1</td>\n",
       "      <td>0</td>\n",
       "      <td>0</td>\n",
       "      <td>0</td>\n",
       "      <td>1</td>\n",
       "      <td>0</td>\n",
       "    </tr>\n",
       "    <tr>\n",
       "      <th>1</th>\n",
       "      <td>0</td>\n",
       "      <td>0</td>\n",
       "      <td>0</td>\n",
       "      <td>1</td>\n",
       "      <td>0</td>\n",
       "      <td>0</td>\n",
       "      <td>0</td>\n",
       "      <td>0</td>\n",
       "      <td>0</td>\n",
       "      <td>0</td>\n",
       "      <td>0</td>\n",
       "      <td>0</td>\n",
       "      <td>0</td>\n",
       "      <td>0</td>\n",
       "      <td>0</td>\n",
       "      <td>0</td>\n",
       "      <td>1</td>\n",
       "      <td>1</td>\n",
       "      <td>1</td>\n",
       "    </tr>\n",
       "    <tr>\n",
       "      <th>2</th>\n",
       "      <td>0</td>\n",
       "      <td>1</td>\n",
       "      <td>1</td>\n",
       "      <td>0</td>\n",
       "      <td>0</td>\n",
       "      <td>1</td>\n",
       "      <td>0</td>\n",
       "      <td>1</td>\n",
       "      <td>0</td>\n",
       "      <td>1</td>\n",
       "      <td>1</td>\n",
       "      <td>0</td>\n",
       "      <td>0</td>\n",
       "      <td>0</td>\n",
       "      <td>1</td>\n",
       "      <td>1</td>\n",
       "      <td>0</td>\n",
       "      <td>0</td>\n",
       "      <td>0</td>\n",
       "    </tr>\n",
       "  </tbody>\n",
       "</table>\n",
       "</div>"
      ],
      "text/plain": [
       "   are  but  for  get  in  is  making  mantra  natural  only  pratice  \\\n",
       "0    1    0    0    0   1   0       1       0        1     0        0   \n",
       "1    0    0    0    1   0   0       0       0        0     0        0   \n",
       "2    0    1    1    0   0   1       0       1        0     1        1   \n",
       "\n",
       "   process  processing  slowly  success  the  there  we  will  \n",
       "0        1           1       1        0    0      0   1     0  \n",
       "1        0           0       0        0    0      1   1     1  \n",
       "2        0           0       0        1    1      0   0     0  "
      ]
     },
     "execution_count": 48,
     "metadata": {},
     "output_type": "execute_result"
    }
   ],
   "source": [
    "message = [\n",
    "    'We are slowly making process in Natural Processing',\n",
    "    'We will get there',\n",
    "    'But pratice is the only mantra for success'\n",
    "]\n",
    "countVectorizer = CountVectorizer()\n",
    "text_matrix(message,countVectorizer)"
   ]
  },
  {
   "cell_type": "markdown",
   "id": "fb1dbb32",
   "metadata": {},
   "source": [
    "# N Gram"
   ]
  },
  {
   "cell_type": "code",
   "execution_count": 49,
   "id": "a6a04844",
   "metadata": {},
   "outputs": [],
   "source": [
    "from sklearn.feature_extraction.text import CountVectorizer\n",
    "from nltk.tokenize import word_tokenize"
   ]
  },
  {
   "cell_type": "code",
   "execution_count": 50,
   "id": "09ff15ae",
   "metadata": {},
   "outputs": [],
   "source": [
    "string = ['This is an example of gram!']"
   ]
  },
  {
   "cell_type": "code",
   "execution_count": 51,
   "id": "0b3f8766",
   "metadata": {},
   "outputs": [
    {
     "data": {
      "text/plain": [
       "<1x9 sparse matrix of type '<class 'numpy.int64'>'\n",
       "\twith 9 stored elements in Compressed Sparse Row format>"
      ]
     },
     "execution_count": 51,
     "metadata": {},
     "output_type": "execute_result"
    }
   ],
   "source": [
    "vect1 = CountVectorizer(ngram_range=(1,1))\n",
    "vect1.fit_transform(string)\n",
    "\n",
    "vect2 = CountVectorizer(ngram_range=(2,2))\n",
    "vect2.fit_transform(string)\n",
    "\n",
    "vect3 = CountVectorizer(ngram_range=(3,3))\n",
    "vect3.fit_transform(string)\n",
    "\n",
    "vect4 = CountVectorizer(ngram_range=(4,4))\n",
    "vect4.fit_transform(string)\n",
    "\n",
    "vect5 = CountVectorizer(ngram_range=(2,3))\n",
    "vect5.fit_transform(string)"
   ]
  },
  {
   "cell_type": "code",
   "execution_count": 52,
   "id": "563996cd",
   "metadata": {},
   "outputs": [
    {
     "name": "stdout",
     "output_type": "stream",
     "text": [
      "1-gram  : ['an', 'example', 'gram', 'is', 'of', 'this']\n",
      "2-gram  : ['an example', 'example of', 'is an', 'of gram', 'this is']\n",
      "3-gram  : ['an example of', 'example of gram', 'is an example', 'this is an']\n",
      "4-gram  : ['an example of gram', 'is an example of', 'this is an example']\n",
      "5-gram  : ['an example', 'an example of', 'example of', 'example of gram', 'is an', 'is an example', 'of gram', 'this is', 'this is an']\n"
     ]
    }
   ],
   "source": [
    "print('1-gram  :',vect1.get_feature_names())\n",
    "print('2-gram  :',vect2.get_feature_names())\n",
    "print('3-gram  :',vect3.get_feature_names())\n",
    "print('4-gram  :',vect4.get_feature_names())\n",
    "print('5-gram  :',vect5.get_feature_names())"
   ]
  },
  {
   "cell_type": "markdown",
   "id": "227f56ee",
   "metadata": {},
   "source": [
    "# Word Embading"
   ]
  },
  {
   "cell_type": "code",
   "execution_count": 53,
   "id": "2202ba20",
   "metadata": {},
   "outputs": [],
   "source": [
    "from sklearn.feature_extraction.text import TfidfVectorizer"
   ]
  },
  {
   "cell_type": "code",
   "execution_count": 54,
   "id": "db26856f",
   "metadata": {},
   "outputs": [],
   "source": [
    "import pandas as pd"
   ]
  },
  {
   "cell_type": "code",
   "execution_count": 55,
   "id": "595e7b67",
   "metadata": {},
   "outputs": [
    {
     "data": {
      "text/html": [
       "<div>\n",
       "<style scoped>\n",
       "    .dataframe tbody tr th:only-of-type {\n",
       "        vertical-align: middle;\n",
       "    }\n",
       "\n",
       "    .dataframe tbody tr th {\n",
       "        vertical-align: top;\n",
       "    }\n",
       "\n",
       "    .dataframe thead th {\n",
       "        text-align: right;\n",
       "    }\n",
       "</style>\n",
       "<table border=\"1\" class=\"dataframe\">\n",
       "  <thead>\n",
       "    <tr style=\"text-align: right;\">\n",
       "      <th></th>\n",
       "      <th>an</th>\n",
       "      <th>be</th>\n",
       "      <th>can</th>\n",
       "      <th>confusing</th>\n",
       "      <th>example</th>\n",
       "      <th>how</th>\n",
       "      <th>idf</th>\n",
       "      <th>is</th>\n",
       "      <th>it</th>\n",
       "      <th>see</th>\n",
       "      <th>this</th>\n",
       "      <th>we</th>\n",
       "      <th>will</th>\n",
       "      <th>works</th>\n",
       "    </tr>\n",
       "  </thead>\n",
       "  <tbody>\n",
       "    <tr>\n",
       "      <th>0</th>\n",
       "      <td>0.5</td>\n",
       "      <td>0.0</td>\n",
       "      <td>0.0</td>\n",
       "      <td>0.0</td>\n",
       "      <td>0.5</td>\n",
       "      <td>0.000000</td>\n",
       "      <td>0.0</td>\n",
       "      <td>0.5</td>\n",
       "      <td>0.000000</td>\n",
       "      <td>0.000000</td>\n",
       "      <td>0.5</td>\n",
       "      <td>0.000000</td>\n",
       "      <td>0.000000</td>\n",
       "      <td>0.000000</td>\n",
       "    </tr>\n",
       "    <tr>\n",
       "      <th>1</th>\n",
       "      <td>0.0</td>\n",
       "      <td>0.0</td>\n",
       "      <td>0.0</td>\n",
       "      <td>0.0</td>\n",
       "      <td>0.0</td>\n",
       "      <td>0.408248</td>\n",
       "      <td>0.0</td>\n",
       "      <td>0.0</td>\n",
       "      <td>0.408248</td>\n",
       "      <td>0.408248</td>\n",
       "      <td>0.0</td>\n",
       "      <td>0.408248</td>\n",
       "      <td>0.408248</td>\n",
       "      <td>0.408248</td>\n",
       "    </tr>\n",
       "    <tr>\n",
       "      <th>2</th>\n",
       "      <td>0.0</td>\n",
       "      <td>0.5</td>\n",
       "      <td>0.5</td>\n",
       "      <td>0.5</td>\n",
       "      <td>0.0</td>\n",
       "      <td>0.000000</td>\n",
       "      <td>0.5</td>\n",
       "      <td>0.0</td>\n",
       "      <td>0.000000</td>\n",
       "      <td>0.000000</td>\n",
       "      <td>0.0</td>\n",
       "      <td>0.000000</td>\n",
       "      <td>0.000000</td>\n",
       "      <td>0.000000</td>\n",
       "    </tr>\n",
       "  </tbody>\n",
       "</table>\n",
       "</div>"
      ],
      "text/plain": [
       "    an   be  can  confusing  example       how  idf   is        it       see  \\\n",
       "0  0.5  0.0  0.0        0.0      0.5  0.000000  0.0  0.5  0.000000  0.000000   \n",
       "1  0.0  0.0  0.0        0.0      0.0  0.408248  0.0  0.0  0.408248  0.408248   \n",
       "2  0.0  0.5  0.5        0.5      0.0  0.000000  0.5  0.0  0.000000  0.000000   \n",
       "\n",
       "   this        we      will     works  \n",
       "0   0.5  0.000000  0.000000  0.000000  \n",
       "1   0.0  0.408248  0.408248  0.408248  \n",
       "2   0.0  0.000000  0.000000  0.000000  "
      ]
     },
     "execution_count": 55,
     "metadata": {},
     "output_type": "execute_result"
    }
   ],
   "source": [
    "tfidfVectorizer = TfidfVectorizer(smooth_idf=False)\n",
    "\n",
    "doc = [\n",
    "    'This is an example.',\n",
    "    'We will see how it works.',\n",
    "    'IDF can be confusing'\n",
    "]\n",
    "doc_vector = tfidfVectorizer.fit_transform(doc)\n",
    "\n",
    "df = pd.DataFrame(doc_vector.todense(),columns=tfidfVectorizer.get_feature_names())\n",
    "df"
   ]
  },
  {
   "cell_type": "code",
   "execution_count": 56,
   "id": "15e452f2",
   "metadata": {},
   "outputs": [],
   "source": [
    "def text_matrix(string,model):\n",
    "    result = model.fit_transform(string)\n",
    "    return pd.DataFrame(result.toarray(),columns=model.get_feature_names())"
   ]
  },
  {
   "cell_type": "code",
   "execution_count": 57,
   "id": "8fefdcf6",
   "metadata": {},
   "outputs": [
    {
     "data": {
      "text/html": [
       "<div>\n",
       "<style scoped>\n",
       "    .dataframe tbody tr th:only-of-type {\n",
       "        vertical-align: middle;\n",
       "    }\n",
       "\n",
       "    .dataframe tbody tr th {\n",
       "        vertical-align: top;\n",
       "    }\n",
       "\n",
       "    .dataframe thead th {\n",
       "        text-align: right;\n",
       "    }\n",
       "</style>\n",
       "<table border=\"1\" class=\"dataframe\">\n",
       "  <thead>\n",
       "    <tr style=\"text-align: right;\">\n",
       "      <th></th>\n",
       "      <th>are</th>\n",
       "      <th>cases</th>\n",
       "      <th>coivd</th>\n",
       "      <th>covid</th>\n",
       "      <th>droping</th>\n",
       "      <th>is</th>\n",
       "      <th>nothing</th>\n",
       "      <th>that</th>\n",
       "      <th>the</th>\n",
       "      <th>what</th>\n",
       "    </tr>\n",
       "  </thead>\n",
       "  <tbody>\n",
       "    <tr>\n",
       "      <th>0</th>\n",
       "      <td>0.000000</td>\n",
       "      <td>0.000000</td>\n",
       "      <td>0.450504</td>\n",
       "      <td>0.266075</td>\n",
       "      <td>0.000000</td>\n",
       "      <td>0.342620</td>\n",
       "      <td>0.000000</td>\n",
       "      <td>0.450504</td>\n",
       "      <td>0.450504</td>\n",
       "      <td>0.450504</td>\n",
       "    </tr>\n",
       "    <tr>\n",
       "      <th>1</th>\n",
       "      <td>0.000000</td>\n",
       "      <td>0.000000</td>\n",
       "      <td>0.000000</td>\n",
       "      <td>0.425441</td>\n",
       "      <td>0.000000</td>\n",
       "      <td>0.547832</td>\n",
       "      <td>0.720333</td>\n",
       "      <td>0.000000</td>\n",
       "      <td>0.000000</td>\n",
       "      <td>0.000000</td>\n",
       "    </tr>\n",
       "    <tr>\n",
       "      <th>2</th>\n",
       "      <td>0.546454</td>\n",
       "      <td>0.546454</td>\n",
       "      <td>0.000000</td>\n",
       "      <td>0.322745</td>\n",
       "      <td>0.546454</td>\n",
       "      <td>0.000000</td>\n",
       "      <td>0.000000</td>\n",
       "      <td>0.000000</td>\n",
       "      <td>0.000000</td>\n",
       "      <td>0.000000</td>\n",
       "    </tr>\n",
       "  </tbody>\n",
       "</table>\n",
       "</div>"
      ],
      "text/plain": [
       "        are     cases     coivd     covid   droping        is   nothing  \\\n",
       "0  0.000000  0.000000  0.450504  0.266075  0.000000  0.342620  0.000000   \n",
       "1  0.000000  0.000000  0.000000  0.425441  0.000000  0.547832  0.720333   \n",
       "2  0.546454  0.546454  0.000000  0.322745  0.546454  0.000000  0.000000   \n",
       "\n",
       "       that       the      what  \n",
       "0  0.450504  0.450504  0.450504  \n",
       "1  0.000000  0.000000  0.000000  \n",
       "2  0.000000  0.000000  0.000000  "
      ]
     },
     "execution_count": 57,
     "metadata": {},
     "output_type": "execute_result"
    }
   ],
   "source": [
    "feb_message = [\n",
    "    'What is that the coivd covid',\n",
    "    'covid is nothing',\n",
    "    'covid cases are droping'\n",
    "]\n",
    "tf = TfidfVectorizer()\n",
    "text_matrix(feb_message,tf)"
   ]
  },
  {
   "cell_type": "code",
   "execution_count": 58,
   "id": "6319208e",
   "metadata": {},
   "outputs": [],
   "source": [
    "from sklearn.feature_extraction.text import CountVectorizer, TfidfVectorizer"
   ]
  },
  {
   "cell_type": "code",
   "execution_count": 59,
   "id": "31a85584",
   "metadata": {},
   "outputs": [],
   "source": [
    "arr = [\n",
    "    'Car was cleaned by Jack',\n",
    "    'Jack was cleaned by Car.'\n",
    "]"
   ]
  },
  {
   "cell_type": "code",
   "execution_count": 60,
   "id": "d9ee682e",
   "metadata": {},
   "outputs": [
    {
     "name": "stdout",
     "output_type": "stream",
     "text": [
      "Feature Name: ['by car', 'by jack', 'car was', 'cleaned by', 'jack was', 'was cleaned']\n",
      "Array \n",
      " [[0 1 1 1 0 1]\n",
      " [1 0 0 1 1 1]]\n"
     ]
    }
   ],
   "source": [
    "vectorizer = CountVectorizer(ngram_range=(2,2))\n",
    "X = vectorizer.fit_transform(arr)\n",
    "print('Feature Name:',vectorizer.get_feature_names())\n",
    "print('Array \\n',X.toarray())"
   ]
  },
  {
   "cell_type": "code",
   "execution_count": 61,
   "id": "0cdf01e0",
   "metadata": {},
   "outputs": [
    {
     "name": "stdout",
     "output_type": "stream",
     "text": [
      "[[0.         0.57615236 0.57615236 0.40993715 0.         0.40993715]\n",
      " [0.57615236 0.         0.         0.40993715 0.57615236 0.40993715]]\n"
     ]
    }
   ],
   "source": [
    "vectorizer = TfidfVectorizer(ngram_range=(2,2))\n",
    "X = vectorizer.fit_transform(arr)\n",
    "print(X.toarray())"
   ]
  },
  {
   "cell_type": "code",
   "execution_count": 62,
   "id": "c282f67c",
   "metadata": {},
   "outputs": [
    {
     "name": "stdout",
     "output_type": "stream",
     "text": [
      "[[0.         1.40546511 1.40546511 1.         0.         1.        ]\n",
      " [1.40546511 0.         0.         1.         1.40546511 1.        ]]\n"
     ]
    }
   ],
   "source": [
    "vectorizer = TfidfVectorizer(ngram_range=(2,2),norm=None)\n",
    "X = vectorizer.fit_transform(arr)\n",
    "print(X.toarray())"
   ]
  },
  {
   "cell_type": "code",
   "execution_count": 63,
   "id": "7d750f78",
   "metadata": {},
   "outputs": [
    {
     "name": "stdout",
     "output_type": "stream",
     "text": [
      "Requirement already satisfied: gensim in /home/aarav/anaconda3/lib/python3.8/site-packages (4.1.2)\n",
      "Requirement already satisfied: smart-open>=1.8.1 in /home/aarav/anaconda3/lib/python3.8/site-packages (from gensim) (5.2.1)\n",
      "Requirement already satisfied: numpy>=1.17.0 in /home/aarav/anaconda3/lib/python3.8/site-packages (from gensim) (1.20.1)\n",
      "Requirement already satisfied: scipy>=0.18.1 in /home/aarav/anaconda3/lib/python3.8/site-packages (from gensim) (1.6.2)\n"
     ]
    }
   ],
   "source": [
    "!pip install -U gensim"
   ]
  },
  {
   "cell_type": "code",
   "execution_count": 64,
   "id": "2e34f6ef",
   "metadata": {},
   "outputs": [],
   "source": [
    "import re\n",
    "import nltk\n",
    "import string\n",
    "from gensim.models import Word2Vec\n",
    "from nltk.corpus import stopwords\n",
    "import matplotlib.pyplot as plt\n",
    "%matplotlib inline"
   ]
  },
  {
   "cell_type": "code",
   "execution_count": 65,
   "id": "c1b09977",
   "metadata": {},
   "outputs": [],
   "source": [
    "paragraph = '''The first US COVID-19 death might have occurred in California on 6 February — three weeks before the first reported death, in Washington state.\n",
    "\n",
    "After autopsies, three people who died in Santa Clara County between 6 February and 6 March have been confirmed as having died of COVID-19, according to a statement released by the county’s department of public health on 21 April. The updated statistics include two people who died at home and a third whose location of death was not specified. Previously, the first COVID-19 death in the county was thought to have occurred on 9 March.\n",
    "\n",
    "The revised cause of death shows that the deadly disease had footholds in the United States earlier than previously thought. Similar reports have surfaced elsewhere in recent weeks. In late March, a non-peer-reviewed epidemiology study of the Lombardy region in northern Italy found that the virus might have been circulating there for more than a month before it was detected.\n",
    "\n",
    "22 April 16:45 BST — Climate scientist and IPCC veteran dies of the coronavirus\n",
    "\n",
    "John Houghton, a climate scientist and a senior member of the Intergovernmental Panel on Climate Change (IPCC), died of COVID-19 on 15 April, aged 88.\n",
    "\n",
    "Houghton was the lead editor of the first three IPCC assessment reports — massive, influential studies that summarize the state of scientific knowledge on climate change — and accepted the 2007 Nobel Peace Prize on behalf of the organization, alongside former US vice-president Al Gore. Researchers who knew Houghton commended him for his scientific rigour, his leadership and his ability to connect with policymakers and the public.\n",
    "\n",
    "After studying at the University of Oxford, UK, Houghton became a professor there in 1958. He was a pioneer in the use of emerging satellite technologies for understanding the Earth system. As the director-general of the UK Met Office, the nation’s weather agency, from 1983 to 1991, he helped to establish the Hadley Centre for Climate Science and Services in Exeter and advised the UK government on the scientific consensus on climate change. “He knew they could only really make progress if they had very clear and well-communicated scientific advice,” says Richard Betts, a climate scientist at the University of Exeter, who worked on several IPCC reports with Houghton.\n",
    "\n",
    "Houghton’s lifetime of leadership in the climate-change community is a significant legacy, Betts says. “He wasn’t just a scientist. He was someone who cared passionately.”\n",
    "\n",
    "A devout Christian, Houghton co-founded and led the John Ray Initiative, a charity in Gloucester, UK, focused on promoting environmental stewardship through both science and Christianity. He convinced a prominent US evangelical lobbyist of the compatibility of climate change and Christian thought in the early 2000s.\n",
    "\n",
    "His former students remember him fondly. “John was an excellent leader,” says James Drummond, a retired atmospheric scientist who most recently worked at Dalhousie University in Halifax, Canada. Houghton supervised Drummond through his undergraduate and graduate studies at Oxford in the 1970s. “If I do a quarter of what he did, I will be doing very well,” says Drummond.\n",
    "\n",
    "21 April 20:40 BST — 1,500 people volunteer for controversial vaccine-study approach\n",
    "\n",
    "Momentum is building to speed the development of coronavirus vaccines by intentionally infecting healthy, young volunteers with the virus. A grass-roots effort has attracted nearly 1,500 potential volunteers for the controversial approach, known as a human-challenge trial.\n",
    "\n",
    "The effort, called 1Day Sooner, is not affiliated with groups or companies developing or funding coronavirus vaccines. But co-founder Josh Morrison hopes to show that there is broad support for human-challenge trials, which have the potential to deliver an effective coronavirus vaccine more quickly than standard trials.\n",
    "\n",
    "Typical vaccine trials take a long time because thousands of people receive either a vaccine or a placebo, and researchers track who becomes infected in the course of their daily lives. A challenge study could in theory be much faster: a much smaller group of volunteers would receive a candidate vaccine and then be intentionally infected with the virus, to judge the efficacy of the immunization.\n",
    "\n",
    "“We want to recruit as many people as possible who want to do this, and pre-qualify them as likely to be able to participate in challenge trials should they occur,” says Morrison, who is also the executive director of organ-donation advocacy group Waitlist Zero. “At the same time, we feel that the public policy decisions around challenge trials will be better informed if they highlight the voice of people interested in participating in such trials.”\n",
    "\n",
    "Morrison says that the people who have signed up to be part of a challenge trial tend to be young and live in urban areas, and are highly motivated to do something constructive to address the coronavirus pandemic. “Many note that they recognize the risk but believe the benefits of vaccine acceleration are so tremendous that it is worth it to them,” he says.\n",
    "\n",
    "A team led by bioethicist Nir Eyal at Rutgers University in New Brunswick, New Jersey, argued that a human challenge trial could be conducted safely and ethically, in a paper in The Journal of Infectious Diseases last month.\n",
    "\n",
    "The approach is also gaining some political support. This week, 35 members of the US Congress, led by Bill Foster (Democrat, Illinois) and Donna Shalala (Democrat, Florida), called on Department of Health and Human Services director Alex Azar to consider human-challenge trials of coronavirus vaccines.\n",
    "\n",
    "Charlie Weller, head of the vaccines programme at Wellcome, a biomedical-research funder in London, says the charity has begun discussing the ethics and logistics of a human-challenge trial for a coronavirus vaccine. But she says it is unclear whether such a trial could actually speed vaccine development. Researchers first need to determine how to expose humans to the virus as safely as possible, and to consider how and even whether such studies can be done ethically. “I think there’s potential,” Weller adds, “but we’ve got so many questions to work through to understand whether it can help in the timelines we have.”\n",
    "\n",
    "21 April 15:30 BST — Coronavirus brings forward Mars plans\n",
    "\n",
    "The Arab world’s first Mars mission — a spacecraft called Hope — will ship from the United Arab Emirates (UAE) to Japan weeks earlier than planned, as a result of travel restrictions imposed during the COVID-19 pandemic.\n",
    "\n",
    "Accelerating the shipment will mean that the probe, which will orbit the red planet and study the Martian atmosphere, will miss out on some planned tests. “We had to expedite activities in Dubai and basically focus only on the critical testing,” project leader Omran Sharaf told a virtual meeting of the Mars Exploration Program Analysis Group, a NASA-led international forum for planning Mars activities, on 17 April. “It got too risky for us if we waited,” he said.\n",
    "\n",
    "Built by UAE and US engineers, the orbiter is scheduled to launch from Tanegashima Space Center in Japan in a window that starts on 15 July, when Earth and Mars are suitably aligned. The craft should reach Martian orbit in 2021.\n",
    "\n",
    "Workers in cleanroom suits move a crate around the Hope probe at The Mohammed Bin Rashid Space Centre\n",
    "The United Arab Emirates’ Mars probe at the Mohammed Bin Rashid Space Centre in Dubai.Credit: Natalie Naccache for Nature\n",
    "\n",
    "Hope was scheduled to ship to Japan by cargo plane in early May. But mission leaders brought the date forward to 20 April, to account for a 14-day quarantine imposed on all travellers entering the country. Team members who travel with the probe will be quarantined for two weeks when they reach Japan, but moving the spacecraft early gives them enough time to arrive at the site and prepare for launch.\n",
    "\n",
    "A team that will receive the craft in Japan has already travelled to the nation and been in quarantine.\n",
    "\n",
    "The mission team has also had to navigate new restrictions on travel worldwide, including getting approval to fly at all, said Sharaf. The UAE’s airspace and airports are closed, and Japan has enhanced its visa requirements.\n",
    "\n",
    "Last month, the European Space Agency and the Russian space agency Roscosmos delayed launch of a major rover in their ExoMars mission for two years, citing travel restrictions imposed as a result of the coronavirus pandemic among their reasons.\n",
    "\n",
    "Relatives wearing protective gear prepare to bury the body of a COVID-19 victim in New Delhi, India\n",
    "Relatives of a person who died of coronavirus at a burial in New Delhi.Credit: Danish Siddiqui/Reuters\n",
    "\n",
    "17 April 16:00 BST — Wuhan death toll jumps by 50%\n",
    "\n",
    "China’s reported death toll from the coronavirus has jumped sharply, after a review of records for the city of Wuhan, where the virus emerged last year, added another 1,300 fatalities to its official count. The revision raises the death toll in the 11-million-person city by 50%, to 3,869, and brings China’s overall death toll to more than 4,600.\n",
    "\n",
    "Deaths from the coronavirus are difficult to count in the absence of widespread testing. Chinese officials said the revision included the addition of deaths of people at home and at medical institutions that weren’t reporting data to its epidemic network.\n",
    "\n",
    "15 April 15:00 BST — Infections pass two million\n",
    "\n",
    "The number of reported COVID-19 cases worldwide has passed two million, according to data compiled by researchers at Johns Hopkins University in Baltimore, Maryland. The milestone comes just two weeks after one million infections were recorded. The United States has the most cases — more than 600,000 — followed by Spain and Italy.\n",
    "\n",
    "The death toll from the disease has also surged past 128,000 worldwide. Some 24,000 people have died in the United States, with more than 20,000 deaths in Italy.\n",
    "\n",
    "The pandemic has spread to almost every region of the globe, with only about a dozen of the World Health Organization’s member states not yet reporting cases. The majority of these are small island nations in the Pacific Ocean, including Vanuatu, Tuvalu and Palau.\n",
    "\n",
    "EM Coronavirus, causing SARS\n",
    "Coronaviruses take their name from their crown-like shape.Credit: Getty\n",
    "\n",
    "15 April 02:00 BST — Trump suspends World Health Organization funding\n",
    "\n",
    "US President Donald Trump said on 14 April that he would halt the country’s funding for the World Health Organization (WHO), pending a review of how the organization has handled the coronavirus pandemic.\n",
    "\n",
    "The president accused the WHO of mismanaging the outbreak and “covering up the spread” of COVID-19 in a White House press briefing on Tuesday evening. The announcement comes amid criticism of the Trump administration’s own handling of the outbreak, which has now claimed more than 26,000 lives in the United States.\n",
    "\n",
    "But the WHO warned on 23 January that the coronavirus would be exported from China. And on 30 January, the organization called the coronavirus outbreak a public health emergency of international concern — its highest alert level.\n",
    "\n",
    "The United States has contributed more than US$800 million to the WHO over the past two years, making it the largest contributor to the organization’s roughly $2.8-billion annual budget.\n",
    "\n",
    "14 April 17:00 BST — Mathematician John Conway dies of COVID-19\n",
    "\n",
    "John Horton Conway standing in front of a blackboard with diagrams\n",
    "John Conway.Credit: Princeton University/Office of Communications/Denise Applewhite\n",
    "\n",
    "Renowned British-born mathematician John Conway died aged 82 on 11 April, reportedly of complications arising from COVID-19.\n",
    "\n",
    "Conway attained a legendary status among maths and science enthusiasts, mostly by designing mathematical games and puzzles. But his work transcended the boundary between recreational and ‘serious’ maths, turning play into research and vice versa. “He’s been known to carry on his person a few decks of cards, dice, ropes, pennies, coat hangers, sometimes a Slinky, maybe a miniature bicycle, all props he deploys to extend his winning imagination,” wrote biographer Siobhan Roberts in 2015.\n",
    "\n",
    "His celebrity status was cemented by Martin Gardner’s popular maths column in the magazine Scientific American, which featured many of Conway’s contributions, beginning in 1970 with his Game of Life, a minimalistic 2D model universe in which ‘organisms’ grow and multiply on the basis of simple rules.\n",
    "\n",
    "Conway had taught at Princeton University in New Jersey since 1987, and his research spanned several fields of mathematics. In algebra, he studied the ‘monster group’, an object that has an enormous — but not infinite — number of symmetries. With the late British mathematician Simon Norton, he formulated the ‘monstrous moonshine’ conjectures, linking the monster group to an entirely different subject in mathematical analysis.\n",
    "\n",
    "Conway is also remembered for his work on the foundations of quantum mechanics. He investigated the idea of an experimenter’s free will and suggested that “if experimenters have free will, then so do elementary particles”.\n",
    "\n",
    "Medical staff members wearing PPE of gloves, eye protection, face masks and aprons\n",
    "Medical staff at a drive-in COVID-19 testing facility in the UK.Credit: Paul Ellis/AFP/Getty\n",
    "\n",
    "9 April 22:30 BST — United Kingdom launches massive coronavirus diagnostic network\n",
    "\n",
    "The UK government opened its first mass coronavirus-testing facility on 9 April.\n",
    "\n",
    "The lab, in Milton Keynes, is the first of three such facilities to open. The others — in Glasgow and Alderley Park in Nether Alderley — are scheduled to open within the next two weeks. In March, the UK government requisitioned polymerase chain reaction machines from university labs across the country in order to outfit these central testing facilities.\n",
    "\n",
    "The labs — which the government says make up the largest diagnostic network in UK history — will prioritize processing samples from health-care providers who are currently self-isolating, in order to allow them to return to work. The Milton Keynes facility can currently process thousands of tests per day, but is continuing to ramp up its capacity through the use of robotics.\n",
    "\n",
    "The government hopes to be able to analyse 100,000 coronavirus tests daily by the end of the month, health secretary Matt Hancock reiterated on 9 April. Fewer than 300,000 tests have been carried out in the country so far, according to official reports.\n",
    "\n",
    "Universities across the United Kingdom and around the world are also running COVID-19 diagnostic tests, as Nature previously reported. But these efforts in the United States have been hampered by bureaucratic and logistical barriers, and a lack of a cohesive national strategy.\n",
    "\n",
    "8 April 22:00 BST — CERN scientists join the COVID-19 fight\n",
    "\n",
    "Beniamino Di Girolamo at CERN's Globe of Science and Innovation building\n",
    "Beniamino Di Girolamo coordinates the CERN Against COVID-19 taskforce, an effort to bring the particle physics lab's resources to bear on the pandemic.Credit: CERN\n",
    "\n",
    "More than 100 researchers and staff members at CERN are finding innovative ways to combat the coronavirus pandemic.\n",
    "\n",
    "Scientists, engineers and technicians at the world’s largest particle-physics laboratory, near Geneva, Switzerland, are teaming up to fill crucial gaps in the local and international responses to the outbreak — from manufacturing and distributing large quantities of hand sanitizer to designing an open-source ventilator.\n",
    "\n",
    "One of CERN’s strengths is its ability to connect people across a wide range of expertise and locations, says Beniamino Di Girolamo, a CERN particle physicist and the chair of the CERN Against COVID-19 task force. The group is working closely with local agencies, biomedical experts and the World Health Organization to ensure that CERN’s resources are being put to best use and that its designs are safe for patients.\n",
    "\n",
    "\n",
    "How the coronavirus pandemic is affecting the world's biggest physics experiments\n",
    "\n",
    "One of its main projects so far is the design of the High Energy Physics Community Ventilator, HEV. Because the researchers and technicians who work on CERN’s Large Hadron Collider have extensive experience in managing gas flows and control systems, Di Girolamo says, they were well-positioned to take on this project. The team posted its ventilator designs on the arXiv preprint server on 1 April and is currently soliciting feedback on a prototype from several medical professionals. The design should be ready for production “in a month, maximum”, says Di Girolamo.\n",
    "\n",
    "CERN staff are also manufacturing 3D-printed masks and face shields, and making hand sanitizer for local emergency-response departments. The centre is offering high-performance computing resources to epidemiologists and virologists searching for a COVID-19 vaccine. And some staff are distributing necessities to elderly and otherwise at-risk community members.\n",
    "\n",
    "Going forward, Di Girolamo says, the task force plans to continue to source ideas from CERN staff, as well as taking requests from community partners in need of its expertise.\n",
    "\n",
    "“We cannot just lock down,” Di Girolamo says. “There is a lot of energy at CERN. There are a lot of people who can help.”\n",
    "\n",
    "8 April 16:00 BST — Tracking-app data suggest loss of smell is a key COVID-19 symptom\n",
    "\n",
    "The loss of sense of smell and taste should be considered a symptom of COVID-19, suggest the first results from a UK-based symptom-tracking app. There have been many anecdotal reports of the phenomenon in relation to COVID-19, but loss of smell — known scientifically as anosmia — is not currently listed as a symptom of the coronavirus by the World Health Organization (WHO).\n",
    "\n",
    "The COVID Symptom Tracker smartphone app, which has recruited more than 1.5 million people in the United Kingdom, asks users to record health information on a daily basis, including their temperature, any tiredness and other potential symptoms of coronavirus infection. An analysis of data collected between 24 and 29 March found that users who tested positive for COVID-19 were three times more likely to report losing their sense of smell and taste than were those who had symptoms of the virus but tested negative. Other common symptoms experienced by people who tested positive for COVID-19 were fever, persistent cough, fatigue, diarrhoea, abdominal pain and loss of appetite.\n",
    "\n",
    "Tracking Symptoms: Venn diagram showing combination of symptoms of app users testing positive for COVID-19.\n",
    "Source: COVID Symptom Tracker team\n",
    "\n",
    "“This is an important study because it is the first to demonstrate scientifically and in a large population sample that loss of smell is a characteristic feature of COVID,” said Trish Greenhalgh, a primary-care health scientist at the University of Oxford, UK, in a statement to the Science Media Centre in London.\n",
    "\n",
    "The analysis, which was published on the preprint server medRxiv on 7 April, looked at responses from app users who were tested for the virus, which in the United Kingdom is usually done only in hospitals. Of the 579 who tested positive for COVID-19, 59% reported losing their sense of smell, compared with 18% of the 1,123 who tested negative. Updated but as-yet unpublished figures from the same group show a similar trend (see ‘Tracking symptoms’). The study’s authors say that people experiencing loss of smell should self-isolate.\n",
    "\n",
    "The team behind the app, at King’s College London and health-care start-up ZOE Global in London, also used the data to estimate the prevalence of COVID-19 among people who have not yet been tested. In an unpublished analysis described on their website, the researchers estimated that on 1 April, 4.9% of all users — around 80,000 individuals in the United Kingdom — are likely to have had the virus.\n",
    "\n",
    "By taking into account the location, age and gender of their users, and extrapolating their sample to the whole population, the researchers estimated that 1.9 million people in the United Kingdom aged between 20 and 69 had symptomatic COVID-19 on this date. The latest data suggest that by 5 April, this figure might have fallen to 1.4 million, which they say indicates that social-distancing measures implemented in the nation are slowing the spread of the virus.\n",
    "\n",
    "Efforts are under way to roll out a similar app in the United States.\n",
    "\n",
    "8 April 07:00 BST — Modelling reveals the worst-case scenario that Australia has avoided\n",
    "\n",
    "'Beach closed' sign on the desolate North Steyne Beach, Australia\n",
    "Australia has implemented strict physical distance measures. Credit: Cameron Spencer/Getty\n",
    "\n",
    "Australia’s health-care system has averted disaster and is in a good position to cope with the projected rise in COVID-19 cases, thanks to measures introduced there, say researchers whose models have informed the government’s response. Some of these models, presented to the government in early February, were released on 7 April by the Peter Doherty Institute for Infection and Immunity and the University of Melbourne.\n",
    "\n",
    "The theoretical models, which have not been peer reviewed and are based on information on outbreaks outside Australia, suggest that without measures to mitigate the virus’s spread, hospitals would have been overwhelmed. This scenario would have seen a peak daily demand for 35,000 intensive care unit (ICU) beds by around May, according to government figures.\n",
    "\n",
    "The figures suggested that social distancing, isolation and quarantine would reduce that peak daily demand to less than 5,000 beds. Australia currently has some 2,200 ICU beds, but plans to increase that to 7000.\n",
    "\n",
    "Australia restricted entry to the country for travellers from mainland China on 1 February. Health officials have conducted more than 304,000 coronavirus tests, and have introduced contact tracing, quarantining and isolation, as well as broader physical-distancing measures, such as closing businesses and restricting gatherings.\n",
    "\n",
    "“Australia has acted sufficiently early based in part on the work that we provided,” said James McCaw, an infectious-diseases epidemiologist at the University of Melbourne who contributed to the models, at an online press conference.\n",
    "\n",
    "Australia currently has more than 6,000 confirmed cases, with 50 deaths. The daily count of new confirmed cases has declined to around 100, from a high of more than 500. “It looks like the curve is flattening, and flattening strongly,” said McCaw. “But our population is still largely susceptible. And so if we relaxed and went back to normal, we would see a rapid and explosive resurgence in epidemic activity.”\n",
    "\n",
    "The authors conclude that social distancing needs to be part of ongoing efforts to isolate infected people and quarantine contacts to ensure that hospitals can cope, although they did not look at the effects of specific measures.\n",
    "\n",
    "“We’re really in a very lucky position where we can think about the next steps and the very challenging questions ahead, but from a position of relative calm as opposed to crisis,” said McCaw.\n",
    "\n",
    "Medical workers prepare to perform drive-through swabbing tests in Alessandria, Piedmont.\n",
    "Medical workers perform drive-through swabbing tests in Alessandria, Italy.Credit: Miguel Medina/AFP/Getty\n",
    "\n",
    "Scientists welcomed the government’s decision to share the modelling that has informed its COVID-19 response. The move will allow experts to analyse the model and make recommendations, says Mikhail Prokopenko, a complex-systems researcher at the University of Sydney. At the moment, the model does not include detailed predictions of what might actually occur in Australia, which would be useful.\n",
    "\n",
    "Australia’s proactive response and strong health system has put it in a position to control the virus — a privilege that not many countries can afford, said Jodie McVernon, an epidemiologist at the Doherty Institute, who led the modelling study.\n",
    "\n",
    "The researchers will now refine their models with data on the emerging outbreak in Australia to assess the effectiveness of individual measures.\n",
    "\n",
    "7 April 21:00 BST — No new reported COVID-19 deaths in China\n",
    "\n",
    "For the first time since January, Chinese health officials reported no new deaths from COVID-19 on 6 April.\n",
    "\n",
    "According to the Chinese National Health Commission, there were 32 new confirmed cases and 12 new suspected cases in the country yesterday. All were imported into the country from elsewhere. There are also 1,033 people with the infection but no symptoms who are under medical observation.\n",
    "\n",
    "\n",
    "‘We need to be alert’: Scientists fear second coronavirus wave as China’s lockdowns ease\n",
    "\n",
    "Scientists and public-health officials are keeping a close eye on the situation in China as lockdowns begin to lift in response to the slowing of the outbreak there.\n",
    "\n",
    "Since the outbreak began in December, there have been more than 80,000 reported cases in China, including over 3,300 deaths — the majority of which occurred in Wuhan, where the pandemic originated. The restrictions on movement into and out of Wuhan are lifting on 8 April.\n",
    "\n",
    "6 April 20:50 BST — HIV researcher among scientists who have died of COVID-19\n",
    "\n",
    "Gita Ramjee, a world-renowned HIV researcher, died of COVID-19 last week. She was 63.\n",
    "\n",
    "Ramjee, who was based in South Africa, was known for her tireless work developing HIV-prevention tools such as vaginal microbicides, drugs designed to help stop the transmission of the virus to women. She ran many trials in South Africa — which has the world’s largest number of people with HIV — and often focused on at-risk populations such as sex workers.\n",
    "\n",
    "Gita Ramjee\n",
    "HIV researcher Gita Ramjee.Credit: The Aurum Institute\n",
    "\n",
    "Ramjee was the chief scientific officer at the Johannesburg-based Aurum Institute, a health-care non-profit organization aimed at eradicating HIV and tuberculosis. Scientists who worked with her praised her tenacity, passion and ability to connect with the communities in which she worked.\n",
    "\n",
    "After completing her PhD in paediatric kidney diseases at what is now the University of KwaZulu-Natal in Durban, South Africa, Ramjee joined the country’s Medical Research Council. It was there that she found her calling as an HIV researcher with a focus on microbicides.\n",
    "\n",
    "Ramjee had a “natural talent” for clinical-trial work, says Salim Abdool Karim, an epidemiologist at the Centre for the AIDS Programme of Research in South Africa (CAPRISA) in Durban.\n",
    "\n",
    "Such work is by nature often difficult and thankless, says Abdool Karim. But despite a series of underwhelming trial outcomes in the field and in her own work, he says, Ramjee never hesitated to dive into the next study. “It takes a particular kind of person to persist despite a string of negative results. And she was one of those.”\n",
    "\n",
    "Ramjee was also an active advocate for women, says Quarraisha Abdool Karim, another CAPRISA epidemiologist.\n",
    "\n",
    "“Gita was a unique investigator who understood that clinical trials are not just about clinics and laboratories and products, but fundamentally about people,” says Mitchell Warren, the executive director of AVAC, previously known as the AIDS Vaccine Advocacy Coalition, in New York City. “These were not trials about products. These were trials about women’s lives.”\n",
    "\n",
    "Several other renowned scientists have also died from COVID-19 in recent weeks. Among them are John Murray, a pioneering tuberculosis clinical researcher at the University of California, San Francisco; James Goodrich, a paediatric neurosurgeon at Einstein College of Medicine in New York City, known for separating conjoined twins; and molecular biologist Michael Wakelam, the director of the Babraham Institute in Cambridge, UK.\n",
    "\n",
    "Ramjee’s colleagues note the cruelty of losing her to the COVID-19 pandemic when she devoted so much of her life to eradicating another global outbreak. But, Warren notes, researchers tackling COVID-19 would do well to follow the example that Ramjee set. “We mourn. And then we do what Gita would do.”\n",
    "\n",
    "2 April 21:00 BST — COVID-19 cases cross the one-million mark\n",
    "\n",
    "More than one million cases of COVID-19 have been confirmed as of 2 April, according to data compiled by researchers at Johns Hopkins University in Baltimore, Maryland. But in much of the world, people exhibiting mild or no symptoms are unable to get tested, meaning that the true number of cases could be much higher.\n",
    "\n",
    "One million infections: Number of confirmed cases of coronavirus worldwide as of April 3 2020\n",
    "\n",
    "The outbreak, which started in Wuhan in Hubei province, China, in early December, has now spread to 181 countries and regions. China was relatively successful in containing its outbreak to Hubei. But the virus has spread rapidly between and within other countries. China accounted for almost 80% of the first 100,000 patients identified, but the United States now contains more cases than any other country, with more than 20% of the world’s total.\n",
    "\n",
    "The pandemic has resulted in a reported 51,485 deaths around the globe, and more than 209,000 people have been identified as having recovered from the disease.\n",
    "\n",
    "2 April 00:00 BST — COVID-19 delays COP26\n",
    "\n",
    "International climate talks scheduled for November in Glasgow, UK, have been postponed until 2021 as a result of the ongoing coronavirus crisis, United Nations officials announced on 1 April.\n",
    "\n",
    "The climate meeting, known as COP26 — the 26th annual conference of the parties to the UN Framework Convention on Climate Change — was to be the most important set of talks since the signing of the Paris climate agreement in 2015. So far, international commitments to reduce carbon emissions have fallen well short of what would be needed to prevent temperature increases of more than 1.5–2 °C above preindustrial levels, the stated goal of the Paris agreement. Countries were expected to update and strengthen their commitments at the Glasgow meeting.\n",
    "\n",
    "\n",
    "Climate vs coronavirus: Why massive stimulus plans could represent missed opportunities\n",
    "\n",
    "UN climate-change executive secretary Patricia Espinosa called COVID-19 the most urgent threat currently facing humanity, but stressed that climate change remains the biggest long-term danger. As the coronavirus threat recedes, she said, nations must look for ways to bolster their climate efforts. “This is a chance” Espinosa said “to shape the twenty-first-century economy in ways that are clean, green, healthy, just, safe and more resilient.”\n",
    "\n",
    "The announcement followed a decision to delay a preparatory meeting, originally scheduled for June in Bonn, Germany, until October.\n",
    "\n",
    "1 April 03:00 BST — Nearly 80% of US intensive-care patients have underlying conditions\n",
    "\n",
    "More than three-quarters of people with COVID-19 in intensive-care units in the United States have at least one ‘underlying condition’ — a chronic health problem, such as diabetes or heart disease, that has been shown to contribute to hospitalization and severe illness.\n",
    "\n",
    "The finding comes from the 31 March Morbidity and Mortality Weekly Report, published by the US Centers for Disease Control and Prevention. A study found that of about 7,000 people with COVID-19 for whom information about chronic conditions had been reported, just over one-third had an underlying condition. People with such conditions made up 71% of those hospitalized for COVID-19 and 78% of those who required intensive care.\n",
    "\n",
    "Data from China and Italy have also shown that underlying conditions correlate with more severe COVID-19 outcomes, but this is the first such study in the United States. As of last week, the United States has more confirmed cases than any other country.\n",
    "\n",
    "A woman with the Italian flag looks out of her balcony, Rome\n",
    "A woman looks out of her balcony in locked-down Rome.Credit: Antonio Masiello/Getty\n",
    "\n",
    "31 March 16:30 BST — Thousands of Italians take part in citizen-science project\n",
    "\n",
    "Images and videos of locked-down Italians singing on their balconies to applaud health-care workers have circulated the world. But last week, thousands of citizens were out for another cause: science. For three evenings, on 23–25 March, 6,000 Italians appeared on their balconies to take part in a citizen-science experiment that has never attempted before — measuring light pollution with their smartphones.\n",
    "\n",
    "The project, called Science on the Balcony and run by the Italian National Research Council, asked participants to turn off all the lights in their homes and launch an app designed for the study. Then they were asked to turn their phone screens towards the main light source that could be seen from their windows — for example, a street light or a sign. Using the phone’s sensors, the app measured the light source’s illuminance, or brightness, in units of lux.\n",
    "\n",
    "The study was conceived by Luca Perri, an astrophysicist and science communicator at the Astronomical Observatory of Milan, and Alessandro Farini, a vision scientist at Italy’s National Institute of Optics in Florence. Like many nations, Italy has seen a steady increase in night-time light in recent decades. Such light pollution compromises astronomers’ view of space and presents environmental, economic, safety and public-health problems; it can, for instance, affect the immune system.\n",
    "\n",
    "\n",
    "How the coronavirus pandemic is affecting the world's biggest physics experiments\n",
    "\n",
    "But widespread data collection on light pollution requires a significant investment of time and money, and might need researchers to visit homes or place sensors there. And satellites detect only light reflected skywards, so they don’t give a full picture. The latest project allowed researchers to measure light inside homes, harnessing the collaboration and enthusiasm of locked-down citizens. Initial data confirm that people in every Italian province participated.\n",
    "\n",
    "And Farini sees another advantage for science. “This pandemic risks creating doubts about science, because a lot of fake news is circulating,” he says. “With this experiment, we wanted to bring citizens closer to measurement techniques, to let them see the often complex process and allow them to participate in the scientific method.”\n",
    "\n",
    "31 March 03:00 BST — Lockdowns might already have averted tens of thousands of deaths in Europe\n",
    "\n",
    "Infection-control measures such as national lockdowns in many European countries are reducing the spread of the coronavirus. Across 11 countries, between 21,000 and 120,000 deaths were probably avoided by the end of March, according to a model by a group at Imperial College London.\n",
    "\n",
    "The study, published by the Imperial College COVID-19 Response Team on 30 March, estimates the effects of non-pharmaceutical interventions, which include closing schools and banning mass gatherings, on the spread of the virus across parts of Europe, including Italy, Spain and the United Kingdom. The authors measured the effects through a change in the virus’s effective reproduction number.\n",
    "\n",
    "If the effective reproduction number is greater than 1, infections will proliferate and the outbreak will continue to spread. If it is less than 1, the rate of new infections will decrease until the outbreak is under control. The report shows that some of the countries studied — including Italy, which implemented stringent lockdown measures three weeks ago — might have fallen below this threshold as a result of the interventions. Previous work by other groups has found that the strict lockdowns in China reduced this value to below 1, stemming the tide of the epidemic there.\n",
    "\n",
    "\n",
    "‘We need to be alert’: Scientists fear second coronavirus wave as China’s lockdowns ease\n",
    "\n",
    "Because many countries still lack the capacity for widespread testing, the latest model uses reported COVID-19 deaths, rather than infection rates, to track the spread of the virus. Given the lag time between infection and mortality, it could take several weeks for the full effects of the interventions to be felt, especially in countries in the relatively early stages of their epidemics, such as the United Kingdom, according to the report.\n",
    "\n",
    "The researchers are careful to note that they cannot attribute the transmission reduction to any particular intervention. And it’s too early to know whether the interventions as a whole are having the intended effect in some European countries. But, “if current trends continue, there is reason for optimism”, they write.\n",
    "\n",
    "27 March 15:00 GMT — Virus could have killed 40 million without global response\n",
    "\n",
    "The COVID-19 pandemic could have infected 90% of the world’s population and killed 40.6 million people if no mitigation measures had been put in place to combat it, according to estimates from an influential modelling group at Imperial College London.\n",
    "\n",
    "The report from the Imperial College COVID-19 Response Team, published on 26 March, highlights the importance of acting early to suppress the outbreak. The analysis says that introducing social distancing, testing and isolation of infected people would cut worldwide deaths to 1.9 million, if carried out when each country’s fatality rate was 0.2 deaths per 100,000 people per week. Implementing these measures only when the death rate reaches 1.6 per 100,000 people per week would lead to 10.5 million lives lost globally, it finds. According to Nature’s analysis of death rates from Our World in Data — counting each day at the centre of a rolling weekly window of deaths — Italy hit the 0.2 threshold on 2–3 March, the United Kingdom on 17 March and the United States on 22 March.\n",
    "\n",
    "The report did not quantify the social and economic impact of mitigation policies.\n",
    "\n",
    "The analysis was published as the UK Prime Minister Boris Johnson and the nation’s health minister, Matt Hancock, announced that they had tested positive for the coronavirus. In a video address to the nation, Johnson said he had only mild symptoms and would continue to work remotely while isolating for seven days.\n",
    "\n",
    "27 March 03:00 GMT — Global infections number half a million\n",
    "\n",
    "The number of confirmed COVID-19 cases around the world crossed 500,000 on 26 March, according to statistics compiled by the Center for Systems Science and Engineering at Johns Hopkins University in Baltimore, Maryland. The pandemic currently spans 175 countries and every inhabited continent.\n",
    "\n",
    "By the end of the day on 26 March, the United States had overtaken China for the highest number of confirmed cases. Italy is also poised to surpass China in the coming days. Italy and Spain now have the two highest death tolls, with Italy accounting for more than one-third of the global total.\n",
    "\n",
    "COVID-19 has claimed the lives of nearly 23,000 people. More than 120,000 have recovered from the disease.\n",
    "\n",
    "HALF A MILLION INFECTIONS: Number of confirmed cases of coronavirus worldwide as of 27 March 2020\n",
    "Source: Johns Hopkins University\n",
    "\n",
    "26 March 13:15 GMT — United Kingdom pledges to roll out extensive antibody testing\n",
    "\n",
    "The United Kingdom could begin large-scale testing for coronavirus antibodies within days, government officials have said. If the roll-out goes ahead as planned, the country could become the first to implement at-home testing on this scale — but researchers caution that properly validating the accuracy of such tests and manufacturing them in large quantities presents a significant challenge.\n",
    "\n",
    "\n",
    "Covert coronavirus infections could be seeding new outbreaks\n",
    "\n",
    "On 25 March, a UK government official said that the country had ordered 3.5 million ‘finger-prick’ tests and planned to order millions more. The test will analyse drops of blood for antibodies that show whether a person has previously been infected with the coronavirus that causes COVID-19. This will show who might now be immune and aid researchers in understanding the virus’s spread. These ‘serological tests’ should become available to the public in days rather than weeks or months, said Sharon Peacock, director of the national infection service at Public Health England (PHE), a UK health agency. Peacock suggested that the bulk of the UK tests, which will be available to buy from Amazon and pharmacies to perform at home, had not yet arrived.\n",
    "\n",
    "Most tests to diagnose coronavirus infection have involved laboratory-based testing using the technique known as PCR, which checks for active infection. But an urgent goal has been to develop serological tests, which can detect past infection. These are now being deployed worldwide. Singapore, for instance, has been using the tests for more than a month to trace known infections and monitor at-risk populations.\n",
    "\n",
    "But thoroughly evaluating the efficacy of the tests and the rate of false positives is essential, says Robert Garry, a virologist at Tulane University School of Medicine in New Orleans, Louisiana, whose team is developing its own serological test.\n",
    "\n",
    "The blood test will need to distinguish between antibodies against the COVID-19 virus and those against other seasonal coronaviruses to which people are commonly exposed, he says. “I would expect the false-positive rate to be very high because of this prior exposure — unless they figured out how to make the serological test very specific,” he says. Garry says that for a validated test, he would expect a false-positive threshold of less than 5% — meaning fewer than 5 out of 100 people without the antibodies test positive — although he could see that being relaxed to 10%. Even with ready access to clinical samples, understanding false-positive levels on this timescale would require a massive effort, says Garry.\n",
    "\n",
    "\n",
    "How much is coronavirus spreading under the radar?\n",
    "\n",
    "PHE is evaluating the tests to ensure they work as claimed, said Peacock, who anticipates this will be done by the end of the week.\n",
    "\n",
    "But supply is likely to remain limited, says David Wraith, an immunologist at the University of Birmingham, UK. It will be challenging for companies to manufacture millions of tests and for any one government to secure so many during a global pandemic, meaning that health-care workers must be given priority access, he says.\n",
    "\n",
    "It is not clear who is developing the UK test. A PHE spokesperson said the agency was talking to a range of companies. Peacock added that highly vulnerable members of the public who test positive will also require further tests before they can resume normal life.\n",
    "\n",
    "A policeman sets a barrier at a roadblock, India\n",
    "Travel in India is restricted for 21 days.Credit: Arun Sankar/AFP/Getty\n",
    "\n",
    "26 March 3:00 GMT — 100 scientific organizations call to end Trump’s ban on fetal-tissue research\n",
    "\n",
    "A group of 100 research societies, professional organizations and universities is calling on US President Donald Trump to lift restrictions on the use of fetal tissue in research, arguing that the limits delay necessary work on potential treatments for COVID-19.\n",
    "\n",
    "“We believe that researchers should have all of the biomedical research tools out there to develop treatments for COVID-19,” says Eric Anthony, director of policy at the International Society for Stem Cell Research in Skokie, Illinois, a key signatory of the letter sent on 25 March.\n",
    "\n",
    "Fetal tissue, often received from abortion clinics, has long been used in vaccine research. But last June, the Trump administration, following a campaign by opponents of abortion, moved to ban government scientists from using fetal tissue in research once their existing supplies ran out. The rules also included restrictions for non-government scientists funded by the US National Institutes of Health (NIH), requiring that new grant applications for research that uses fetal tissue pass ethics review by an agency-appointed board.\n",
    "\n",
    "The US Department of Health and Human Services (HHS), which oversees the NIH, invited nominations to that ethics board in February, and the comment period closed last week.\n",
    "\n",
    "Signatories to the letter asking for relief from the federal restrictions include the American Academy of Pediatrics, Johns Hopkins University, Massachusetts General Hospital and Harvard University.\n",
    "\n",
    "At least one government scientist has appealed for an exemption to the rules in order to do coronavirus research, according to a story in The Washington Post last week. An HHS spokesperson told Nature that the agency has made no decision about the request, and that the “Trump Administration has activated a whole-of-government, whole-of-America approach to prepare for and respond to COVID-19”.\n",
    "\n",
    "25 March 11:00 GMT — India starts three-week lockdown\n",
    "\n",
    "India has commenced a 21-day lockdown, after Prime Minister Narendra Modi ordered the country’s 1.3 billion residents to remain in their homes from midnight on 24 March.\n",
    "\n",
    "Many countries have introduced travel restrictions to slow the spread of the coronavirus. But the lockdown in India, which has the world’s second-largest population, will dwarf similar measures in other nations.\n",
    "\n",
    "Currently, the country has roughly 500 reported cases, and 9 reported deaths, but researchers say that infections are probably going undetected there given the size of its population. The country had tested about 15,000 people for the coronavirus by 20 March, according to Our World in Data.\n",
    "\n",
    "Under the new restrictions, flights and train services are suspended, and road access is restricted in every state. Medical centres, petrol stations and grocery stores are exempt from the lockdown.\n",
    "\n",
    "“The nation will have to certainly pay an economic cost because of this lockdown. However, to save the life of each and every Indian is our topmost priority,\" said Modi during a televised address.\n",
    "\n",
    "25 March 01:00 GMT — The outbreak in Italy went undetected for weeks\n",
    "\n",
    "The novel coronavirus SARS-CoV-2 was present in northern Italy as early as 1 January.\n",
    "\n",
    "An epidemiological analysis of Lombardy, the epicentre of the outbreak in Italy, reveals that the first onset of symptoms in the country occurred weeks before COVID-19, the disease caused by the virus, was reported there on 20 February. The study looks at nearly 6,000 laboratory-confirmed cases to track how the outbreak unfolded in the region. It was posted to the arXiv preprint server on 20 March.\n",
    "\n",
    "\n",
    "Covert coronavirus infections could be seeding new outbreaks\n",
    "\n",
    "The undetected spread in January is “very striking”, says Michele Tizzoni, who models infectious diseases at the ISI Foundation in Turin, Italy, but was not involved in the work. “At that time, we were probably still talking about Wuhan.”\n",
    "\n",
    "Instead, by the time the first case was detected in Italy, the virus had already spread to most towns and cities in southern Lombardy. Over the next several weeks, nearly half of the patients who tested positive for COVID-19 were hospitalized; about one-fifth of those required intensive care.\n",
    "\n",
    "The new picture of the outbreak in Lombardy makes it clear that “aggressive containment strategies are required” to stop the spread of the virus, the authors write. Although public activities and gatherings in the region were banned just three days after the first positive test, the virus’s undetected spread in the previous weeks meant that it had already taken hold, with the number of cases doubling roughly every three days.\n",
    "\n",
    "These data will be vital to other countries and public health organizations getting ready to face their own outbreaks of the pandemic, Tizzoni says. His advice to them? “Be prepared. Even if you don’t see much.”\n",
    "\n",
    "24 March 11:00 GMT — Lockdowns eased in Hubei province\n",
    "\n",
    "Staff members in protective clothing spray disinfectant at Wuhan Railway Station\n",
    "Travel restrictions in Wuhan will be lifted from 8 April.Credit: AFP/Getty\n",
    "\n",
    "Chinese authorities are reopening travel to and from Hubei province, the epicentre of the COVID-19 outbreak, ending two months of lockdowns that were introduced to help slow the disease’s spread. Only one new infection has been reported in Hubei since 18 March.\n",
    "\n",
    "\n",
    "How blood from coronavirus survivors might save lives\n",
    "\n",
    "From 25 March, flights and trains in and out of all cities in Hubei province — except for the capital, Wuhan — will resume, and roads will reopen, according to an announcement posted on Hubei province’s website. Access to Wuhan, where the first cases were reported and spread, will remain restricted until 8 April. Until then, all those entering or leaving the city will have to take a test to prove that they are not infected with SARS-Cov-2, the virus that causes COVID-19.\n",
    "\n",
    "The Hubei announcement says that factories and businesses can gradually reopen, as long as they follow transmission prevention measures. Universities, schools and child-care centres will remain closed pending “a scientific assessment of the epidemic control situation”. (Schools in most other regions of China also remain closed.)\n",
    "\n",
    "Other cities in China are slowly returning to some sense of normality. But scientists are warning that there is a risk of renewed COVID-19 transmission once people start mixing again.\n",
    "\n",
    "23 March 21:15 GMT — United Kingdom implements stringent lockdown\n",
    "\n",
    "The United Kingdom is implementing drastic measures to prevent the spread of the coronavirus, joining other nations that have put in place unprecedented rules to fight the pandemic.\n",
    "\n",
    "Prime Minister Boris Johnson announced in a televised broadcast on 23 March that people living in the United Kingdom must stay at home and travel outside only for essential purposes. The police will have powers to enforce the rules and fine people who stray from them.\n",
    "\n",
    "People will be allowed to leave their houses only to shop for food and medical supplies, exercise once a day, and travel to work if strictly necessary. Shops that sell non-essential items will close and gatherings of more than two people in public will be banned.\n",
    "\n",
    "A commuter wears a mask as a precaution whilst travelling on a London Underground.\n",
    "Public gatherings of more than two people will now be banned in the United Kingdom.Credit: Tolga Akmen/AFP/Getty\n",
    "\n",
    "The United Kingdom had already issued guidelines for social distancing, but Johnson said that although huge numbers are complying, “the time has now come for us all to do more”. The government had also been broadly criticized for not putting in place stricter measures to curb the spread of the virus sooner. The latest rules will be kept under review but will last for at least three weeks.\n",
    "\n",
    "The United Kingdom has recorded 6,650 confirmed cases of the virus, with 335 deaths, but the true figures are feared to be much higher.\n",
    "\n",
    "The country joins other European nations that are already on lockdown; in some of these, measures are stricter and people cannot leave their houses without a permit. Lockdowns are in effect in Spain and Italy — which is experiencing the world’s worst outbreak of COVID-19, the disease caused by the coronavirus. Germany has also banned public gatherings of more than two people.\n",
    "\n",
    "More than a dozen US states are implementing stay-at-home orders, affecting more one-third of the US population. Details of these orders, and the lengths of time for which they will apply, vary from state to state, but they generally include the closures of all non-essential businesses, and continued or more stringent bans on public gatherings. On 19 March, California, the nation’s most populous state, was the first state to order a lockdown, following the lead of San Francisco three days earlier.\n",
    "\n",
    "In New York state, home to about 5% of worldwide COVID-19 cases, authorities can fine businesses that do not comply with orders, but people will not face penalties. In Oregon, however, people who violate the governor’s order can be tried for a misdemeanour offence.\n",
    "\n",
    "President Donald Trump has also approved the mobilization of US National Guard troops in New York, California and Washington to set up medical stations and deliver aid to residents.\n",
    "\n",
    "A sign reading 'social distancing' is displayed at Manly Beach\n",
    "A sign advising social distancing at Manly Beach in Sydney, Australia.Credit: Cameron Spencer/Getty\n",
    "\n",
    "23 March 17:35 GMT — Global infections pass 300,000\n",
    "\n",
    "The number of COVID-19 coronavirus infections worldwide passed 300,000 over the weekend. The World Health Organization (WHO) reported 332,935 cases — across nearly every country — as of 23 March, with 14,510 deaths.\n",
    "\n",
    "WHO director-general Tedros Adhanom Ghebreyesus said in a press briefing that it took 67 days from the first reported case to reach the first 100,000 cases, 11 days after that to reach 200,000 and just another 4 days to top 300,000 infections.\n",
    "\n",
    "20 March 12:15 GMT — Most COVID-19 deaths now in Italy\n",
    "\n",
    "Deaths from COVID-19 in Italy have exceeded those reported in China, after 473 people died in Italy in 24 hours. The coronavirus has so far killed 3,405 people there, according to official statistics from 19 March. In China, 3,242 people have died of the disease since the outbreak began in December, according to the World Health Organization (WHO).\n",
    "\n",
    "Globally, the number of confirmed coronavirus cases has doubled in less than two weeks, to more than 200,000.\n",
    "\n",
    "On 19 March, seven countries confirmed their first coronavirus cases, including Zambia, Gambia, Mauritius and Kyrgyzstan, according to the WHO.\n",
    "\n",
    "A medical worker (R) embraces a member of a medical assistance team from Jiangsu province.\n",
    "Medical teams from across China began leaving Wuhan this week after infections there have dropped.Credit: STR/AFP/Getty\n",
    "\n",
    "19 March 20:00 GMT — Coronavirus hospitalizations occur at any age, says US CDC\n",
    "\n",
    "COVID-19 can be severe enough to require hospitalization in adults of any age, according to a report from the US Centers for Disease Control and Prevention (CDC).\n",
    "\n",
    "\n",
    "Covert coronavirus infections could be seeding new outbreaks\n",
    "\n",
    "The report, released on 18 March, analyses the severity of COVID-19 cases in the United States from 12 February to 16 March by age group. Although mortality is highest in adults over 65 — consistent with data reported from China, Italy and elsewhere — 20% of US hospitalizations occurred in people aged 20–44 years.\n",
    "\n",
    "The CDC’s report excludes cases imported from Wuhan, China, or from Japan, so it did not count people who were infected on cruise ships in those areas. In total, age data were collected for 2,449 infected people. Of them, 29% were between 20 and 45 years old.\n",
    "\n",
    "That statistic is roughly consistent with numbers released by the Italian Higher Institute of Health, which reported on 15 March that 24% of cases in the country occurred in adults aged 19–50. These data do not include age-group breakdowns for severe cases, only fatalities. Deaths from COVID-19 in Italy surpassed those in China on 19 March.\n",
    "\n",
    "\n",
    "The coronavirus pandemic in five powerful charts\n",
    "\n",
    "Among people with COVID-19 aged 20–44 in the United States, the CDC’s report estimates that up to 21% required hospitalization. But only 2–4% of infected people in that age bracket required intensive care, significantly fewer than in any other adult age group. And fatalities remain low among young adults, the report shows.\n",
    "\n",
    "No data were collected regarding underlying conditions that have been shown to make people more susceptible to the disease, so it is unclear whether the young adults being hospitalized are those who are most vulnerable. Still, the report stresses, severe illness “can occur in adults of any age”.\n",
    "\n",
    "19 March 11:00 GMT — No new confirmed cases in Hubei province\n",
    "\n",
    "On 18 March, Hubei, the Chinese province at the centre of the coronavirus outbreak, recorded no new cases of COVID-19 for the first time since the beginning of the epidemic, according to the country’s National Health Commission. Eight deaths were reported in the province that day.\n",
    "\n",
    "A month ago, Hubei was confronting several thousand new confirmed cases each day. Since December, it has recorded more than 67,000 people with COVID-19, and more than 3,000 deaths.\n",
    "\n",
    "Across China, there were 39 new cases recorded on 18 March, and 13 deaths.\n",
    "\n",
    "Italy now faces the largest number of new cases per day, with 3,526 confirmed yesterday. New cases have also surged in the United States, Iran, Spain, France and Germany.\n",
    "\n",
    "An employee wearing a face mask disinfects a metro train in Moscow\n",
    "A train in Moscow is disinfected.Credit: Alexander Nemenov/AFP/Getty\n",
    "\n",
    "18 March 10:00 GMT — Deaths outside China surpass those inside the country\n",
    "\n",
    "The total number of people who have died from COVID-19 outside China has overtaken deaths inside the country for the first time since the disease emerged, according to reports by the World Health Organization (WHO) on 16 March. The number of confirmed infections outside China surpassed those inside the country on the same day.\n",
    "\n",
    "As of 17 March, there were 179,112 confirmed cases of COVID-19 globally, including 81,116 in China. Of the 7,426 deaths from the disease, 3,231 have been in China.\n",
    "\n",
    "Europe had the largest 24-hour spike in new infections, with 8,507 reported since 16 March, and 428 deaths. Several regions recorded their first cases, including Somalia, Benin, Liberia and the Bahamas.\n",
    "\n",
    "17 March 00:30 GMT — First vaccine clinical trials begin in the United States\n",
    "\n",
    "A pharmacist gives a shot to a woman in the first-stage safety study clinical trial of a potential vaccine for the coronavirus\n",
    "Pharmacist Michael Witte delivers a shot in an early-stage clinical trial for a potential coronavirus vaccine on 16 March.Credit: Ted S Warren/AP/Shutterstock\n",
    "\n",
    "The first phase I clinical trial for a potential COVID-19 vaccine has begun in Seattle, Washington.\n",
    "\n",
    "Four adults, the first of 45 eventual participants, received their first doses of an experimental vaccine developed through a partnership between the US National Institute of Allergy and Infectious Diseases (NIAID) and Moderna, a biotechnology company based in Cambridge, Massachusetts. But although it is an important milestone, the phase I trial is just the beginning of a long process to test the drug’s safety and efficacy.\n",
    "\n",
    "The trial is being conducted at Kaiser Permanente Washington Health Research Institute, and will test a range of doses of the vaccine. Over the next 6 weeks, participants will receive their first doses, followed by a second 28 days later. Follow-up visits both in person and over the phone will assess participants’ health over a 14-month period, and blood samples will help researchers evaluate the body’s immune response to the experimental vaccine.\n",
    "\n",
    "The potential vaccine is based on messenger RNA, which directs the body to make a protein found on the coronavirus’s outer shell. The hope is that this will elicit an immune response that protects against infection.\n",
    "\n",
    "\n",
    "What China’s coronavirus response can teach the rest of the world\n",
    "\n",
    "The team at Moderna had already been working on a vaccine for Middle East respiratory syndrome, which is caused by another coronavirus. The viruses’ similarities helped the researchers pivot to the search for a COVID-19 vaccine.\n",
    "\n",
    "As a result, the phase I trial was “launched in record speed”, according to a statement from NIAID Director Anthony Fauci on 16 March. It took just 66 days from genetic sequencing of the virus to the first human injection of the vaccine candidate.\n",
    "\n",
    "Researchers hope to have initial clinical-trial data within three months. But even in the best-case scenario, the vaccine would not be widely available to the public for at least another year, according to NIAID.\n",
    "\n",
    "13 March 23:00 GMT — US president declares ‘national emergency’\n",
    "\n",
    "US President Donald Trump called the coronavirus outbreak a national emergency on Friday afternoon. This gives his administration broad authority in its response to the disease, including access to up to US$50 billion in federal funds to combat the epidemic. Trump said that as many as half a million tests would be ready by early next week.\n",
    "\n",
    "\n",
    "How much is coronavirus spreading under the radar?\n",
    "\n",
    "Earlier in the day, the president announced measures to speed up testing in the United States, including providing funding to develop rapid tests and appointing a new federal coordinator to oversee the efforts.\n",
    "\n",
    "More than 1,800 people have tested positive for the virus in the United States and at least 41 have died, according to The New York Times. The virus has now been detected in 47 states and the District of Columbia.\n",
    "\n",
    "13 March 22:10 GMT — Harvard University orders research labs to shut down\n",
    "\n",
    "Research laboratories at Harvard University in Cambridge, Massachusetts, have been ordered to prepare to shut down research operations amid the growing coronavirus outbreak. Harvard is one of the first major research universities to announce that it will wind down laboratory research. Dozens of universities worldwide have already moved teaching activities online or been closed in a bid to control the spread of the virus.\n",
    "\n",
    "Despite Harvard’s move, labs there doing direct research on coronavirus will be able to continue their operations, a representative of the university’s medical school told Nature.\n",
    "\n",
    "All labs must begin implementing a plan to stop all laboratory research activities by 18 March, said e-mails sent from deans to students and staff members in the faculty of arts and sciences and the medical school on 13 March. The suspension is expected to last for at least six to eight weeks, the e-mails say. Labs that work with live animals will be able to designate staff members for essential animal care, but microbial labs have been ordered to “freeze everything down”, says Tanush Jagdish, an evolutionary biologist at the university.\n",
    "\n",
    "\n",
    "The race to unravel the United States’ biggest coronavirus outbreak\n",
    "\n",
    "Exemptions will be made for essential experiments that “if discontinued would generate significant financial and data loss”, according to the e-mails.\n",
    "\n",
    "Jagdish says that the announcement caught everyone in his lab off-guard. “For labs to be shut down in general was something we did not expect.” The labs that he works in had already implemented measures to prevent the spread of the coronavirus disease COVID-19. These included alternating shifts and making cleaning protocols stricter, in addition to extra cleaning that was instituted at the department and university levels. Until lab work can resume, researchers are devoting their time to writing grant proposals and theses, among other remote work, he says.\n",
    "\n",
    "On 10 March, Harvard had mandated that gatherings of more than 25 people be held remotely, but the latest guidelines state that all meetings and courses should do this, regardless of size. In addition to conducting lab meetings by video chat, people have been discussing starting daily or weekly remote social hours, Jagdish says. “It helps to know that we’re all in this together.”\n",
    "\n",
    "13 March 22:00 GMT — Europe now centre of pandemic, says WHO\n",
    "\n",
    "Rome's Via del Corso from Piazza del Popolo with some soldiers in the evening\n",
    "Italy on lockdown: Rome’s Via del Corso.Credit: Giuseppe Fama/Pacific Press/LightRocket/Getty\n",
    "\n",
    "Europe has now become the epicentre of the COVID-19 pandemic, says the World Health Organization (WHO).\n",
    "\n",
    "More cases are now being reported there every day than were reported at the height of China’s epidemic, director-general Tedros Adhanom Ghebreyesus said in a 13 March press briefing. There are more reported cases and deaths in Europe than in the rest of the world combined, apart from China, Tedros said.\n",
    "\n",
    "Italy, which has the largest outbreak in Europe, reported 2,651 new cases in the past day.\n",
    "\n",
    "More than 132,000 cases of COVID-19 have now been reported from 123 countries and territories, according to the WHO.\n",
    "\n",
    "11 March 16:35 GMT — Coronavirus outbreak is a pandemic, says WHO\n",
    "\n",
    "After weeks of resisting mounting pressure from scientists, politicians and others, the World Health Organization (WHO) in Geneva, Switzerland, has decided to describe the coronavirus outbreak as a pandemic.\n",
    "\n",
    "\n",
    "Why does the coronavirus spread so easily between people?\n",
    "\n",
    "The declaration comes after a 13-fold rise in the number of cases outside China in the past two weeks, and a trebling of countries affected — but does not change WHO strategy for tackling spread of the virus, director-general Tedros Adhanom Ghebreyesus said in an 11 March press briefing.\n",
    "\n",
    "“WHO has been assessing this outbreak around the clock and we are deeply concerned both by the alarming levels of spread and severity, and by the alarming levels of inaction,” said Tedros.\n",
    "\n",
    "“Describing the situation as a pandemic does not change WHO’s assessment of the threat posed by this coronavirus. It doesn’t change what WHO is doing, and it doesn’t change what countries should do,” he said. “Pandemic is not a word to use lightly or carelessly. It is a word that, if misused, can cause unreasonable fear, or unjustified acceptance that the fight is over, leading to unnecessary suffering and death.”\n",
    "\n",
    "Many scientists had been calling for the change in language for weeks — after large outbreaks were detected in South Korea, Iran and Italy. At the time, some researchers suggested that countries would soon move from efforts that involve containing as many new cases as possible to social-distancing measures, such as school closures, that do not rely on knowing who is infected with the virus and who is not.\n",
    "\n",
    "The virus has now been found in more than 100 countries. It has infected some 120,000 people, killing more than 4,000 of them. Several nations have closed schools in a bid to stop the virus, and Italy has entered an unprecedented countrywide lockdown.\n",
    "\n",
    "“This is not just a public health crisis, it is a crisis that will touch every sector — so every sector and every individual must be involved in the fight,” said Tedros.\n",
    "\n",
    "Researchers have been working rapidly since the outbreak came to light in January to characterize the virus, work out why it is so infectious, find out where it came from and help with diagnosing infections.\n",
    "\n",
    "11 March 12:30 GMT — Transgenic animals for coronavirus research in high demand\n",
    "\n",
    "Labs are scrambling to get their hands on transgenic animals that can be used to study the coronavirus and test drugs and vaccines. Ordinary mice seem to be resistant to infection by this coronavirus, so researchers conduct studies in rodents that produce a human version of the protein ACE2, which the virus uses to enter cells.\n",
    "\n",
    "\n",
    "Labs rush to study coronavirus in transgenic animals — some are in short supply\n",
    "\n",
    "But these mice — originally developed for research into severe acute respiratory syndrome, or SARS — are in short supply. One US breeding facility, the Jackson Laboratory in Bar Harbor, Maine, has received requests for 3,000 mice, and is now establishing a colony of these animals.\n",
    "\n",
    "Researchers have also already reported initial results from studies in monkeys infected with coronavirus. The animals seemed to experience only a mild illness, similar to that in many humans. Scientists are now seeking animal models to mimic the more severe version of the illness.\n",
    "\n",
    "11 March 07:30 GMT — Major chemistry meeting among cancelled scientific conferences\n",
    "\n",
    "The American Chemical Society (ACS), the world’s largest scientific society, cancelled its meeting in Philadelphia, Pennsylvania, on Monday, 13 days before it was due to begin on 22 March.\n",
    "\n",
    "The conference is one of a growing number of scientific meetings and conferences being cancelled because of coronavirus outbreaks. Governments and health officials are increasingly calling for the restriction of large gatherings, in an attempt to reduce the virus’s spread.\n",
    "\n",
    "The ACS said the decision to cancel was based on several factors, including a rise in COVID-19 cases in the greater Philadelphia area and input from members who were increasingly concerned about travelling to and attending a large meeting. About 800 participants had already cancelled their registrations before the announcement, an ACS press officer told Nature.\n",
    "\n",
    "The American Physical Society’s huge March Meeting was also cancelled last week, about a day before it was due to begin. Scores of other meetings are being postponed or being held virtually.\n",
    "\n",
    "10 March 03:30 GMT — Call for more funding\n",
    "\n",
    "At least US$8 billion is needed to address the most pressing threats posed by the new coronavirus, says the Global Preparedness Monitoring Board (GPMB), an independent group co-convened by the World Health Organization and the World Bank Group to combat public-health emergencies.\n",
    "\n",
    "The money is needed in addition to the tens of billions of dollars already pledged by the International Monetary Fund, the World Bank Group and individual governments.\n",
    "\n",
    "The GPMB released a report on 9 March calling on advanced economies, such as the members of the Group of Seven and Group of 20 industrialized nations, and financial institutions, to provide money to address five priority areas. These include strengthening weak health-care systems; supporting the World Health Organization’s efforts to help vulnerable countries; developing diagnostics, therapeutics and vaccines; strengthening regional surveillance; and ensuring that sufficient protective equipment is available for health workers.\n",
    "\n",
    "9 March 04:00 GMT — Global cases pass 100,000\n",
    "\n",
    "The number of known global cases of COVID-19 passed 100,000 over the weekend. On 8 March, the World Health Organization reported 105,586 confirmed cases across more than 100 countries and territories. Although the outbreak has been slowing in China, where it originated, the country still accounts for almost 80% of confirmed cases.\n",
    "\n",
    "6 March 11:30 GMT — US Congress approves US$8.3 billion for coronavirus response\n",
    "\n",
    "The United States Congress has passed an emergency spending bill that will allocate US$8.3 billion for the country’s coronavirus response. The House of Representatives passed the bill in a near-unanimous vote on Wednesday afternoon; the Senate followed suit on Thursday.\n",
    "\n",
    "The bill will provide more than $3 billion to the Centers for Disease Control and Prevention, the National Institutes of Health, and the Food and Drug Administration for research on diagnostics, therapeutics and vaccines. Each US state will reportedly receive at least $4 million for state and local government responses. The bill also includes a provision to ensure that an eventual vaccine is affordable.\n",
    "\n",
    "Other funding will contribute to the global coronavirus response and provide support for small businesses that are struggling in the wake of the outbreak. The bill will now go to President Donald Trump to be signed.\n",
    "\n",
    "Elsewhere, the US National Science Foundation in Alexandria, Virginia, opened up a Rapid Response Research funding mechanism for non-medical coronavirus-related research. Such calls are often used to award funding for work exploring the impacts of natural disasters such as hurricanes and wildfires, and allow for an expedited review of research proposals.\n",
    "\n",
    "5 March 15:30 GMT — China study suggests children are as likely to be infected as adults\n",
    "\n",
    "Children are just as likely to become infected with the new coronavirus as adults, finds one of the most detailed studies yet published on the spread of the virus, known as SARS-CoV-2. The analysis — based on data from Shenzhen in China — provides a partial answer to one of the most pressing questions surrounding the outbreak: the role of children.\n",
    "\n",
    "Previous studies have suggested that kids are much less likely than other age groups to develop severe symptoms when infected by the coronavirus. But it was not clear whether this was because they weren’t getting infected or because they were fighting off the infection more effectively.\n",
    "\n",
    "“Kids are just as likely to get infected and they’re not getting sick,” says Justin Lessler, an infectious-disease epidemiologist at Johns Hopkins Bloomberg School of Public Health in Baltimore, Maryland. He co-led the study with three other epidemiologists — Qifang Bi, also at Johns Hopkins, Ting Ma at the Harbin Institute of Technology in Shenzhen and Tiejian Feng at the Shenzhen Center for Disease Control and Prevention. They posted the analysis to the medRxiv preprint server on 4 March.\n",
    "\n",
    "The study is unique in that it looked at not only people who were infected with the virus, but also large numbers of their close contacts, some of whom were infected and many of whom were not. The researchers followed 391 people who were diagnosed on the basis of their symptoms, and 1,286 of their close contacts to see whether these contacts tested positive for the virus even if they didn’t show symptoms. Overall, the team found that children under 10 who had potentially been exposed to the virus were just as likely to become infected as other age groups, with between 7% and 8% of contacts of known cases later testing positive.\n",
    "\n",
    "The authors also found that people who lived in the same household as someone infected with the virus were about six times more likely get infected than those who made contact with an infected person in other settings.\n",
    "\n",
    "“This may be the first clear evidence that children are as susceptible as adults to SARS-CoV-2 infection,” says Ben Cowling, an infectious-disease epidemiologist at the University of Hong Kong. He wonders whether the fact that outbreaks haven’t been observed in schools could be down to the fact that children’s symptoms are mild.\n",
    "\n",
    "Lessler says it’s still not clear whether children are important in transmitting the virus, as they are for influenza; children routinely develop flu symptoms and are common hubs in chains of transmission. “That’s one of the current critical remaining questions and we’re trying to figure out how to answer it,” he says. “I have a 7-month-old and a 6-year-old and I can’t imagine that, if they have any virus at all, they’re not getting it on somebody.”\n",
    "\n",
    "The study could have important implications for slowing the spread of the virus through measures such as school closures. “Once we say containment is not an option, we can’t ignore the kids,” says Lessler.\n",
    "\n",
    "“This is a key piece of data that may support school closures as an effective intervention,” Caitlin Rivers, an epidemiologist at Johns Hopkins Bloomberg School of Public Health, said in a tweet on 5 March.\n",
    "\n",
    "5 March 12:55 GMT — World Bank pledges US$12 billion for coronavirus response\n",
    "\n",
    "On 3 March, the World Bank Group pledged up to US$12 billion, including $8 billion in new funding, to support countries dealing with the coronavirus outbreak. The funding will be fast-tracked and consists of grants and low-interest loans, as well as technical support.\n",
    "\n",
    "Most of the package is earmarked for strengthening health systems and improving access to treatment. The World Bank said it would prioritize funding for countries at high risk and with low capacity to deal with the outbreak. Half of the pledged money is from the International Finance Corporation, and is intended to strengthen global supply chains and support key industries such as pharmaceuticals.\n",
    "\n",
    "4 March 12:00 GMT — Repurposed drugs in coronavirus spotlight\n",
    "\n",
    "\n",
    "More than 80 clinical trials launch to test coronavirus treatments\n",
    "\n",
    "Drugs used to treat HIV and an experimental antiviral drug developed to fight Ebola virus are among those that are rapidly being tested against the new coronavirus. There are no approved treatments for diseases caused by coronaviruses. But hundreds of clinical trials of drug candidates are planned or underway, with much of the focus on remdesivir, a candidate drug originally developed to treat the Ebola virus.\n",
    "\n",
    "The drug, developed by the pharmaceutical firm Gilead Sciences of Foster City, California, is being tested in partnership with Chinese health authorities in randomized, controlled trials; two of these are set to finish in April. The compound works by trying to prevent the replication of the virus. “Remdesivir has quite high efficacy across all different coronaviruses and therefore it is one of the prime candidates to start being tested,” says Vincent Munster, chief of the viral ecology unit at the US National Institutes of Health.\n",
    "\n",
    "2 March 21:00 GMT — Infections worldwide top 90,000\n",
    "\n",
    "The number of people worldwide who have been infected with the coronavirus has passed 90,000. More than 3,000 have died since the outbreak began in December. The vast majority of cases — more than 80,000 — have occurred in China, but around 60 other countries are now also dealing with outbreaks. Many nations are preparing for a global pandemic, as reports of cases caused by spread within communities — rather than being imported from China — rise.\n",
    "\n",
    "South Korea, Italy and Iran are fighting the largest outbreaks outside China.\n",
    "\n",
    "Rapid spread. A line chart showing coronavirus case numbers in China and other countries from 20 Jan to 3 March.\n",
    "Source: Johns Hopkins University\n",
    "\n",
    "2 March 20:45 GMT — WHO raises alert to ‘very high’\n",
    "\n",
    "At a press briefing on 29 February, the World Health Organization (WHO) announced that it had raised the global alert for COVID-19 to the highest possible level, short of calling it a pandemic. The virus has now spread to some 60 locations outside China, with new cases detected in Ireland, Monaco, Azerbaijan, Qatar and Ecuador.\n",
    "\n",
    "The global alert for the spread and impact of the coronavirus outbreak increased from ‘high’ to ‘very high’. The alert remains ‘very high’ in China.\n",
    "\n",
    "The global change was based on an assessment by WHO epidemiologists, which took into account the continued increase in the number of cases and affected locations, and the difficulties that some regions, including Iran and Italy, are facing in containing the spread of the coronavirus.\n",
    "\n",
    "Tedros Adhanom Ghebreyesus, director-general of the WHO, said at the briefing that most cases were linked and could still be traced to known contacts or clusters, with no evidence of the virus spreading freely in communities. “As long as that is the case, we still have a chance of containing this virus, if robust action is taken to detect cases early, isolate and care for patients and trace contacts,” said Tedros.\n",
    "\n",
    "The organization therefore once again resisted declaring the outbreak a pandemic. Mike Ryan, director of the WHO’s emergencies programme, said that such a decision would mean that efforts to contain and slow down the spread of the virus have failed, which has proved to be untrue in China, Singapore and other regions.\n",
    "\n",
    "The WHO is still holding out hope that the virus can be contained, but we have probably crossed that threshold, says Adam Kamradt-Scott, a global health-security researcher at the University of Sydney, Australia.\n",
    "\n",
    "Some countries have already begun to prepare their pandemic plans, which is an important precautionary measure, says Nigel McMillan, an infectious-disease researcher at Griffith University in Brisbane. Australia, for example, initiated its coronavirus emergency response on 27 February. The WHO is being overly cautious in not declaring a pandemic, says McMillan.\n",
    "\n",
    "2 March 20:30 GMT — Transmission details emerge from WHO China analysis\n",
    "\n",
    "China has mounted “perhaps the most ambitious, agile and aggressive disease containment effort in history” against a new infectious disease, the World Health Organization (WHO) said in a report released on 28 February, after nine days of meetings and site visits in China from 16 to 24 February. The report analyses data from the outbreak in China, and recommends steps that the country and others should take to curb COVID-19.\n",
    "\n",
    "Daily reports of new cases are declining in the country, the WHO confirmed — so much so that authorities are now having problems recruiting participants for the more than 80 clinical trials there that are testing potential treatments for the coronavirus. Some experimental treatments should be prioritized over others, the health agency recommended.\n",
    "\n",
    "The report’s analysis of data from China finds 99.9% similarity between the 104 strains of the coronavirus, named SARS-CoV-2, collected from people between December 2019 and mid-February 2020. This means that the virus is not mutating significantly. The median age of people infected is 51 years. And most cases of spread from person to person have been in hospitals, prisons or households, which implies that close contact is often required for the virus to spread between people. Airborne spread is not believed to be a major driver of transmission, the report says. In one preliminary study from the province of Guangdong, people in the same household as someone with COVID-19 had a 3–10% chance of being infected.\n",
    "\n",
    "The WHO credits China’s ability to rein in the epidemic to a variety of measures. One is that 1,800 teams of epidemiologists have rapidly tracked tens of thousands of contacts of people infected with the virus in Hubei province, where the outbreak emerged. Up to 5% of these contacts ended up having the disease and were diagnosed quickly. And the report says the lockdown on travel out of Hubei — an unprecedented measure in a province of this size — curbed wider spread of the disease to China’s 1.4 billion citizens.\n",
    "\n",
    "2 March 17:45 GMT — Coronavirus fears cancel huge physics meeting\n",
    "\n",
    "\n",
    "Senior Nature reporter Davide Castelvecchi reports from Denver, Colorado, where the world’s biggest physics meeting has been cancelled because of coronavirus fears.\n",
    "\n",
    "The meeting was scheduled to host 11,000 attendees. Some researchers are finding other ways to share their work, including informal meet-ups and virtual talks.\n",
    "\n",
    "Several other scientific meetings have also been cancelled, as virus outbreaks emerge and escalate in countries around the world.\n",
    "\n",
    "28 February 12:45 GMT — Coronavirus spreads to sub-Saharan Africa\n",
    "\n",
    "The coronavirus outbreak has spread to 46 countries other than China — and now seems to be spreading faster outside China than inside.\n",
    "\n",
    "\n",
    "This Nigerian doctor might just prevent the next deadly pandemic\n",
    "\n",
    "Several nations reported their first infections this week; cases included the first to be confirmed in sub-Saharan Africa, in Nigeria. The Nigeria Centre for Disease Control reported the case on 27 February and said it was working to trace the infected person’s contacts. Health authorities and researchers have feared the virus’s spread to African countries including Nigeria, where weak health systems could quickly be overwhelmed by a local outbreak.\n",
    "\n",
    "The World Health Organization reports that more than 82,000 people worldwide have now been infected — more than 3,600 of those outside China. Cases in South Korea, which is handling the world’s second-largest outbreak, have exploded to more than 2,300.\n",
    "\n",
    "China’s outbreak seems to be slowing, with the daily number of new cases dropping. Authorities reported 327 new infections nationwide on 27 February. A week earlier, on 20 February, that figure had been around 900. Outside China, about 750 new cases were reported on 27 February.\n",
    "\n",
    "26 February 18:30 GMT — Brazil reports first case in South America\n",
    "\n",
    "A case of COVID-19 has been confirmed in Brazil — the first in South America. On 26 February, Brazil’s minister of health, Luiz Henrique Mandetta, confirmed that a man who travelled to northern Italy between 9 and 21 February has the disease. Italy’s outbreak has escalated to 324 cases and 12 deaths, according to a virus tracker maintained by Johns Hopkins University in Baltimore, Maryland.\n",
    "\n",
    "The Brazilian case is in a 61-year-old man who sought care for a fever, cough and sore throat yesterday at a hospital in São Paulo, where he tested positive for COVID-19. Officials say he is in stable condition and will be quarantined at home for 14 days. “We should only take those with severe respiratory conditions to the hospital,” said Mandetta in a tweet.\n",
    "\n",
    "Algeria, Greece, Afghanistan, Bahrain, Iraq and Oman have all reported their first cases within the past two days. The virus’s appearance in South America now means that it has spread to every continent except Antarctica.\n",
    "\n",
    "25 February 22:30 GMT — Trump requests emergency funding for coronavirus response\n",
    "\n",
    "The administration of President Donald Trump has requested up to US$2.5 billion to fund the US response to COVID-19. In a 24 February letter to Congress, the Office of Management and Budget requested $1.25 billion in new funding and proposed to make up the rest by repurposing funds allocated to other programmes, including $535 million assigned to the Ebola response.\n",
    "\n",
    "\n",
    "Time to use the p-word? Coronavirus enters dangerous new phase\n",
    "\n",
    "Democratic legislators immediately criticized the requested sum as overdue and insufficient. The US government has allocated several times that figure for past outbreak responses: Congress approved about $5.4 billion for the 2014 Ebola outbreak, and in 2009 about $7.7 billion was directed to the H1N1 influenza pandemic response.\n",
    "\n",
    "Public-health policy analysts expect the government to make some funds available, but it’s unclear how much will be appropriated, and how soon. “My expectation is that something will eventually be passed,” says Josh Michaud, a public-health policy analyst at the Kaiser Family Foundation, a non-profit organization in Washington DC. “What eventual form that is and whether it conforms to the risk that coronavirus poses is another question.”\n",
    "\n",
    "25 February 21:00 GMT — Researchers anticipate unstoppable spread\n",
    "\n",
    "Despite the World Health Organization’s decision not to describe the escalating coronavirus outbreak as a pandemic, some scientists say that the spread is already moving into a new, dangerous phase. They say measures to limit spread will have to shift from containment to mitigation, as countries including Iran, Italy and South Korea report growing outbreaks with hundreds of infections.\n",
    "\n",
    "25 February 18:30 GMT — ‘There is lots of anxiety’: a scientist’s view from South Korea\n",
    "\n",
    "Chemist Bartosz Grzybowski discusses his experiences in South Korea in the midst of the coronavirus outbreak.\n",
    "Download MP3\n",
    "\n",
    "Bartosz Grybowski is a crystal chemist in South Korea, where cases of the coronavirus have surged.\n",
    "\n",
    "Crystal chemist Bartosz Grzybowski talks to the Nature Podcast’s Nick Howe about how the surging outbreak in South Korea is affecting daily life as a researcher. Grzybowski is at the Ulsan National Institute of Science and Technology, about 60 kilometres from the city of Daegu, where most of the country’s coronavirus cases have occurred. He says panic and fear reign — but the nation seems well prepared.\n",
    "\n",
    "24 February 16:30 GMT — WHO says outbreak isn’t a pandemic\n",
    "\n",
    "At a press briefing on 24 February, the World Health Organization (WHO) said that, despite the spread of the disease, the coronavirus outbreak does not yet amount to a pandemic. “Using the word pandemic now does not fit the facts, but it may cause fear,” said WHO director-general Tedros Adhanom Ghebreyesus.\n",
    "\n",
    "“For the moment, we are not witnessing the uncontained global spread of this coronavirus, and we are not witnessing large-scale severe disease or death,” said Tedros. “Does this virus have pandemic potential? Absolutely. Are we there yet? From our assessment, not yet.”\n",
    "\n",
    "Mike Ryan, director of the WHO’s emergencies programme, justified the organization’s position by explaining that the virus’s transmission remains poorly understood — and it seems that the rate of new infections is declining in China. He advised countries to focus on treating patients and reducing the chance of people spreading the virus to others.\n",
    "\n",
    "24 February 14:00 GMT — Cases outside China are rising\n",
    "\n",
    "The number of cases of COVID-19 outside China jumped over the weekend, with Italy, South Korea and Iran reporting new infections. Kuwait, Bahrain, Afghanistan and Iraq also confirmed their first cases on 24 February.\n",
    "\n",
    "\n",
    "Coronavirus: hospitals must learn from past pandemics\n",
    "\n",
    "Officials in Iran have reported up to 61 cases and 12 deaths. But the figures have been in flux, and case numbers will probably rise in the coming days, given that the number of deaths compared to overall cases is much higher than reported in other countries.\n",
    "\n",
    "South Korea had confirmed 833 infections and 8 deaths as of 24 February, according to a virus tracker maintained by researchers at Johns Hopkins University in Baltimore, Maryland.\n",
    "\n",
    "The virus is also spreading in Italy, where 230 people have been infected and 5 have died, according to the tracker.\n",
    "\n",
    "At a meeting organized by the African Union on 22 February, Tedros Adhanom Ghebreyesus, the director-general of the World Health Organization, said he was especially worried about the rise in cases in Iran, South Korea and Italy. “The increasing signs of transmission outside China show that the window of opportunity we have for containing this virus is narrowing,” he said.\n",
    "\n",
    "Meanwhile, more than 77,000 people have been infected in China, and the death toll there has passed 2,500.\n",
    "\n",
    "20 February 13:30 GMT — Coronavirus death toll passes 2,000\n",
    "\n",
    "More than 2,100 people worldwide have now died from COVID-19, the disease caused by the new coronavirus. On 20 February, Chinese authorities reported that 2,118 people there had died from the illness. Infections worldwide have topped 75,000; more than 74,000 are in China.\n",
    "\n",
    "20 February 13:00 GMT — China’s case-counting methods raise concerns\n",
    "\n",
    "Scientists have questioned the way in which China is counting cases of the coronavirus. China’s official reports on the number of infections have not been including people who have tested positive for the virus but have no symptoms. Researchers fear the practice is masking the epidemic’s true scale — but some public-health experts say China is right to prioritize tracking ill people who are spreading the disease.\n",
    "\n",
    "Medical staff members working at a computer in an exhibition centre converted into a hospital in Wuhan, China\n",
    "Medical staff working in an exhibition centre converted into a hospital in Wuhan, ChinaCredit: AFP/Getty\n",
    "\n",
    "18 February 11:00 GMT — Has the outbreak in China peaked?\n",
    "\n",
    "A study of nearly 45,000 confirmed COVID-19 cases in China suggests that the outbreak might already have reached its climax. The report, from the country’s Center for Disease Control and Prevention, says that the peak — the day with the highest number of new infections — occurred around the end of January. The number of new laboratory-confirmed cases per day declined from then to 11 February, the end of the study period. However, the number of new suspected cases and cases diagnosed by physicians using chest scans, known as clinically diagnosed cases, stayed at roughly the same levels.\n",
    "\n",
    "\n",
    "Keep up to date, with Nature Briefing\n",
    "\n",
    "The latest data on coronavirus infections in China appear to show a decline in new cases, said Tedros Adhanom Ghebreyesus, director-general of the World Health Organization (WHO), at a press briefing on 17 February, the same day the Chinese report was released. But he said the trend must be interpreted cautiously. “It’s too early to tell if this new reported decline will continue,” he said. “Every scenario is still on the table.”\n",
    "\n",
    "Raina MacIntyre, a physician and epidemiologist at the University of New South Wales in Sydney, Australia, agrees that the data need to be considered with caution, but says the general trends are informative. The WHO’s reports also show a decline in new cases reported per day in China and worldwide, she says.\n",
    "\n",
    "But the extended Chinese holiday period that ended on 9 February means there might be another increase in new cases around 21 February, as people return to work. “Often with epidemics we see more than one peak,” says MacIntyre.\n",
    "\n",
    "Epidemiologists have been trying to estimate roughly when the outbreak will peak, so public-health officials can prepare hospitals and work out when it will be safe to lift travel restrictions in Wuhan and several nearby cities.\n",
    "\n",
    "Some models suggest that the climax will happen any time now. Others say that it is months away and that the virus will infect millions — or, in one estimate, hundreds of millions — of people before then. This model assumes that many more people have been infected than is reflected by official counts, but that these people have no symptoms or are not ill enough to seek medical treatment.\n",
    "\n",
    "Scanning electron microscope image shows SARS-CoV-2.\n",
    "The coronavirus SARS-CoV-2, shown in a scanning-electron-microscope image.Credit: NIAID-RML/de Wit/Fischer\n",
    "\n",
    "17 February 00:30 GMT — First case in Africa detected\n",
    "\n",
    "The first case of the new coronavirus has been reported in Africa — in a person in Egypt. The country’s health ministry and the World Health Organization said on 15 February that the case had been detected as a result of Egypt’s programme to trace visitors who had come from affected countries. The person tested positive for the virus but had no symptoms. They are currently being isolated and are in a stable condition.\n",
    "\n",
    "\n",
    "Scientists fear coronavirus spread in countries least able to contain it\n",
    "\n",
    "Researchers have been apprehensive about the virus arriving in Africa, and about its potential to spread there. Vittoria Colizza, who models infectious diseases at the Pierre Louis Institute of Epidemiology and Public Health in Paris, told Nature that she’s most concerned about seven African nations that have a moderate risk of importing the virus, but whose weak health-care systems, low economic status or unstable political situation make them highly vulnerable. These countries are Nigeria, Ethiopia, Sudan, Angola, Tanzania, Ghana and Kenya.\n",
    "\n",
    "Transmission electron microscope image shows SARS-CoV-2.\n",
    "Electron-microscope image of the new coronavirus, now designated SARS-CoV-2.Credit: NIAID-RML/de Wit/Fischer\n",
    "\n",
    "14 February 14:00 GMT — Chinese cases spike after diagnosis change\n",
    "\n",
    "A sudden spike in new coronavirus cases reported in China this week shocked some researchers. But the huge bump in numbers isn’t a sign that the epidemic is worsening, say others; it is instead the result of authorities changing how cases are confirmed.\n",
    "\n",
    "On 12 February, Hubei province reported nearly 15,000 new cases of COVID-19, the disease caused by the coronavirus, representing a 33% jump in total infections worldwide in a single day. Total infections in China now number around 64,000, with more than 1,300 deaths.\n",
    "\n",
    "But most of the Hubei cases — about 13,000 — have been reported as a result of a new policy that means physicians in the province can diagnose suspected cases of COVID-19 on the basis of chest scans, rather than having to wait for genetic tests to confirm the presence of the virus, which can take days.\n",
    "\n",
    "The policy was established in response to pleas from doctors who are overwhelmed by patients with respiratory diseases, and don’t have time to wait for lab results, says Wu Zunyou, chief epidemiologist at the Chinese Center for Disease Control and Prevention, who helped design and implement the policy. “The clinicians in Hubei made a very strong request to modify the criteria because of their heavy workload,” he says. Now they can care for people more quickly and ensure they are properly isolated to protect others, says Wu. “We need to save lives.”\n",
    "\n",
    "The policy makes sense from a medical point of view, says Michael Mina, an infectious-disease immunologist and epidemiologist at the Harvard T.H. Chan School of Public Health in Boston, Massachusetts. “Triaging based on symptomatic evaluation and physical exam is the bedrock of hospital-based and clinical triage,” he says.\n",
    "\n",
    "The new diagnosis method was listed in updated disease-reporting guidelines issued last week. It applies only to Hubei, where the virus originated in the city of Wuhan. Wu says that other provinces aren’t as overwhelmed with cases so will still need to confirm suspected cases with genetic tests or lab cultures of the virus taken from patients.\n",
    "\n",
    "The Chinese state media outlet Xinhua urged calm after the spike was reported. “Although the figures rose, it does not mean that the epidemic in Wuhan has deepened,” it said.\n",
    "\n",
    "On 14 February, Chinese authorities revealed for the first time the number of infections in medical staff. They said 1,716 health workers had contracted the virus, 6 of whom had died.\n",
    "\n",
    "13 February 12:15 GMT — Chinese virologists raise concerns about virus name\n",
    "\n",
    "Some researchers in China are unhappy with the designated name for the new coronavirus, SARS-CoV-2. They worry that the use of ‘SARS-CoV’ will confuse the public and impede efforts to control the pathogen’s spread.\n",
    "\n",
    "\n",
    "As coronavirus spreads, the time to think about the next epidemic is now\n",
    "\n",
    "On 11 February, the International Committee on Taxonomy of Viruses announced the name, which was chosen on the basis of an analysis of the new coronavirus’s evolutionary history and the pathogen that causes severe acute respiratory syndrome (SARS), called SARS-CoV. Classification rules and established naming practice also informed the decision.\n",
    "\n",
    "Although the two viruses belong to the same species, SARS-CoV-2 spreads much faster than SARS-CoV but is less deadly, says Shibo Jiang, a virologist at Fudan University in Shanghai. SARS-CoV retreated in the summer, but nobody knows what the new virus will do in the coming months, he says. People might think it will behave similarly and stop taking precautions come summer.\n",
    "\n",
    "Scientists also worry about the potential social and economic impact for China of revisiting the bad memories associated with SARS. “That name can cause panic to people, and may cause gross economic loss to the affected countries when the virus is circulating,” says Guo Deyin, a virologist at Sun Yat-sen University in Guangzhou.\n",
    "\n",
    "\n",
    "Coronavirus: hospitals must learn from past pandemics\n",
    "\n",
    "On 9 February, virologists in China suggested in a paper in Virologica Sinica that the latest virus be called transmissible acute respiratory syndrome, or TARS-CoV.\n",
    "\n",
    "Sun Caijun, an infectious-disease researcher also at Sun Yat-sen University, says that he would have preferred the virus be named clustered acute respiratory syndrome coronavirus (CARS-CoV) or rapid spread respiratory syndrome coronavirus (RARS-CoV), given the virus’s quick spread.\n",
    "\n",
    "Not everyone is bothered by the designated name. Lijun Rong, a virologist at the University of Illinois in Chicago, doesn’t think it will affect the public’s response to the outbreak. People just want the virus to go away as quickly as possible, he says. “A name is just a name.”\n",
    "\n",
    "13 February 12:00 GMT — Listen: coronavirus gets formal name\n",
    "\n",
    "Nature’s European bureau chief Nisha Gaind and Nature Podcast’s Nick Howe discuss the naming of the new coronavirus disease and the suggestion that the pathogen might have originated in pangolins.\n",
    "\n",
    "Listen: Nature reporters Nisha Gaind and Nick Howe discuss the latest news from the coronavirus outbreak.\n",
    "Download MP3\n",
    "13 February 03:00 GMT — Researchers worry cases are going undetected in some regions\n",
    "\n",
    "Cases of the new coronavirus, which is now known as SARS-CoV-2, might be going undetected in some nations considered at high risk of an outbreak because they are reporting fewer cases than expected or none at all, say scientists. Infections have been detected in 24 countries outside China so far.\n",
    "\n",
    "Researchers are using flight data to create models of the virus’s possible spread around the world. One model identified 30 countries at risk of importing SARS-CoV-2, on the basis of the large number of flights from Wuhan, the outbreak’s epicentre, and from other cities in China with lots of travellers from Wuhan. But several of those countries, including Thailand, Vietnam, Cambodia and Malaysia, have reported fewer cases than the model predicts. Indonesia, another country at risk, has yet to report a single case.\n",
    "\n",
    "The possibility of unreported cases is particularly concerning in countries with weaker health-care systems, such as those in southeast Asia and Africa, which could quickly be overwhelmed by a local outbreak. No cases have been reported in Africa so far, but some countries there, such as Nigeria, are at particular risk because of strong business ties to China.\n",
    "\n",
    "12 February 17:45 GMT — WHO calls for speedy vaccine, drug and diagnostic development\n",
    "\n",
    "World Health Organization officials outlined their top research priorities for controlling the outbreak of the coronavirus-associated disease now known as COVID-19. At the close of a two-day international forum in Geneva, Switzerland, assessing the outbreak, WHO director-general Tedros Adhanom Ghebreyesus spoke about the importance of developing candidate therapeutics and easy-to-apply diagnostics for identifying active, asymptomatic and resolved infections.\n",
    "\n",
    "\n",
    "How scientists are fighting the novel coronavirus: A three minute guide\n",
    "\n",
    "Research should also look to understand the best approach for infection prevention, including assessing whether lockdowns in major Chinese cities have had a positive or negative effect on slowing the spread of virus. Virologist Marie-Paule Kieny, who co-chaired the forum, said that there were four vaccine candidates in development. In around three months, she suggested, one or two of those might be in human trials. Still, it will be more than a year until they might be available for wider use. Officials called for research on how to control and counter misinformation that has spread since the start of the outbreak. Finally, Tedros encouraged research into preventing the transmission of zoonotic diseases — which originate in animals — to stem future outbreaks of this type.\n",
    "\n",
    "Although researchers are already investigating some of these questions, and many others, WHO officials hope that its research blueprint will help to direct donor funding to the most productive avenues.\n",
    "\n",
    "11 February 15:25 GMT — Coronavirus disease officially named COVID-19\n",
    "\n",
    "The World Health Organization has officially named the disease caused by the coronavirus COVID-19. This will replace various monikers and hashtags given to the emerging illness over the past few weeks. Most recently, on 8 February, China’s National Health Commission decided to temporarily call the disease novel coronavirus pneumonia, or NCP. But because viruses continue to spread from animals to people, this coronavirus won’t be novel for long.\n",
    "\n",
    "“COVID-19 stands for coronavirus disease in 2019,” said Soumya Swaminathan, chief scientist at the World Health Organization in Geneva, Switzerland, at a press briefing. She explained that there are many coronaviruses, and this style of naming will provide a format for referring to new coronavirus diseases in future years. “The virus itself is named by an international group of virologists who will look into the taxonomy,” she said. “But it is important to have a name for this disease that everybody uses.”\n",
    "\n",
    "Two other diseases caused by coronaviruses were given names describing the clinical manifestations: SARS (severe acute respiratory syndrome) and MERS (Middle East respiratory syndrome).\n",
    "\n",
    "Shortly after the WHO announced the disease’s official name, the virus causing it was named SARS-CoV-2 by the International Committee on Taxonomy of Viruses. In a paper posted to the bioRxiv preprint server, the committee’s study group on coronaviruses explains that this term highlights the new virus’ similarity to the SARS virus identified in 2003.\n",
    "\n",
    "11 February 11:45 GMT — Coronavirus deaths in China pass 1,000\n",
    "\n",
    "More than 1,000 people in China have been killed by the coronavirus, the nation’s health authorities report. Worldwide, more than 43,000 people have been infected.\n",
    "\n",
    "Millions of people in China returned to work on Monday after the Lunar New Year holiday was extended by more than a week in an effort to halt the spread of the virus — although many businesses remain closed.\n",
    "\n",
    "Researchers will be watching closely to see whether the number of cases increases as a result of people going back to work.\n",
    "\n",
    "Thin-section electron micrographs of the 2019 novel coronavirus grown in cells at The University of Hong Kong.\n",
    "A microscope image of a cell infected with the novel coronavirus, grown in culture at the University of Hong Kong. Multiple virus particles are being released from the cell surface.Credit: John Nicholls, Leo Poon and Malik Peiris/The University of Hong Kong\n",
    "\n",
    "10 February 14:00 GMT — Watch: how scientists are fighting the coronavirus outbreak\n",
    "\n",
    "Nature senior biology reporter Heidi Ledford describes how researchers including epidemiologists, geneticists and virologists are mobilizing in response to the escalating outbreak.\n",
    "\n",
    "\n",
    "10 February 11:30 GMT — Pangolins claimed as outbreak source\n",
    "\n",
    "Two researchers at the South China Agricultural University in Guangzhou have suggested that pangolins — long-snouted mammals often used in traditional Chinese medicine — are the probable animal source of the coronavirus outbreak.\n",
    "\n",
    "Shen Yongyi and Xiao Lihua reported at press conference on 7 February that they had identified the pangolin as the potential source of the virus, named nCoV-2019, based on a genetic comparison of coronaviruses taken from the animals and from humans infected in the outbreak.\n",
    "\n",
    "The identity of the animal source of nCoV-2019 has been one of the key questions that researchers have been trying to answer. Scientists have already suggested that nCoV-2019 originally came from bats, on the basis of the similarity of its genetic sequence to those of other known coronaviruses, but the virus was probably transmitted to humans by another animal.\n",
    "\n",
    "Researchers say that the suggestion that pangolins spread the coronavirus to people seems plausible — but caution that the researchers’ work is yet to be published.\n",
    "\n",
    "Pangolin.\n",
    "Pangolins are scaly mammals often used in traditional Chinese medicine.Credit: Getty\n",
    "\n",
    "10 February 04:30 GMT — Deaths in China surpass toll from SARS\n",
    "\n",
    "More than 900 people in China have died from the new virus, a greater number than those who died from severe acute respiratory syndrome (SARS) in the 2002–03 epidemic. That outbreak, which also originated in China, killed 774 people worldwide.\n",
    "\n",
    "The number of people in the country infected with the new coronavirus has risen to 40,171, according to the latest update from China’s National Health Commission.\n",
    "\n",
    "7 February 10:15 GMT — Global infections pass 30,000\n",
    "\n",
    "The number of people worldwide infected with the coronavirus has passed 30,000 — with the vast majority of cases occurring in China. Chinese health authorities reported on 7 February that 31,161 people had contracted the infection in China, and more than 630 people had died. Among other countries, those with the most cases include Singapore, Thailand and Japan, which have each reported between 25 and 30 infections so far.\n",
    "\n",
    "Researchers at Johns Hopkins University in Baltimore, Maryland, are visualizing global infection data in real time.\n",
    "\n",
    "Chinese paramilitary policemen wearing face masks for prevention of the new coronavirus\n",
    "Chinese paramilitary policemen prepare to patrol at Nanning Wuxu International Airport in the city of Nanning in southern China.Credit: Costfoto/Barcroft Media/Getty\n",
    "\n",
    "4 February 18:30 GMT — Listen: how scientists are responding to the coronavirus outbreak\n",
    "\n",
    "Nature senior reporter Ewen Callaway and the Nature Podcast’s Benjamin Thompson discuss the fast-paced research happening in response to the outbreak — from diagnostics to finding the pathogen’s animal host.\n",
    "\n",
    "Listen: Reporters Ewen Callaway and Benjamin Thompson discuss the escalating coronavirus outbreak.\n",
    "Download MP3\n",
    "4 February 11:00 GMT — Cases in China pass 20,000\n",
    "\n",
    "The number of people in China infected with the coronavirus reached 20,438 on 3 February, after more than 3,000 new cases were reported in a day. China’s National Health Commission also reported another 64 deaths, bringing the total to more than 420 in mainland China. And media outlets are reporting the death of a man in Hong Kong, the second fatality to be reported outside the mainland.\n",
    "\n",
    "3 February 16:30 GMT — Scientists eager to study samples of live virus\n",
    "\n",
    "Researchers worldwide are keen to get their hands on samples of the coronavirus, to probe the pathogen’s biology in detail and to test drugs and develop vaccines. Virologists in China who first isolated the virus found that it can kill cultured human cells and that it enters cells through the same molecular receptor as the coronavirus that causes severe acute respiratory syndrome (SARS).\n",
    "\n",
    "\n",
    "China coronavirus: how many papers have been published?\n",
    "\n",
    "Scientists say that physical samples have advantages over genetic sequences, dozens of which are now available. They can be used to engineer animal models of the infection and to answer key questions about how the pathogen spreads. Labs in the United States, France, Germany and Hong Kong are isolating and preparing to share virus samples taken from local patients. “It is essential that viruses are shared,” said Maria Van Kerkhove, an infectious-disease epidemiologist at the World Health Organization in Geneva, Switzerland.\n",
    "\n",
    "Jiangsu Shuoshi Biotechnology Co. Ltd. production workers working on a coronavirus nucleic acid detection kit, China\n",
    "Workers assemble detection kits for the coronavirus.Credit: EPA-EFE/Shutterstock\n",
    "\n",
    "31 January 05:00 GMT — Experts consider what’s next\n",
    "\n",
    "As cases of the coronavirus continue to climb, experts are considering best- and worst-case scenarios based on the behaviour of previous epidemics and what scientists already know. Cases in China surged to 9,692 on 30 January. One model estimates that the virus could infect about 39,000 of the 30 million people living in the region of Wuhan. “It seems like the virus has got out of hand in China, spread too far, too quickly to really be contained,” says Ian Mackay, a virologist at the University of Queensland in Brisbane, Australia.\n",
    "\n",
    "One big question is whether the coronavirus will continue to circulate in the community. If efforts to contain the virus fail, there’s a reasonable chance that it will become endemic. As with influenza, this could mean that deaths occur every year as the pathogen circulates. During the current outbreak, there have been several cases of infected people displaying no symptoms. If such cases are common, it will be more difficult to control the disease’s spread, making it more likely that the virus will become endemic.\n",
    "\n",
    "A Qingdao Coronavirus volunteer in a protective suit disinfects a neighborhood in Qingdao, China.\n",
    "A worker disinfects a neighbourhood in Qingdao, in east China's Shandong province. Credit: Yu Fangping/Utuku/Ropi/Zuma/eyevine\n",
    "\n",
    "30 January 19:45 GMT — World Health Organization declares global emergency\n",
    "\n",
    "The World Health Organization (WHO) has declared the coronavirus outbreak a global health emergency. The organization’s director-general, Tedros Adhanom Ghebreyesus, said his main concern was that the outbreak could spread to countries with fragile health systems.\n",
    "\n",
    "Declaring a “public health emergency of international concern” (PHEIC) is the WHO’s highest level of alarm — a step it reserves for events that pose a risk to multiple countries and that require a coordinated international response.\n",
    "\n",
    "The WHO considered declaring the coronavirus a global emergency last week, but ultimately decided against the move. At that time, only one country outside China — Vietnam — had confirmed person-to-person transmission of the virus within its borders.\n",
    "\n",
    "Now, four other places outside mainland China — Japan, Taiwan, Germany and the United States — have reported person-to-person transmission, as the size and reach of the outbreak have grown. The WHO says that a total of 7,818 cases have been confirmed in 18 countries. Almost 99% of those — 7,736 cases — are in China.\n",
    "\n",
    "Tedros praised China for its handling of the outbreak, and recommended against restricting international trade with, and travel to, the country. “This declaration is not a vote of no confidence in China,” he said. “This is the time for solidarity, not stigma.”\n",
    "\n",
    "Alexandra Phelan, a global-health lawyer at Georgetown University in Washington DC, praised Tedros’s decision and message. “Historically, a PHEIC is seen as an alert to all countries,” she says. “But this focus on countries with weak health systems highlights the obligation of wealthier countries with stronger health systems to help them prepare for potential cases.”\n",
    "\n",
    "30 January 17:45 GMT — Human-to-human transmission confirmed in the United States\n",
    "\n",
    "The first instance of the coronavirus spreading between people in the United States has been confirmed. The US Centers for Disease Control and Prevention says that a woman living in Illinois who had visited Wuhan passed the virus to her spouse.\n",
    "\n",
    "EM Coronavirus, causing SARS\n",
    "Coronaviruses take their name from their crown-like shape.Credit: Getty\n",
    "\n",
    "29 January 04:00 GMT — Australian researchers grow virus in cell culture\n",
    "\n",
    "Researchers in Melbourne, Australia, are the first outside China to announce that they’ve grown the new coronavirus in cell culture. The group at the Peter Doherty Institute for Infection and Immunity says it isolated the virus from the first person diagnosed with the infection in Australia, on 25 January.\n",
    "\n",
    "The team will now share the virus with research labs around the world recommended by the World Health Organization (WHO) to help the development of more accurate diagnostic tests and vaccines, says Mike Catton, a deputy director of the institute. “There are some things that are much easier to do when you have the virus,” says Catton.\n",
    "\n",
    "\n",
    "Although scientists in China say they’ve been able to grow the virus in the lab, they have not yet shared samples with international researchers — they have shared only the virus’s genetic sequence, says Julian Druce, head of the Virus Identification Laboratory at the Doherty Institute. He says he and his team had heard that labs outside China had struggled to grow the virus, but they found it quite easy. He thinks the success was due to the lab’s combined expertise in diagnosing infections as well as isolating and growing viruses in culture. “We’ve got two parts of the puzzle together in one laboratory,” he says.\n",
    "\n",
    "Catton says having samples of the virus will enable scientists to create tests that can detect specific immune cells — antibodies — that indicate whether a person has been infected with the new virus. Such tests are especially useful for people with mild or no symptoms. Making a test for antibodies is difficult without samples of the virus, he says.\n",
    "\n",
    "A study of a family in Shenzhen, China, identified a child who was infected with the virus but showed no symptoms. The WHO has also reported that three people with the infection outside China have been asymptomatic.\n",
    "\n",
    "Ian Mackay, a virologist at the University of Queensland in Brisbane, Australia, says the Melbourne group’s announcement is fantastic news. He says lab-grown samples are essential for research into the behaviour of the virus in culture or in animal hosts. Although virus samples can also be used to validate molecular diagnostic tests, most labs have moved away from using whole viruses in favour of synthetically producing parts of the virus from partial genomes, says Mackay.\n",
    "\n",
    "A worker produces protective suits at a factory in Nantong in China's eastern Jiangsu province\n",
    "A worker produces protective suits at a factory in Nantong in China’s eastern Jiangsu province.Credit: AFP/Getty\n",
    "\n",
    "28 January 16:00 GMT — First human-to-human transmission outside China\n",
    "\n",
    "The new coronavirus has spread between humans outside China for the first time.\n",
    "\n",
    "A German man acquired the infection from a colleague who had returned from Wuhan, according to news reports and a statement from Bavaria’s health ministry. In a 27 January update, the World Health Organization confirmed that a person in Vietnam had acquired the virus from an infected family member. And media reports indicated today that a tour-bus driver in Japan who had transported tourists from Wuhan had also tested positive for the coronavirus.\n",
    "\n",
    "\n",
    "China coronavirus: Six questions scientists are asking\n",
    "\n",
    "Bavaria’s health ministry said it considered the risk of the virus spreading further to be low. However, more cases of human-to-human spread outside China are likely, said Michael Head, an epidemiologist at the University of Southampton, UK, in a statement distributed by the UK Science Media Centre. “But the indications are at this stage that onwards transmission will be limited.”\n",
    "\n",
    "David Heymann, an epidemiologist at the London School of Hygiene and Tropical Medicine, agrees that more cases of human-to-human transmission beyond China are likely. Health authorities can limit transmission by isolating infected people and closely following individuals they have had contact with.\n",
    "\n",
    "But these measures will be effective only if the virus is not able to spread widely through the air. “You can generally keep an outbreak at very low levels unless it’s aerosolized,” says Heymann. If the virus can spread through the air, contact-tracing and isolation are unlikely to stem transmission.\n",
    "\n",
    "Evidence so far suggests that the coronavirus spreads only through close contact and through saliva droplets, but Heymann says there is an urgent need to find out whether it can also spread through air. “The frustrating point is that until now we don’t have all the evidence that can tell exactly how this disease is transmitted.”\n",
    "\n",
    "28 January 05:00 GMT — Cases increase by more than 60%\n",
    "\n",
    "The number of confirmed cases in China has jumped to 4,515, up from 2,744 on 26 January, according to the Chinese Center for Disease Control and Prevention. Authorities also report that more than 100 people have died as a result of the infection. Confirmed cases outside China have reached at least 37, but no deaths have been reported outside the country.\n",
    "\n",
    "\n",
    "Wuhan scientists: What it’s like to be on lockdown\n",
    "\n",
    "Raina MacIntyre, an epidemiologist at the University of New South Wales in Sydney, Australia, says that although the rise in cases probably reflects an increase in the authorities testing and detecting the virus, the dramatic jump is concerning. “It’s very much a dynamic picture, and until we have an indication that cases are declining, it’s going to continue to be of concern,” she says.\n",
    "\n",
    "But MacIntyre also notes that researchers are struggling to accurately model the outbreak and predict how it might unfold, because the case-report data that’s being released by the Chinese authorities is incomplete. “What we need to identify is when people got sick, not when the cases were reported, and all we’ve seen so far is when the cases were reported.”\n",
    "\n",
    "27 January 13:30 GMT — Scientists estimate how quickly virus spreads\n",
    "\n",
    "As the number of confirmed cases of the novel coronavirus climbs into the thousands, scientists around the world are estimating how easily the virus is passed between people — and trying to determine whether those without symptoms can spread it.\n",
    "\n",
    "One number that epidemiologists want to know is how many people one person with the virus tends to infect — known as R0, or R-naught. An R0 higher than 1 means that countermeasures, such as quarantine, will be needed to contain the pathogen’s spread.\n",
    "\n",
    "On Thursday evening, after a meeting of an emergency committee responding to the outbreak, the World Health Organization (WHO) published an estimated R0 of 1.4 to 2.5. Other teams have since come up with slightly higher values1,2. These estimates are similar to the R0 of SARS during the early stages of the 2002–03 outbreak, and of the novel strain of H1N1 influenza that caused a pandemic in 2009. But they are higher than R0 figures estimated during outbreaks of the Middle East respiratory syndrome (MERS) virus, a coronavirus similar to SARS.\n",
    "\n",
    "\n",
    "What you need to know about the novel coronavirus\n",
    "\n",
    "“Now it’s in the range of these other important epidemics, and that indicates the potential that it will cause a similar scale of public-health concern if nothing else happens,” says Mark Woolhouse, an epidemiologist at the University of Edinburgh, UK.\n",
    "\n",
    "But researchers caution that R0 estimates come with large uncertainties, because of gaps in the data, and the assumptions used to calculate the figure. They also point out that R0 is a moving target that changes over the course of an outbreak — as control measures are implemented — and varies from place to place. In the coming days, health authorities and researchers will be looking for signs that the steps the authorities have taken to stem transmission, such as the travel restrictions in Wuhan and other Chinese cities, have reduced the R0 there.\n",
    "\n",
    "Another important unanswered question surrounding the virus’s spread is whether — and how extensively — people without symptoms can infect others. A study of a cluster of five infections in a family in Shenzhen identified a child who was infected with the virus but did not show any symptoms3. If such asymptomatic cases are common and these individuals can spread the virus, then containing its spread will be much more difficult, researchers say. Few SARS cases were asymptotic, and this was key to controlling the virus.\n",
    "\n",
    "\n",
    "This scientist hopes to test coronavirus drugs on animals in locked-down Wuhan\n",
    "\n",
    "“Defining the scale of asymptomatic transmission remains key: if this is a rare event then its impact should be minimal in terms of the overall outbreak,” Jonathan Ball, a virologist at the University of Nottingham, UK, said in a statement distributed by the UK Science Media Centre. “But, if this transmission mode is contributing significantly then control becomes increasingly difficult.”\n",
    "\n",
    "One way to determine whether symptom-free people can spread the virus would be to study its spread in individual households in China, says Sheila Bird, a biostatistician at the University of Cambridge, UK. By closely monitoring all the members of a household in which one person is infected, it should be possible to determine who else contracts the virus and how. Such studies would also be helpful for identifying ways of stopping spread in households, Bird adds.\n",
    "\n",
    "Chinese paramilitary officers wearing masks stand guard at an entrance of the closed Hankou Railway Station in Wuhan.\n",
    "Travel in and out of the Chinese city of Wuhan has been suspended.Credit: China Daily via Reuters\n",
    "\n",
    "27 January 12:45 GMT — Scientists speak out from locked-down Wuhan\n",
    "\n",
    "Nature has spoken to several scientists who are in Wuhan, which has been on lockdown since last week in a bid to halt the spread of the coronavirus. “The street is near empty,” says Fei Chen, a materials scientist at the Wuhan University of Technology. Researchers say that they are spending most of their time at home, and some have had to cancel travel to conferences.\n",
    "\n",
    "A scientist who is trying to get into Wuhan — to work with collaborators to test drug compounds that could work against coronaviruses — also described his experiences and motivation to Nature. Rolf Hilgenfeld, who is based at the University of Lübeck in Germany, has been trying to develop coronavirus drugs since the 2002–03 SARS outbreak, and wants to test two compounds on animal models in Wuhan.\n",
    "\n",
    "27 January 03:00 GMT — Death toll rises\n",
    "\n",
    "At least 80 deaths have now been associated with the virus, all in China, and confirmed cases of the infection, mostly in mainland China, have passed 2,700. Cases have also been confirmed in Taiwan — and in Thailand, Australia, Malaysia, Singapore, France, Japan, South Korea, the United States, Vietnam, Canada and Nepal.\n",
    "\n",
    "24 January 20:00 GMT — What you need to know about the virus\n",
    "\n",
    "\n",
    "24 January 16:30 GMT — Second US infection\n",
    "\n",
    "The US Centers for Disease Control and Prevention (CDC) confirmed on 24 January that a second person in the United States had been infected with the new coronavirus. A woman in her sixties returned to her home in Chicago, Illinois, on 13 January after visiting Wuhan, the Chinese city where the outbreak began. She experienced symptoms a few days later. Doctors immediately suspected an infection with the coronavirus on the basis of her travel history. They admitted her to an isolation room and sent blood samples to the CDC’s laboratory. She remains in hospital but, in a press release, the CDC says that she is doing well.\n",
    "\n",
    "The agency warns that there will probably be more US cases of the coronavirus in the coming weeks. But it adds: “The immediate risk of this new virus to the American public is believed to be low at this time.”\n",
    "\n",
    "23 January 20:00 GMT — World Health Organization decides against emergency declaration\n",
    "\n",
    "The WHO has decided not to declare the coronavirus outbreak a global health emergency, it said on 23 January.\n",
    "\n",
    "“At this time there is no evidence of human-to-human transmission outside China,” said WHO director-general Tedros Adhanom Ghebreyesus. “That doesn’t mean it won't happen.”\n",
    "\n",
    "The WHO committee that considered whether to declare a global emergency — the agency’s highest level of alarm — met for two days before issuing its verdict. The panel decided against the declaration in part because the virus’s rate of spread between humans remains unknown. “For now, it appears limited to family groups and health workers caring for infected patients,” Tedros said.\n",
    "\n",
    "Many banded krait Bungarus multicinctus.\n",
    "A team of researchers pointed to the many-banded krait snake as one possible source of the coronavirus that originated in Asia.Credit: Alamy\n",
    "\n",
    "23 January 15:45 GMT — Scientists dismiss claim that snakes spread virus\n",
    "\n",
    "Scientists are trying to identify the animals in which the epidemic probably began. In a controversial study published last night, a team of researchers in China claimed snakes were the culprit.\n",
    "\n",
    "But many scientists are sceptical of this claim and say there is no proof that viruses such as those behind the outbreak can infect species other than mammals and birds. “Nothing supports snakes being involved,” says David Robertson, a virologist at the University of Glasgow, UK.\n",
    "\n",
    "23 January 15:00 GMT — Chinese authorities lock down Huanggang\n",
    "\n",
    "A second city in China — Huanggang — is going into lockdown similar to that in Wuhan. Huanggang has a population of about 7 million people and is around 70 kilometres from Wuhan. Public bus and railway operations will be suspended from midnight, Reuters reports. A third city, nearby Ezhou, has shut its train stations.\n",
    "\n",
    "23 January 04:00 GMT — Chinese government closes off Wuhan\n",
    "\n",
    "Chinese authorities have suspended all travel in and out of Wuhan — the city at the centre of the outbreak, home to more than 11 million people — in an effort to control the worsening outbreak. Since 10 a.m. Chinese local time, planes and trains leaving the city have been suspended, and buses and the city’s subway have also stopped running.\n",
    "\n",
    "The announcement is a considerable escalation in China’s response to the outbreak, but whether it will be effective is unclear, says Ian Mackay, a virologist at the University of Queensland, Brisbane. Although quarantining the city might help to curb the international spread of the virus, it won’t stop it from being transmitted between people in the city. Mackay worries that the authorities might have “just created a large cell-culture dish in which all these people will share the infection and create a lot more cases all stuck in Wuhan”.\n",
    "\n",
    "An Indonesian health quarantine official holds a thermal scanner, Soekarno-Hatta International Airport, Indonesia\n",
    "Authorities are monitoring travellers at several airports to contain the spread of the coronavirus.Credit: Mast Irham/EPA-EFE/Shutterstock\n",
    "\n",
    "Mackay also questions whether the city will be able to feed its citizens and manage the increasing number of people who have become sick with the virus, as well as with seasonal influenza, without the free flow of supplies and aid from outside the city. He says the lockdown could have a psychological effect on people.\n",
    "\n",
    "22 January 20:00 GMT — World Health Organization delays decision on emergency declaration\n",
    "\n",
    "The WHO has postponed a decision on whether to declare the outbreak a “public health emergency of international concern”— a step it reserves for events that pose a risk to multiple countries and that requires a coordinated international response. The move follows a meeting of a committee organized to respond to the outbreak. The same committee will meet again on 23 January.\n",
    "\n",
    "“This is an evolving and complex situation,” WHO director-general Tedros Adhanom Ghebreyesus said in a press conference after the meeting.\n",
    "\n",
    "22 January 16:45 GMT — Five questions researchers have about China virus\n",
    "\n",
    "Scientists around the world are racing to find out more about the coronavirus — including how it spreads and information about its genetic sequences. Researchers have already sequenced several strains of the virus taken from infected people. This information can help to reveal how easily the virus can pass between humans and whether the outbreak has the potential to persist. Researchers in China are also hoping to study whether drugs could be developed to fight the virus.\n",
    "\n",
    "21 January 19:45 GMT — First US case confirmed\n",
    "\n",
    "The United States has confirmed its first case of the new coronavirus, the US Centers for Disease Control and Prevention (CDC) said on 21 January. A 30-year-old man in Washington state has been diagnosed with the illness after a trip to China, making the United States the fifth country to report the disease — and the first outside Asia.\n",
    "\n",
    "The man had been admitted to a hospital in Washington last week with pneumonia, but “is right now, very healthy”, Nancy Messonnier, director of the CDC’s National Center for Immunization and Respiratory Diseases in Atlanta, Georgia, told reporters. He is under observation at the hospital.\n",
    "\n",
    "\n",
    "How quickly does the Wuhan virus spread?\n",
    "\n",
    "The CDC says that the man did not have symptoms on his arrival in Seattle, Washington, but developed a fever on 16 January and sought treatment. A hospital in Washington state collected blood from the man and shipped it to the CDC, which identified the virus in the samples on 20 January. The CDC is now tracking down individuals who had contact with the man.\n",
    "\n",
    "International airports in New York City, Los Angeles and San Francisco, California, have been screening arriving passengers for signs of coronavirus infection since 17 January. All three receive direct flights from Wuhan. The CDC says it will now expand the screening to airports in Atlanta and Chicago, Illinois. All travellers leaving Wuhan for the United States will be routed to one of the five airports that have screening programmes.\n",
    "\n",
    "21 January — Researchers must share sequences\n",
    "\n",
    "In an editorial, Nature says that researchers have a crucial role in publishing and sharing genome sequences. It also calls on China’s health authorities to continue reporting what they know and what more they are uncovering, and on the WHO to lead and coordinate the global response.\n",
    "\n",
    "21 January — Chinese health workers infected\n",
    "\n",
    "Infections have been confirmed in 15 health-care workers in Wuhan; scientists say this suggests that the virus is more adept at human-to-human transmission than was first thought. Previously, Chinese authorities and the WHO had said that there had been some limited cases of human-to-human transmission between family members, but that animals seemed to be the most likely source of the virus.\n",
    "\n",
    "In response to the worsening outbreak, the World Health Organization has called a meeting on 22 January to decide whether to declare a public-health emergency.'''"
   ]
  },
  {
   "cell_type": "code",
   "execution_count": 66,
   "id": "32143c71",
   "metadata": {},
   "outputs": [
    {
     "data": {
      "text/plain": [
       "130118"
      ]
     },
     "execution_count": 66,
     "metadata": {},
     "output_type": "execute_result"
    }
   ],
   "source": [
    "len(paragraph)"
   ]
  },
  {
   "cell_type": "code",
   "execution_count": 67,
   "id": "cb055f35",
   "metadata": {},
   "outputs": [],
   "source": [
    "paragraph = paragraph.translate(str.maketrans('','',string.punctuation))"
   ]
  },
  {
   "cell_type": "code",
   "execution_count": 68,
   "id": "f15755ad",
   "metadata": {},
   "outputs": [],
   "source": [
    "text = re.sub(r'\\[0-9]*\\]',' ',paragraph)"
   ]
  },
  {
   "cell_type": "code",
   "execution_count": 69,
   "id": "29b9f84d",
   "metadata": {},
   "outputs": [],
   "source": [
    "text = re.sub(r'\\s+',' ',text)"
   ]
  },
  {
   "cell_type": "code",
   "execution_count": 70,
   "id": "e523fb25",
   "metadata": {},
   "outputs": [],
   "source": [
    "text = text.lower()"
   ]
  },
  {
   "cell_type": "code",
   "execution_count": 71,
   "id": "a66d47d3",
   "metadata": {},
   "outputs": [],
   "source": [
    "text = re.sub(r'\\d',' ',text)\n",
    "text = re.sub(r'\\s+',' ',text)"
   ]
  },
  {
   "cell_type": "code",
   "execution_count": 72,
   "id": "4b11d357",
   "metadata": {},
   "outputs": [
    {
     "data": {
      "text/plain": [
       "124249"
      ]
     },
     "execution_count": 72,
     "metadata": {},
     "output_type": "execute_result"
    }
   ],
   "source": [
    "len(text)"
   ]
  },
  {
   "cell_type": "code",
   "execution_count": 73,
   "id": "59271ac6",
   "metadata": {},
   "outputs": [
    {
     "name": "stderr",
     "output_type": "stream",
     "text": [
      "[nltk_data] Downloading package punkt to /home/aarav/nltk_data...\n",
      "[nltk_data]   Package punkt is already up-to-date!\n",
      "[nltk_data] Downloading package stopwords to /home/aarav/nltk_data...\n",
      "[nltk_data]   Package stopwords is already up-to-date!\n"
     ]
    },
    {
     "data": {
      "text/plain": [
       "True"
      ]
     },
     "execution_count": 73,
     "metadata": {},
     "output_type": "execute_result"
    }
   ],
   "source": [
    "nltk.download('punkt')\n",
    "nltk.download('stopwords')"
   ]
  },
  {
   "cell_type": "code",
   "execution_count": 74,
   "id": "824c5f75",
   "metadata": {},
   "outputs": [],
   "source": [
    "sentences = nltk.sent_tokenize(text)"
   ]
  },
  {
   "cell_type": "code",
   "execution_count": 75,
   "id": "c891673e",
   "metadata": {},
   "outputs": [],
   "source": [
    "sent_word = [nltk.word_tokenize(sentence) for sentence in sentences]"
   ]
  },
  {
   "cell_type": "code",
   "execution_count": 76,
   "id": "2056d342",
   "metadata": {},
   "outputs": [],
   "source": [
    "punc = string.punctuation"
   ]
  },
  {
   "cell_type": "code",
   "execution_count": 77,
   "id": "2c00fecf",
   "metadata": {},
   "outputs": [],
   "source": [
    "for i in range(len(sent_word)):\n",
    "    sent_word[i] = [word for word in sent_word[i] if word not in stopwords.words('english') if word not in punc]"
   ]
  },
  {
   "cell_type": "code",
   "execution_count": 78,
   "id": "d346938a",
   "metadata": {},
   "outputs": [],
   "source": [
    "model = Word2Vec(sent_word,min_count=1)\n",
    "words = list(model.wv.index_to_key)"
   ]
  },
  {
   "cell_type": "code",
   "execution_count": 79,
   "id": "3f4feb00",
   "metadata": {},
   "outputs": [
    {
     "name": "stdout",
     "output_type": "stream",
     "text": [
      "[-0.00709412  0.02275207  0.01519838 -0.01706464 -0.00325581 -0.04130582\n",
      "  0.00932805  0.04746319 -0.02304791 -0.0225878   0.00235143 -0.03399553\n",
      "  0.0097328   0.01073644  0.01057544 -0.01010023  0.00383319 -0.0268185\n",
      " -0.00067258 -0.04473689  0.00433576  0.00948706  0.02850349 -0.01578408\n",
      " -0.01385628  0.00335044 -0.02060058 -0.0172777  -0.01240903  0.00372158\n",
      "  0.01652988  0.01023279  0.01346666  0.00319466  0.00133127  0.03137975\n",
      "  0.00564271 -0.01823061 -0.01998892 -0.033322    0.00639282 -0.01900544\n",
      " -0.01716395  0.00582909  0.00853077 -0.01911338 -0.01639319 -0.01292156\n",
      "  0.00091941  0.01735427  0.00353044 -0.01967756 -0.0143366   0.00064037\n",
      " -0.01772995  0.01072261  0.01247858 -0.00708432 -0.01217149  0.01067489\n",
      "  0.00087414  0.00846465 -0.00441015  0.00229481 -0.03396989  0.02600104\n",
      " -0.00780267  0.00465358 -0.01817065  0.01749417 -0.00475487  0.01400477\n",
      "  0.01161424  0.00685096  0.02397387  0.01584116  0.00497622 -0.01158231\n",
      " -0.02396462  0.00943623  0.00028741  0.01263065 -0.00255884  0.03283154\n",
      " -0.01505957  0.01009493 -0.00297167  0.02512689  0.03107188  0.01203121\n",
      "  0.03366876  0.00957191 -0.00279399  0.00294385  0.02649426  0.01804021\n",
      "  0.02220279 -0.03276701  0.01010318 -0.00834389]\n"
     ]
    }
   ],
   "source": [
    "vector = model.wv['covid']\n",
    "print(vector)"
   ]
  },
  {
   "cell_type": "code",
   "execution_count": 80,
   "id": "aaabaef7",
   "metadata": {},
   "outputs": [],
   "source": [
    "similar = model.wv.most_similar('coronavirus',topn=5)"
   ]
  },
  {
   "cell_type": "code",
   "execution_count": 81,
   "id": "1364a24c",
   "metadata": {},
   "outputs": [
    {
     "data": {
      "text/plain": [
       "[('people', 0.942591667175293),\n",
       " ('’', 0.941742479801178),\n",
       " ('virus', 0.9413019418716431),\n",
       " ('outbreak', 0.9404323101043701),\n",
       " ('china', 0.9391822814941406)]"
      ]
     },
     "execution_count": 81,
     "metadata": {},
     "output_type": "execute_result"
    }
   ],
   "source": [
    "similar"
   ]
  },
  {
   "cell_type": "code",
   "execution_count": 82,
   "id": "9cfb8245",
   "metadata": {},
   "outputs": [
    {
     "data": {
      "text/plain": [
       "0.759912"
      ]
     },
     "execution_count": 82,
     "metadata": {},
     "output_type": "execute_result"
    }
   ],
   "source": [
    "model.wv.similarity(w1='infection',w2='spread')"
   ]
  },
  {
   "cell_type": "code",
   "execution_count": 83,
   "id": "6a1b731c",
   "metadata": {},
   "outputs": [
    {
     "data": {
      "text/plain": [
       "0.9391824"
      ]
     },
     "execution_count": 83,
     "metadata": {},
     "output_type": "execute_result"
    }
   ],
   "source": [
    "model.wv.similarity(w1='coronavirus',w2='china')"
   ]
  },
  {
   "cell_type": "code",
   "execution_count": 84,
   "id": "cbd13310",
   "metadata": {},
   "outputs": [
    {
     "data": {
      "text/plain": [
       "'infection'"
      ]
     },
     "execution_count": 84,
     "metadata": {},
     "output_type": "execute_result"
    }
   ],
   "source": [
    "# Filter Non similer\n",
    "model.wv.doesnt_match(['infection','spread','china'])"
   ]
  },
  {
   "cell_type": "code",
   "execution_count": 91,
   "id": "094726a3",
   "metadata": {},
   "outputs": [
    {
     "data": {
      "text/plain": [
       "array([-0.00078684,  0.01322473, -0.00384928,  0.00450197, -0.00623301,\n",
       "       -0.01339435,  0.01396393,  0.0244254 , -0.0189499 , -0.00130082,\n",
       "       -0.01180882, -0.02168686,  0.01009115, -0.00021788, -0.00345052,\n",
       "       -0.01353969,  0.00434585, -0.01135513, -0.00748987, -0.02357826,\n",
       "        0.01263006,  0.01644116,  0.02196347, -0.00550427,  0.00017743,\n",
       "        0.00080188, -0.00981637, -0.00297052, -0.00826476,  0.00014379,\n",
       "        0.00802778, -0.00103805,  0.01022393, -0.00835244, -0.00012637,\n",
       "        0.01390619, -0.0018793 , -0.01380237, -0.00456218, -0.02433863,\n",
       "       -0.00352838, -0.01229667, -0.0012169 ,  0.00559752,  0.00650095,\n",
       "        0.00068206, -0.01551967, -0.0104809 , -0.00353677,  0.00333111,\n",
       "        0.01246756, -0.01975845, -0.01226818, -0.01052938, -0.00215802,\n",
       "        0.00362435,  0.01066964, -0.00912185, -0.01300201,  0.00341541,\n",
       "        0.0026398 , -0.00114392, -0.0097783 ,  0.00260528, -0.02256265,\n",
       "        0.01294076, -0.00111778,  0.01490189, -0.01273984,  0.01761929,\n",
       "       -0.01223248, -0.00487987,  0.01359131, -0.00018181,  0.00642731,\n",
       "        0.0009932 ,  0.00827247, -0.01056316, -0.01475364,  0.00268517,\n",
       "       -0.00312878,  0.01181077, -0.0073264 ,  0.00645857, -0.01088474,\n",
       "       -0.00656214, -0.00651114,  0.00566784,  0.00758778,  0.00235637,\n",
       "        0.01418445, -0.00065883,  0.00098918,  0.00206858,  0.0268348 ,\n",
       "        0.00497422,  0.012161  , -0.0079654 , -0.00033746, -0.00803521],\n",
       "      dtype=float32)"
      ]
     },
     "execution_count": 91,
     "metadata": {},
     "output_type": "execute_result"
    }
   ],
   "source": [
    "model.wv['infection']"
   ]
  },
  {
   "cell_type": "code",
   "execution_count": 98,
   "id": "b1888087",
   "metadata": {},
   "outputs": [
    {
     "data": {
      "text/plain": [
       "'spread'"
      ]
     },
     "execution_count": 98,
     "metadata": {},
     "output_type": "execute_result"
    }
   ],
   "source": [
    "model.wv.doesnt_match(['covid','spread','china'])"
   ]
  },
  {
   "cell_type": "code",
   "execution_count": 101,
   "id": "1cf10a70",
   "metadata": {},
   "outputs": [],
   "source": [
    "from sklearn.manifold import TSNE\n",
    "vocab = ['infection','coronavirus','china','spread','human','vaccine','cases']\n",
    "def tsne_plot(model):\n",
    "    labels = []\n",
    "    wordvecs = []\n",
    "    \n",
    "    for word in vocab:\n",
    "        wordvecs.append(model.wv[word])\n",
    "        labels.append(word)\n",
    "        \n",
    "    tsne_model = TSNE(perplexity=3,n_components=2,init='pca',random_state=42)\n",
    "    coordinates = tsne_model.fit_transform(wordvecs)\n",
    "    \n",
    "    \n",
    "    x = []\n",
    "    y = []\n",
    "    \n",
    "    for value in coordinates:\n",
    "        x.append(value[0])\n",
    "        y.append(value[1])\n",
    "        \n",
    "        \n",
    "    plt.figure(figsize=(10,6))\n",
    "    \n",
    "    for i in range(len(x)):\n",
    "        plt.scatter(x[i],y[i])\n",
    "        plt.annotate(labels[i],\n",
    "                     xy = (x[i],y[i]),\n",
    "                     xytext=(2,2),\n",
    "                     textcoords='offset points',ha='right'\n",
    "                    )\n",
    "        \n",
    "    plt.show()\n",
    "        "
   ]
  },
  {
   "cell_type": "code",
   "execution_count": 102,
   "id": "d8ce24c4",
   "metadata": {},
   "outputs": [
    {
     "data": {
      "image/png": "[encoded data removed]",
      "text/plain": [
       "<Figure size 720x432 with 1 Axes>"
      ]
     },
     "metadata": {
      "needs_background": "light"
     },
     "output_type": "display_data"
    }
   ],
   "source": [
    "tsne_plot(model)\n",
    "plt.show()"
   ]
  },
  {
   "cell_type": "markdown",
   "id": "300ed2af",
   "metadata": {},
   "source": [
    "# Gensim"
   ]
  },
  {
   "cell_type": "code",
   "execution_count": 103,
   "id": "5a9d17d2",
   "metadata": {},
   "outputs": [],
   "source": [
    "document = 'Human machine interface for lab abc computer applicaton'"
   ]
  },
  {
   "cell_type": "code",
   "execution_count": 104,
   "id": "ba3a1e6c",
   "metadata": {},
   "outputs": [],
   "source": [
    "text_corpus = [\n",
    "    'Human machine interface for lab abc computer applicaton',\n",
    "    'A survey of user opinion of computer system response time',\n",
    "    'The EPS user interface management system',\n",
    "    'System and human system engineering testing of EPS',\n",
    "    'Relation of user perceived response time to error mesurement',\n",
    "    'The genration of random binary unordered tree'\n",
    "    'The intersection graph of paths in tree',\n",
    "    'Graph minior IV Width of trees and well quasi ordering'\n",
    "    'Graph minor A survey'\n",
    "]"
   ]
  },
  {
   "cell_type": "code",
   "execution_count": 105,
   "id": "3a1ca813",
   "metadata": {},
   "outputs": [],
   "source": [
    "import pprint"
   ]
  },
  {
   "cell_type": "code",
   "execution_count": 114,
   "id": "be124dae",
   "metadata": {},
   "outputs": [
    {
     "name": "stdout",
     "output_type": "stream",
     "text": [
      "[['human', 'interface', 'computer'],\n",
      " ['survey', 'user', 'computer', 'system', 'response', 'time'],\n",
      " ['eps', 'user', 'interface', 'system'],\n",
      " ['system', 'human', 'system', 'eps'],\n",
      " ['user', 'response', 'time'],\n",
      " ['graph'],\n",
      " ['graph', 'survey']]\n"
     ]
    }
   ],
   "source": [
    "stoplist = set('for a of the and to in'.split(' '))\n",
    "\n",
    "texts = [[word for word in document.lower().split() if word not in stoplist] for document in text_corpus]\n",
    "\n",
    "from collections import defaultdict\n",
    "\n",
    "frequency = defaultdict(int)\n",
    "\n",
    "for text in texts:\n",
    "    for token in text:\n",
    "        frequency[token] += 1\n",
    "        \n",
    "processed_corpus = [[token for token in text if frequency[token] > 1] for text in texts ]\n",
    "\n",
    "pprint.pprint(processed_corpus)"
   ]
  },
  {
   "cell_type": "code",
   "execution_count": 115,
   "id": "e8aeeb98",
   "metadata": {},
   "outputs": [
    {
     "name": "stdout",
     "output_type": "stream",
     "text": [
      "Dictionary(10 unique tokens: ['computer', 'human', 'interface', 'response', 'survey']...)\n"
     ]
    }
   ],
   "source": [
    "from gensim import corpora\n",
    "dictionary = corpora.Dictionary(processed_corpus)\n",
    "print(dictionary)"
   ]
  },
  {
   "cell_type": "code",
   "execution_count": 116,
   "id": "eac66f9b",
   "metadata": {},
   "outputs": [
    {
     "name": "stdout",
     "output_type": "stream",
     "text": [
      "{'computer': 0,\n",
      " 'eps': 8,\n",
      " 'graph': 9,\n",
      " 'human': 1,\n",
      " 'interface': 2,\n",
      " 'response': 3,\n",
      " 'survey': 4,\n",
      " 'system': 5,\n",
      " 'time': 6,\n",
      " 'user': 7}\n"
     ]
    }
   ],
   "source": [
    "# Vector represtatiton \n",
    "pprint.pprint(dictionary.token2id)"
   ]
  },
  {
   "cell_type": "code",
   "execution_count": 118,
   "id": "c17746f7",
   "metadata": {},
   "outputs": [
    {
     "name": "stdout",
     "output_type": "stream",
     "text": [
      "[(0, 2), (1, 1)]\n"
     ]
    }
   ],
   "source": [
    "new_doc = 'Human computer interaction computer'\n",
    "new_vec = dictionary.doc2bow(new_doc.lower().split())\n",
    "print(new_vec)"
   ]
  },
  {
   "cell_type": "code",
   "execution_count": 119,
   "id": "c83536f7",
   "metadata": {},
   "outputs": [
    {
     "name": "stdout",
     "output_type": "stream",
     "text": [
      "[[(0, 1), (1, 1), (2, 1)],\n",
      " [(0, 1), (3, 1), (4, 1), (5, 1), (6, 1), (7, 1)],\n",
      " [(2, 1), (5, 1), (7, 1), (8, 1)],\n",
      " [(1, 1), (5, 2), (8, 1)],\n",
      " [(3, 1), (6, 1), (7, 1)],\n",
      " [(9, 1)],\n",
      " [(4, 1), (9, 1)]]\n"
     ]
    }
   ],
   "source": [
    "bow_corpus = [dictionary.doc2bow(text) for text in processed_corpus]\n",
    "pprint.pprint(bow_corpus)"
   ]
  },
  {
   "cell_type": "code",
   "execution_count": 120,
   "id": "89725e06",
   "metadata": {},
   "outputs": [
    {
     "name": "stdout",
     "output_type": "stream",
     "text": [
      "[(5, 1.0)]\n"
     ]
    }
   ],
   "source": [
    "from gensim import models\n",
    "\n",
    "tfidf = models.TfidfModel(bow_corpus)\n",
    "\n",
    "words = 'system minors'.lower().split()\n",
    "\n",
    "print(tfidf[dictionary.doc2bow(words)])"
   ]
  },
  {
   "cell_type": "code",
   "execution_count": 124,
   "id": "3e41a8dc",
   "metadata": {},
   "outputs": [],
   "source": [
    "import gensim\n",
    "from gensim import corpora\n",
    "from pprint import pprint\n",
    "from gensim.utils import simple_preprocess\n",
    "import os"
   ]
  },
  {
   "cell_type": "code",
   "execution_count": 125,
   "id": "c110ca80",
   "metadata": {},
   "outputs": [
    {
     "name": "stdout",
     "output_type": "stream",
     "text": [
      "--2021-11-28 13:21:01--  https://raw.githubusercontent.com/itsfoss/text-files/master/agatha_complete.txt\n",
      "Resolving raw.githubusercontent.com (raw.githubusercontent.com)... 185.199.108.133, 185.199.109.133, 185.199.110.133, ...\n",
      "Connecting to raw.githubusercontent.com (raw.githubusercontent.com)|185.199.108.133|:443... connected.\n",
      "HTTP request sent, awaiting response... 200 OK\n",
      "Length: 3543 (3.5K) [text/plain]\n",
      "Saving to: ‘agatha_complete.txt’\n",
      "\n",
      "agatha_complete.txt 100%[===================>]   3.46K  --.-KB/s    in 0.007s  \n",
      "\n",
      "2021-11-28 13:21:01 (488 KB/s) - ‘agatha_complete.txt’ saved [3543/3543]\n",
      "\n"
     ]
    }
   ],
   "source": [
    "!wget 'https://raw.githubusercontent.com/itsfoss/text-files/master/agatha_complete.txt'"
   ]
  },
  {
   "cell_type": "code",
   "execution_count": null,
   "id": "59173c4b",
   "metadata": {},
   "outputs": [],
   "source": []
  },
  {
   "cell_type": "code",
   "execution_count": 126,
   "id": "d79fbc5e",
   "metadata": {},
   "outputs": [
    {
     "name": "stdout",
     "output_type": "stream",
     "text": [
      "{'abc': 0, 'murders': 1, 'the': 2, 'adventure': 3, 'christmas': 4, 'of': 5, 'pudding': 6, 'after': 7, 'also': 8, 'are': 9, 'as': 10, 'fatal': 11, 'funeral': 12, 'funerals': 13, 'known': 14, 'and': 15, 'indians': 16, 'little': 17, 'niggers': 18, 'none': 19, 'ten': 20, 'then': 21, 'there': 22, 'were': 23, 'appointment': 24, 'death': 25, 'with': 26, 'at': 27, 'bertram': 28, 'hotel': 29, 'big': 30, 'four': 31, 'body': 32, 'in': 33, 'library': 34, 'by': 35, 'my': 36, 'pricking': 37, 'thumbs': 38, 'cards': 39, 'on': 40, 'table': 41, 'caribbean': 42, 'mystery': 43, 'among': 44, 'cat': 45, 'pigeons': 46, 'clocks': 47, 'crooked': 48, 'house': 49, 'case': 50, 'curtain': 51, 'last': 52, 'poirot': 53, 'dead': 54, 'folly': 55, 'man': 56, 'comes': 57, 'end': 58, 'air': 59, 'clouds': 60, 'nile': 61, 'destination': 62, 'many': 63, 'so': 64, 'steps': 65, 'to': 66, 'unknown': 67, 'double': 68, 'other': 69, 'sin': 70, 'stories': 71, 'client': 72, 'dumb': 73, 'loses': 74, 'witness': 75, 'can': 76, 'elephants': 77, 'remember': 78, 'endless': 79, 'night': 80, 'evil': 81, 'sun': 82, 'under': 83, 'five': 84, 'murder': 85, 'pigs': 86, 'retrospect': 87, 'from': 88, 'mcgillicuty': 89, 'mrs': 90, 'paddington': 91, 'saw': 92, 'what': 93, 'ball': 94, 'golden': 95, 'halloween': 96, 'party': 97, 'for': 98, 'hercules': 99, 'holiday': 100, 'dickory': 101, 'hickory': 102, 'hollow': 103, 'hours': 104, 'hound': 105, 'labours': 106, 'listerdale': 107, 'morterblumen': 108, 'dies': 109, 'dinner': 110, 'edgware': 111, 'lord': 112, 'thirteen': 113, 'brown': 114, 'mill': 115, 'suit': 116, 'crack': 117, 'mirror': 118, 'side': 119, 'cases': 120, 'final': 121, 'marple': 122, 'miss': 123, 'blind': 124, 'mice': 125, 'mousetrap': 126, 'finger': 127, 'moving': 128, 'mcginty': 129, 'vicarage': 130, 'mesopotamia': 131, 'mews': 132, 'announced': 133, 'is': 134, 'easy': 135, 'kill': 136, 'ackroyd': 137, 'roger': 138, 'links': 139, 'calais': 140, 'coach': 141, 'express': 142, 'orient': 143, 'affair': 144, 'mysterious': 145, 'styles': 146, 'mr': 147, 'quin': 148, 'blue': 149, 'train': 150, 'nemesis': 151, 'or': 152, 'buckle': 153, 'one': 154, 'patriotic': 155, 'shoe': 156, 'two': 157, 'innocence': 158, 'ordeal': 159, 'horse': 160, 'pale': 161, 'detective': 162, 'investigates': 163, 'parker': 164, 'pyne': 165, 'crime': 166, 'partners': 167, 'frankfurt': 168, 'passenger': 169, 'peril': 170, 'full': 171, 'pocket': 172, 'rye': 173, 'early': 174, 'fate': 175, 'postern': 176, 'bay': 177, 'pollensa': 178, 'problem': 179, 'regatta': 180, 'cypress': 181, 'sad': 182, 'adversary': 183, 'secret': 184, 'chimneys': 185, 'dials': 186, 'seven': 187, 'hazelmoor': 188, 'sittaford': 189, 'sleeping': 190, 'cyanide': 191, 'remembered': 192, 'sparkling': 193, 'flood': 194, 'taken': 195, 'tide': 196, 'baghdad': 197, 'came': 198, 'they': 199, 'do': 200, 'it': 201, 'mirrors': 202, 'girl': 203, 'third': 204, 'club': 205, 'problems': 206, 'tuesday': 207, 'act': 208, 'acts': 209, 'three': 210, 'tragedy': 211, 'towards': 212, 'zero': 213, 'underdog': 214, 'prosecution': 215, 'ask': 216, 'boomerang': 217, 'clue': 218, 'didn': 219, 'evans': 220, 'why': 221}\n"
     ]
    }
   ],
   "source": [
    "dict_STF = corpora.Dictionary(simple_preprocess(line) for line in open(r'agatha_complete.txt'))\n",
    "print(dict_STF.token2id)"
   ]
  },
  {
   "cell_type": "code",
   "execution_count": null,
   "id": "9065c2b5",
   "metadata": {},
   "outputs": [],
   "source": []
  },
  {
   "cell_type": "code",
   "execution_count": null,
   "id": "22a7dcc3",
   "metadata": {},
   "outputs": [],
   "source": []
  }
 ],
 "metadata": {
  "kernelspec": {
   "display_name": "Python 3",
   "language": "python",
   "name": "python3"
  },
  "language_info": {
   "codemirror_mode": {
    "name": "ipython",
    "version": 3
   },
   "file_extension": ".py",
   "mimetype": "text/x-python",
   "name": "python",
   "nbconvert_exporter": "python",
   "pygments_lexer": "ipython3",
   "version": "3.8.8"
  }
 },
 "nbformat": 4,
 "nbformat_minor": 5
}
