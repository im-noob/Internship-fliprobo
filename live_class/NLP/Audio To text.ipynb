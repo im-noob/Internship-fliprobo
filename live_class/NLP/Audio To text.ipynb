{
 "cells": [
  {
   "cell_type": "code",
   "execution_count": 6,
   "id": "bcfa0a88",
   "metadata": {},
   "outputs": [
    {
     "name": "stdout",
     "output_type": "stream",
     "text": [
      "Requirement already satisfied: SpeechRecognition in /home/aarav/anaconda3/lib/python3.8/site-packages (3.8.1)\n",
      "Collecting textblob\n",
      "  Downloading textblob-0.17.1-py2.py3-none-any.whl (636 kB)\n",
      "\u001b[K     |████████████████████████████████| 636 kB 419 kB/s eta 0:00:01\n",
      "\u001b[?25hRequirement already satisfied: nltk>=3.1 in /home/aarav/anaconda3/lib/python3.8/site-packages (from textblob) (3.6.1)\n",
      "Requirement already satisfied: click in /home/aarav/anaconda3/lib/python3.8/site-packages (from nltk>=3.1->textblob) (7.1.2)\n",
      "Requirement already satisfied: tqdm in /home/aarav/anaconda3/lib/python3.8/site-packages (from nltk>=3.1->textblob) (4.59.0)\n",
      "Requirement already satisfied: regex in /home/aarav/anaconda3/lib/python3.8/site-packages (from nltk>=3.1->textblob) (2021.4.4)\n",
      "Requirement already satisfied: joblib in /home/aarav/anaconda3/lib/python3.8/site-packages (from nltk>=3.1->textblob) (1.0.1)\n",
      "Installing collected packages: textblob\n",
      "Successfully installed textblob-0.17.1\n"
     ]
    }
   ],
   "source": [
    "!pip install SpeechRecognition\n",
    "!pip install textblob"
   ]
  },
  {
   "cell_type": "code",
   "execution_count": 7,
   "id": "304840e4",
   "metadata": {},
   "outputs": [],
   "source": [
    "import speech_recognition as sr\n",
    "from textblob import TextBlob"
   ]
  },
  {
   "cell_type": "code",
   "execution_count": 8,
   "id": "e86145ff",
   "metadata": {},
   "outputs": [
    {
     "name": "stdout",
     "output_type": "stream",
     "text": [
      "Converting audio transcription into text...\n",
      "\n",
      "Your audio text is = \n",
      " thank you for choosing the Olympus dictation management system the Olympus dictation management system gives you the power to manage your dictations transcriptions and document seamlessly and to improve the productivity of your daily work for example you can automatically send to dictation files or transcribed document your assistant officer by email\n",
      "\n",
      " Native Language text = \n",
      "  ओलंपस श्रुतलेख प्रबंधन प्रणाली को चुनने के लिए धन्यवाद, ओलिंप श्रुतलेख प्रबंधन प्रणाली आपको अपने श्रुतलेखों के प्रतिलेखन और दस्तावेज़ को निर्बाध रूप से प्रबंधित करने और अपने दैनिक कार्य की उत्पादकता में सुधार करने की शक्ति देती है, उदाहरण के लिए आप स्वचालित रूप से श्रुतलेख फ़ाइलों या लिखित दस्तावेज़ को अपने सहायक अधिकारी को भेज सकते हैं। ईमेल द्वारा\n"
     ]
    }
   ],
   "source": [
    "r = sr.Recognizer()\n",
    "\n",
    "\n",
    "with sr.AudioFile('Welcome.wav') as source:\n",
    "    audio_text = r.listen(source,timeout=2)\n",
    "    \n",
    "    try:\n",
    "        \n",
    "        text = r.recognize_google(audio_text)\n",
    "        \n",
    "        print('Converting audio transcription into text...\\n')\n",
    "        print('Your audio text is = \\n',text)\n",
    "        \n",
    "        blob = TextBlob(text)\n",
    "        your_lang = blob.translate(to='hi')\n",
    "        print('\\n Native Language text = \\n ', your_lang)\n",
    "        \n",
    "    except:\n",
    "        print('Something went wrong')"
   ]
  },
  {
   "cell_type": "code",
   "execution_count": null,
   "id": "19278ad3",
   "metadata": {},
   "outputs": [],
   "source": []
  }
 ],
 "metadata": {
  "kernelspec": {
   "display_name": "Python 3",
   "language": "python",
   "name": "python3"
  },
  "language_info": {
   "codemirror_mode": {
    "name": "ipython",
    "version": 3
   },
   "file_extension": ".py",
   "mimetype": "text/x-python",
   "name": "python",
   "nbconvert_exporter": "python",
   "pygments_lexer": "ipython3",
   "version": "3.8.8"
  }
 },
 "nbformat": 4,
 "nbformat_minor": 5
}
