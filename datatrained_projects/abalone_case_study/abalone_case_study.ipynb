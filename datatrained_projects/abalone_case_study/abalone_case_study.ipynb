{
 "cells": [
  {
   "cell_type": "code",
   "execution_count": 1,
   "id": "e37e6ce5",
   "metadata": {},
   "outputs": [],
   "source": [
    "import pandas as pd\n",
    "import seaborn as sns\n",
    "import pickle\n",
    "import matplotlib.pyplot as plt\n",
    "import numpy as np\n",
    "\n",
    "from sklearn import metrics\n",
    "from scipy import stats\n",
    "from statsmodels.stats.outliers_influence import variance_inflation_factor\n",
    "\n",
    "from sklearn.preprocessing import LabelEncoder\n",
    "from sklearn.preprocessing import PowerTransformer\n",
    "from sklearn.linear_model import LogisticRegression\n",
    "from sklearn.model_selection import train_test_split\n",
    "from sklearn.metrics import confusion_matrix\n",
    "\n",
    "from sklearn.tree import DecisionTreeClassifier\n",
    "from sklearn.model_selection import KFold\n",
    "from sklearn.model_selection import cross_val_score\n",
    "from sklearn.model_selection import GridSearchCV\n",
    "\n",
    "from imblearn.over_sampling import SMOTE\n",
    "\n",
    "from sklearn.svm import SVC\n",
    "from sklearn.neighbors import KNeighborsClassifier\n",
    "\n",
    "import warnings\n",
    "warnings.simplefilter(action='ignore', category=FutureWarning)"
   ]
  },
  {
   "cell_type": "code",
   "execution_count": 2,
   "id": "f987d91f",
   "metadata": {},
   "outputs": [
    {
     "data": {
      "text/html": [
       "<div>\n",
       "<style scoped>\n",
       "    .dataframe tbody tr th:only-of-type {\n",
       "        vertical-align: middle;\n",
       "    }\n",
       "\n",
       "    .dataframe tbody tr th {\n",
       "        vertical-align: top;\n",
       "    }\n",
       "\n",
       "    .dataframe thead th {\n",
       "        text-align: right;\n",
       "    }\n",
       "</style>\n",
       "<table border=\"1\" class=\"dataframe\">\n",
       "  <thead>\n",
       "    <tr style=\"text-align: right;\">\n",
       "      <th></th>\n",
       "      <th>Sex</th>\n",
       "      <th>Length</th>\n",
       "      <th>Diameter</th>\n",
       "      <th>Height</th>\n",
       "      <th>Whole weight</th>\n",
       "      <th>Shucked weight</th>\n",
       "      <th>Viscera weight</th>\n",
       "      <th>Shell weight</th>\n",
       "      <th>Rings</th>\n",
       "    </tr>\n",
       "  </thead>\n",
       "  <tbody>\n",
       "    <tr>\n",
       "      <th>0</th>\n",
       "      <td>M</td>\n",
       "      <td>0.455</td>\n",
       "      <td>0.365</td>\n",
       "      <td>0.095</td>\n",
       "      <td>0.5140</td>\n",
       "      <td>0.2245</td>\n",
       "      <td>0.1010</td>\n",
       "      <td>0.1500</td>\n",
       "      <td>15</td>\n",
       "    </tr>\n",
       "    <tr>\n",
       "      <th>1</th>\n",
       "      <td>M</td>\n",
       "      <td>0.350</td>\n",
       "      <td>0.265</td>\n",
       "      <td>0.090</td>\n",
       "      <td>0.2255</td>\n",
       "      <td>0.0995</td>\n",
       "      <td>0.0485</td>\n",
       "      <td>0.0700</td>\n",
       "      <td>7</td>\n",
       "    </tr>\n",
       "    <tr>\n",
       "      <th>2</th>\n",
       "      <td>F</td>\n",
       "      <td>0.530</td>\n",
       "      <td>0.420</td>\n",
       "      <td>0.135</td>\n",
       "      <td>0.6770</td>\n",
       "      <td>0.2565</td>\n",
       "      <td>0.1415</td>\n",
       "      <td>0.2100</td>\n",
       "      <td>9</td>\n",
       "    </tr>\n",
       "    <tr>\n",
       "      <th>3</th>\n",
       "      <td>M</td>\n",
       "      <td>0.440</td>\n",
       "      <td>0.365</td>\n",
       "      <td>0.125</td>\n",
       "      <td>0.5160</td>\n",
       "      <td>0.2155</td>\n",
       "      <td>0.1140</td>\n",
       "      <td>0.1550</td>\n",
       "      <td>10</td>\n",
       "    </tr>\n",
       "    <tr>\n",
       "      <th>4</th>\n",
       "      <td>I</td>\n",
       "      <td>0.330</td>\n",
       "      <td>0.255</td>\n",
       "      <td>0.080</td>\n",
       "      <td>0.2050</td>\n",
       "      <td>0.0895</td>\n",
       "      <td>0.0395</td>\n",
       "      <td>0.0550</td>\n",
       "      <td>7</td>\n",
       "    </tr>\n",
       "    <tr>\n",
       "      <th>...</th>\n",
       "      <td>...</td>\n",
       "      <td>...</td>\n",
       "      <td>...</td>\n",
       "      <td>...</td>\n",
       "      <td>...</td>\n",
       "      <td>...</td>\n",
       "      <td>...</td>\n",
       "      <td>...</td>\n",
       "      <td>...</td>\n",
       "    </tr>\n",
       "    <tr>\n",
       "      <th>4172</th>\n",
       "      <td>F</td>\n",
       "      <td>0.565</td>\n",
       "      <td>0.450</td>\n",
       "      <td>0.165</td>\n",
       "      <td>0.8870</td>\n",
       "      <td>0.3700</td>\n",
       "      <td>0.2390</td>\n",
       "      <td>0.2490</td>\n",
       "      <td>11</td>\n",
       "    </tr>\n",
       "    <tr>\n",
       "      <th>4173</th>\n",
       "      <td>M</td>\n",
       "      <td>0.590</td>\n",
       "      <td>0.440</td>\n",
       "      <td>0.135</td>\n",
       "      <td>0.9660</td>\n",
       "      <td>0.4390</td>\n",
       "      <td>0.2145</td>\n",
       "      <td>0.2605</td>\n",
       "      <td>10</td>\n",
       "    </tr>\n",
       "    <tr>\n",
       "      <th>4174</th>\n",
       "      <td>M</td>\n",
       "      <td>0.600</td>\n",
       "      <td>0.475</td>\n",
       "      <td>0.205</td>\n",
       "      <td>1.1760</td>\n",
       "      <td>0.5255</td>\n",
       "      <td>0.2875</td>\n",
       "      <td>0.3080</td>\n",
       "      <td>9</td>\n",
       "    </tr>\n",
       "    <tr>\n",
       "      <th>4175</th>\n",
       "      <td>F</td>\n",
       "      <td>0.625</td>\n",
       "      <td>0.485</td>\n",
       "      <td>0.150</td>\n",
       "      <td>1.0945</td>\n",
       "      <td>0.5310</td>\n",
       "      <td>0.2610</td>\n",
       "      <td>0.2960</td>\n",
       "      <td>10</td>\n",
       "    </tr>\n",
       "    <tr>\n",
       "      <th>4176</th>\n",
       "      <td>M</td>\n",
       "      <td>0.710</td>\n",
       "      <td>0.555</td>\n",
       "      <td>0.195</td>\n",
       "      <td>1.9485</td>\n",
       "      <td>0.9455</td>\n",
       "      <td>0.3765</td>\n",
       "      <td>0.4950</td>\n",
       "      <td>12</td>\n",
       "    </tr>\n",
       "  </tbody>\n",
       "</table>\n",
       "<p>4177 rows × 9 columns</p>\n",
       "</div>"
      ],
      "text/plain": [
       "     Sex  Length  Diameter  Height  Whole weight  Shucked weight  \\\n",
       "0      M   0.455     0.365   0.095        0.5140          0.2245   \n",
       "1      M   0.350     0.265   0.090        0.2255          0.0995   \n",
       "2      F   0.530     0.420   0.135        0.6770          0.2565   \n",
       "3      M   0.440     0.365   0.125        0.5160          0.2155   \n",
       "4      I   0.330     0.255   0.080        0.2050          0.0895   \n",
       "...   ..     ...       ...     ...           ...             ...   \n",
       "4172   F   0.565     0.450   0.165        0.8870          0.3700   \n",
       "4173   M   0.590     0.440   0.135        0.9660          0.4390   \n",
       "4174   M   0.600     0.475   0.205        1.1760          0.5255   \n",
       "4175   F   0.625     0.485   0.150        1.0945          0.5310   \n",
       "4176   M   0.710     0.555   0.195        1.9485          0.9455   \n",
       "\n",
       "      Viscera weight  Shell weight  Rings  \n",
       "0             0.1010        0.1500     15  \n",
       "1             0.0485        0.0700      7  \n",
       "2             0.1415        0.2100      9  \n",
       "3             0.1140        0.1550     10  \n",
       "4             0.0395        0.0550      7  \n",
       "...              ...           ...    ...  \n",
       "4172          0.2390        0.2490     11  \n",
       "4173          0.2145        0.2605     10  \n",
       "4174          0.2875        0.3080      9  \n",
       "4175          0.2610        0.2960     10  \n",
       "4176          0.3765        0.4950     12  \n",
       "\n",
       "[4177 rows x 9 columns]"
      ]
     },
     "execution_count": 2,
     "metadata": {},
     "output_type": "execute_result"
    }
   ],
   "source": [
    "df = pd.read_csv('https://raw.githubusercontent.com/dsrscientist/dataset1/master/abalone.csv')\n",
    "df"
   ]
  },
  {
   "cell_type": "markdown",
   "id": "17d01e64",
   "metadata": {},
   "source": [
    "# EDA"
   ]
  },
  {
   "cell_type": "code",
   "execution_count": 3,
   "id": "771e30b0",
   "metadata": {},
   "outputs": [
    {
     "data": {
      "text/plain": [
       "(4177, 9)"
      ]
     },
     "execution_count": 3,
     "metadata": {},
     "output_type": "execute_result"
    }
   ],
   "source": [
    "df.shape"
   ]
  },
  {
   "cell_type": "code",
   "execution_count": 4,
   "id": "83accb4c",
   "metadata": {},
   "outputs": [
    {
     "data": {
      "text/plain": [
       "Sex               0\n",
       "Length            0\n",
       "Diameter          0\n",
       "Height            0\n",
       "Whole weight      0\n",
       "Shucked weight    0\n",
       "Viscera weight    0\n",
       "Shell weight      0\n",
       "Rings             0\n",
       "dtype: int64"
      ]
     },
     "execution_count": 4,
     "metadata": {},
     "output_type": "execute_result"
    }
   ],
   "source": [
    "df.isna().sum()"
   ]
  },
  {
   "cell_type": "code",
   "execution_count": 5,
   "id": "09bf081e",
   "metadata": {},
   "outputs": [
    {
     "data": {
      "text/plain": [
       "Sex                object\n",
       "Length            float64\n",
       "Diameter          float64\n",
       "Height            float64\n",
       "Whole weight      float64\n",
       "Shucked weight    float64\n",
       "Viscera weight    float64\n",
       "Shell weight      float64\n",
       "Rings               int64\n",
       "dtype: object"
      ]
     },
     "execution_count": 5,
     "metadata": {},
     "output_type": "execute_result"
    }
   ],
   "source": [
    "df.dtypes"
   ]
  },
  {
   "cell_type": "code",
   "execution_count": 6,
   "id": "d3776b42",
   "metadata": {},
   "outputs": [
    {
     "data": {
      "text/html": [
       "<div>\n",
       "<style scoped>\n",
       "    .dataframe tbody tr th:only-of-type {\n",
       "        vertical-align: middle;\n",
       "    }\n",
       "\n",
       "    .dataframe tbody tr th {\n",
       "        vertical-align: top;\n",
       "    }\n",
       "\n",
       "    .dataframe thead th {\n",
       "        text-align: right;\n",
       "    }\n",
       "</style>\n",
       "<table border=\"1\" class=\"dataframe\">\n",
       "  <thead>\n",
       "    <tr style=\"text-align: right;\">\n",
       "      <th></th>\n",
       "      <th>Sex</th>\n",
       "      <th>Length</th>\n",
       "      <th>Diameter</th>\n",
       "      <th>Height</th>\n",
       "      <th>Whole weight</th>\n",
       "      <th>Shucked weight</th>\n",
       "      <th>Viscera weight</th>\n",
       "      <th>Shell weight</th>\n",
       "      <th>Rings</th>\n",
       "    </tr>\n",
       "  </thead>\n",
       "  <tbody>\n",
       "    <tr>\n",
       "      <th>0</th>\n",
       "      <td>2</td>\n",
       "      <td>66</td>\n",
       "      <td>56</td>\n",
       "      <td>18</td>\n",
       "      <td>715</td>\n",
       "      <td>417</td>\n",
       "      <td>199</td>\n",
       "      <td>263</td>\n",
       "      <td>14</td>\n",
       "    </tr>\n",
       "    <tr>\n",
       "      <th>1</th>\n",
       "      <td>2</td>\n",
       "      <td>45</td>\n",
       "      <td>36</td>\n",
       "      <td>17</td>\n",
       "      <td>285</td>\n",
       "      <td>178</td>\n",
       "      <td>94</td>\n",
       "      <td>113</td>\n",
       "      <td>6</td>\n",
       "    </tr>\n",
       "    <tr>\n",
       "      <th>2</th>\n",
       "      <td>0</td>\n",
       "      <td>81</td>\n",
       "      <td>67</td>\n",
       "      <td>26</td>\n",
       "      <td>962</td>\n",
       "      <td>480</td>\n",
       "      <td>280</td>\n",
       "      <td>374</td>\n",
       "      <td>8</td>\n",
       "    </tr>\n",
       "    <tr>\n",
       "      <th>3</th>\n",
       "      <td>2</td>\n",
       "      <td>63</td>\n",
       "      <td>56</td>\n",
       "      <td>24</td>\n",
       "      <td>718</td>\n",
       "      <td>400</td>\n",
       "      <td>225</td>\n",
       "      <td>273</td>\n",
       "      <td>9</td>\n",
       "    </tr>\n",
       "    <tr>\n",
       "      <th>4</th>\n",
       "      <td>1</td>\n",
       "      <td>41</td>\n",
       "      <td>34</td>\n",
       "      <td>15</td>\n",
       "      <td>253</td>\n",
       "      <td>159</td>\n",
       "      <td>76</td>\n",
       "      <td>87</td>\n",
       "      <td>6</td>\n",
       "    </tr>\n",
       "    <tr>\n",
       "      <th>...</th>\n",
       "      <td>...</td>\n",
       "      <td>...</td>\n",
       "      <td>...</td>\n",
       "      <td>...</td>\n",
       "      <td>...</td>\n",
       "      <td>...</td>\n",
       "      <td>...</td>\n",
       "      <td>...</td>\n",
       "      <td>...</td>\n",
       "    </tr>\n",
       "    <tr>\n",
       "      <th>4172</th>\n",
       "      <td>0</td>\n",
       "      <td>88</td>\n",
       "      <td>73</td>\n",
       "      <td>32</td>\n",
       "      <td>1289</td>\n",
       "      <td>698</td>\n",
       "      <td>475</td>\n",
       "      <td>442</td>\n",
       "      <td>10</td>\n",
       "    </tr>\n",
       "    <tr>\n",
       "      <th>4173</th>\n",
       "      <td>2</td>\n",
       "      <td>93</td>\n",
       "      <td>71</td>\n",
       "      <td>26</td>\n",
       "      <td>1411</td>\n",
       "      <td>832</td>\n",
       "      <td>426</td>\n",
       "      <td>463</td>\n",
       "      <td>9</td>\n",
       "    </tr>\n",
       "    <tr>\n",
       "      <th>4174</th>\n",
       "      <td>2</td>\n",
       "      <td>95</td>\n",
       "      <td>78</td>\n",
       "      <td>40</td>\n",
       "      <td>1727</td>\n",
       "      <td>994</td>\n",
       "      <td>571</td>\n",
       "      <td>550</td>\n",
       "      <td>8</td>\n",
       "    </tr>\n",
       "    <tr>\n",
       "      <th>4175</th>\n",
       "      <td>0</td>\n",
       "      <td>100</td>\n",
       "      <td>80</td>\n",
       "      <td>29</td>\n",
       "      <td>1610</td>\n",
       "      <td>1005</td>\n",
       "      <td>518</td>\n",
       "      <td>530</td>\n",
       "      <td>9</td>\n",
       "    </tr>\n",
       "    <tr>\n",
       "      <th>4176</th>\n",
       "      <td>2</td>\n",
       "      <td>117</td>\n",
       "      <td>94</td>\n",
       "      <td>38</td>\n",
       "      <td>2348</td>\n",
       "      <td>1461</td>\n",
       "      <td>732</td>\n",
       "      <td>813</td>\n",
       "      <td>11</td>\n",
       "    </tr>\n",
       "  </tbody>\n",
       "</table>\n",
       "<p>4177 rows × 9 columns</p>\n",
       "</div>"
      ],
      "text/plain": [
       "      Sex  Length  Diameter  Height  Whole weight  Shucked weight  \\\n",
       "0       2      66        56      18           715             417   \n",
       "1       2      45        36      17           285             178   \n",
       "2       0      81        67      26           962             480   \n",
       "3       2      63        56      24           718             400   \n",
       "4       1      41        34      15           253             159   \n",
       "...   ...     ...       ...     ...           ...             ...   \n",
       "4172    0      88        73      32          1289             698   \n",
       "4173    2      93        71      26          1411             832   \n",
       "4174    2      95        78      40          1727             994   \n",
       "4175    0     100        80      29          1610            1005   \n",
       "4176    2     117        94      38          2348            1461   \n",
       "\n",
       "      Viscera weight  Shell weight  Rings  \n",
       "0                199           263     14  \n",
       "1                 94           113      6  \n",
       "2                280           374      8  \n",
       "3                225           273      9  \n",
       "4                 76            87      6  \n",
       "...              ...           ...    ...  \n",
       "4172             475           442     10  \n",
       "4173             426           463      9  \n",
       "4174             571           550      8  \n",
       "4175             518           530      9  \n",
       "4176             732           813     11  \n",
       "\n",
       "[4177 rows x 9 columns]"
      ]
     },
     "execution_count": 6,
     "metadata": {},
     "output_type": "execute_result"
    }
   ],
   "source": [
    "df = df.apply(LabelEncoder().fit_transform)\n",
    "df"
   ]
  },
  {
   "cell_type": "code",
   "execution_count": 7,
   "id": "f3de991f",
   "metadata": {},
   "outputs": [
    {
     "data": {
      "text/plain": [
       "2    1528\n",
       "1    1342\n",
       "0    1307\n",
       "Name: Sex, dtype: int64"
      ]
     },
     "execution_count": 7,
     "metadata": {},
     "output_type": "execute_result"
    }
   ],
   "source": [
    "df['Sex'].value_counts()"
   ]
  },
  {
   "cell_type": "code",
   "execution_count": 8,
   "id": "4e291732",
   "metadata": {},
   "outputs": [
    {
     "data": {
      "text/html": [
       "<div>\n",
       "<style scoped>\n",
       "    .dataframe tbody tr th:only-of-type {\n",
       "        vertical-align: middle;\n",
       "    }\n",
       "\n",
       "    .dataframe tbody tr th {\n",
       "        vertical-align: top;\n",
       "    }\n",
       "\n",
       "    .dataframe thead th {\n",
       "        text-align: right;\n",
       "    }\n",
       "</style>\n",
       "<table border=\"1\" class=\"dataframe\">\n",
       "  <thead>\n",
       "    <tr style=\"text-align: right;\">\n",
       "      <th></th>\n",
       "      <th>Sex</th>\n",
       "      <th>Length</th>\n",
       "      <th>Diameter</th>\n",
       "      <th>Height</th>\n",
       "      <th>Whole weight</th>\n",
       "      <th>Shucked weight</th>\n",
       "      <th>Viscera weight</th>\n",
       "      <th>Shell weight</th>\n",
       "      <th>Rings</th>\n",
       "    </tr>\n",
       "  </thead>\n",
       "  <tbody>\n",
       "    <tr>\n",
       "      <th>count</th>\n",
       "      <td>4177.000000</td>\n",
       "      <td>4177.000000</td>\n",
       "      <td>4177.000000</td>\n",
       "      <td>4177.000000</td>\n",
       "      <td>4177.000000</td>\n",
       "      <td>4177.000000</td>\n",
       "      <td>4177.000000</td>\n",
       "      <td>4177.000000</td>\n",
       "      <td>4177.000000</td>\n",
       "    </tr>\n",
       "    <tr>\n",
       "      <th>mean</th>\n",
       "      <td>1.052909</td>\n",
       "      <td>79.801053</td>\n",
       "      <td>64.576969</td>\n",
       "      <td>26.848456</td>\n",
       "      <td>1155.477137</td>\n",
       "      <td>658.703615</td>\n",
       "      <td>354.047881</td>\n",
       "      <td>413.307637</td>\n",
       "      <td>8.933445</td>\n",
       "    </tr>\n",
       "    <tr>\n",
       "      <th>std</th>\n",
       "      <td>0.822240</td>\n",
       "      <td>23.998661</td>\n",
       "      <td>19.841382</td>\n",
       "      <td>7.708237</td>\n",
       "      <td>660.106216</td>\n",
       "      <td>384.626787</td>\n",
       "      <td>209.390934</td>\n",
       "      <td>229.342991</td>\n",
       "      <td>3.222790</td>\n",
       "    </tr>\n",
       "    <tr>\n",
       "      <th>min</th>\n",
       "      <td>0.000000</td>\n",
       "      <td>0.000000</td>\n",
       "      <td>0.000000</td>\n",
       "      <td>0.000000</td>\n",
       "      <td>0.000000</td>\n",
       "      <td>0.000000</td>\n",
       "      <td>0.000000</td>\n",
       "      <td>0.000000</td>\n",
       "      <td>0.000000</td>\n",
       "    </tr>\n",
       "    <tr>\n",
       "      <th>25%</th>\n",
       "      <td>0.000000</td>\n",
       "      <td>65.000000</td>\n",
       "      <td>53.000000</td>\n",
       "      <td>22.000000</td>\n",
       "      <td>600.000000</td>\n",
       "      <td>342.000000</td>\n",
       "      <td>184.000000</td>\n",
       "      <td>224.000000</td>\n",
       "      <td>7.000000</td>\n",
       "    </tr>\n",
       "    <tr>\n",
       "      <th>50%</th>\n",
       "      <td>1.000000</td>\n",
       "      <td>84.000000</td>\n",
       "      <td>68.000000</td>\n",
       "      <td>27.000000</td>\n",
       "      <td>1142.000000</td>\n",
       "      <td>634.000000</td>\n",
       "      <td>339.000000</td>\n",
       "      <td>417.000000</td>\n",
       "      <td>8.000000</td>\n",
       "    </tr>\n",
       "    <tr>\n",
       "      <th>75%</th>\n",
       "      <td>2.000000</td>\n",
       "      <td>98.000000</td>\n",
       "      <td>79.000000</td>\n",
       "      <td>32.000000</td>\n",
       "      <td>1695.000000</td>\n",
       "      <td>949.000000</td>\n",
       "      <td>502.000000</td>\n",
       "      <td>590.000000</td>\n",
       "      <td>10.000000</td>\n",
       "    </tr>\n",
       "    <tr>\n",
       "      <th>max</th>\n",
       "      <td>2.000000</td>\n",
       "      <td>133.000000</td>\n",
       "      <td>110.000000</td>\n",
       "      <td>50.000000</td>\n",
       "      <td>2428.000000</td>\n",
       "      <td>1514.000000</td>\n",
       "      <td>879.000000</td>\n",
       "      <td>925.000000</td>\n",
       "      <td>27.000000</td>\n",
       "    </tr>\n",
       "  </tbody>\n",
       "</table>\n",
       "</div>"
      ],
      "text/plain": [
       "               Sex       Length     Diameter       Height  Whole weight  \\\n",
       "count  4177.000000  4177.000000  4177.000000  4177.000000   4177.000000   \n",
       "mean      1.052909    79.801053    64.576969    26.848456   1155.477137   \n",
       "std       0.822240    23.998661    19.841382     7.708237    660.106216   \n",
       "min       0.000000     0.000000     0.000000     0.000000      0.000000   \n",
       "25%       0.000000    65.000000    53.000000    22.000000    600.000000   \n",
       "50%       1.000000    84.000000    68.000000    27.000000   1142.000000   \n",
       "75%       2.000000    98.000000    79.000000    32.000000   1695.000000   \n",
       "max       2.000000   133.000000   110.000000    50.000000   2428.000000   \n",
       "\n",
       "       Shucked weight  Viscera weight  Shell weight        Rings  \n",
       "count     4177.000000     4177.000000   4177.000000  4177.000000  \n",
       "mean       658.703615      354.047881    413.307637     8.933445  \n",
       "std        384.626787      209.390934    229.342991     3.222790  \n",
       "min          0.000000        0.000000      0.000000     0.000000  \n",
       "25%        342.000000      184.000000    224.000000     7.000000  \n",
       "50%        634.000000      339.000000    417.000000     8.000000  \n",
       "75%        949.000000      502.000000    590.000000    10.000000  \n",
       "max       1514.000000      879.000000    925.000000    27.000000  "
      ]
     },
     "execution_count": 8,
     "metadata": {},
     "output_type": "execute_result"
    }
   ],
   "source": [
    "df.describe()"
   ]
  },
  {
   "cell_type": "code",
   "execution_count": 9,
   "id": "57e88d4f",
   "metadata": {},
   "outputs": [
    {
     "data": {
      "text/html": [
       "<div>\n",
       "<style scoped>\n",
       "    .dataframe tbody tr th:only-of-type {\n",
       "        vertical-align: middle;\n",
       "    }\n",
       "\n",
       "    .dataframe tbody tr th {\n",
       "        vertical-align: top;\n",
       "    }\n",
       "\n",
       "    .dataframe thead th {\n",
       "        text-align: right;\n",
       "    }\n",
       "</style>\n",
       "<table border=\"1\" class=\"dataframe\">\n",
       "  <thead>\n",
       "    <tr style=\"text-align: right;\">\n",
       "      <th></th>\n",
       "      <th>Sex</th>\n",
       "      <th>Length</th>\n",
       "      <th>Diameter</th>\n",
       "      <th>Height</th>\n",
       "      <th>Whole weight</th>\n",
       "      <th>Shucked weight</th>\n",
       "      <th>Viscera weight</th>\n",
       "      <th>Shell weight</th>\n",
       "      <th>Rings</th>\n",
       "    </tr>\n",
       "  </thead>\n",
       "  <tbody>\n",
       "    <tr>\n",
       "      <th>Sex</th>\n",
       "      <td>1.000000</td>\n",
       "      <td>-0.036006</td>\n",
       "      <td>-0.038846</td>\n",
       "      <td>-0.040559</td>\n",
       "      <td>-0.026480</td>\n",
       "      <td>-0.009979</td>\n",
       "      <td>-0.035252</td>\n",
       "      <td>-0.035159</td>\n",
       "      <td>-0.034546</td>\n",
       "    </tr>\n",
       "    <tr>\n",
       "      <th>Length</th>\n",
       "      <td>-0.036006</td>\n",
       "      <td>1.000000</td>\n",
       "      <td>0.986815</td>\n",
       "      <td>0.898495</td>\n",
       "      <td>0.945616</td>\n",
       "      <td>0.923686</td>\n",
       "      <td>0.914853</td>\n",
       "      <td>0.925637</td>\n",
       "      <td>0.556666</td>\n",
       "    </tr>\n",
       "    <tr>\n",
       "      <th>Diameter</th>\n",
       "      <td>-0.038846</td>\n",
       "      <td>0.986815</td>\n",
       "      <td>1.000000</td>\n",
       "      <td>0.904767</td>\n",
       "      <td>0.946053</td>\n",
       "      <td>0.919422</td>\n",
       "      <td>0.911692</td>\n",
       "      <td>0.932714</td>\n",
       "      <td>0.574718</td>\n",
       "    </tr>\n",
       "    <tr>\n",
       "      <th>Height</th>\n",
       "      <td>-0.040559</td>\n",
       "      <td>0.898495</td>\n",
       "      <td>0.904767</td>\n",
       "      <td>1.000000</td>\n",
       "      <td>0.900422</td>\n",
       "      <td>0.855481</td>\n",
       "      <td>0.874504</td>\n",
       "      <td>0.906738</td>\n",
       "      <td>0.608239</td>\n",
       "    </tr>\n",
       "    <tr>\n",
       "      <th>Whole weight</th>\n",
       "      <td>-0.026480</td>\n",
       "      <td>0.945616</td>\n",
       "      <td>0.946053</td>\n",
       "      <td>0.900422</td>\n",
       "      <td>1.000000</td>\n",
       "      <td>0.973950</td>\n",
       "      <td>0.966996</td>\n",
       "      <td>0.966973</td>\n",
       "      <td>0.554945</td>\n",
       "    </tr>\n",
       "    <tr>\n",
       "      <th>Shucked weight</th>\n",
       "      <td>-0.009979</td>\n",
       "      <td>0.923686</td>\n",
       "      <td>0.919422</td>\n",
       "      <td>0.855481</td>\n",
       "      <td>0.973950</td>\n",
       "      <td>1.000000</td>\n",
       "      <td>0.940029</td>\n",
       "      <td>0.909816</td>\n",
       "      <td>0.442772</td>\n",
       "    </tr>\n",
       "    <tr>\n",
       "      <th>Viscera weight</th>\n",
       "      <td>-0.035252</td>\n",
       "      <td>0.914853</td>\n",
       "      <td>0.911692</td>\n",
       "      <td>0.874504</td>\n",
       "      <td>0.966996</td>\n",
       "      <td>0.940029</td>\n",
       "      <td>1.000000</td>\n",
       "      <td>0.926469</td>\n",
       "      <td>0.513213</td>\n",
       "    </tr>\n",
       "    <tr>\n",
       "      <th>Shell weight</th>\n",
       "      <td>-0.035159</td>\n",
       "      <td>0.925637</td>\n",
       "      <td>0.932714</td>\n",
       "      <td>0.906738</td>\n",
       "      <td>0.966973</td>\n",
       "      <td>0.909816</td>\n",
       "      <td>0.926469</td>\n",
       "      <td>1.000000</td>\n",
       "      <td>0.630742</td>\n",
       "    </tr>\n",
       "    <tr>\n",
       "      <th>Rings</th>\n",
       "      <td>-0.034546</td>\n",
       "      <td>0.556666</td>\n",
       "      <td>0.574718</td>\n",
       "      <td>0.608239</td>\n",
       "      <td>0.554945</td>\n",
       "      <td>0.442772</td>\n",
       "      <td>0.513213</td>\n",
       "      <td>0.630742</td>\n",
       "      <td>1.000000</td>\n",
       "    </tr>\n",
       "  </tbody>\n",
       "</table>\n",
       "</div>"
      ],
      "text/plain": [
       "                     Sex    Length  Diameter    Height  Whole weight  \\\n",
       "Sex             1.000000 -0.036006 -0.038846 -0.040559     -0.026480   \n",
       "Length         -0.036006  1.000000  0.986815  0.898495      0.945616   \n",
       "Diameter       -0.038846  0.986815  1.000000  0.904767      0.946053   \n",
       "Height         -0.040559  0.898495  0.904767  1.000000      0.900422   \n",
       "Whole weight   -0.026480  0.945616  0.946053  0.900422      1.000000   \n",
       "Shucked weight -0.009979  0.923686  0.919422  0.855481      0.973950   \n",
       "Viscera weight -0.035252  0.914853  0.911692  0.874504      0.966996   \n",
       "Shell weight   -0.035159  0.925637  0.932714  0.906738      0.966973   \n",
       "Rings          -0.034546  0.556666  0.574718  0.608239      0.554945   \n",
       "\n",
       "                Shucked weight  Viscera weight  Shell weight     Rings  \n",
       "Sex                  -0.009979       -0.035252     -0.035159 -0.034546  \n",
       "Length                0.923686        0.914853      0.925637  0.556666  \n",
       "Diameter              0.919422        0.911692      0.932714  0.574718  \n",
       "Height                0.855481        0.874504      0.906738  0.608239  \n",
       "Whole weight          0.973950        0.966996      0.966973  0.554945  \n",
       "Shucked weight        1.000000        0.940029      0.909816  0.442772  \n",
       "Viscera weight        0.940029        1.000000      0.926469  0.513213  \n",
       "Shell weight          0.909816        0.926469      1.000000  0.630742  \n",
       "Rings                 0.442772        0.513213      0.630742  1.000000  "
      ]
     },
     "execution_count": 9,
     "metadata": {},
     "output_type": "execute_result"
    }
   ],
   "source": [
    "df.corr()"
   ]
  },
  {
   "cell_type": "code",
   "execution_count": 10,
   "id": "de09707e",
   "metadata": {},
   "outputs": [
    {
     "data": {
      "text/html": [
       "<div>\n",
       "<style scoped>\n",
       "    .dataframe tbody tr th:only-of-type {\n",
       "        vertical-align: middle;\n",
       "    }\n",
       "\n",
       "    .dataframe tbody tr th {\n",
       "        vertical-align: top;\n",
       "    }\n",
       "\n",
       "    .dataframe thead th {\n",
       "        text-align: right;\n",
       "    }\n",
       "</style>\n",
       "<table border=\"1\" class=\"dataframe\">\n",
       "  <thead>\n",
       "    <tr style=\"text-align: right;\">\n",
       "      <th></th>\n",
       "      <th>Sex</th>\n",
       "      <th>Length</th>\n",
       "      <th>Diameter</th>\n",
       "      <th>Height</th>\n",
       "      <th>Whole weight</th>\n",
       "      <th>Shucked weight</th>\n",
       "      <th>Viscera weight</th>\n",
       "      <th>Shell weight</th>\n",
       "      <th>Rings</th>\n",
       "    </tr>\n",
       "  </thead>\n",
       "  <tbody>\n",
       "    <tr>\n",
       "      <th>236</th>\n",
       "      <td>1</td>\n",
       "      <td>0</td>\n",
       "      <td>0</td>\n",
       "      <td>1</td>\n",
       "      <td>0</td>\n",
       "      <td>0</td>\n",
       "      <td>0</td>\n",
       "      <td>0</td>\n",
       "      <td>0</td>\n",
       "    </tr>\n",
       "    <tr>\n",
       "      <th>3522</th>\n",
       "      <td>1</td>\n",
       "      <td>23</td>\n",
       "      <td>20</td>\n",
       "      <td>11</td>\n",
       "      <td>64</td>\n",
       "      <td>46</td>\n",
       "      <td>0</td>\n",
       "      <td>29</td>\n",
       "      <td>3</td>\n",
       "    </tr>\n",
       "  </tbody>\n",
       "</table>\n",
       "</div>"
      ],
      "text/plain": [
       "      Sex  Length  Diameter  Height  Whole weight  Shucked weight  \\\n",
       "236     1       0         0       1             0               0   \n",
       "3522    1      23        20      11            64              46   \n",
       "\n",
       "      Viscera weight  Shell weight  Rings  \n",
       "236                0             0      0  \n",
       "3522               0            29      3  "
      ]
     },
     "execution_count": 10,
     "metadata": {},
     "output_type": "execute_result"
    }
   ],
   "source": [
    "# Viscera weight can't be zero\n",
    "df[df['Viscera weight'] == 0]"
   ]
  },
  {
   "cell_type": "code",
   "execution_count": 11,
   "id": "2602b9af",
   "metadata": {},
   "outputs": [],
   "source": [
    "df.drop(index=[3522],inplace=True)"
   ]
  },
  {
   "cell_type": "code",
   "execution_count": 12,
   "id": "6e1f9ff7",
   "metadata": {},
   "outputs": [
    {
     "data": {
      "text/plain": [
       "<AxesSubplot:>"
      ]
     },
     "execution_count": 12,
     "metadata": {},
     "output_type": "execute_result"
    },
    {
     "data": {
      "image/png": "[encoded data removed]",
      "text/plain": [
       "<Figure size 432x288 with 2 Axes>"
      ]
     },
     "metadata": {
      "needs_background": "light"
     },
     "output_type": "display_data"
    }
   ],
   "source": [
    "sns.heatmap(df.corr())"
   ]
  },
  {
   "cell_type": "code",
   "execution_count": 13,
   "id": "caf22a3f",
   "metadata": {},
   "outputs": [
    {
     "data": {
      "text/plain": [
       "Index(['Sex', 'Length', 'Diameter', 'Height', 'Whole weight', 'Shucked weight',\n",
       "       'Viscera weight', 'Shell weight', 'Rings'],\n",
       "      dtype='object')"
      ]
     },
     "execution_count": 13,
     "metadata": {},
     "output_type": "execute_result"
    }
   ],
   "source": [
    "df.columns"
   ]
  },
  {
   "cell_type": "code",
   "execution_count": 14,
   "id": "15a2feb3",
   "metadata": {},
   "outputs": [
    {
     "data": {
      "image/png": "[encoded data removed]",
      "text/plain": [
       "<Figure size 1080x1440 with 9 Axes>"
      ]
     },
     "metadata": {
      "needs_background": "light"
     },
     "output_type": "display_data"
    }
   ],
   "source": [
    "plt.figure(figsize=[15,20])\n",
    "for i, column in enumerate(df.columns):\n",
    "    plt.subplot(10,3,i+1)\n",
    "    sns.distplot(df[column],kde=True)\n"
   ]
  },
  {
   "cell_type": "code",
   "execution_count": 15,
   "id": "1549fa31",
   "metadata": {},
   "outputs": [],
   "source": [
    "# sns.pairplot(df.corr())"
   ]
  },
  {
   "cell_type": "code",
   "execution_count": 16,
   "id": "37539067",
   "metadata": {},
   "outputs": [],
   "source": [
    "# sns.countplot(df['Rings'])"
   ]
  },
  {
   "cell_type": "code",
   "execution_count": 17,
   "id": "35708a0f",
   "metadata": {},
   "outputs": [],
   "source": [
    "# plt.figure(figsize=[15,20])\n",
    "# for i,column in enumerate(df.columns):\n",
    "#     plt.subplot(10,3,i+1)\n",
    "#     sns.violinplot(data=df,x='Rings',y=column)"
   ]
  },
  {
   "cell_type": "code",
   "execution_count": 18,
   "id": "d2e9950b",
   "metadata": {},
   "outputs": [],
   "source": [
    "# plt.figure(figsize=[15,20])\n",
    "# for i, column in enumerate(df.columns):\n",
    "#     plt.subplot(10,3,i+1)\n",
    "#     sns.boxplot(df[column])"
   ]
  },
  {
   "cell_type": "markdown",
   "id": "a6b54b0b",
   "metadata": {},
   "source": [
    "# Removing Outliers"
   ]
  },
  {
   "cell_type": "code",
   "execution_count": 19,
   "id": "e98ba9ba",
   "metadata": {},
   "outputs": [
    {
     "data": {
      "text/html": [
       "<div>\n",
       "<style scoped>\n",
       "    .dataframe tbody tr th:only-of-type {\n",
       "        vertical-align: middle;\n",
       "    }\n",
       "\n",
       "    .dataframe tbody tr th {\n",
       "        vertical-align: top;\n",
       "    }\n",
       "\n",
       "    .dataframe thead th {\n",
       "        text-align: right;\n",
       "    }\n",
       "</style>\n",
       "<table border=\"1\" class=\"dataframe\">\n",
       "  <thead>\n",
       "    <tr style=\"text-align: right;\">\n",
       "      <th></th>\n",
       "      <th>Sex</th>\n",
       "      <th>Length</th>\n",
       "      <th>Diameter</th>\n",
       "      <th>Height</th>\n",
       "      <th>Whole weight</th>\n",
       "      <th>Shucked weight</th>\n",
       "      <th>Viscera weight</th>\n",
       "      <th>Shell weight</th>\n",
       "    </tr>\n",
       "  </thead>\n",
       "  <tbody>\n",
       "    <tr>\n",
       "      <th>0</th>\n",
       "      <td>2</td>\n",
       "      <td>66</td>\n",
       "      <td>56</td>\n",
       "      <td>18</td>\n",
       "      <td>715</td>\n",
       "      <td>417</td>\n",
       "      <td>199</td>\n",
       "      <td>263</td>\n",
       "    </tr>\n",
       "    <tr>\n",
       "      <th>1</th>\n",
       "      <td>2</td>\n",
       "      <td>45</td>\n",
       "      <td>36</td>\n",
       "      <td>17</td>\n",
       "      <td>285</td>\n",
       "      <td>178</td>\n",
       "      <td>94</td>\n",
       "      <td>113</td>\n",
       "    </tr>\n",
       "    <tr>\n",
       "      <th>2</th>\n",
       "      <td>0</td>\n",
       "      <td>81</td>\n",
       "      <td>67</td>\n",
       "      <td>26</td>\n",
       "      <td>962</td>\n",
       "      <td>480</td>\n",
       "      <td>280</td>\n",
       "      <td>374</td>\n",
       "    </tr>\n",
       "    <tr>\n",
       "      <th>3</th>\n",
       "      <td>2</td>\n",
       "      <td>63</td>\n",
       "      <td>56</td>\n",
       "      <td>24</td>\n",
       "      <td>718</td>\n",
       "      <td>400</td>\n",
       "      <td>225</td>\n",
       "      <td>273</td>\n",
       "    </tr>\n",
       "    <tr>\n",
       "      <th>4</th>\n",
       "      <td>1</td>\n",
       "      <td>41</td>\n",
       "      <td>34</td>\n",
       "      <td>15</td>\n",
       "      <td>253</td>\n",
       "      <td>159</td>\n",
       "      <td>76</td>\n",
       "      <td>87</td>\n",
       "    </tr>\n",
       "    <tr>\n",
       "      <th>...</th>\n",
       "      <td>...</td>\n",
       "      <td>...</td>\n",
       "      <td>...</td>\n",
       "      <td>...</td>\n",
       "      <td>...</td>\n",
       "      <td>...</td>\n",
       "      <td>...</td>\n",
       "      <td>...</td>\n",
       "    </tr>\n",
       "    <tr>\n",
       "      <th>4172</th>\n",
       "      <td>0</td>\n",
       "      <td>88</td>\n",
       "      <td>73</td>\n",
       "      <td>32</td>\n",
       "      <td>1289</td>\n",
       "      <td>698</td>\n",
       "      <td>475</td>\n",
       "      <td>442</td>\n",
       "    </tr>\n",
       "    <tr>\n",
       "      <th>4173</th>\n",
       "      <td>2</td>\n",
       "      <td>93</td>\n",
       "      <td>71</td>\n",
       "      <td>26</td>\n",
       "      <td>1411</td>\n",
       "      <td>832</td>\n",
       "      <td>426</td>\n",
       "      <td>463</td>\n",
       "    </tr>\n",
       "    <tr>\n",
       "      <th>4174</th>\n",
       "      <td>2</td>\n",
       "      <td>95</td>\n",
       "      <td>78</td>\n",
       "      <td>40</td>\n",
       "      <td>1727</td>\n",
       "      <td>994</td>\n",
       "      <td>571</td>\n",
       "      <td>550</td>\n",
       "    </tr>\n",
       "    <tr>\n",
       "      <th>4175</th>\n",
       "      <td>0</td>\n",
       "      <td>100</td>\n",
       "      <td>80</td>\n",
       "      <td>29</td>\n",
       "      <td>1610</td>\n",
       "      <td>1005</td>\n",
       "      <td>518</td>\n",
       "      <td>530</td>\n",
       "    </tr>\n",
       "    <tr>\n",
       "      <th>4176</th>\n",
       "      <td>2</td>\n",
       "      <td>117</td>\n",
       "      <td>94</td>\n",
       "      <td>38</td>\n",
       "      <td>2348</td>\n",
       "      <td>1461</td>\n",
       "      <td>732</td>\n",
       "      <td>813</td>\n",
       "    </tr>\n",
       "  </tbody>\n",
       "</table>\n",
       "<p>4176 rows × 8 columns</p>\n",
       "</div>"
      ],
      "text/plain": [
       "      Sex  Length  Diameter  Height  Whole weight  Shucked weight  \\\n",
       "0       2      66        56      18           715             417   \n",
       "1       2      45        36      17           285             178   \n",
       "2       0      81        67      26           962             480   \n",
       "3       2      63        56      24           718             400   \n",
       "4       1      41        34      15           253             159   \n",
       "...   ...     ...       ...     ...           ...             ...   \n",
       "4172    0      88        73      32          1289             698   \n",
       "4173    2      93        71      26          1411             832   \n",
       "4174    2      95        78      40          1727             994   \n",
       "4175    0     100        80      29          1610            1005   \n",
       "4176    2     117        94      38          2348            1461   \n",
       "\n",
       "      Viscera weight  Shell weight  \n",
       "0                199           263  \n",
       "1                 94           113  \n",
       "2                280           374  \n",
       "3                225           273  \n",
       "4                 76            87  \n",
       "...              ...           ...  \n",
       "4172             475           442  \n",
       "4173             426           463  \n",
       "4174             571           550  \n",
       "4175             518           530  \n",
       "4176             732           813  \n",
       "\n",
       "[4176 rows x 8 columns]"
      ]
     },
     "execution_count": 19,
     "metadata": {},
     "output_type": "execute_result"
    }
   ],
   "source": [
    "X = df.iloc[:,:-1]\n",
    "X"
   ]
  },
  {
   "cell_type": "code",
   "execution_count": 20,
   "id": "6af0db6a",
   "metadata": {},
   "outputs": [
    {
     "data": {
      "text/plain": [
       "array([[1.15182737, 0.57602932, 0.43307667, ..., 0.62898341, 0.74112954,\n",
       "        0.65600552],\n",
       "       [1.15182737, 1.45166579, 1.44168085, ..., 1.25055391, 1.24275569,\n",
       "        1.31026779],\n",
       "       [1.28055245, 0.04942529, 0.12165563, ..., 0.46513847, 0.35416079,\n",
       "        0.17185143],\n",
       "       ...,\n",
       "       [1.15182737, 0.63318293, 0.67638793, ..., 0.87162823, 1.03606027,\n",
       "        0.59581631],\n",
       "       [1.28055245, 0.84166781, 0.77724835, ..., 0.90023607, 0.7828585 ,\n",
       "        0.50858134],\n",
       "       [1.15182737, 1.55051637, 1.48327128, ..., 2.08616139, 1.80522038,\n",
       "        1.74295617]])"
      ]
     },
     "execution_count": 20,
     "metadata": {},
     "output_type": "execute_result"
    }
   ],
   "source": [
    "abs_score = np.abs(stats.zscore(X))\n",
    "abs_score"
   ]
  },
  {
   "cell_type": "code",
   "execution_count": 21,
   "id": "b3a1f9f1",
   "metadata": {},
   "outputs": [
    {
     "name": "stdout",
     "output_type": "stream",
     "text": [
      "(array([ 236,  236,  236,  237,  237,  238,  238,  239,  526,  526,  694,\n",
      "        694,  696,  696,  719,  719,  720,  720, 1174, 1257, 1429, 1429,\n",
      "       1986, 1987, 1987, 2051, 2114, 2114, 2169, 2381, 3836, 3898, 3898,\n",
      "       3901, 3901, 3995]), array([1, 2, 3, 1, 2, 1, 2, 1, 1, 2, 2, 3, 1, 2, 1, 2, 1, 2, 3, 3, 1, 2,\n",
      "       1, 1, 2, 3, 1, 2, 3, 1, 2, 1, 2, 1, 3, 3]))\n"
     ]
    }
   ],
   "source": [
    "threshold = 3\n",
    "print(np.where(abs_score>3))"
   ]
  },
  {
   "cell_type": "code",
   "execution_count": 22,
   "id": "3124e28d",
   "metadata": {},
   "outputs": [
    {
     "data": {
      "text/plain": [
       "(4176, 9)"
      ]
     },
     "execution_count": 22,
     "metadata": {},
     "output_type": "execute_result"
    }
   ],
   "source": [
    "df.shape"
   ]
  },
  {
   "cell_type": "code",
   "execution_count": 23,
   "id": "0e29cc1b",
   "metadata": {},
   "outputs": [
    {
     "data": {
      "text/html": [
       "<div>\n",
       "<style scoped>\n",
       "    .dataframe tbody tr th:only-of-type {\n",
       "        vertical-align: middle;\n",
       "    }\n",
       "\n",
       "    .dataframe tbody tr th {\n",
       "        vertical-align: top;\n",
       "    }\n",
       "\n",
       "    .dataframe thead th {\n",
       "        text-align: right;\n",
       "    }\n",
       "</style>\n",
       "<table border=\"1\" class=\"dataframe\">\n",
       "  <thead>\n",
       "    <tr style=\"text-align: right;\">\n",
       "      <th></th>\n",
       "      <th>Sex</th>\n",
       "      <th>Length</th>\n",
       "      <th>Diameter</th>\n",
       "      <th>Height</th>\n",
       "      <th>Whole weight</th>\n",
       "      <th>Shucked weight</th>\n",
       "      <th>Viscera weight</th>\n",
       "      <th>Shell weight</th>\n",
       "      <th>Rings</th>\n",
       "    </tr>\n",
       "  </thead>\n",
       "  <tbody>\n",
       "    <tr>\n",
       "      <th>0</th>\n",
       "      <td>2</td>\n",
       "      <td>66</td>\n",
       "      <td>56</td>\n",
       "      <td>18</td>\n",
       "      <td>715</td>\n",
       "      <td>417</td>\n",
       "      <td>199</td>\n",
       "      <td>263</td>\n",
       "      <td>14</td>\n",
       "    </tr>\n",
       "    <tr>\n",
       "      <th>1</th>\n",
       "      <td>2</td>\n",
       "      <td>45</td>\n",
       "      <td>36</td>\n",
       "      <td>17</td>\n",
       "      <td>285</td>\n",
       "      <td>178</td>\n",
       "      <td>94</td>\n",
       "      <td>113</td>\n",
       "      <td>6</td>\n",
       "    </tr>\n",
       "    <tr>\n",
       "      <th>2</th>\n",
       "      <td>0</td>\n",
       "      <td>81</td>\n",
       "      <td>67</td>\n",
       "      <td>26</td>\n",
       "      <td>962</td>\n",
       "      <td>480</td>\n",
       "      <td>280</td>\n",
       "      <td>374</td>\n",
       "      <td>8</td>\n",
       "    </tr>\n",
       "    <tr>\n",
       "      <th>3</th>\n",
       "      <td>2</td>\n",
       "      <td>63</td>\n",
       "      <td>56</td>\n",
       "      <td>24</td>\n",
       "      <td>718</td>\n",
       "      <td>400</td>\n",
       "      <td>225</td>\n",
       "      <td>273</td>\n",
       "      <td>9</td>\n",
       "    </tr>\n",
       "    <tr>\n",
       "      <th>4</th>\n",
       "      <td>1</td>\n",
       "      <td>41</td>\n",
       "      <td>34</td>\n",
       "      <td>15</td>\n",
       "      <td>253</td>\n",
       "      <td>159</td>\n",
       "      <td>76</td>\n",
       "      <td>87</td>\n",
       "      <td>6</td>\n",
       "    </tr>\n",
       "    <tr>\n",
       "      <th>...</th>\n",
       "      <td>...</td>\n",
       "      <td>...</td>\n",
       "      <td>...</td>\n",
       "      <td>...</td>\n",
       "      <td>...</td>\n",
       "      <td>...</td>\n",
       "      <td>...</td>\n",
       "      <td>...</td>\n",
       "      <td>...</td>\n",
       "    </tr>\n",
       "    <tr>\n",
       "      <th>4172</th>\n",
       "      <td>0</td>\n",
       "      <td>88</td>\n",
       "      <td>73</td>\n",
       "      <td>32</td>\n",
       "      <td>1289</td>\n",
       "      <td>698</td>\n",
       "      <td>475</td>\n",
       "      <td>442</td>\n",
       "      <td>10</td>\n",
       "    </tr>\n",
       "    <tr>\n",
       "      <th>4173</th>\n",
       "      <td>2</td>\n",
       "      <td>93</td>\n",
       "      <td>71</td>\n",
       "      <td>26</td>\n",
       "      <td>1411</td>\n",
       "      <td>832</td>\n",
       "      <td>426</td>\n",
       "      <td>463</td>\n",
       "      <td>9</td>\n",
       "    </tr>\n",
       "    <tr>\n",
       "      <th>4174</th>\n",
       "      <td>2</td>\n",
       "      <td>95</td>\n",
       "      <td>78</td>\n",
       "      <td>40</td>\n",
       "      <td>1727</td>\n",
       "      <td>994</td>\n",
       "      <td>571</td>\n",
       "      <td>550</td>\n",
       "      <td>8</td>\n",
       "    </tr>\n",
       "    <tr>\n",
       "      <th>4175</th>\n",
       "      <td>0</td>\n",
       "      <td>100</td>\n",
       "      <td>80</td>\n",
       "      <td>29</td>\n",
       "      <td>1610</td>\n",
       "      <td>1005</td>\n",
       "      <td>518</td>\n",
       "      <td>530</td>\n",
       "      <td>9</td>\n",
       "    </tr>\n",
       "    <tr>\n",
       "      <th>4176</th>\n",
       "      <td>2</td>\n",
       "      <td>117</td>\n",
       "      <td>94</td>\n",
       "      <td>38</td>\n",
       "      <td>2348</td>\n",
       "      <td>1461</td>\n",
       "      <td>732</td>\n",
       "      <td>813</td>\n",
       "      <td>11</td>\n",
       "    </tr>\n",
       "  </tbody>\n",
       "</table>\n",
       "<p>4154 rows × 9 columns</p>\n",
       "</div>"
      ],
      "text/plain": [
       "      Sex  Length  Diameter  Height  Whole weight  Shucked weight  \\\n",
       "0       2      66        56      18           715             417   \n",
       "1       2      45        36      17           285             178   \n",
       "2       0      81        67      26           962             480   \n",
       "3       2      63        56      24           718             400   \n",
       "4       1      41        34      15           253             159   \n",
       "...   ...     ...       ...     ...           ...             ...   \n",
       "4172    0      88        73      32          1289             698   \n",
       "4173    2      93        71      26          1411             832   \n",
       "4174    2      95        78      40          1727             994   \n",
       "4175    0     100        80      29          1610            1005   \n",
       "4176    2     117        94      38          2348            1461   \n",
       "\n",
       "      Viscera weight  Shell weight  Rings  \n",
       "0                199           263     14  \n",
       "1                 94           113      6  \n",
       "2                280           374      8  \n",
       "3                225           273      9  \n",
       "4                 76            87      6  \n",
       "...              ...           ...    ...  \n",
       "4172             475           442     10  \n",
       "4173             426           463      9  \n",
       "4174             571           550      8  \n",
       "4175             518           530      9  \n",
       "4176             732           813     11  \n",
       "\n",
       "[4154 rows x 9 columns]"
      ]
     },
     "execution_count": 23,
     "metadata": {},
     "output_type": "execute_result"
    }
   ],
   "source": [
    "# Removing Outliers\n",
    "df = df[(abs_score<3).all(axis=1)]\n",
    "df"
   ]
  },
  {
   "cell_type": "code",
   "execution_count": 24,
   "id": "12849bb7",
   "metadata": {},
   "outputs": [
    {
     "data": {
      "text/plain": [
       "8     688\n",
       "9     634\n",
       "7     566\n",
       "10    487\n",
       "6     391\n",
       "11    267\n",
       "5     258\n",
       "12    203\n",
       "13    126\n",
       "4     113\n",
       "14    103\n",
       "15     67\n",
       "16     58\n",
       "3      47\n",
       "17     42\n",
       "18     32\n",
       "19     26\n",
       "20     14\n",
       "2      10\n",
       "22      9\n",
       "21      6\n",
       "26      2\n",
       "23      2\n",
       "25      1\n",
       "24      1\n",
       "27      1\n",
       "Name: Rings, dtype: int64"
      ]
     },
     "execution_count": 24,
     "metadata": {},
     "output_type": "execute_result"
    }
   ],
   "source": [
    "df.iloc[:,-1].value_counts()"
   ]
  },
  {
   "cell_type": "markdown",
   "id": "a50658fe",
   "metadata": {},
   "source": [
    "# Spliting Features and Target column"
   ]
  },
  {
   "cell_type": "code",
   "execution_count": 25,
   "id": "d1ffac90",
   "metadata": {},
   "outputs": [
    {
     "data": {
      "text/html": [
       "<div>\n",
       "<style scoped>\n",
       "    .dataframe tbody tr th:only-of-type {\n",
       "        vertical-align: middle;\n",
       "    }\n",
       "\n",
       "    .dataframe tbody tr th {\n",
       "        vertical-align: top;\n",
       "    }\n",
       "\n",
       "    .dataframe thead th {\n",
       "        text-align: right;\n",
       "    }\n",
       "</style>\n",
       "<table border=\"1\" class=\"dataframe\">\n",
       "  <thead>\n",
       "    <tr style=\"text-align: right;\">\n",
       "      <th></th>\n",
       "      <th>Sex</th>\n",
       "      <th>Length</th>\n",
       "      <th>Diameter</th>\n",
       "      <th>Height</th>\n",
       "      <th>Whole weight</th>\n",
       "      <th>Shucked weight</th>\n",
       "      <th>Viscera weight</th>\n",
       "      <th>Shell weight</th>\n",
       "    </tr>\n",
       "  </thead>\n",
       "  <tbody>\n",
       "    <tr>\n",
       "      <th>0</th>\n",
       "      <td>2</td>\n",
       "      <td>66</td>\n",
       "      <td>56</td>\n",
       "      <td>18</td>\n",
       "      <td>715</td>\n",
       "      <td>417</td>\n",
       "      <td>199</td>\n",
       "      <td>263</td>\n",
       "    </tr>\n",
       "    <tr>\n",
       "      <th>1</th>\n",
       "      <td>2</td>\n",
       "      <td>45</td>\n",
       "      <td>36</td>\n",
       "      <td>17</td>\n",
       "      <td>285</td>\n",
       "      <td>178</td>\n",
       "      <td>94</td>\n",
       "      <td>113</td>\n",
       "    </tr>\n",
       "    <tr>\n",
       "      <th>2</th>\n",
       "      <td>0</td>\n",
       "      <td>81</td>\n",
       "      <td>67</td>\n",
       "      <td>26</td>\n",
       "      <td>962</td>\n",
       "      <td>480</td>\n",
       "      <td>280</td>\n",
       "      <td>374</td>\n",
       "    </tr>\n",
       "    <tr>\n",
       "      <th>3</th>\n",
       "      <td>2</td>\n",
       "      <td>63</td>\n",
       "      <td>56</td>\n",
       "      <td>24</td>\n",
       "      <td>718</td>\n",
       "      <td>400</td>\n",
       "      <td>225</td>\n",
       "      <td>273</td>\n",
       "    </tr>\n",
       "    <tr>\n",
       "      <th>4</th>\n",
       "      <td>1</td>\n",
       "      <td>41</td>\n",
       "      <td>34</td>\n",
       "      <td>15</td>\n",
       "      <td>253</td>\n",
       "      <td>159</td>\n",
       "      <td>76</td>\n",
       "      <td>87</td>\n",
       "    </tr>\n",
       "    <tr>\n",
       "      <th>...</th>\n",
       "      <td>...</td>\n",
       "      <td>...</td>\n",
       "      <td>...</td>\n",
       "      <td>...</td>\n",
       "      <td>...</td>\n",
       "      <td>...</td>\n",
       "      <td>...</td>\n",
       "      <td>...</td>\n",
       "    </tr>\n",
       "    <tr>\n",
       "      <th>4172</th>\n",
       "      <td>0</td>\n",
       "      <td>88</td>\n",
       "      <td>73</td>\n",
       "      <td>32</td>\n",
       "      <td>1289</td>\n",
       "      <td>698</td>\n",
       "      <td>475</td>\n",
       "      <td>442</td>\n",
       "    </tr>\n",
       "    <tr>\n",
       "      <th>4173</th>\n",
       "      <td>2</td>\n",
       "      <td>93</td>\n",
       "      <td>71</td>\n",
       "      <td>26</td>\n",
       "      <td>1411</td>\n",
       "      <td>832</td>\n",
       "      <td>426</td>\n",
       "      <td>463</td>\n",
       "    </tr>\n",
       "    <tr>\n",
       "      <th>4174</th>\n",
       "      <td>2</td>\n",
       "      <td>95</td>\n",
       "      <td>78</td>\n",
       "      <td>40</td>\n",
       "      <td>1727</td>\n",
       "      <td>994</td>\n",
       "      <td>571</td>\n",
       "      <td>550</td>\n",
       "    </tr>\n",
       "    <tr>\n",
       "      <th>4175</th>\n",
       "      <td>0</td>\n",
       "      <td>100</td>\n",
       "      <td>80</td>\n",
       "      <td>29</td>\n",
       "      <td>1610</td>\n",
       "      <td>1005</td>\n",
       "      <td>518</td>\n",
       "      <td>530</td>\n",
       "    </tr>\n",
       "    <tr>\n",
       "      <th>4176</th>\n",
       "      <td>2</td>\n",
       "      <td>117</td>\n",
       "      <td>94</td>\n",
       "      <td>38</td>\n",
       "      <td>2348</td>\n",
       "      <td>1461</td>\n",
       "      <td>732</td>\n",
       "      <td>813</td>\n",
       "    </tr>\n",
       "  </tbody>\n",
       "</table>\n",
       "<p>4154 rows × 8 columns</p>\n",
       "</div>"
      ],
      "text/plain": [
       "      Sex  Length  Diameter  Height  Whole weight  Shucked weight  \\\n",
       "0       2      66        56      18           715             417   \n",
       "1       2      45        36      17           285             178   \n",
       "2       0      81        67      26           962             480   \n",
       "3       2      63        56      24           718             400   \n",
       "4       1      41        34      15           253             159   \n",
       "...   ...     ...       ...     ...           ...             ...   \n",
       "4172    0      88        73      32          1289             698   \n",
       "4173    2      93        71      26          1411             832   \n",
       "4174    2      95        78      40          1727             994   \n",
       "4175    0     100        80      29          1610            1005   \n",
       "4176    2     117        94      38          2348            1461   \n",
       "\n",
       "      Viscera weight  Shell weight  \n",
       "0                199           263  \n",
       "1                 94           113  \n",
       "2                280           374  \n",
       "3                225           273  \n",
       "4                 76            87  \n",
       "...              ...           ...  \n",
       "4172             475           442  \n",
       "4173             426           463  \n",
       "4174             571           550  \n",
       "4175             518           530  \n",
       "4176             732           813  \n",
       "\n",
       "[4154 rows x 8 columns]"
      ]
     },
     "execution_count": 25,
     "metadata": {},
     "output_type": "execute_result"
    }
   ],
   "source": [
    "X = df.iloc[:,:-1]\n",
    "X"
   ]
  },
  {
   "cell_type": "code",
   "execution_count": 26,
   "id": "a3c181c9",
   "metadata": {},
   "outputs": [
    {
     "data": {
      "text/plain": [
       "0       14\n",
       "1        6\n",
       "2        8\n",
       "3        9\n",
       "4        6\n",
       "        ..\n",
       "4172    10\n",
       "4173     9\n",
       "4174     8\n",
       "4175     9\n",
       "4176    11\n",
       "Name: Rings, Length: 4154, dtype: int64"
      ]
     },
     "execution_count": 26,
     "metadata": {},
     "output_type": "execute_result"
    }
   ],
   "source": [
    "y = df.iloc[:,-1]\n",
    "y"
   ]
  },
  {
   "cell_type": "code",
   "execution_count": 27,
   "id": "73d32955",
   "metadata": {},
   "outputs": [
    {
     "data": {
      "text/plain": [
       "8     688\n",
       "9     634\n",
       "7     566\n",
       "10    487\n",
       "6     391\n",
       "11    267\n",
       "5     258\n",
       "12    203\n",
       "13    126\n",
       "4     113\n",
       "14    103\n",
       "15     67\n",
       "16     58\n",
       "3      47\n",
       "17     42\n",
       "18     32\n",
       "19     26\n",
       "20     14\n",
       "2      10\n",
       "22      9\n",
       "21      6\n",
       "26      2\n",
       "23      2\n",
       "25      1\n",
       "24      1\n",
       "27      1\n",
       "Name: Rings, dtype: int64"
      ]
     },
     "execution_count": 27,
     "metadata": {},
     "output_type": "execute_result"
    }
   ],
   "source": [
    "y.value_counts()"
   ]
  },
  {
   "cell_type": "markdown",
   "id": "489c243a",
   "metadata": {},
   "source": [
    "# Checking for VIF"
   ]
  },
  {
   "cell_type": "code",
   "execution_count": 28,
   "id": "d05faa41",
   "metadata": {},
   "outputs": [
    {
     "data": {
      "text/html": [
       "<div>\n",
       "<style scoped>\n",
       "    .dataframe tbody tr th:only-of-type {\n",
       "        vertical-align: middle;\n",
       "    }\n",
       "\n",
       "    .dataframe tbody tr th {\n",
       "        vertical-align: top;\n",
       "    }\n",
       "\n",
       "    .dataframe thead th {\n",
       "        text-align: right;\n",
       "    }\n",
       "</style>\n",
       "<table border=\"1\" class=\"dataframe\">\n",
       "  <thead>\n",
       "    <tr style=\"text-align: right;\">\n",
       "      <th></th>\n",
       "      <th>VIF</th>\n",
       "      <th>columns</th>\n",
       "    </tr>\n",
       "  </thead>\n",
       "  <tbody>\n",
       "    <tr>\n",
       "      <th>2</th>\n",
       "      <td>500.725914</td>\n",
       "      <td>Diameter</td>\n",
       "    </tr>\n",
       "    <tr>\n",
       "      <th>1</th>\n",
       "      <td>474.204202</td>\n",
       "      <td>Length</td>\n",
       "    </tr>\n",
       "    <tr>\n",
       "      <th>4</th>\n",
       "      <td>424.622479</td>\n",
       "      <td>Whole weight</td>\n",
       "    </tr>\n",
       "    <tr>\n",
       "      <th>5</th>\n",
       "      <td>116.533955</td>\n",
       "      <td>Shucked weight</td>\n",
       "    </tr>\n",
       "    <tr>\n",
       "      <th>7</th>\n",
       "      <td>108.154466</td>\n",
       "      <td>Shell weight</td>\n",
       "    </tr>\n",
       "    <tr>\n",
       "      <th>3</th>\n",
       "      <td>74.858563</td>\n",
       "      <td>Height</td>\n",
       "    </tr>\n",
       "    <tr>\n",
       "      <th>6</th>\n",
       "      <td>62.365950</td>\n",
       "      <td>Viscera weight</td>\n",
       "    </tr>\n",
       "    <tr>\n",
       "      <th>0</th>\n",
       "      <td>2.520189</td>\n",
       "      <td>Sex</td>\n",
       "    </tr>\n",
       "  </tbody>\n",
       "</table>\n",
       "</div>"
      ],
      "text/plain": [
       "          VIF         columns\n",
       "2  500.725914        Diameter\n",
       "1  474.204202          Length\n",
       "4  424.622479    Whole weight\n",
       "5  116.533955  Shucked weight\n",
       "7  108.154466    Shell weight\n",
       "3   74.858563          Height\n",
       "6   62.365950  Viscera weight\n",
       "0    2.520189             Sex"
      ]
     },
     "execution_count": 28,
     "metadata": {},
     "output_type": "execute_result"
    }
   ],
   "source": [
    "df_info = pd.DataFrame()\n",
    "df_info['VIF'] = [variance_inflation_factor(X.values,i) for i in range(X.shape[1])]\n",
    "df_info['columns'] = X.columns\n",
    "df_info.sort_values('VIF',ascending=False)"
   ]
  },
  {
   "cell_type": "code",
   "execution_count": 29,
   "id": "e01da705",
   "metadata": {},
   "outputs": [
    {
     "data": {
      "text/plain": [
       "Sex               0\n",
       "Length            0\n",
       "Diameter          0\n",
       "Height            0\n",
       "Whole weight      0\n",
       "Shucked weight    0\n",
       "Viscera weight    0\n",
       "Shell weight      0\n",
       "dtype: int64"
      ]
     },
     "execution_count": 29,
     "metadata": {},
     "output_type": "execute_result"
    }
   ],
   "source": [
    "X.isna().sum()"
   ]
  },
  {
   "cell_type": "code",
   "execution_count": 30,
   "id": "0f2318bd",
   "metadata": {},
   "outputs": [
    {
     "data": {
      "text/html": [
       "<div>\n",
       "<style scoped>\n",
       "    .dataframe tbody tr th:only-of-type {\n",
       "        vertical-align: middle;\n",
       "    }\n",
       "\n",
       "    .dataframe tbody tr th {\n",
       "        vertical-align: top;\n",
       "    }\n",
       "\n",
       "    .dataframe thead th {\n",
       "        text-align: right;\n",
       "    }\n",
       "</style>\n",
       "<table border=\"1\" class=\"dataframe\">\n",
       "  <thead>\n",
       "    <tr style=\"text-align: right;\">\n",
       "      <th></th>\n",
       "      <th>VIF</th>\n",
       "      <th>column</th>\n",
       "    </tr>\n",
       "  </thead>\n",
       "  <tbody>\n",
       "    <tr>\n",
       "      <th>1</th>\n",
       "      <td>87.056743</td>\n",
       "      <td>Length</td>\n",
       "    </tr>\n",
       "    <tr>\n",
       "      <th>2</th>\n",
       "      <td>71.624844</td>\n",
       "      <td>Height</td>\n",
       "    </tr>\n",
       "    <tr>\n",
       "      <th>4</th>\n",
       "      <td>44.895382</td>\n",
       "      <td>Viscera weight</td>\n",
       "    </tr>\n",
       "    <tr>\n",
       "      <th>3</th>\n",
       "      <td>41.385576</td>\n",
       "      <td>Shucked weight</td>\n",
       "    </tr>\n",
       "    <tr>\n",
       "      <th>5</th>\n",
       "      <td>39.627668</td>\n",
       "      <td>Shell weight</td>\n",
       "    </tr>\n",
       "    <tr>\n",
       "      <th>0</th>\n",
       "      <td>2.515163</td>\n",
       "      <td>Sex</td>\n",
       "    </tr>\n",
       "  </tbody>\n",
       "</table>\n",
       "</div>"
      ],
      "text/plain": [
       "         VIF          column\n",
       "1  87.056743          Length\n",
       "2  71.624844          Height\n",
       "4  44.895382  Viscera weight\n",
       "3  41.385576  Shucked weight\n",
       "5  39.627668    Shell weight\n",
       "0   2.515163             Sex"
      ]
     },
     "execution_count": 30,
     "metadata": {},
     "output_type": "execute_result"
    }
   ],
   "source": [
    "# Removing Multi-colinerity \n",
    "X = df.iloc[:,:-1]\n",
    "X = X.drop(['Diameter','Whole weight'],axis=1)\n",
    "df_info = pd.DataFrame()\n",
    "df_info['VIF'] = [variance_inflation_factor(X.values,i) for i in range(X.shape[1])]\n",
    "df_info['column'] = X.columns\n",
    "df_info.sort_values('VIF',ascending=False)"
   ]
  },
  {
   "cell_type": "markdown",
   "id": "763c6437",
   "metadata": {},
   "source": [
    "# Checking for skewness"
   ]
  },
  {
   "cell_type": "code",
   "execution_count": 31,
   "id": "0b44943b",
   "metadata": {},
   "outputs": [
    {
     "data": {
      "text/plain": [
       "Length           -0.580141\n",
       "Diameter         -0.557709\n",
       "Height           -0.183259\n",
       "Sex              -0.098889\n",
       "Whole weight      0.078496\n",
       "Shell weight      0.139860\n",
       "Shucked weight    0.239388\n",
       "Viscera weight    0.368858\n",
       "Rings             1.146645\n",
       "dtype: float64"
      ]
     },
     "execution_count": 31,
     "metadata": {},
     "output_type": "execute_result"
    }
   ],
   "source": [
    "df.skew().sort_values()"
   ]
  },
  {
   "cell_type": "code",
   "execution_count": 32,
   "id": "e0c547c6",
   "metadata": {},
   "outputs": [
    {
     "data": {
      "text/html": [
       "<div>\n",
       "<style scoped>\n",
       "    .dataframe tbody tr th:only-of-type {\n",
       "        vertical-align: middle;\n",
       "    }\n",
       "\n",
       "    .dataframe tbody tr th {\n",
       "        vertical-align: top;\n",
       "    }\n",
       "\n",
       "    .dataframe thead th {\n",
       "        text-align: right;\n",
       "    }\n",
       "</style>\n",
       "<table border=\"1\" class=\"dataframe\">\n",
       "  <thead>\n",
       "    <tr style=\"text-align: right;\">\n",
       "      <th></th>\n",
       "      <th>Sex</th>\n",
       "      <th>Length</th>\n",
       "      <th>Height</th>\n",
       "      <th>Shucked weight</th>\n",
       "      <th>Viscera weight</th>\n",
       "      <th>Shell weight</th>\n",
       "    </tr>\n",
       "  </thead>\n",
       "  <tbody>\n",
       "    <tr>\n",
       "      <th>0</th>\n",
       "      <td>1.124433</td>\n",
       "      <td>-0.693663</td>\n",
       "      <td>-1.186386</td>\n",
       "      <td>-0.534342</td>\n",
       "      <td>-0.661271</td>\n",
       "      <td>-0.584193</td>\n",
       "    </tr>\n",
       "    <tr>\n",
       "      <th>1</th>\n",
       "      <td>1.124433</td>\n",
       "      <td>-1.461380</td>\n",
       "      <td>-1.310756</td>\n",
       "      <td>-1.335135</td>\n",
       "      <td>-1.355606</td>\n",
       "      <td>-1.387817</td>\n",
       "    </tr>\n",
       "    <tr>\n",
       "      <th>2</th>\n",
       "      <td>-1.305600</td>\n",
       "      <td>-0.051901</td>\n",
       "      <td>-0.153200</td>\n",
       "      <td>-0.355082</td>\n",
       "      <td>-0.227452</td>\n",
       "      <td>-0.080924</td>\n",
       "    </tr>\n",
       "    <tr>\n",
       "      <th>3</th>\n",
       "      <td>1.124433</td>\n",
       "      <td>-0.813057</td>\n",
       "      <td>-0.417331</td>\n",
       "      <td>-0.584372</td>\n",
       "      <td>-0.515253</td>\n",
       "      <td>-0.536537</td>\n",
       "    </tr>\n",
       "    <tr>\n",
       "      <th>4</th>\n",
       "      <td>-0.009128</td>\n",
       "      <td>-1.588515</td>\n",
       "      <td>-1.555797</td>\n",
       "      <td>-1.412349</td>\n",
       "      <td>-1.502412</td>\n",
       "      <td>-1.554380</td>\n",
       "    </tr>\n",
       "    <tr>\n",
       "      <th>...</th>\n",
       "      <td>...</td>\n",
       "      <td>...</td>\n",
       "      <td>...</td>\n",
       "      <td>...</td>\n",
       "      <td>...</td>\n",
       "      <td>...</td>\n",
       "    </tr>\n",
       "    <tr>\n",
       "      <th>4149</th>\n",
       "      <td>-1.305600</td>\n",
       "      <td>0.271935</td>\n",
       "      <td>0.659287</td>\n",
       "      <td>0.207882</td>\n",
       "      <td>0.642784</td>\n",
       "      <td>0.204861</td>\n",
       "    </tr>\n",
       "    <tr>\n",
       "      <th>4150</th>\n",
       "      <td>1.124433</td>\n",
       "      <td>0.512292</td>\n",
       "      <td>-0.153200</td>\n",
       "      <td>0.521719</td>\n",
       "      <td>0.440659</td>\n",
       "      <td>0.290382</td>\n",
       "    </tr>\n",
       "    <tr>\n",
       "      <th>4151</th>\n",
       "      <td>1.124433</td>\n",
       "      <td>0.610498</td>\n",
       "      <td>1.783398</td>\n",
       "      <td>0.877410</td>\n",
       "      <td>1.015492</td>\n",
       "      <td>0.633038</td>\n",
       "    </tr>\n",
       "    <tr>\n",
       "      <th>4152</th>\n",
       "      <td>-1.305600</td>\n",
       "      <td>0.861079</td>\n",
       "      <td>0.249454</td>\n",
       "      <td>0.900761</td>\n",
       "      <td>0.813214</td>\n",
       "      <td>0.555803</td>\n",
       "    </tr>\n",
       "    <tr>\n",
       "      <th>4153</th>\n",
       "      <td>1.124433</td>\n",
       "      <td>1.765371</td>\n",
       "      <td>1.498401</td>\n",
       "      <td>1.799885</td>\n",
       "      <td>1.587105</td>\n",
       "      <td>1.582397</td>\n",
       "    </tr>\n",
       "  </tbody>\n",
       "</table>\n",
       "<p>4154 rows × 6 columns</p>\n",
       "</div>"
      ],
      "text/plain": [
       "           Sex    Length    Height  Shucked weight  Viscera weight  \\\n",
       "0     1.124433 -0.693663 -1.186386       -0.534342       -0.661271   \n",
       "1     1.124433 -1.461380 -1.310756       -1.335135       -1.355606   \n",
       "2    -1.305600 -0.051901 -0.153200       -0.355082       -0.227452   \n",
       "3     1.124433 -0.813057 -0.417331       -0.584372       -0.515253   \n",
       "4    -0.009128 -1.588515 -1.555797       -1.412349       -1.502412   \n",
       "...        ...       ...       ...             ...             ...   \n",
       "4149 -1.305600  0.271935  0.659287        0.207882        0.642784   \n",
       "4150  1.124433  0.512292 -0.153200        0.521719        0.440659   \n",
       "4151  1.124433  0.610498  1.783398        0.877410        1.015492   \n",
       "4152 -1.305600  0.861079  0.249454        0.900761        0.813214   \n",
       "4153  1.124433  1.765371  1.498401        1.799885        1.587105   \n",
       "\n",
       "      Shell weight  \n",
       "0        -0.584193  \n",
       "1        -1.387817  \n",
       "2        -0.080924  \n",
       "3        -0.536537  \n",
       "4        -1.554380  \n",
       "...            ...  \n",
       "4149      0.204861  \n",
       "4150      0.290382  \n",
       "4151      0.633038  \n",
       "4152      0.555803  \n",
       "4153      1.582397  \n",
       "\n",
       "[4154 rows x 6 columns]"
      ]
     },
     "execution_count": 32,
     "metadata": {},
     "output_type": "execute_result"
    }
   ],
   "source": [
    "X_transform = PowerTransformer().fit_transform(X)\n",
    "X = pd.DataFrame(X_transform,columns=X.columns)\n",
    "X"
   ]
  },
  {
   "cell_type": "code",
   "execution_count": 33,
   "id": "dd109313",
   "metadata": {},
   "outputs": [
    {
     "data": {
      "text/plain": [
       "Shell weight     -0.190112\n",
       "Sex              -0.176958\n",
       "Shucked weight   -0.175338\n",
       "Length           -0.164688\n",
       "Viscera weight   -0.138374\n",
       "Height           -0.056371\n",
       "dtype: float64"
      ]
     },
     "execution_count": 33,
     "metadata": {},
     "output_type": "execute_result"
    }
   ],
   "source": [
    "X.skew().sort_values()"
   ]
  },
  {
   "cell_type": "markdown",
   "id": "b2bce15c",
   "metadata": {},
   "source": [
    "# Train Test Split"
   ]
  },
  {
   "cell_type": "code",
   "execution_count": 34,
   "id": "623ab055",
   "metadata": {},
   "outputs": [],
   "source": [
    "X_train,X_test,y_train, y_test = train_test_split(X,y,test_size=0.33,random_state=41)"
   ]
  },
  {
   "cell_type": "code",
   "execution_count": 35,
   "id": "76070ddf",
   "metadata": {},
   "outputs": [
    {
     "name": "stdout",
     "output_type": "stream",
     "text": [
      "(2783, 6) (2783,)\n"
     ]
    }
   ],
   "source": [
    "print(X_train.shape,y_train.shape)"
   ]
  },
  {
   "cell_type": "code",
   "execution_count": 36,
   "id": "909c92ef",
   "metadata": {},
   "outputs": [
    {
     "name": "stdout",
     "output_type": "stream",
     "text": [
      "(1371, 6) (1371,)\n"
     ]
    }
   ],
   "source": [
    "print(X_test.shape,y_test.shape)"
   ]
  },
  {
   "cell_type": "markdown",
   "id": "531b26e4",
   "metadata": {},
   "source": [
    "# Logistic Regresison"
   ]
  },
  {
   "cell_type": "code",
   "execution_count": 37,
   "id": "e2d13681",
   "metadata": {},
   "outputs": [],
   "source": [
    "logisticRegression = LogisticRegression()"
   ]
  },
  {
   "cell_type": "code",
   "execution_count": 38,
   "id": "4f39b429",
   "metadata": {},
   "outputs": [
    {
     "name": "stderr",
     "output_type": "stream",
     "text": [
      "/home/aarav/anaconda3/lib/python3.8/site-packages/sklearn/linear_model/_logistic.py:763: ConvergenceWarning: lbfgs failed to converge (status=1):\n",
      "STOP: TOTAL NO. of ITERATIONS REACHED LIMIT.\n",
      "\n",
      "Increase the number of iterations (max_iter) or scale the data as shown in:\n",
      "    https://scikit-learn.org/stable/modules/preprocessing.html\n",
      "Please also refer to the documentation for alternative solver options:\n",
      "    https://scikit-learn.org/stable/modules/linear_model.html#logistic-regression\n",
      "  n_iter_i = _check_optimize_result(\n"
     ]
    },
    {
     "data": {
      "text/plain": [
       "LogisticRegression()"
      ]
     },
     "execution_count": 38,
     "metadata": {},
     "output_type": "execute_result"
    }
   ],
   "source": [
    "logisticRegression.fit(X_train,y_train)"
   ]
  },
  {
   "cell_type": "code",
   "execution_count": 39,
   "id": "2ccb4bdd",
   "metadata": {},
   "outputs": [
    {
     "data": {
      "text/plain": [
       "array([6, 8, 8, ..., 7, 8, 9])"
      ]
     },
     "execution_count": 39,
     "metadata": {},
     "output_type": "execute_result"
    }
   ],
   "source": [
    "y_predict = logisticRegression.predict(X_test)\n",
    "y_predict"
   ]
  },
  {
   "cell_type": "code",
   "execution_count": 40,
   "id": "0f292c3f",
   "metadata": {},
   "outputs": [
    {
     "data": {
      "text/plain": [
       "0.26914660831509846"
      ]
     },
     "execution_count": 40,
     "metadata": {},
     "output_type": "execute_result"
    }
   ],
   "source": [
    "logisticRegression.score(X_test,y_test)"
   ]
  },
  {
   "cell_type": "code",
   "execution_count": 41,
   "id": "9edc6df3",
   "metadata": {},
   "outputs": [
    {
     "data": {
      "text/plain": [
       "array([[ 0,  0,  2,  0,  0,  0,  0,  0,  0,  0,  0,  0,  0,  0,  0,  0,\n",
       "         0,  0,  0,  0,  0,  0,  0],\n",
       "       [ 0,  0, 17,  3,  1,  0,  0,  0,  0,  0,  0,  0,  0,  0,  0,  0,\n",
       "         0,  0,  0,  0,  0,  0,  0],\n",
       "       [ 0,  1, 18,  4, 11,  0,  0,  0,  0,  0,  0,  0,  0,  0,  0,  0,\n",
       "         0,  0,  0,  0,  0,  0,  0],\n",
       "       [ 0,  1,  7, 17, 64, 16,  1,  1,  0,  0,  0,  0,  0,  1,  0,  0,\n",
       "         0,  0,  0,  0,  0,  0,  0],\n",
       "       [ 0,  0,  5,  8, 61, 38,  6,  1,  1,  0,  0,  0,  0,  0,  0,  0,\n",
       "         0,  0,  0,  0,  0,  0,  0],\n",
       "       [ 0,  0,  3,  4, 35, 71, 55, 11,  1,  0,  0,  0,  0,  0,  0,  0,\n",
       "         0,  0,  0,  0,  0,  0,  0],\n",
       "       [ 0,  0,  0,  3, 22, 56, 92, 40,  9,  0,  1,  0,  0,  0,  0,  0,\n",
       "         0,  0,  0,  0,  0,  0,  0],\n",
       "       [ 0,  0,  0,  1, 18, 23, 81, 60, 30,  1,  3,  0,  0,  0,  0,  0,\n",
       "         0,  0,  0,  0,  0,  0,  0],\n",
       "       [ 0,  0,  0,  1,  3, 11, 45, 51, 45,  0,  1,  0,  0,  0,  0,  0,\n",
       "         0,  0,  0,  0,  0,  0,  0],\n",
       "       [ 0,  0,  0,  0,  5,  7, 21, 34, 19,  0,  2,  1,  0,  2,  0,  0,\n",
       "         0,  1,  0,  0,  0,  0,  0],\n",
       "       [ 0,  0,  0,  0,  1,  8,  7, 24, 15,  0,  5,  2,  0,  1,  0,  0,\n",
       "         0,  0,  0,  0,  0,  0,  0],\n",
       "       [ 0,  0,  0,  0,  0,  2,  9, 16,  9,  1,  2,  0,  0,  3,  0,  0,\n",
       "         0,  0,  0,  0,  0,  0,  0],\n",
       "       [ 0,  0,  0,  0,  0,  1,  9, 17,  6,  0,  8,  0,  0,  1,  0,  0,\n",
       "         0,  0,  0,  0,  0,  0,  0],\n",
       "       [ 0,  0,  0,  0,  0,  1,  1,  8,  2,  1,  4,  0,  0,  0,  0,  0,\n",
       "         0,  0,  0,  0,  0,  0,  0],\n",
       "       [ 0,  0,  0,  0,  0,  0,  1,  9,  2,  0,  2,  0,  0,  0,  0,  0,\n",
       "         0,  0,  0,  0,  0,  0,  0],\n",
       "       [ 0,  0,  0,  0,  0,  1,  0,  3,  8,  1,  0,  0,  0,  2,  0,  0,\n",
       "         0,  0,  0,  0,  0,  0,  0],\n",
       "       [ 0,  0,  0,  0,  0,  1,  0,  4,  1,  0,  0,  0,  0,  0,  0,  0,\n",
       "         0,  0,  0,  0,  0,  0,  0],\n",
       "       [ 0,  0,  0,  0,  0,  0,  0,  3,  2,  0,  0,  0,  0,  0,  0,  0,\n",
       "         0,  0,  0,  0,  0,  0,  0],\n",
       "       [ 0,  0,  0,  0,  0,  0,  1,  1,  1,  0,  1,  0,  0,  0,  0,  0,\n",
       "         0,  0,  0,  0,  0,  0,  0],\n",
       "       [ 0,  0,  0,  0,  0,  0,  0,  2,  0,  0,  0,  0,  0,  1,  0,  0,\n",
       "         0,  0,  0,  0,  0,  0,  0],\n",
       "       [ 0,  0,  0,  0,  0,  0,  0,  1,  1,  0,  0,  0,  0,  1,  0,  0,\n",
       "         0,  0,  0,  0,  0,  0,  0],\n",
       "       [ 0,  0,  0,  0,  0,  0,  0,  0,  0,  0,  0,  0,  0,  1,  0,  0,\n",
       "         0,  0,  0,  0,  0,  0,  0],\n",
       "       [ 0,  0,  0,  0,  0,  0,  0,  0,  1,  0,  0,  0,  0,  1,  0,  0,\n",
       "         0,  0,  0,  0,  0,  0,  0]])"
      ]
     },
     "execution_count": 41,
     "metadata": {},
     "output_type": "execute_result"
    }
   ],
   "source": [
    "confusion_matrix(y_test,y_predict)"
   ]
  },
  {
   "cell_type": "markdown",
   "id": "c9a5a400",
   "metadata": {},
   "source": [
    "### Grid Search CV"
   ]
  },
  {
   "cell_type": "code",
   "execution_count": 42,
   "id": "2533bdf8",
   "metadata": {},
   "outputs": [],
   "source": [
    "param_grid = {\n",
    "    'penalty' : ['l1','l2'],\n",
    "    'C': [0.001,0.01,0.1,1,10,100,1000],\n",
    "    'solver' : ['liblinear']\n",
    "}\n",
    "cv = GridSearchCV(LogisticRegression(),param_grid=param_grid,n_jobs=10)"
   ]
  },
  {
   "cell_type": "code",
   "execution_count": 43,
   "id": "1c30a0ae",
   "metadata": {},
   "outputs": [
    {
     "name": "stderr",
     "output_type": "stream",
     "text": [
      "/home/aarav/anaconda3/lib/python3.8/site-packages/sklearn/model_selection/_split.py:666: UserWarning: The least populated class in y has only 1 members, which is less than n_splits=5.\n",
      "  warnings.warn((\"The least populated class in y has only %d\"\n"
     ]
    },
    {
     "data": {
      "text/plain": [
       "GridSearchCV(estimator=LogisticRegression(), n_jobs=10,\n",
       "             param_grid={'C': [0.001, 0.01, 0.1, 1, 10, 100, 1000],\n",
       "                         'penalty': ['l1', 'l2'], 'solver': ['liblinear']})"
      ]
     },
     "execution_count": 43,
     "metadata": {},
     "output_type": "execute_result"
    }
   ],
   "source": [
    "cv.fit(X_train,y_train)"
   ]
  },
  {
   "cell_type": "code",
   "execution_count": 44,
   "id": "ff690d7b",
   "metadata": {},
   "outputs": [
    {
     "data": {
      "text/plain": [
       "0.25117471552381077"
      ]
     },
     "execution_count": 44,
     "metadata": {},
     "output_type": "execute_result"
    }
   ],
   "source": [
    "cv.best_score_"
   ]
  },
  {
   "cell_type": "code",
   "execution_count": 45,
   "id": "9503dda3",
   "metadata": {},
   "outputs": [
    {
     "data": {
      "text/plain": [
       "{'C': 1, 'penalty': 'l1', 'solver': 'liblinear'}"
      ]
     },
     "execution_count": 45,
     "metadata": {},
     "output_type": "execute_result"
    }
   ],
   "source": [
    "cv.best_params_"
   ]
  },
  {
   "cell_type": "markdown",
   "id": "2f174378",
   "metadata": {},
   "source": [
    "### Cross Validation"
   ]
  },
  {
   "cell_type": "code",
   "execution_count": 46,
   "id": "2be39955",
   "metadata": {},
   "outputs": [],
   "source": [
    "cv = KFold(n_splits=10,random_state=42,shuffle=True)\n",
    "scores = cross_val_score(\n",
    "    LogisticRegression(C=1,penalty='l1',solver='liblinear'),\n",
    "    X,\n",
    "    y,\n",
    "    scoring='accuracy',\n",
    "    cv=cv,\n",
    "    n_jobs=-1\n",
    ")"
   ]
  },
  {
   "cell_type": "code",
   "execution_count": 47,
   "id": "72f3d83c",
   "metadata": {},
   "outputs": [
    {
     "name": "stdout",
     "output_type": "stream",
     "text": [
      "scores: 0.24337233549582943\n",
      "std: 0.01432366679426808\n"
     ]
    }
   ],
   "source": [
    "print('scores:',np.mean(scores))\n",
    "print('std:',np.std(scores))"
   ]
  },
  {
   "cell_type": "code",
   "execution_count": 48,
   "id": "05cd5e42",
   "metadata": {},
   "outputs": [],
   "source": [
    "pickle.dump(logisticRegression,open('logistic_regression.pkl','wb'))"
   ]
  },
  {
   "cell_type": "markdown",
   "id": "3a5c6bbf",
   "metadata": {},
   "source": [
    "# Decision Tree Classifier"
   ]
  },
  {
   "cell_type": "code",
   "execution_count": 49,
   "id": "61f9980e",
   "metadata": {},
   "outputs": [],
   "source": [
    "decisionTreeClassifier = DecisionTreeClassifier(max_depth=10)"
   ]
  },
  {
   "cell_type": "code",
   "execution_count": 50,
   "id": "8324dc48",
   "metadata": {},
   "outputs": [
    {
     "data": {
      "text/plain": [
       "DecisionTreeClassifier(max_depth=10)"
      ]
     },
     "execution_count": 50,
     "metadata": {},
     "output_type": "execute_result"
    }
   ],
   "source": [
    "decisionTreeClassifier.fit(X_train,y_train)"
   ]
  },
  {
   "cell_type": "code",
   "execution_count": 51,
   "id": "10c70f60",
   "metadata": {},
   "outputs": [],
   "source": [
    "y_pred = decisionTreeClassifier.predict(X_test)"
   ]
  },
  {
   "cell_type": "code",
   "execution_count": 52,
   "id": "6162319e",
   "metadata": {},
   "outputs": [
    {
     "data": {
      "text/plain": [
       "0.22975929978118162"
      ]
     },
     "execution_count": 52,
     "metadata": {},
     "output_type": "execute_result"
    }
   ],
   "source": [
    "metrics.accuracy_score(y_test,y_pred)"
   ]
  },
  {
   "cell_type": "markdown",
   "id": "25441cc8",
   "metadata": {},
   "source": [
    "### Grid Search CV"
   ]
  },
  {
   "cell_type": "code",
   "execution_count": 53,
   "id": "a5ed63e1",
   "metadata": {},
   "outputs": [],
   "source": [
    "param_grid = {\n",
    "    'criterion': ['entropy','gini'],\n",
    "    'max_depth': [4,5,6,7,8,9,10,11,12,15,20,30,40,50,70,90,120,150],\n",
    "    'min_samples_leaf': [4,5,6,7,8,9,10,11,12,15,20,30,40,50,70,90,120,150],\n",
    "}\n",
    "cv = GridSearchCV(DecisionTreeClassifier(max_depth=10),param_grid=param_grid,n_jobs=10)"
   ]
  },
  {
   "cell_type": "code",
   "execution_count": 54,
   "id": "107c1230",
   "metadata": {},
   "outputs": [
    {
     "name": "stderr",
     "output_type": "stream",
     "text": [
      "/home/aarav/anaconda3/lib/python3.8/site-packages/sklearn/model_selection/_split.py:666: UserWarning: The least populated class in y has only 1 members, which is less than n_splits=5.\n",
      "  warnings.warn((\"The least populated class in y has only %d\"\n"
     ]
    },
    {
     "data": {
      "text/plain": [
       "GridSearchCV(estimator=DecisionTreeClassifier(max_depth=10), n_jobs=10,\n",
       "             param_grid={'criterion': ['entropy', 'gini'],\n",
       "                         'max_depth': [4, 5, 6, 7, 8, 9, 10, 11, 12, 15, 20, 30,\n",
       "                                       40, 50, 70, 90, 120, 150],\n",
       "                         'min_samples_leaf': [4, 5, 6, 7, 8, 9, 10, 11, 12, 15,\n",
       "                                              20, 30, 40, 50, 70, 90, 120,\n",
       "                                              150]})"
      ]
     },
     "execution_count": 54,
     "metadata": {},
     "output_type": "execute_result"
    }
   ],
   "source": [
    "cv.fit(X_train,y_train)"
   ]
  },
  {
   "cell_type": "code",
   "execution_count": 55,
   "id": "f09f1e58",
   "metadata": {},
   "outputs": [
    {
     "data": {
      "text/plain": [
       "0.26591193831290444"
      ]
     },
     "execution_count": 55,
     "metadata": {},
     "output_type": "execute_result"
    }
   ],
   "source": [
    "cv.best_score_"
   ]
  },
  {
   "cell_type": "code",
   "execution_count": 56,
   "id": "96421a28",
   "metadata": {},
   "outputs": [
    {
     "data": {
      "text/plain": [
       "{'criterion': 'gini', 'max_depth': 4, 'min_samples_leaf': 30}"
      ]
     },
     "execution_count": 56,
     "metadata": {},
     "output_type": "execute_result"
    }
   ],
   "source": [
    "cv.best_params_"
   ]
  },
  {
   "cell_type": "markdown",
   "id": "8456cd1a",
   "metadata": {},
   "source": [
    "### Cross Validation "
   ]
  },
  {
   "cell_type": "code",
   "execution_count": 57,
   "id": "e78a692b",
   "metadata": {},
   "outputs": [],
   "source": [
    "cv = KFold(n_splits=10,random_state=42,shuffle=True)\n",
    "scores = cross_val_score(\n",
    "    DecisionTreeClassifier(criterion = 'gini', max_depth = 5, min_samples_leaf=  30),\n",
    "    X,\n",
    "    y,\n",
    "    scoring='accuracy',\n",
    "    cv=cv,\n",
    "    n_jobs=-1\n",
    "    \n",
    ")"
   ]
  },
  {
   "cell_type": "code",
   "execution_count": 58,
   "id": "600d8dcb",
   "metadata": {},
   "outputs": [
    {
     "name": "stdout",
     "output_type": "stream",
     "text": [
      "scores: 0.26335437905468023\n",
      "std: 0.012839543226307416\n"
     ]
    }
   ],
   "source": [
    "print('scores:',np.mean(scores))\n",
    "print('std:',np.std(scores))"
   ]
  },
  {
   "cell_type": "code",
   "execution_count": 59,
   "id": "86894764",
   "metadata": {},
   "outputs": [],
   "source": [
    "pickle.dump(KFold,open('kfold.pkl','wb'))"
   ]
  },
  {
   "cell_type": "markdown",
   "id": "538d8957",
   "metadata": {},
   "source": [
    "# SVM "
   ]
  },
  {
   "cell_type": "code",
   "execution_count": 60,
   "id": "f11f0a2b",
   "metadata": {},
   "outputs": [],
   "source": [
    "svc = SVC(kernel='linear')"
   ]
  },
  {
   "cell_type": "code",
   "execution_count": 61,
   "id": "b78385ac",
   "metadata": {},
   "outputs": [
    {
     "data": {
      "text/plain": [
       "SVC(kernel='linear')"
      ]
     },
     "execution_count": 61,
     "metadata": {},
     "output_type": "execute_result"
    }
   ],
   "source": [
    "svc.fit(X_train,y_train)"
   ]
  },
  {
   "cell_type": "code",
   "execution_count": 62,
   "id": "f394478f",
   "metadata": {},
   "outputs": [
    {
     "data": {
      "text/plain": [
       "array([6, 8, 8, ..., 7, 8, 9])"
      ]
     },
     "execution_count": 62,
     "metadata": {},
     "output_type": "execute_result"
    }
   ],
   "source": [
    "y_pred = svc.predict(X_test)\n",
    "y_pred"
   ]
  },
  {
   "cell_type": "code",
   "execution_count": 63,
   "id": "4189027d",
   "metadata": {},
   "outputs": [
    {
     "data": {
      "text/plain": [
       "0.2567469000729395"
      ]
     },
     "execution_count": 63,
     "metadata": {},
     "output_type": "execute_result"
    }
   ],
   "source": [
    "metrics.accuracy_score(y_test,y_pred)"
   ]
  },
  {
   "cell_type": "markdown",
   "id": "a90b9f7d",
   "metadata": {},
   "source": [
    "### Grid Search CV"
   ]
  },
  {
   "cell_type": "code",
   "execution_count": 64,
   "id": "a425284e",
   "metadata": {},
   "outputs": [],
   "source": [
    "param_grid = {\n",
    "    'C': [1,10,100],\n",
    "    'kernel': ('linear','rbf'),\n",
    "    'gamma' : [1e-3, 1e-4]\n",
    "}\n",
    "cv = GridSearchCV(SVC(kernel='linear'),param_grid=param_grid,n_jobs=10)"
   ]
  },
  {
   "cell_type": "code",
   "execution_count": 65,
   "id": "99b374cb",
   "metadata": {
    "scrolled": true
   },
   "outputs": [
    {
     "name": "stderr",
     "output_type": "stream",
     "text": [
      "/home/aarav/anaconda3/lib/python3.8/site-packages/sklearn/model_selection/_split.py:666: UserWarning: The least populated class in y has only 1 members, which is less than n_splits=5.\n",
      "  warnings.warn((\"The least populated class in y has only %d\"\n"
     ]
    },
    {
     "data": {
      "text/plain": [
       "GridSearchCV(estimator=SVC(kernel='linear'), n_jobs=10,\n",
       "             param_grid={'C': [1, 10, 100], 'gamma': [0.001, 0.0001],\n",
       "                         'kernel': ('linear', 'rbf')})"
      ]
     },
     "execution_count": 65,
     "metadata": {},
     "output_type": "execute_result"
    }
   ],
   "source": [
    "cv.fit(X_train,y_train)"
   ]
  },
  {
   "cell_type": "code",
   "execution_count": 66,
   "id": "381598d6",
   "metadata": {
    "scrolled": true
   },
   "outputs": [
    {
     "data": {
      "text/plain": [
       "0.26410175270914327"
      ]
     },
     "execution_count": 66,
     "metadata": {},
     "output_type": "execute_result"
    }
   ],
   "source": [
    "cv.best_score_"
   ]
  },
  {
   "cell_type": "code",
   "execution_count": 67,
   "id": "bdfb882f",
   "metadata": {},
   "outputs": [
    {
     "data": {
      "text/plain": [
       "{'C': 10, 'gamma': 0.001, 'kernel': 'linear'}"
      ]
     },
     "execution_count": 67,
     "metadata": {},
     "output_type": "execute_result"
    }
   ],
   "source": [
    "cv.best_params_"
   ]
  },
  {
   "cell_type": "markdown",
   "id": "a3e7385a",
   "metadata": {},
   "source": [
    "### Cross Validation "
   ]
  },
  {
   "cell_type": "code",
   "execution_count": 68,
   "id": "6a72b90e",
   "metadata": {},
   "outputs": [],
   "source": [
    "cv = KFold(\n",
    "    n_splits=10,random_state=42,shuffle=True\n",
    ")\n",
    "scores = cross_val_score(\n",
    "    SVC(C =  10, gamma = 0.001, kernel = 'linear'),\n",
    "    X,\n",
    "    y,\n",
    "    cv=cv,\n",
    "    scoring='accuracy',\n",
    "    n_jobs=-1\n",
    ")"
   ]
  },
  {
   "cell_type": "code",
   "execution_count": 69,
   "id": "cd8bec7f",
   "metadata": {
    "scrolled": true
   },
   "outputs": [
    {
     "name": "stdout",
     "output_type": "stream",
     "text": [
      "scores: 0.2633433734939759\n",
      "std: 0.02555221268410239\n"
     ]
    }
   ],
   "source": [
    "print('scores:',np.mean(scores))\n",
    "print('std:',np.std(scores))"
   ]
  },
  {
   "cell_type": "code",
   "execution_count": 70,
   "id": "be95c9c3",
   "metadata": {},
   "outputs": [],
   "source": [
    "pickle.dump(svc,open('svc.pkl','wb'))"
   ]
  },
  {
   "cell_type": "markdown",
   "id": "3ce2e0e8",
   "metadata": {},
   "source": [
    "# KNN"
   ]
  },
  {
   "cell_type": "code",
   "execution_count": 71,
   "id": "8b649b52",
   "metadata": {},
   "outputs": [],
   "source": [
    "knn = KNeighborsClassifier(n_neighbors=5)"
   ]
  },
  {
   "cell_type": "code",
   "execution_count": 72,
   "id": "67327662",
   "metadata": {},
   "outputs": [
    {
     "data": {
      "text/plain": [
       "KNeighborsClassifier()"
      ]
     },
     "execution_count": 72,
     "metadata": {},
     "output_type": "execute_result"
    }
   ],
   "source": [
    "knn.fit(X_train,y_train)"
   ]
  },
  {
   "cell_type": "code",
   "execution_count": 73,
   "id": "2283bb1b",
   "metadata": {},
   "outputs": [],
   "source": [
    "y_pred = knn.predict(X_test)"
   ]
  },
  {
   "cell_type": "code",
   "execution_count": 74,
   "id": "e9a7b6b3",
   "metadata": {},
   "outputs": [
    {
     "data": {
      "text/plain": [
       "0.2049598832968636"
      ]
     },
     "execution_count": 74,
     "metadata": {},
     "output_type": "execute_result"
    }
   ],
   "source": [
    "metrics.accuracy_score(y_test,y_pred)"
   ]
  },
  {
   "cell_type": "markdown",
   "id": "3de4bb87",
   "metadata": {},
   "source": [
    "### Grid Search CV"
   ]
  },
  {
   "cell_type": "code",
   "execution_count": 75,
   "id": "203763ee",
   "metadata": {},
   "outputs": [],
   "source": [
    "param_grid = {\n",
    "    'n_neighbors': [2,3,5,11,19],\n",
    "    'weights':['uniform','distance'],\n",
    "    'metric' : ['euclidean','manhattan']\n",
    "}\n",
    "cv = GridSearchCV(KNeighborsClassifier(n_neighbors=5),param_grid=param_grid,n_jobs=10)"
   ]
  },
  {
   "cell_type": "code",
   "execution_count": 76,
   "id": "a4ace03e",
   "metadata": {},
   "outputs": [
    {
     "name": "stderr",
     "output_type": "stream",
     "text": [
      "/home/aarav/anaconda3/lib/python3.8/site-packages/sklearn/model_selection/_split.py:666: UserWarning: The least populated class in y has only 1 members, which is less than n_splits=5.\n",
      "  warnings.warn((\"The least populated class in y has only %d\"\n"
     ]
    },
    {
     "data": {
      "text/plain": [
       "GridSearchCV(estimator=KNeighborsClassifier(), n_jobs=10,\n",
       "             param_grid={'metric': ['euclidean', 'manhattan'],\n",
       "                         'n_neighbors': [2, 3, 5, 11, 19],\n",
       "                         'weights': ['uniform', 'distance']})"
      ]
     },
     "execution_count": 76,
     "metadata": {},
     "output_type": "execute_result"
    }
   ],
   "source": [
    "cv.fit(X_train,y_train)"
   ]
  },
  {
   "cell_type": "code",
   "execution_count": 77,
   "id": "82555ea5",
   "metadata": {},
   "outputs": [
    {
     "data": {
      "text/plain": [
       "0.25800537308035076"
      ]
     },
     "execution_count": 77,
     "metadata": {},
     "output_type": "execute_result"
    }
   ],
   "source": [
    "cv.best_score_"
   ]
  },
  {
   "cell_type": "code",
   "execution_count": 78,
   "id": "1bf5e0aa",
   "metadata": {},
   "outputs": [
    {
     "data": {
      "text/plain": [
       "{'metric': 'euclidean', 'n_neighbors': 19, 'weights': 'distance'}"
      ]
     },
     "execution_count": 78,
     "metadata": {},
     "output_type": "execute_result"
    }
   ],
   "source": [
    "cv.best_params_"
   ]
  },
  {
   "cell_type": "markdown",
   "id": "597ce2ae",
   "metadata": {},
   "source": [
    "### Cross Validation "
   ]
  },
  {
   "cell_type": "code",
   "execution_count": 79,
   "id": "ac2d975e",
   "metadata": {},
   "outputs": [],
   "source": [
    "cv = KFold(n_splits=10,random_state=42,shuffle=True)\n",
    "scores = cross_val_score(\n",
    "    KNeighborsClassifier(metric= 'euclidean', n_neighbors = 19, weights = 'uniform'),\n",
    "    X,\n",
    "    y,\n",
    "    cv=cv,\n",
    "    scoring='accuracy',\n",
    "    n_jobs=-1\n",
    ")"
   ]
  },
  {
   "cell_type": "code",
   "execution_count": 80,
   "id": "1ab27df2",
   "metadata": {},
   "outputs": [
    {
     "name": "stdout",
     "output_type": "stream",
     "text": [
      "scores: 0.24121408711770162\n",
      "std: 0.013667352928006417\n"
     ]
    }
   ],
   "source": [
    "print('scores:',np.mean(scores))\n",
    "print('std:',np.std(scores))"
   ]
  },
  {
   "cell_type": "code",
   "execution_count": 81,
   "id": "2eb8d3dc",
   "metadata": {},
   "outputs": [],
   "source": [
    "pickle.dump(knn,open('knn.pkl','wb'))"
   ]
  },
  {
   "cell_type": "markdown",
   "id": "dad3663e",
   "metadata": {},
   "source": [
    "# Conclusion"
   ]
  },
  {
   "cell_type": "markdown",
   "id": "044a6bed",
   "metadata": {},
   "source": [
    "Best Model is SVM with 25%"
   ]
  },
  {
   "cell_type": "markdown",
   "id": "9cfeb18c",
   "metadata": {},
   "source": [
    "### If we put the binning in rings\n",
    "* 1  [0,4] Less rings\n",
    "* 2  [5,15] Middum Rings\n",
    "* 3  [16-29] Many Rtings"
   ]
  },
  {
   "cell_type": "code",
   "execution_count": 82,
   "id": "5c9353f3",
   "metadata": {},
   "outputs": [
    {
     "data": {
      "text/plain": [
       "0       14\n",
       "1        6\n",
       "2        8\n",
       "3        9\n",
       "4        6\n",
       "        ..\n",
       "4172    10\n",
       "4173     9\n",
       "4174     8\n",
       "4175     9\n",
       "4176    11\n",
       "Name: Rings, Length: 4154, dtype: int64"
      ]
     },
     "execution_count": 82,
     "metadata": {},
     "output_type": "execute_result"
    }
   ],
   "source": [
    "df['Rings']"
   ]
  },
  {
   "cell_type": "code",
   "execution_count": 83,
   "id": "2d33277e",
   "metadata": {},
   "outputs": [],
   "source": [
    "def apply_binning(rings):\n",
    "    if rings > 15:\n",
    "        return 3\n",
    "    elif rings > 4 and rings <= 15:\n",
    "        return 2\n",
    "    else:\n",
    "        return 1"
   ]
  },
  {
   "cell_type": "code",
   "execution_count": 84,
   "id": "213c1cd6",
   "metadata": {},
   "outputs": [
    {
     "name": "stderr",
     "output_type": "stream",
     "text": [
      "<ipython-input-84-24ef883f2c9c>:1: SettingWithCopyWarning: \n",
      "A value is trying to be set on a copy of a slice from a DataFrame.\n",
      "Try using .loc[row_indexer,col_indexer] = value instead\n",
      "\n",
      "See the caveats in the documentation: https://pandas.pydata.org/pandas-docs/stable/user_guide/indexing.html#returning-a-view-versus-a-copy\n",
      "  df['Rings'] = df['Rings'].apply(apply_binning)\n"
     ]
    },
    {
     "data": {
      "text/html": [
       "<div>\n",
       "<style scoped>\n",
       "    .dataframe tbody tr th:only-of-type {\n",
       "        vertical-align: middle;\n",
       "    }\n",
       "\n",
       "    .dataframe tbody tr th {\n",
       "        vertical-align: top;\n",
       "    }\n",
       "\n",
       "    .dataframe thead th {\n",
       "        text-align: right;\n",
       "    }\n",
       "</style>\n",
       "<table border=\"1\" class=\"dataframe\">\n",
       "  <thead>\n",
       "    <tr style=\"text-align: right;\">\n",
       "      <th></th>\n",
       "      <th>Sex</th>\n",
       "      <th>Length</th>\n",
       "      <th>Diameter</th>\n",
       "      <th>Height</th>\n",
       "      <th>Whole weight</th>\n",
       "      <th>Shucked weight</th>\n",
       "      <th>Viscera weight</th>\n",
       "      <th>Shell weight</th>\n",
       "      <th>Rings</th>\n",
       "    </tr>\n",
       "  </thead>\n",
       "  <tbody>\n",
       "    <tr>\n",
       "      <th>0</th>\n",
       "      <td>2</td>\n",
       "      <td>66</td>\n",
       "      <td>56</td>\n",
       "      <td>18</td>\n",
       "      <td>715</td>\n",
       "      <td>417</td>\n",
       "      <td>199</td>\n",
       "      <td>263</td>\n",
       "      <td>2</td>\n",
       "    </tr>\n",
       "    <tr>\n",
       "      <th>1</th>\n",
       "      <td>2</td>\n",
       "      <td>45</td>\n",
       "      <td>36</td>\n",
       "      <td>17</td>\n",
       "      <td>285</td>\n",
       "      <td>178</td>\n",
       "      <td>94</td>\n",
       "      <td>113</td>\n",
       "      <td>2</td>\n",
       "    </tr>\n",
       "    <tr>\n",
       "      <th>2</th>\n",
       "      <td>0</td>\n",
       "      <td>81</td>\n",
       "      <td>67</td>\n",
       "      <td>26</td>\n",
       "      <td>962</td>\n",
       "      <td>480</td>\n",
       "      <td>280</td>\n",
       "      <td>374</td>\n",
       "      <td>2</td>\n",
       "    </tr>\n",
       "    <tr>\n",
       "      <th>3</th>\n",
       "      <td>2</td>\n",
       "      <td>63</td>\n",
       "      <td>56</td>\n",
       "      <td>24</td>\n",
       "      <td>718</td>\n",
       "      <td>400</td>\n",
       "      <td>225</td>\n",
       "      <td>273</td>\n",
       "      <td>2</td>\n",
       "    </tr>\n",
       "    <tr>\n",
       "      <th>4</th>\n",
       "      <td>1</td>\n",
       "      <td>41</td>\n",
       "      <td>34</td>\n",
       "      <td>15</td>\n",
       "      <td>253</td>\n",
       "      <td>159</td>\n",
       "      <td>76</td>\n",
       "      <td>87</td>\n",
       "      <td>2</td>\n",
       "    </tr>\n",
       "    <tr>\n",
       "      <th>...</th>\n",
       "      <td>...</td>\n",
       "      <td>...</td>\n",
       "      <td>...</td>\n",
       "      <td>...</td>\n",
       "      <td>...</td>\n",
       "      <td>...</td>\n",
       "      <td>...</td>\n",
       "      <td>...</td>\n",
       "      <td>...</td>\n",
       "    </tr>\n",
       "    <tr>\n",
       "      <th>4172</th>\n",
       "      <td>0</td>\n",
       "      <td>88</td>\n",
       "      <td>73</td>\n",
       "      <td>32</td>\n",
       "      <td>1289</td>\n",
       "      <td>698</td>\n",
       "      <td>475</td>\n",
       "      <td>442</td>\n",
       "      <td>2</td>\n",
       "    </tr>\n",
       "    <tr>\n",
       "      <th>4173</th>\n",
       "      <td>2</td>\n",
       "      <td>93</td>\n",
       "      <td>71</td>\n",
       "      <td>26</td>\n",
       "      <td>1411</td>\n",
       "      <td>832</td>\n",
       "      <td>426</td>\n",
       "      <td>463</td>\n",
       "      <td>2</td>\n",
       "    </tr>\n",
       "    <tr>\n",
       "      <th>4174</th>\n",
       "      <td>2</td>\n",
       "      <td>95</td>\n",
       "      <td>78</td>\n",
       "      <td>40</td>\n",
       "      <td>1727</td>\n",
       "      <td>994</td>\n",
       "      <td>571</td>\n",
       "      <td>550</td>\n",
       "      <td>2</td>\n",
       "    </tr>\n",
       "    <tr>\n",
       "      <th>4175</th>\n",
       "      <td>0</td>\n",
       "      <td>100</td>\n",
       "      <td>80</td>\n",
       "      <td>29</td>\n",
       "      <td>1610</td>\n",
       "      <td>1005</td>\n",
       "      <td>518</td>\n",
       "      <td>530</td>\n",
       "      <td>2</td>\n",
       "    </tr>\n",
       "    <tr>\n",
       "      <th>4176</th>\n",
       "      <td>2</td>\n",
       "      <td>117</td>\n",
       "      <td>94</td>\n",
       "      <td>38</td>\n",
       "      <td>2348</td>\n",
       "      <td>1461</td>\n",
       "      <td>732</td>\n",
       "      <td>813</td>\n",
       "      <td>2</td>\n",
       "    </tr>\n",
       "  </tbody>\n",
       "</table>\n",
       "<p>4154 rows × 9 columns</p>\n",
       "</div>"
      ],
      "text/plain": [
       "      Sex  Length  Diameter  Height  Whole weight  Shucked weight  \\\n",
       "0       2      66        56      18           715             417   \n",
       "1       2      45        36      17           285             178   \n",
       "2       0      81        67      26           962             480   \n",
       "3       2      63        56      24           718             400   \n",
       "4       1      41        34      15           253             159   \n",
       "...   ...     ...       ...     ...           ...             ...   \n",
       "4172    0      88        73      32          1289             698   \n",
       "4173    2      93        71      26          1411             832   \n",
       "4174    2      95        78      40          1727             994   \n",
       "4175    0     100        80      29          1610            1005   \n",
       "4176    2     117        94      38          2348            1461   \n",
       "\n",
       "      Viscera weight  Shell weight  Rings  \n",
       "0                199           263      2  \n",
       "1                 94           113      2  \n",
       "2                280           374      2  \n",
       "3                225           273      2  \n",
       "4                 76            87      2  \n",
       "...              ...           ...    ...  \n",
       "4172             475           442      2  \n",
       "4173             426           463      2  \n",
       "4174             571           550      2  \n",
       "4175             518           530      2  \n",
       "4176             732           813      2  \n",
       "\n",
       "[4154 rows x 9 columns]"
      ]
     },
     "execution_count": 84,
     "metadata": {},
     "output_type": "execute_result"
    }
   ],
   "source": [
    "df['Rings'] = df['Rings'].apply(apply_binning)\n",
    "df"
   ]
  },
  {
   "cell_type": "code",
   "execution_count": 85,
   "id": "fe099c9f",
   "metadata": {},
   "outputs": [
    {
     "data": {
      "text/plain": [
       "2    3790\n",
       "3     194\n",
       "1     170\n",
       "Name: Rings, dtype: int64"
      ]
     },
     "execution_count": 85,
     "metadata": {},
     "output_type": "execute_result"
    }
   ],
   "source": [
    "df['Rings'].value_counts()"
   ]
  },
  {
   "cell_type": "code",
   "execution_count": 86,
   "id": "a8e2d610",
   "metadata": {},
   "outputs": [
    {
     "data": {
      "text/html": [
       "<div>\n",
       "<style scoped>\n",
       "    .dataframe tbody tr th:only-of-type {\n",
       "        vertical-align: middle;\n",
       "    }\n",
       "\n",
       "    .dataframe tbody tr th {\n",
       "        vertical-align: top;\n",
       "    }\n",
       "\n",
       "    .dataframe thead th {\n",
       "        text-align: right;\n",
       "    }\n",
       "</style>\n",
       "<table border=\"1\" class=\"dataframe\">\n",
       "  <thead>\n",
       "    <tr style=\"text-align: right;\">\n",
       "      <th></th>\n",
       "      <th>Sex</th>\n",
       "      <th>Length</th>\n",
       "      <th>Diameter</th>\n",
       "      <th>Height</th>\n",
       "      <th>Whole weight</th>\n",
       "      <th>Shucked weight</th>\n",
       "      <th>Viscera weight</th>\n",
       "      <th>Shell weight</th>\n",
       "    </tr>\n",
       "  </thead>\n",
       "  <tbody>\n",
       "    <tr>\n",
       "      <th>0</th>\n",
       "      <td>2</td>\n",
       "      <td>66</td>\n",
       "      <td>56</td>\n",
       "      <td>18</td>\n",
       "      <td>715</td>\n",
       "      <td>417</td>\n",
       "      <td>199</td>\n",
       "      <td>263</td>\n",
       "    </tr>\n",
       "    <tr>\n",
       "      <th>1</th>\n",
       "      <td>2</td>\n",
       "      <td>45</td>\n",
       "      <td>36</td>\n",
       "      <td>17</td>\n",
       "      <td>285</td>\n",
       "      <td>178</td>\n",
       "      <td>94</td>\n",
       "      <td>113</td>\n",
       "    </tr>\n",
       "    <tr>\n",
       "      <th>2</th>\n",
       "      <td>0</td>\n",
       "      <td>81</td>\n",
       "      <td>67</td>\n",
       "      <td>26</td>\n",
       "      <td>962</td>\n",
       "      <td>480</td>\n",
       "      <td>280</td>\n",
       "      <td>374</td>\n",
       "    </tr>\n",
       "    <tr>\n",
       "      <th>3</th>\n",
       "      <td>2</td>\n",
       "      <td>63</td>\n",
       "      <td>56</td>\n",
       "      <td>24</td>\n",
       "      <td>718</td>\n",
       "      <td>400</td>\n",
       "      <td>225</td>\n",
       "      <td>273</td>\n",
       "    </tr>\n",
       "    <tr>\n",
       "      <th>4</th>\n",
       "      <td>1</td>\n",
       "      <td>41</td>\n",
       "      <td>34</td>\n",
       "      <td>15</td>\n",
       "      <td>253</td>\n",
       "      <td>159</td>\n",
       "      <td>76</td>\n",
       "      <td>87</td>\n",
       "    </tr>\n",
       "    <tr>\n",
       "      <th>...</th>\n",
       "      <td>...</td>\n",
       "      <td>...</td>\n",
       "      <td>...</td>\n",
       "      <td>...</td>\n",
       "      <td>...</td>\n",
       "      <td>...</td>\n",
       "      <td>...</td>\n",
       "      <td>...</td>\n",
       "    </tr>\n",
       "    <tr>\n",
       "      <th>4172</th>\n",
       "      <td>0</td>\n",
       "      <td>88</td>\n",
       "      <td>73</td>\n",
       "      <td>32</td>\n",
       "      <td>1289</td>\n",
       "      <td>698</td>\n",
       "      <td>475</td>\n",
       "      <td>442</td>\n",
       "    </tr>\n",
       "    <tr>\n",
       "      <th>4173</th>\n",
       "      <td>2</td>\n",
       "      <td>93</td>\n",
       "      <td>71</td>\n",
       "      <td>26</td>\n",
       "      <td>1411</td>\n",
       "      <td>832</td>\n",
       "      <td>426</td>\n",
       "      <td>463</td>\n",
       "    </tr>\n",
       "    <tr>\n",
       "      <th>4174</th>\n",
       "      <td>2</td>\n",
       "      <td>95</td>\n",
       "      <td>78</td>\n",
       "      <td>40</td>\n",
       "      <td>1727</td>\n",
       "      <td>994</td>\n",
       "      <td>571</td>\n",
       "      <td>550</td>\n",
       "    </tr>\n",
       "    <tr>\n",
       "      <th>4175</th>\n",
       "      <td>0</td>\n",
       "      <td>100</td>\n",
       "      <td>80</td>\n",
       "      <td>29</td>\n",
       "      <td>1610</td>\n",
       "      <td>1005</td>\n",
       "      <td>518</td>\n",
       "      <td>530</td>\n",
       "    </tr>\n",
       "    <tr>\n",
       "      <th>4176</th>\n",
       "      <td>2</td>\n",
       "      <td>117</td>\n",
       "      <td>94</td>\n",
       "      <td>38</td>\n",
       "      <td>2348</td>\n",
       "      <td>1461</td>\n",
       "      <td>732</td>\n",
       "      <td>813</td>\n",
       "    </tr>\n",
       "  </tbody>\n",
       "</table>\n",
       "<p>4154 rows × 8 columns</p>\n",
       "</div>"
      ],
      "text/plain": [
       "      Sex  Length  Diameter  Height  Whole weight  Shucked weight  \\\n",
       "0       2      66        56      18           715             417   \n",
       "1       2      45        36      17           285             178   \n",
       "2       0      81        67      26           962             480   \n",
       "3       2      63        56      24           718             400   \n",
       "4       1      41        34      15           253             159   \n",
       "...   ...     ...       ...     ...           ...             ...   \n",
       "4172    0      88        73      32          1289             698   \n",
       "4173    2      93        71      26          1411             832   \n",
       "4174    2      95        78      40          1727             994   \n",
       "4175    0     100        80      29          1610            1005   \n",
       "4176    2     117        94      38          2348            1461   \n",
       "\n",
       "      Viscera weight  Shell weight  \n",
       "0                199           263  \n",
       "1                 94           113  \n",
       "2                280           374  \n",
       "3                225           273  \n",
       "4                 76            87  \n",
       "...              ...           ...  \n",
       "4172             475           442  \n",
       "4173             426           463  \n",
       "4174             571           550  \n",
       "4175             518           530  \n",
       "4176             732           813  \n",
       "\n",
       "[4154 rows x 8 columns]"
      ]
     },
     "execution_count": 86,
     "metadata": {},
     "output_type": "execute_result"
    }
   ],
   "source": [
    "X = df.iloc[:,:-1]\n",
    "X"
   ]
  },
  {
   "cell_type": "code",
   "execution_count": 87,
   "id": "d5cc2b1a",
   "metadata": {},
   "outputs": [
    {
     "data": {
      "text/plain": [
       "0       2\n",
       "1       2\n",
       "2       2\n",
       "3       2\n",
       "4       2\n",
       "       ..\n",
       "4172    2\n",
       "4173    2\n",
       "4174    2\n",
       "4175    2\n",
       "4176    2\n",
       "Name: Rings, Length: 4154, dtype: int64"
      ]
     },
     "execution_count": 87,
     "metadata": {},
     "output_type": "execute_result"
    }
   ],
   "source": [
    "y = df.iloc[:,-1]\n",
    "y"
   ]
  },
  {
   "cell_type": "markdown",
   "id": "6723fe81",
   "metadata": {},
   "source": [
    "## appling SMOTE"
   ]
  },
  {
   "cell_type": "code",
   "execution_count": 88,
   "id": "79442610",
   "metadata": {},
   "outputs": [],
   "source": [
    "smote = SMOTE()"
   ]
  },
  {
   "cell_type": "code",
   "execution_count": 89,
   "id": "f03c64d2",
   "metadata": {},
   "outputs": [],
   "source": [
    "X, y = smote.fit_resample(X,y)"
   ]
  },
  {
   "cell_type": "code",
   "execution_count": 90,
   "id": "1aeaafa7",
   "metadata": {},
   "outputs": [
    {
     "data": {
      "text/plain": [
       "1    3790\n",
       "2    3790\n",
       "3    3790\n",
       "Name: Rings, dtype: int64"
      ]
     },
     "execution_count": 90,
     "metadata": {},
     "output_type": "execute_result"
    }
   ],
   "source": [
    "y.value_counts()"
   ]
  },
  {
   "cell_type": "markdown",
   "id": "4e2fdc5e",
   "metadata": {},
   "source": [
    "## appling SVM"
   ]
  },
  {
   "cell_type": "code",
   "execution_count": 91,
   "id": "f3009485",
   "metadata": {},
   "outputs": [],
   "source": [
    "X_train,X_test,y_train, y_test = train_test_split(X,y,test_size=0.33,random_state=41)"
   ]
  },
  {
   "cell_type": "code",
   "execution_count": 92,
   "id": "dafc6544",
   "metadata": {},
   "outputs": [],
   "source": [
    "svc = SVC()"
   ]
  },
  {
   "cell_type": "code",
   "execution_count": 93,
   "id": "b5f625ba",
   "metadata": {},
   "outputs": [
    {
     "data": {
      "text/plain": [
       "SVC()"
      ]
     },
     "execution_count": 93,
     "metadata": {},
     "output_type": "execute_result"
    }
   ],
   "source": [
    "svc.fit(X_train,y_train)"
   ]
  },
  {
   "cell_type": "code",
   "execution_count": 94,
   "id": "4642ae55",
   "metadata": {},
   "outputs": [],
   "source": [
    "y_pred = svc.predict(X_test)"
   ]
  },
  {
   "cell_type": "code",
   "execution_count": 95,
   "id": "045adf1b",
   "metadata": {},
   "outputs": [
    {
     "data": {
      "text/plain": [
       "0.8499866773248068"
      ]
     },
     "execution_count": 95,
     "metadata": {},
     "output_type": "execute_result"
    }
   ],
   "source": [
    "metrics.accuracy_score(y_test,y_pred)"
   ]
  },
  {
   "cell_type": "markdown",
   "id": "2bed8fec",
   "metadata": {},
   "source": [
    "## Grid Search CV"
   ]
  },
  {
   "cell_type": "code",
   "execution_count": 96,
   "id": "07ead7ce",
   "metadata": {},
   "outputs": [],
   "source": [
    "param_grid = {\n",
    "    'C': [1,10,100],\n",
    "    'kernel': ('linear','rbf'),\n",
    "    'gamma' : [1e-3, 1e-4]\n",
    "}\n",
    "cv = GridSearchCV(SVC(kernel='linear'),param_grid=param_grid,n_jobs=20)"
   ]
  },
  {
   "cell_type": "code",
   "execution_count": null,
   "id": "f3c88bcc",
   "metadata": {
    "scrolled": true
   },
   "outputs": [],
   "source": [
    "cv.fit(X_train,y_train)"
   ]
  },
  {
   "cell_type": "code",
   "execution_count": null,
   "id": "074041d6",
   "metadata": {
    "scrolled": true
   },
   "outputs": [],
   "source": [
    "cv.best_score_"
   ]
  },
  {
   "cell_type": "code",
   "execution_count": null,
   "id": "8f68ec12",
   "metadata": {},
   "outputs": [],
   "source": [
    "cv.best_params_"
   ]
  },
  {
   "cell_type": "markdown",
   "id": "568e78b4",
   "metadata": {},
   "source": [
    "### Cross Validation "
   ]
  },
  {
   "cell_type": "code",
   "execution_count": null,
   "id": "61bdfecc",
   "metadata": {},
   "outputs": [],
   "source": [
    "cv = KFold(\n",
    "    n_splits=10,random_state=42,shuffle=True\n",
    ")\n",
    "scores = cross_val_score(\n",
    "    SVC(C =  10, gamma = 0.001, kernel = 'linear'),\n",
    "    X,\n",
    "    y,\n",
    "    cv=cv,\n",
    "    scoring='accuracy',\n",
    "    n_jobs=-1\n",
    ")"
   ]
  },
  {
   "cell_type": "code",
   "execution_count": null,
   "id": "c02a98ef",
   "metadata": {
    "scrolled": true
   },
   "outputs": [],
   "source": [
    "print('scores:',np.mean(scores))\n",
    "print('std:',np.std(scores))"
   ]
  },
  {
   "cell_type": "code",
   "execution_count": null,
   "id": "e69d9021",
   "metadata": {},
   "outputs": [],
   "source": [
    "pickle.dump(svc,open('svc.pkl','wb'))"
   ]
  }
 ],
 "metadata": {
  "kernelspec": {
   "display_name": "Python 3",
   "language": "python",
   "name": "python3"
  },
  "language_info": {
   "codemirror_mode": {
    "name": "ipython",
    "version": 3
   },
   "file_extension": ".py",
   "mimetype": "text/x-python",
   "name": "python",
   "nbconvert_exporter": "python",
   "pygments_lexer": "ipython3",
   "version": "3.8.8"
  }
 },
 "nbformat": 4,
 "nbformat_minor": 5
}
