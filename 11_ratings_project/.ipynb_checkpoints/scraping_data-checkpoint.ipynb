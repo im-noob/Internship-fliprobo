{
 "cells": [
  {
   "cell_type": "code",
   "execution_count": 1,
   "id": "248692e1",
   "metadata": {},
   "outputs": [],
   "source": [
    "import pandas as pd\n",
    "import os\n",
    "from time import sleep\n",
    "from selenium import webdriver\n",
    "from selenium.webdriver.chrome.options import Options\n",
    "from selenium.webdriver.common.keys import Keys\n",
    "from selenium.webdriver.support import expected_conditions as EC\n",
    "from selenium.webdriver.support.ui import WebDriverWait\n",
    "from selenium.webdriver.support.ui import Select\n",
    "from selenium.common.exceptions import TimeoutException\n",
    "from selenium.common.exceptions import StaleElementReferenceException\n",
    "from selenium.common.exceptions import NoSuchElementException\n",
    "from selenium.webdriver.common.by import By"
   ]
  },
  {
   "cell_type": "code",
   "execution_count": 2,
   "id": "b352b14f",
   "metadata": {},
   "outputs": [],
   "source": [
    "CHROMEDRIVER_PATH = './chromedriver'\n",
    "WINDOW_SIZE = \"1920,1080\""
   ]
  },
  {
   "cell_type": "code",
   "execution_count": 3,
   "id": "68dc6fe5",
   "metadata": {},
   "outputs": [],
   "source": [
    "# Comman function for init driver\n",
    "def init_driver(url):\n",
    "    driver = webdriver.Chrome(executable_path=CHROMEDRIVER_PATH)\n",
    "    driver.maximize_window()\n",
    "    driver.get(url)\n",
    "    return driver"
   ]
  },
  {
   "cell_type": "code",
   "execution_count": 4,
   "id": "d9695f8a",
   "metadata": {},
   "outputs": [],
   "source": [
    "def wait_for_page_load(xpath_url):\n",
    "    try:\n",
    "        element_present = EC.presence_of_element_located((By.XPATH, xpath_url))\n",
    "        WebDriverWait(driver, 5).until(element_present)\n",
    "    except TimeoutException:\n",
    "        print(\"Timed out waiting for page to load\")\n",
    "    except NoSuchElementException:\n",
    "        print(\"Element not found\")"
   ]
  },
  {
   "cell_type": "code",
   "execution_count": 5,
   "id": "27cf6a0d",
   "metadata": {},
   "outputs": [],
   "source": [
    "product_ids = [\n",
    "    'B07BS4TJ43',\n",
    "#     'B07RJWB548',\n",
    "]\n",
    "# 6 records from each section total 54\n",
    "five_ratings = [\n",
    "    'five_star',\n",
    "#     'four_star',\n",
    "#     'three_star',\n",
    "#     'two_star',\n",
    "#     'one_star'\n",
    "]\n",
    "# https://www.amazon.in/product-reviews/B07BS4TJ43/"
   ]
  },
  {
   "cell_type": "code",
   "execution_count": 6,
   "id": "05b34cd2",
   "metadata": {},
   "outputs": [],
   "source": [
    "driver = init_driver('https://google.com')"
   ]
  },
  {
   "cell_type": "code",
   "execution_count": 14,
   "id": "8b3d3a8e",
   "metadata": {},
   "outputs": [],
   "source": [
    "final_data = [] \n",
    "def fetch_all_data():\n",
    "    product_count = 0  \n",
    "    while product_count < 5:\n",
    "        sleep(5)\n",
    "        # wait for page load\n",
    "        wait_for_page_load('//div[@data-hook=\"review\"]')    \n",
    "\n",
    "        # finding top all boxes \n",
    "        all_box = driver.find_elements_by_xpath('//div[@data-hook=\"review\"]') \n",
    "\n",
    "        # Ittrating over box to find details\n",
    "        for one_box in all_box:\n",
    "\n",
    "            rating = one_box.find_element_by_xpath('.//i/span[@class=\"a-icon-alt\"]').get_attribute('innerHTML')\n",
    "            review_summary = one_box.find_element_by_xpath('.//*[@data-hook=\"review-title\"]').text\n",
    "            full_review = one_box.find_element_by_xpath('.//span[@data-hook=\"review-body\"]').text\n",
    "\n",
    "\n",
    "\n",
    "            final_data.append({\n",
    "                'rating':rating,\n",
    "                'review_summary':review_summary,\n",
    "                'full_review':full_review,\n",
    "            })\n",
    "\n",
    "            product_count += 1\n",
    "            if product_count > 5:\n",
    "                break\n",
    "                \n",
    "            \n",
    "        # Go to next page\n",
    "        sleep(5)\n",
    "        try:\n",
    "            driver.find_element_by_xpath('//li[@class=\"a-last\"]').click()\n",
    "        except Exception:\n",
    "            break\n",
    "\n",
    "    job_data = pd.DataFrame(final_data)\n",
    "    job_data"
   ]
  },
  {
   "cell_type": "code",
   "execution_count": 15,
   "id": "91d4dfb1",
   "metadata": {
    "scrolled": false
   },
   "outputs": [
    {
     "name": "stdout",
     "output_type": "stream",
     "text": [
      "five_star\n",
      "5.0 out of 5 stars \n"
     ]
    }
   ],
   "source": [
    "for one_product_id in product_ids:    \n",
    "    review_url = f'https://www.amazon.in/product-reviews/{one_product_id}/'\n",
    " \n",
    "    # Goting to review page\n",
    "    driver.get(review_url)\n",
    "    \n",
    "    # Setting Which ratting to be fetched\n",
    "    for one_ratting in five_ratings:\n",
    "        print(one_ratting)\n",
    "        Select(driver.find_element_by_id('star-count-dropdown')).select_by_value(one_ratting)\n",
    "        sleep(2)\n",
    "        \n",
    "        fetch_all_data()\n"
   ]
  },
  {
   "cell_type": "code",
   "execution_count": 9,
   "id": "efe062b0",
   "metadata": {},
   "outputs": [
    {
     "data": {
      "text/html": [
       "<div>\n",
       "<style scoped>\n",
       "    .dataframe tbody tr th:only-of-type {\n",
       "        vertical-align: middle;\n",
       "    }\n",
       "\n",
       "    .dataframe tbody tr th {\n",
       "        vertical-align: top;\n",
       "    }\n",
       "\n",
       "    .dataframe thead th {\n",
       "        text-align: right;\n",
       "    }\n",
       "</style>\n",
       "<table border=\"1\" class=\"dataframe\">\n",
       "  <thead>\n",
       "    <tr style=\"text-align: right;\">\n",
       "      <th></th>\n",
       "    </tr>\n",
       "  </thead>\n",
       "  <tbody>\n",
       "  </tbody>\n",
       "</table>\n",
       "</div>"
      ],
      "text/plain": [
       "Empty DataFrame\n",
       "Columns: []\n",
       "Index: []"
      ]
     },
     "execution_count": 9,
     "metadata": {},
     "output_type": "execute_result"
    }
   ],
   "source": [
    "job_data = pd.DataFrame(final_data)\n",
    "job_data"
   ]
  },
  {
   "cell_type": "code",
   "execution_count": 10,
   "id": "81bdcd84",
   "metadata": {},
   "outputs": [
    {
     "ename": "IndexError",
     "evalue": "list index out of range",
     "output_type": "error",
     "traceback": [
      "\u001b[0;31m---------------------------------------------------------------------------\u001b[0m",
      "\u001b[0;31mIndexError\u001b[0m                                Traceback (most recent call last)",
      "\u001b[0;32m<ipython-input-10-1e5ba492f0e4>\u001b[0m in \u001b[0;36m<module>\u001b[0;34m\u001b[0m\n\u001b[0;32m----> 1\u001b[0;31m \u001b[0mfinal_data\u001b[0m\u001b[0;34m[\u001b[0m\u001b[0;36m0\u001b[0m\u001b[0;34m]\u001b[0m\u001b[0;34m\u001b[0m\u001b[0;34m\u001b[0m\u001b[0m\n\u001b[0m",
      "\u001b[0;31mIndexError\u001b[0m: list index out of range"
     ]
    }
   ],
   "source": [
    "final_data[0]"
   ]
  },
  {
   "cell_type": "code",
   "execution_count": null,
   "id": "6dd0d0f4",
   "metadata": {},
   "outputs": [],
   "source": [
    "final_data1 = final_data"
   ]
  },
  {
   "cell_type": "code",
   "execution_count": null,
   "id": "3d58fb7b",
   "metadata": {},
   "outputs": [],
   "source": []
  }
 ],
 "metadata": {
  "kernelspec": {
   "display_name": "Python 3",
   "language": "python",
   "name": "python3"
  },
  "language_info": {
   "codemirror_mode": {
    "name": "ipython",
    "version": 3
   },
   "file_extension": ".py",
   "mimetype": "text/x-python",
   "name": "python",
   "nbconvert_exporter": "python",
   "pygments_lexer": "ipython3",
   "version": "3.8.8"
  }
 },
 "nbformat": 4,
 "nbformat_minor": 5
}
