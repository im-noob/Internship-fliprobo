{
 "cells": [
  {
   "cell_type": "code",
   "execution_count": 1,
   "id": "248692e1",
   "metadata": {},
   "outputs": [],
   "source": [
    "import pandas as pd\n",
    "import os\n",
    "from time import sleep\n",
    "from selenium import webdriver\n",
    "from selenium.webdriver.chrome.options import Options\n",
    "from selenium.webdriver.common.keys import Keys\n",
    "from selenium.webdriver.support import expected_conditions as EC\n",
    "from selenium.webdriver.support.ui import WebDriverWait\n",
    "from selenium.webdriver.support.ui import Select\n",
    "from selenium.common.exceptions import TimeoutException\n",
    "from selenium.common.exceptions import StaleElementReferenceException\n",
    "from selenium.common.exceptions import NoSuchElementException\n",
    "from selenium.webdriver.common.by import By"
   ]
  },
  {
   "cell_type": "code",
   "execution_count": 2,
   "id": "b352b14f",
   "metadata": {},
   "outputs": [],
   "source": [
    "CHROMEDRIVER_PATH = './chromedriver'\n",
    "WINDOW_SIZE = \"1920,1080\""
   ]
  },
  {
   "cell_type": "code",
   "execution_count": 3,
   "id": "68dc6fe5",
   "metadata": {},
   "outputs": [],
   "source": [
    "# Comman function for init driver\n",
    "def init_driver(url):\n",
    "    driver = webdriver.Chrome(executable_path=CHROMEDRIVER_PATH)\n",
    "    driver.maximize_window()\n",
    "    driver.get(url)\n",
    "    return driver"
   ]
  },
  {
   "cell_type": "code",
   "execution_count": 4,
   "id": "d9695f8a",
   "metadata": {},
   "outputs": [],
   "source": [
    "def wait_for_page_load(xpath_url):\n",
    "    try:\n",
    "        element_present = EC.presence_of_element_located((By.XPATH, xpath_url))\n",
    "        WebDriverWait(driver, 5).until(element_present)\n",
    "    except TimeoutException:\n",
    "        print(\"Timed out waiting for page to load\")\n",
    "    except NoSuchElementException:\n",
    "        print(\"Element not found\")"
   ]
  },
  {
   "cell_type": "code",
   "execution_count": 5,
   "id": "27cf6a0d",
   "metadata": {},
   "outputs": [],
   "source": [
    "product_ids = [\n",
    "    'B07BS4TJ43',\n",
    "#     'B07RJWB548',\n",
    "]\n",
    "# 6 records from each section total 54\n",
    "five_ratings = [\n",
    "    'five_star',\n",
    "#     'four_star',\n",
    "#     'three_star',\n",
    "#     'two_star',\n",
    "#     'one_star'\n",
    "]\n",
    "# https://www.amazon.in/product-reviews/B07BS4TJ43/"
   ]
  },
  {
   "cell_type": "code",
   "execution_count": 6,
   "id": "d1fbf122",
   "metadata": {},
   "outputs": [],
   "source": [
    "driver = init_driver('https://google.com')"
   ]
  },
  {
   "cell_type": "code",
   "execution_count": 17,
   "id": "8b3d3a8e",
   "metadata": {},
   "outputs": [],
   "source": [
    "final_data = [] \n",
    "def fetch_all_data():\n",
    "    product_count = 0  \n",
    "    while product_count < 5:\n",
    "        sleep(5)\n",
    "        # wait for page load\n",
    "        wait_for_page_load('//div[@data-hook=\"review\"]')    \n",
    "\n",
    "        # finding top all boxes \n",
    "        all_box = driver.find_elements_by_xpath('//div[@data-hook=\"review\"]') \n",
    "\n",
    "        # Ittrating over box to find details\n",
    "        for one_box in all_box:\n",
    "\n",
    "            rating = one_box.find_element_by_xpath('.//i/span[@class=\"a-icon-alt\"]').get_attribute('innerHTML')\n",
    "            review_summary = one_box.find_element_by_xpath('.//*[@data-hook=\"review-title\"]').text\n",
    "            full_review = one_box.find_element_by_xpath('.//span[@data-hook=\"review-body\"]').text\n",
    "\n",
    "\n",
    "\n",
    "            final_data.append({\n",
    "                'rating':rating,\n",
    "                'review_summary':review_summary,\n",
    "                'full_review':full_review,\n",
    "            })\n",
    "\n",
    "            product_count += 1\n",
    "            if product_count > 5:\n",
    "                break\n",
    "                \n",
    "            \n",
    "        # Go to next page\n",
    "        sleep(5)\n",
    "        try:\n",
    "            driver.find_element_by_xpath('//li[@class=\"a-last\"]').click()\n",
    "        except Exception:\n",
    "            break\n",
    "\n",
    "    job_data = pd.DataFrame(final_data)\n",
    "    job_data"
   ]
  },
  {
   "cell_type": "code",
   "execution_count": 18,
   "id": "91d4dfb1",
   "metadata": {
    "scrolled": false
   },
   "outputs": [
    {
     "name": "stdout",
     "output_type": "stream",
     "text": [
      "five_star\n"
     ]
    }
   ],
   "source": [
    "for one_product_id in product_ids:    \n",
    "    review_url = f'https://www.amazon.in/product-reviews/{one_product_id}/'\n",
    " \n",
    "    # Goting to review page\n",
    "    driver.get(review_url)\n",
    "    \n",
    "    # Setting Which ratting to be fetched\n",
    "    for one_ratting in five_ratings:\n",
    "        print(one_ratting)\n",
    "        Select(driver.find_element_by_id('star-count-dropdown')).select_by_value(one_ratting)\n",
    "        sleep(2)\n",
    "        \n",
    "        fetch_all_data()\n"
   ]
  },
  {
   "cell_type": "code",
   "execution_count": 20,
   "id": "efe062b0",
   "metadata": {},
   "outputs": [
    {
     "data": {
      "text/html": [
       "<div>\n",
       "<style scoped>\n",
       "    .dataframe tbody tr th:only-of-type {\n",
       "        vertical-align: middle;\n",
       "    }\n",
       "\n",
       "    .dataframe tbody tr th {\n",
       "        vertical-align: top;\n",
       "    }\n",
       "\n",
       "    .dataframe thead th {\n",
       "        text-align: right;\n",
       "    }\n",
       "</style>\n",
       "<table border=\"1\" class=\"dataframe\">\n",
       "  <thead>\n",
       "    <tr style=\"text-align: right;\">\n",
       "      <th></th>\n",
       "      <th>rating</th>\n",
       "      <th>review_summary</th>\n",
       "      <th>full_review</th>\n",
       "    </tr>\n",
       "  </thead>\n",
       "  <tbody>\n",
       "    <tr>\n",
       "      <th>0</th>\n",
       "      <td>5.0 out of 5 stars</td>\n",
       "      <td>Good camera for beginners, must try it!</td>\n",
       "      <td>Good camera for beginners.</td>\n",
       "    </tr>\n",
       "    <tr>\n",
       "      <th>1</th>\n",
       "      <td>5.0 out of 5 stars</td>\n",
       "      <td>My first canon ....</td>\n",
       "      <td>Great camera. Perfect product for young buddin...</td>\n",
       "    </tr>\n",
       "    <tr>\n",
       "      <th>2</th>\n",
       "      <td>5.0 out of 5 stars</td>\n",
       "      <td>Best basic level dslr mainly for wireless remo...</td>\n",
       "      <td>Really impressed with Amazon surprise for deli...</td>\n",
       "    </tr>\n",
       "    <tr>\n",
       "      <th>3</th>\n",
       "      <td>5.0 out of 5 stars</td>\n",
       "      <td>What can I say...brothers it's \"canon\"!</td>\n",
       "      <td>I am really fully content with the product. It...</td>\n",
       "    </tr>\n",
       "    <tr>\n",
       "      <th>4</th>\n",
       "      <td>5.0 out of 5 stars</td>\n",
       "      <td>Begginers choice</td>\n",
       "      <td>This camera is a perfect choice if you are a b...</td>\n",
       "    </tr>\n",
       "    <tr>\n",
       "      <th>5</th>\n",
       "      <td>5.0 out of 5 stars</td>\n",
       "      <td>Nice Product</td>\n",
       "      <td>Good Product who are really have passion for p...</td>\n",
       "    </tr>\n",
       "  </tbody>\n",
       "</table>\n",
       "</div>"
      ],
      "text/plain": [
       "               rating                                     review_summary  \\\n",
       "0  5.0 out of 5 stars            Good camera for beginners, must try it!   \n",
       "1  5.0 out of 5 stars                                My first canon ....   \n",
       "2  5.0 out of 5 stars  Best basic level dslr mainly for wireless remo...   \n",
       "3  5.0 out of 5 stars            What can I say...brothers it's \"canon\"!   \n",
       "4  5.0 out of 5 stars                                   Begginers choice   \n",
       "5  5.0 out of 5 stars                                       Nice Product   \n",
       "\n",
       "                                         full_review  \n",
       "0                         Good camera for beginners.  \n",
       "1  Great camera. Perfect product for young buddin...  \n",
       "2  Really impressed with Amazon surprise for deli...  \n",
       "3  I am really fully content with the product. It...  \n",
       "4  This camera is a perfect choice if you are a b...  \n",
       "5  Good Product who are really have passion for p...  "
      ]
     },
     "execution_count": 20,
     "metadata": {},
     "output_type": "execute_result"
    }
   ],
   "source": [
    "job_data = pd.DataFrame(final_data)\n",
    "job_data"
   ]
  },
  {
   "cell_type": "code",
   "execution_count": 21,
   "id": "b751781b",
   "metadata": {},
   "outputs": [],
   "source": [
    "job_data.to_csv('scraped_data.csv')"
   ]
  }
 ],
 "metadata": {
  "kernelspec": {
   "display_name": "Python 3",
   "language": "python",
   "name": "python3"
  },
  "language_info": {
   "codemirror_mode": {
    "name": "ipython",
    "version": 3
   },
   "file_extension": ".py",
   "mimetype": "text/x-python",
   "name": "python",
   "nbconvert_exporter": "python",
   "pygments_lexer": "ipython3",
   "version": "3.8.8"
  }
 },
 "nbformat": 4,
 "nbformat_minor": 5
}
