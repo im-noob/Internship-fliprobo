{
 "cells": [
  {
   "cell_type": "markdown",
   "id": "d09c7e76",
   "metadata": {},
   "source": [
    "HOUSING_PRICE _PREDICTION\n",
    "\n",
    "Problem Statement:\n",
    "    \n",
    "Houses are one of the necessary need of each and every person around the globe and therefore housing and real estate \n",
    "market is one of the markets which is one of the major contributors in the world’s economy. It is a very large market \n",
    "and there are various companies working in the domain. Data science comes as a very important tool to solve problems \n",
    "in the domain to help the companies increase their overall revenue, profits, improving their marketing strategies and \n",
    "focusing on changing trends in house sales and purchases. Predictive modelling, Market mix modelling, \n",
    "recommendation systems are some of the machine learning techniques used for achieving the business goals for housing \n",
    "companies. Our problem is related to one such housing company.\n",
    "A US-based housing company named Surprise Housing has decided to enter the Australian market. The company uses \n",
    "data analytics to purchase houses at a price below their actual values and flip them at a higher price. For the same \n",
    "purpose, the company has collected a data set from the sale of houses in Australia. The data is provided in the CSV file \n",
    "below.\n",
    "The company is looking at prospective properties to buy houses to enter the market.We are required to build a model \n",
    "using Machine Learning in order to predict the actual value of the prospective properties and decide whether to invest \n",
    "in them or not. For this company wants to know:\n",
    "\n",
    "• Which variables are important to predict the price of variable?\n",
    "• How do these variables describe the price of the house?\n",
    "\n",
    "Business Goal:\n",
    "\n",
    "We are required to model the price of houses with the available independent variables. This model will then be used \n",
    "by the management to understand how exactly the prices vary with the variables. They can accordingly manipulate the \n",
    "strategy of the firm and concentrate on areas that will yield high returns. Further, the model will be a good way for the \n",
    "management to understand the pricing dynamics of a new market."
   ]
  },
  {
   "cell_type": "markdown",
   "id": "cb0c22b4",
   "metadata": {},
   "source": [
    "DESCRIPTION"
   ]
  },
  {
   "cell_type": "markdown",
   "id": "652e844b",
   "metadata": {},
   "source": [
    "MSSubClass: Identifies the type of dwelling involved in the sale.\t\n",
    "\n",
    "        20\t1-STORY 1946 & NEWER ALL STYLES\n",
    "        30\t1-STORY 1945 & OLDER\n",
    "        40\t1-STORY W/FINISHED ATTIC ALL AGES\n",
    "        45\t1-1/2 STORY - UNFINISHED ALL AGES\n",
    "        50\t1-1/2 STORY FINISHED ALL AGES\n",
    "        60\t2-STORY 1946 & NEWER\n",
    "        70\t2-STORY 1945 & OLDER\n",
    "        75\t2-1/2 STORY ALL AGES\n",
    "        80\tSPLIT OR MULTI-LEVEL\n",
    "        85\tSPLIT FOYER\n",
    "        90\tDUPLEX - ALL STYLES AND AGES\n",
    "       120\t1-STORY PUD (Planned Unit Development) - 1946 & NEWER\n",
    "       150\t1-1/2 STORY PUD - ALL AGES\n",
    "       160\t2-STORY PUD - 1946 & NEWER\n",
    "       180\tPUD - MULTILEVEL - INCL SPLIT LEV/FOYER\n",
    "       190\t2 FAMILY CONVERSION - ALL STYLES AND AGES\n",
    "\n",
    "MSZoning: Identifies the general zoning classification of the sale.\n",
    "\n",
    "       A\tAgriculture\n",
    "       C\tCommercial\n",
    "       FV\tFloating Village Residential\n",
    "       I\tIndustrial\n",
    "       RH\tResidential High Density\n",
    "       RL\tResidential Low Density\n",
    "       RP\tResidential Low Density Park \n",
    "       RM\tResidential Medium Density\n",
    "\n",
    "LotFrontage: Linear feet of street connected to property\n",
    "\n",
    "LotArea: Lot size in square feet\n",
    "\n",
    "Street: Type of road access to property\n",
    "\n",
    "       Grvl\tGravel\n",
    "       Pave\tPaved\n",
    "       \n",
    "Alley: Type of alley access to property\n",
    "\n",
    "       Grvl\tGravel\n",
    "       Pave\tPaved\n",
    "       NA \tNo alley access\n",
    "\n",
    "LotShape: General shape of property\n",
    "\n",
    "       Reg\tRegular\t\n",
    "       IR1\tSlightly irregular\n",
    "       IR2\tModerately Irregular\n",
    "       IR3\tIrregular\n",
    "       \n",
    "LandContour: Flatness of the property\n",
    "\n",
    "       Lvl\tNear Flat/Level\t\n",
    "       Bnk\tBanked - Quick and significant rise from street grade to building\n",
    "       HLS\tHillside - Significant slope from side to side\n",
    "       Low\tDepression\n",
    "\n",
    "Utilities: Type of utilities available\n",
    "\n",
    "       AllPub\tAll public Utilities (E,G,W,& S)\n",
    "       NoSewr\tElectricity, Gas, and Water (Septic Tank)\n",
    "       NoSeWa\tElectricity and Gas Only\n",
    "       ELO\tElectricity only\n",
    "\n",
    "LotConfig: Lot configuration\n",
    "\n",
    "       Inside\tInside lot\n",
    "       Corner\tCorner lot\n",
    "       CulDSac\tCul-de-sac\n",
    "       FR2\tFrontage on 2 sides of property\n",
    "       FR3\tFrontage on 3 sides of property\n",
    "\n",
    "LandSlope: Slope of property\n",
    "\n",
    "       Gtl\tGentle slope\n",
    "       Mod\tModerate Slope\t\n",
    "       Sev\tSevere Slope\n",
    "\n",
    "Neighborhood: Physical locations within Ames city limits\n",
    "\n",
    "       Blmngtn\tBloomington Heights\n",
    "       Blueste\tBluestem\n",
    "       BrDale\tBriardale\n",
    "       BrkSide\tBrookside\n",
    "       ClearCr\tClear Creek\n",
    "       CollgCr\tCollege Creek\n",
    "       Crawfor\tCrawford\n",
    "       Edwards\tEdwards\n",
    "       Gilbert\tGilbert\n",
    "       IDOTRR\tIowa DOT and Rail Road\n",
    "       MeadowV\tMeadow Village\n",
    "       Mitchel\tMitchell\n",
    "       Names\tNorth Ames\n",
    "       NoRidge\tNorthridge\n",
    "       NPkVill\tNorthpark Villa\n",
    "       NridgHt\tNorthridge Heights\n",
    "       NWAmes\tNorthwest Ames\n",
    "       OldTown\tOld Town\n",
    "       SWISU\tSouth & West of Iowa State University\n",
    "       Sawyer\tSawyer\n",
    "       SawyerW\tSawyer West\n",
    "       Somerst\tSomerset\n",
    "       StoneBr\tStone Brook\n",
    "       Timber\tTimberland\n",
    "       Veenker\tVeenker\n",
    "\n",
    "Condition1: Proximity to various conditions\n",
    "\n",
    "       Artery\tAdjacent to arterial street\n",
    "       Feedr\tAdjacent to feeder street\t\n",
    "       Norm\tNormal\t\n",
    "       RRNn\tWithin 200' of North-South Railroad\n",
    "       RRAn\tAdjacent to North-South Railroad\n",
    "       PosN\tNear positive off-site feature--park, greenbelt, etc.\n",
    "       PosA\tAdjacent to postive off-site feature\n",
    "       RRNe\tWithin 200' of East-West Railroad\n",
    "       RRAe\tAdjacent to East-West Railroad\n",
    "\n",
    "Condition2: Proximity to various conditions (if more than one is present)\n",
    "    \n",
    "       Artery\tAdjacent to arterial street\n",
    "       Feedr\tAdjacent to feeder street\t\n",
    "       Norm\tNormal\t\n",
    "       RRNn\tWithin 200' of North-South Railroad\n",
    "       RRAn\tAdjacent to North-South Railroad\n",
    "       PosN\tNear positive off-site feature--park, greenbelt, etc.\n",
    "       PosA\tAdjacent to postive off-site feature\n",
    "       RRNe\tWithin 200' of East-West Railroad\n",
    "       RRAe\tAdjacent to East-West Railroad\n",
    "\n",
    "BldgType: Type of dwelling\n",
    "\n",
    "       1Fam\tSingle-family Detached\t\n",
    "       2FmCon\tTwo-family Conversion; originally built as one-family dwelling\n",
    "       Duplx\tDuplex\n",
    "       TwnhsE\tTownhouse End Unit\n",
    "       TwnhsI\tTownhouse Inside Unit\n",
    "\n",
    "HouseStyle: Style of dwelling\n",
    "\n",
    "       1Story\tOne story\n",
    "       1.5Fin\tOne and one-half story: 2nd level finished\n",
    "       1.5Unf\tOne and one-half story: 2nd level unfinished\n",
    "       2Story\tTwo story\n",
    "       2.5Fin\tTwo and one-half story: 2nd level finished\n",
    "       2.5Unf\tTwo and one-half story: 2nd level unfinished\n",
    "       SFoyer\tSplit Foyer\n",
    "       SLvl\tSplit Level\n",
    "\n",
    "OverallQual: Rates the overall material and finish of the house\n",
    "\n",
    "       10\tVery Excellent\n",
    "       9\tExcellent\n",
    "       8\tVery Good\n",
    "       7\tGood\n",
    "       6\tAbove Average\n",
    "       5\tAverage\n",
    "       4\tBelow Average\n",
    "       3\tFair\n",
    "       2\tPoor\n",
    "       1\tVery Poor\n",
    "\n",
    "OverallCond: Rates the overall condition of the house\n",
    "\n",
    "       10\tVery Excellent\n",
    "       9\tExcellent\n",
    "       8\tVery Good\n",
    "       7\tGood\n",
    "       6\tAbove Average\t\n",
    "       5\tAverage\n",
    "       4\tBelow Average\t\n",
    "       3\tFair\n",
    "       2\tPoor\n",
    "       1\tVery Poor\n",
    "\n",
    "YearBuilt: Original construction date\n",
    "\n",
    "YearRemodAdd: Remodel date (same as construction date if no remodeling or additions)\n",
    "\n",
    "RoofStyle: Type of roof\n",
    "\n",
    "       Flat\tFlat\n",
    "       Gable\tGable\n",
    "       Gambrel\tGabrel (Barn)\n",
    "       Hip\tHip\n",
    "       Mansard\tMansard\n",
    "       Shed\tShed\n",
    "\n",
    "RoofMatl: Roof material\n",
    "\n",
    "       ClyTile\tClay or Tile\n",
    "       CompShg\tStandard (Composite) Shingle\n",
    "       Membran\tMembrane\n",
    "       Metal\tMetal\n",
    "       Roll\tRoll\n",
    "       Tar&Grv\tGravel & Tar\n",
    "       WdShake\tWood Shakes\n",
    "       WdShngl\tWood Shingles\n",
    "\n",
    "Exterior1st: Exterior covering on house\n",
    "\n",
    "       AsbShng\tAsbestos Shingles\n",
    "       AsphShn\tAsphalt Shingles\n",
    "       BrkComm\tBrick Common\n",
    "       BrkFace\tBrick Face\n",
    "       CBlock\tCinder Block\n",
    "       CemntBd\tCement Board\n",
    "       HdBoard\tHard Board\n",
    "       ImStucc\tImitation Stucco\n",
    "       MetalSd\tMetal Siding\n",
    "       Other\tOther\n",
    "       Plywood\tPlywood\n",
    "       PreCast\tPreCast\t\n",
    "       Stone\tStone\n",
    "       Stucco\tStucco\n",
    "       VinylSd\tVinyl Siding\n",
    "       Wd Sdng\tWood Siding\n",
    "       WdShing\tWood Shingles\n",
    "\n",
    "Exterior2nd: Exterior covering on house (if more than one material)\n",
    "\n",
    "       AsbShng\tAsbestos Shingles\n",
    "       AsphShn\tAsphalt Shingles\n",
    "       BrkComm\tBrick Common\n",
    "       BrkFace\tBrick Face\n",
    "       CBlock\tCinder Block\n",
    "       CemntBd\tCement Board\n",
    "       HdBoard\tHard Board\n",
    "       ImStucc\tImitation Stucco\n",
    "       MetalSd\tMetal Siding\n",
    "       Other\tOther\n",
    "       Plywood\tPlywood\n",
    "       PreCast\tPreCast\n",
    "       Stone\tStone\n",
    "       Stucco\tStucco\n",
    "       VinylSd\tVinyl Siding\n",
    "       Wd Sdng\tWood Siding\n",
    "       WdShing\tWood Shingles\n",
    "\n",
    "MasVnrType: Masonry veneer type\n",
    "\n",
    "       BrkCmn\tBrick Common\n",
    "       BrkFace\tBrick Face\n",
    "       CBlock\tCinder Block\n",
    "       None\tNone\n",
    "       Stone\tStone\n",
    "\n",
    "MasVnrArea: Masonry veneer area in square feet\n",
    "\n",
    "ExterQual: Evaluates the quality of the material on the exterior \n",
    "\n",
    "       Ex\tExcellent\n",
    "       Gd\tGood\n",
    "       TA\tAverage/Typical\n",
    "       Fa\tFair\n",
    "       Po\tPoor\n",
    "\n",
    "ExterCond: Evaluates the present condition of the material on the exterior\n",
    "\n",
    "       Ex\tExcellent\n",
    "       Gd\tGood\n",
    "       TA\tAverage/Typical\n",
    "       Fa\tFair\n",
    "       Po\tPoor\n",
    "\n",
    "Foundation: Type of foundation\n",
    "\n",
    "       BrkTil\tBrick & Tile\n",
    "       CBlock\tCinder Block\n",
    "       PConc\tPoured Contrete\t\n",
    "       Slab\tSlab\n",
    "       Stone\tStone\n",
    "       Wood\tWood\n",
    "\n",
    "BsmtQual: Evaluates the height of the basement\n",
    "\n",
    "       Ex\tExcellent (100+ inches)\t\n",
    "       Gd\tGood (90-99 inches)\n",
    "       TA\tTypical (80-89 inches)\n",
    "       Fa\tFair (70-79 inches)\n",
    "       Po\tPoor (<70 inches\n",
    "       NA\tNo Basement\n",
    "\n",
    "BsmtCond: Evaluates the general condition of the basement\n",
    "\n",
    "       Ex\tExcellent\n",
    "       Gd\tGood\n",
    "       TA\tTypical - slight dampness allowed\n",
    "       Fa\tFair - dampness or some cracking or settling\n",
    "       Po\tPoor - Severe cracking, settling, or wetness\n",
    "       NA\tNo Basement\n",
    "\n",
    "BsmtExposure: Refers to walkout or garden level walls\n",
    "\n",
    "       Gd\tGood Exposure\n",
    "       Av\tAverage Exposure (split levels or foyers typically score average or above)\t\n",
    "       Mn\tMimimum Exposure\n",
    "       No\tNo Exposure\n",
    "       NA\tNo Basement\n",
    "\n",
    "BsmtFinType1: Rating of basement finished area\n",
    "\n",
    "       GLQ\tGood Living Quarters\n",
    "       ALQ\tAverage Living Quarters\n",
    "       BLQ\tBelow Average Living Quarters\t\n",
    "       Rec\tAverage Rec Room\n",
    "       LwQ\tLow Quality\n",
    "       Unf\tUnfinshed\n",
    "       NA\tNo Basement\n",
    "\n",
    "BsmtFinSF1: Type 1 finished square feet\n",
    "\n",
    "BsmtFinType2: Rating of basement finished area (if multiple types)\n",
    "\n",
    "       GLQ\tGood Living Quarters\n",
    "       ALQ\tAverage Living Quarters\n",
    "       BLQ\tBelow Average Living Quarters\t\n",
    "       Rec\tAverage Rec Room\n",
    "       LwQ\tLow Quality\n",
    "       Unf\tUnfinshed\n",
    "       NA\tNo Basement\n",
    "\n",
    "BsmtFinSF2: Type 2 finished square feet\n",
    "\n",
    "BsmtUnfSF: Unfinished square feet of basement area\n",
    "\n",
    "TotalBsmtSF: Total square feet of basement area\n",
    "\n",
    "Heating: Type of heating\n",
    "\n",
    "       Floor\tFloor Furnace\n",
    "       GasA\tGas forced warm air furnace\n",
    "       GasW\tGas hot water or steam heat\n",
    "       Grav\tGravity furnace\t\n",
    "       OthW\tHot water or steam heat other than gas\n",
    "       Wall\tWall furnace\n",
    "\n",
    "HeatingQC: Heating quality and condition\n",
    "\n",
    "       Ex\tExcellent\n",
    "       Gd\tGood\n",
    "       TA\tAverage/Typical\n",
    "       Fa\tFair\n",
    "       Po\tPoor\n",
    "\n",
    "CentralAir: Central air conditioning\n",
    "\n",
    "       N\tNo\n",
    "       Y\tYes\n",
    "\n",
    "Electrical: Electrical system\n",
    "\n",
    "       SBrkr\tStandard Circuit Breakers & Romex\n",
    "       FuseA\tFuse Box over 60 AMP and all Romex wiring (Average)\t\n",
    "       FuseF\t60 AMP Fuse Box and mostly Romex wiring (Fair)\n",
    "       FuseP\t60 AMP Fuse Box and mostly knob & tube wiring (poor)\n",
    "       Mix\tMixed\n",
    "\n",
    "1stFlrSF: First Floor square feet\n",
    " \n",
    "2ndFlrSF: Second floor square feet\n",
    "\n",
    "\n",
    "LowQualFinSF: Low quality finished square feet (all floors)\n",
    "\n",
    "GrLivArea: Above grade (ground) living area square feet\n",
    "\n",
    "BsmtFullBath: Basement full bathrooms\n",
    "\n",
    "BsmtHalfBath: Basement half bathrooms\n",
    "\n",
    "FullBath: Full bathrooms above grade\n",
    "\n",
    "HalfBath: Half baths above grade\n",
    "\n",
    "Bedroom: Bedrooms above grade (does NOT include basement bedrooms)\n",
    "\n",
    "Kitchen: Kitchens above grade\n",
    "\n",
    "KitchenQual: Kitchen quality\n",
    "\n",
    "       Ex\tExcellent\n",
    "       Gd\tGood\n",
    "       TA\tTypical/Average\n",
    "       Fa\tFair\n",
    "       Po\tPoor\n",
    "       \t\n",
    "TotRmsAbvGrd: Total rooms above grade (does not include bathrooms)\n",
    "\n",
    "Functional: Home functionality (Assume typical unless deductions are warranted)\n",
    "\n",
    "       Typ\tTypical Functionality\n",
    "       Min1\tMinor Deductions 1\n",
    "       Min2\tMinor Deductions 2\n",
    "       Mod\tModerate Deductions\n",
    "       Maj1\tMajor Deductions 1\n",
    "       Maj2\tMajor Deductions 2\n",
    "       Sev\tSeverely Damaged\n",
    "       Sal\tSalvage only\n",
    "\n",
    "Fireplaces: Number of fireplaces\n",
    "\n",
    "FireplaceQu: Fireplace quality\n",
    "\n",
    "       Ex\tExcellent - Exceptional Masonry Fireplace\n",
    "       Gd\tGood - Masonry Fireplace in main level\n",
    "       TA\tAverage - Prefabricated Fireplace in main living area or Masonry Fireplace in basement\n",
    "       Fa\tFair - Prefabricated Fireplace in basement\n",
    "       Po\tPoor - Ben Franklin Stove\n",
    "       NA\tNo Fireplace\n",
    "\n",
    "GarageType: Garage location\n",
    "\n",
    "       2Types\tMore than one type of garage\n",
    "       Attchd\tAttached to home\n",
    "       Basment\tBasement Garage\n",
    "       BuiltIn\tBuilt-In (Garage part of house - typically has room above garage)\n",
    "       CarPort\tCar Port\n",
    "       Detchd\tDetached from home\n",
    "       NA\tNo Garage\n",
    "\n",
    "GarageYrBlt: Year garage was built\n",
    "\n",
    "GarageFinish: Interior finish of the garage\n",
    "\n",
    "       Fin\tFinished\n",
    "       RFn\tRough Finished\t\n",
    "       Unf\tUnfinished\n",
    "       NA\tNo Garage\n",
    "\n",
    "GarageCars: Size of garage in car capacity\n",
    "\n",
    "GarageArea: Size of garage in square feet\n",
    "\n",
    "GarageQual: Garage quality\n",
    "\n",
    "       Ex\tExcellent\n",
    "       Gd\tGood\n",
    "       TA\tTypical/Average\n",
    "       Fa\tFair\n",
    "       Po\tPoor\n",
    "       NA\tNo Garage\n",
    "\n",
    "GarageCond: Garage condition\n",
    "\n",
    "       Ex\tExcellent\n",
    "       Gd\tGood\n",
    "       TA\tTypical/Average\n",
    "       Fa\tFair\n",
    "       Po\tPoor\n",
    "       NA\tNo Garage\n",
    "\n",
    "PavedDrive: Paved driveway\n",
    "\n",
    "       Y\tPaved \n",
    "       P\tPartial Pavement\n",
    "       N\tDirt/Gravel\n",
    "\n",
    "WoodDeckSF: Wood deck area in square feet\n",
    "\n",
    "OpenPorchSF: Open porch area in square feet\n",
    "\n",
    "EnclosedPorch: Enclosed porch area in square feet\n",
    "\n",
    "3SsnPorch: Three season porch area in square feet\n",
    "\n",
    "ScreenPorch: Screen porch area in square feet\n",
    "\n",
    "PoolArea: Pool area in square feet\n",
    "\n",
    "PoolQC: Pool quality\n",
    "\n",
    "       Ex\tExcellent\n",
    "       Gd\tGood\n",
    "       TA\tAverage/Typical\n",
    "       Fa\tFair\n",
    "       NA\tNo Pool\n",
    "\n",
    "Fence: Fence quality\n",
    "\n",
    "       GdPrv\tGood Privacy\n",
    "       MnPrv\tMinimum Privacy\n",
    "       GdWo\tGood Wood\n",
    "       MnWw\tMinimum Wood/Wire\n",
    "       NA\tNo Fence\n",
    "\n",
    "MiscFeature: Miscellaneous feature not covered in other categories\n",
    "\n",
    "       Elev\tElevator\n",
    "       Gar2\t2nd Garage (if not described in garage section)\n",
    "       Othr\tOther\n",
    "       Shed\tShed (over 100 SF)\n",
    "       TenC\tTennis Court\n",
    "       NA\tNone\n",
    "\n",
    "MiscVal: $Value of miscellaneous feature\n",
    "\n",
    "MoSold: Month Sold (MM)\n",
    "\n",
    "YrSold: Year Sold (YYYY)\n",
    "\n",
    "SaleType: Type of sale\n",
    "\n",
    "       WD \tWarranty Deed - Conventional\n",
    "       CWD\tWarranty Deed - Cash\n",
    "       VWD\tWarranty Deed - VA Loan\n",
    "       New\tHome just constructed and sold\n",
    "       COD\tCourt Officer Deed/Estate\n",
    "       Con\tContract 15% Down payment regular terms\n",
    "       ConLw\tContract Low Down payment and low interest\n",
    "       ConLI\tContract Low Interest\n",
    "       ConLD\tContract Low Down\n",
    "       Oth\tOther\n",
    "\n",
    "SaleCondition: Condition of sale\n",
    "\n",
    "       Normal\tNormal Sale\n",
    "       Abnorml\tAbnormal Sale -  trade, foreclosure, short sale\n",
    "       AdjLand\tAdjoining Land Purchase\n",
    "       Alloca\tAllocation - two linked properties with separate deeds, typically condo with a garage unit\t\n",
    "       Family\tSale between family members\n",
    "       Partial\tHome was not completed when last assessed (associated with New Homes)"
   ]
  },
  {
   "cell_type": "code",
   "execution_count": null,
   "id": "1694969e",
   "metadata": {},
   "outputs": [],
   "source": [
    "#import all libaries\n",
    "import pandas as pd\n",
    "import statistics\n",
    "import seaborn as sns\n",
    "from matplotlib import pyplot as plt\n",
    "import sklearn\n",
    "from sklearn.preprocessing import LabelEncoder,OneHotEncoder\n",
    "import warnings\n",
    "warnings.filterwarnings('ignore')\n"
   ]
  },
  {
   "cell_type": "code",
   "execution_count": null,
   "id": "bf9c9e20",
   "metadata": {},
   "outputs": [],
   "source": [
    "#stroing into csv file\n",
    "\n",
    "df = pd.read_csv(r\"C:\\Users\\Srividya\\Downloads\\Project-Housing--2-\\Project-Housing_splitted\\train.csv\")\n",
    "df1 = pd.read_csv(r\"C:\\Users\\Srividya\\Downloads\\Project-Housing--2-\\Project-Housing_splitted\\test.csv\")\n"
   ]
  },
  {
   "cell_type": "code",
   "execution_count": null,
   "id": "8eabfb0e",
   "metadata": {},
   "outputs": [],
   "source": [
    "pd.set_option('display.max_columns', None)"
   ]
  },
  {
   "cell_type": "code",
   "execution_count": null,
   "id": "28f1915a",
   "metadata": {},
   "outputs": [],
   "source": [
    "df.to_csv(\"HOUSING_PRICE _PREDICTION.csv\",sep='\\t')"
   ]
  },
  {
   "cell_type": "code",
   "execution_count": null,
   "id": "751aebd5",
   "metadata": {},
   "outputs": [],
   "source": [
    "df"
   ]
  },
  {
   "cell_type": "markdown",
   "id": "8e994f02",
   "metadata": {},
   "source": [
    "Here Id,MSSubClass,LotFrontage,LotArea,Neighborhood,Condition1,Condition2,HouseStyle,OverallQua,OverallCond,YearBuilt,YearRemodAdd,Exterior1st,Exterior2nd,MasVnrArea,BsmtFinSF1,BsmtFinType2,BsmtFinSF2,BsmtUnfSF,TotalBsmtSF,1stFlrSF,2ndFlrSF,LowQualFinSF,GrLivArea,BedroomAbvGr,TotRmsAbvGrd,Functional,GarageType,GarageYrBlt,GarageArea,WoodDeckSF,OpenPorchSF,EnclosedPorch,3SsnPorch,ScreenPorch,PoolArea,MiscVal,MoSold,SaleType are all the columns which has categorical ordinal data type."
   ]
  },
  {
   "cell_type": "markdown",
   "id": "87ce7c7d",
   "metadata": {},
   "source": [
    "MSZoning,Street,Alley,LotShape,LandContour,Utilities,LotConfig,LandSlope,BldgType,RoofStyle,RoofMatl,MasVnrType,ExterQual,ExterCond,Foundation,BsmtQual,BsmtCond,BsmtExposure,BsmtFinType1,Heating,HeatingQC,CentralAir,Electrical,BsmtFullBath,BsmtHalfBath,\n",
    "FullBath,HalfBath,KitchenAbvGr,KitchenQual,Fireplaces,FireplaceQu,GarageFinish,GarageCars,GarageQual,GarageCond,PavedDrive,\n",
    "PoolQC,Fence,MiscFeature,YrSold,SaleCondition are all the columns which has categorical nominal data type."
   ]
  },
  {
   "cell_type": "markdown",
   "id": "60686644",
   "metadata": {},
   "source": [
    "Here Our Target column is the SalePrice column which is we are going to predict.Hence our problem is the Regression problem."
   ]
  },
  {
   "cell_type": "code",
   "execution_count": null,
   "id": "4ab2fae6",
   "metadata": {},
   "outputs": [],
   "source": [
    "df.columns"
   ]
  },
  {
   "cell_type": "markdown",
   "id": "dfa785ef",
   "metadata": {},
   "source": [
    "EDA:"
   ]
  },
  {
   "cell_type": "code",
   "execution_count": null,
   "id": "10980888",
   "metadata": {},
   "outputs": [],
   "source": [
    "print(\"Train data size is : {}\".format(df.shape))\n",
    "print(\"Test data size is : {}\".format(df1.shape))\n"
   ]
  },
  {
   "cell_type": "code",
   "execution_count": null,
   "id": "eb84b1ff",
   "metadata": {},
   "outputs": [],
   "source": [
    "pd.set_option(\"display.max_rows\", None)"
   ]
  },
  {
   "cell_type": "code",
   "execution_count": null,
   "id": "654854ed",
   "metadata": {},
   "outputs": [],
   "source": [
    "df.info()"
   ]
  },
  {
   "cell_type": "code",
   "execution_count": null,
   "id": "a53a1f59",
   "metadata": {},
   "outputs": [],
   "source": [
    "pd.set_option(\"display.max_rows\", None)"
   ]
  },
  {
   "cell_type": "code",
   "execution_count": null,
   "id": "758ec549",
   "metadata": {},
   "outputs": [],
   "source": [
    "#checks nulls values of columns if present any\n",
    "df.isnull().sum().T"
   ]
  },
  {
   "cell_type": "code",
   "execution_count": null,
   "id": "adc34e8b",
   "metadata": {},
   "outputs": [],
   "source": [
    "df_with_nulls = df[[col for col in df.columns if df[col].isna().sum() > 0]]\n",
    "df_with_nulls"
   ]
  },
  {
   "cell_type": "code",
   "execution_count": null,
   "id": "5cebb1d0",
   "metadata": {},
   "outputs": [],
   "source": [
    "# Top 10 Heatmap\n",
    "corrmat = df.corr()\n",
    "k = 15#number of variables for heatmap\n",
    "cols = corrmat.nlargest(k, 'SalePrice')['SalePrice'].index"
   ]
  },
  {
   "cell_type": "code",
   "execution_count": null,
   "id": "71c73510",
   "metadata": {},
   "outputs": [],
   "source": [
    "most_corr = pd.DataFrame(cols)\n",
    "most_corr.columns = ['Most Correlated Features']\n",
    "most_corr"
   ]
  },
  {
   "cell_type": "markdown",
   "id": "cc9802f0",
   "metadata": {},
   "source": [
    "These are the most correlated features with the target column"
   ]
  },
  {
   "cell_type": "code",
   "execution_count": null,
   "id": "419cdab9",
   "metadata": {},
   "outputs": [],
   "source": [
    "for col in df.columns:\n",
    "    print('\\nColumn Name:',col)\n",
    "    print(df[col].value_counts(dropna= False))\n",
    "    print(\"=\"*120)"
   ]
  },
  {
   "cell_type": "code",
   "execution_count": null,
   "id": "7662789c",
   "metadata": {},
   "outputs": [],
   "source": [
    "# Find Missing Ratio of Dataset\n",
    "df_null= (df.isnull().sum() / len(df)) * 100\n",
    "df_null= df_null.drop(df_null[df_null == 0].index).sort_values(ascending=False)\n",
    "missing_data = pd.DataFrame({'Missing Ratio' :df_null})\n",
    "missing_data"
   ]
  },
  {
   "cell_type": "code",
   "execution_count": null,
   "id": "c19017f2",
   "metadata": {},
   "outputs": [],
   "source": [
    "# Getting column names having missing values\n",
    "missing_val_cols= df_null[df_null > 0].sort_values(ascending= False).index\n"
   ]
  },
  {
   "cell_type": "code",
   "execution_count": null,
   "id": "73ece40f",
   "metadata": {},
   "outputs": [],
   "source": [
    "# Checking unique values in these columns\n",
    "for col in missing_val_cols:\n",
    "  print('\\nColumn Name:',col)\n",
    "  print(df[col].value_counts(dropna= False))\n",
    "  print(\"=\"*120)  "
   ]
  },
  {
   "cell_type": "code",
   "execution_count": null,
   "id": "92977f04",
   "metadata": {},
   "outputs": [],
   "source": [
    "# Percent missing data by feature\n",
    "f, ax = plt.subplots(figsize=(15, 12))\n",
    "plt.xticks(rotation='90')\n",
    "sns.barplot(x=df_null.index, y=df_null)\n",
    "plt.xlabel('Features', fontsize=15)\n",
    "plt.ylabel('Percent of missing values', fontsize=15)\n",
    "plt.title('Percent missing data by feature', fontsize=15)"
   ]
  },
  {
   "cell_type": "code",
   "execution_count": null,
   "id": "ae02fec8",
   "metadata": {},
   "outputs": [],
   "source": [
    "import numpy as np"
   ]
  },
  {
   "cell_type": "code",
   "execution_count": null,
   "id": "780627aa",
   "metadata": {},
   "outputs": [],
   "source": [
    "# list of numerical variables\n",
    "numerical_features = [feature for feature in df.columns if df[feature].dtypes != 'O']\n",
    "\n",
    "print('Number of numerical variables: ', len(numerical_features))\n",
    "\n"
   ]
  },
  {
   "cell_type": "code",
   "execution_count": null,
   "id": "2663f4a1",
   "metadata": {},
   "outputs": [],
   "source": [
    "# list of variables that contain year information\n",
    "year_feature = [feature for feature in numerical_features if 'Yr' in feature or 'Year' in feature]\n",
    "\n",
    "year_feature"
   ]
  },
  {
   "cell_type": "code",
   "execution_count": null,
   "id": "6f3a4460",
   "metadata": {},
   "outputs": [],
   "source": [
    "## Numerical variables are usually of 2 type\n",
    "## 1. Continous variable and Discrete Variables\n",
    "\n",
    "discrete_feature=[feature for feature in numerical_features if len(df[feature].unique())<25 and feature not in year_feature+['Id']]\n",
    "print(\"Discrete Variables Count: {}\".format(len(discrete_feature)))"
   ]
  },
  {
   "cell_type": "code",
   "execution_count": null,
   "id": "e4ee8888",
   "metadata": {},
   "outputs": [],
   "source": [
    "df[discrete_feature].head()"
   ]
  },
  {
   "cell_type": "markdown",
   "id": "6e092b93",
   "metadata": {},
   "source": [
    "continous features"
   ]
  },
  {
   "cell_type": "code",
   "execution_count": null,
   "id": "f966a0c0",
   "metadata": {},
   "outputs": [],
   "source": [
    "continuous_feature=[feature for feature in numerical_features if feature not in discrete_feature+year_feature+['Id']]\n",
    "print(\"Continuous feature Count {}\".format(len(continuous_feature)))"
   ]
  },
  {
   "cell_type": "code",
   "execution_count": null,
   "id": "602dc70b",
   "metadata": {},
   "outputs": [],
   "source": [
    "df[continuous_feature].head()"
   ]
  },
  {
   "cell_type": "code",
   "execution_count": null,
   "id": "4ade0041",
   "metadata": {},
   "outputs": [],
   "source": [
    "categorical_features=[feature for feature in df.columns if df[feature].dtypes=='O']\n"
   ]
  },
  {
   "cell_type": "code",
   "execution_count": null,
   "id": "5d014ca8",
   "metadata": {},
   "outputs": [],
   "source": [
    "df[categorical_features].head()"
   ]
  },
  {
   "cell_type": "code",
   "execution_count": null,
   "id": "ef890489",
   "metadata": {},
   "outputs": [],
   "source": [
    "# Create a new column named IsRemodelled - This column would determine whether the house has been remodelled or not based on \n",
    "# the difference between remodelled and built years\n",
    "\n",
    "def checkForRemodel(row):\n",
    "    if(row['YearBuilt'] == row['YearRemodAdd']):\n",
    "        return 0\n",
    "    elif(row['YearBuilt'] < row['YearRemodAdd']):\n",
    "        return 1\n",
    "    else:\n",
    "        return 2\n",
    "df['IsRemodelled'] = df.apply(checkForRemodel, axis=1)\n",
    "df.head()"
   ]
  },
  {
   "cell_type": "code",
   "execution_count": null,
   "id": "588aa298",
   "metadata": {},
   "outputs": [],
   "source": [
    "# Create a new column named BuiltOrRemodelledAge and determine the age of the building at the time of selling\n",
    "\n",
    "def getBuiltOrRemodelAge(row):\n",
    "    if(row['YearBuilt'] == row['YearRemodAdd']):\n",
    "        return row['YrSold'] - row['YearBuilt']\n",
    "    else:\n",
    "        return row['YrSold'] - row['YearRemodAdd']\n",
    "       \n",
    "df['BuiltOrRemodelAge'] = df.apply(getBuiltOrRemodelAge, axis=1)\n",
    "df.head()"
   ]
  },
  {
   "cell_type": "code",
   "execution_count": null,
   "id": "024449ba",
   "metadata": {},
   "outputs": [],
   "source": [
    "df['GarageYrBlt']= df['GarageYrBlt'].fillna(0)"
   ]
  },
  {
   "cell_type": "code",
   "execution_count": null,
   "id": "01aac3d3",
   "metadata": {},
   "outputs": [],
   "source": [
    "# Create a new column which would indicate if the Garage is old or new.\n",
    "# Garage Yr Built less than 2000 will be considered as old (1) else new(2). \n",
    "# For GarageYrBuilt , where we have imputed the value as 0 will also be treated as 'No Garrage'\n",
    "\n",
    "def getGarageConstructionPeriod(row):\n",
    "    if row == 0:\n",
    "        return 0\n",
    "    elif row >= 1900 and row < 2000:        \n",
    "        return 1\n",
    "    else:   \n",
    "        return 2\n",
    "    \n",
    "df['OldOrNewGarage'] =df['GarageYrBlt'].apply(getGarageConstructionPeriod)\n",
    "df.head()"
   ]
  },
  {
   "cell_type": "code",
   "execution_count": null,
   "id": "840da0bd",
   "metadata": {},
   "outputs": [],
   "source": [
    "# Since we have created new features from YearBuilt, YearRemodAdd, YrSold and GarageYrBlt, we can drop these columns as we \n",
    "# would only be using the derived columns for further analysis\n",
    "\n",
    "df.drop(['YearBuilt', 'YearRemodAdd', 'YrSold', 'GarageYrBlt'], axis = 1, inplace = True)"
   ]
  },
  {
   "cell_type": "code",
   "execution_count": null,
   "id": "5ec568d5",
   "metadata": {},
   "outputs": [],
   "source": [
    "# numeric features , check if any corr() values < 0.15\n",
    "# can always adjust the corr() values to include features\n",
    "abs(df.corr()['SalePrice']) < 0.15"
   ]
  },
  {
   "cell_type": "code",
   "execution_count": null,
   "id": "411a954b",
   "metadata": {},
   "outputs": [],
   "source": [
    "# we have to do features engineering on numerical that are not rational for modeling\n",
    "# combine '1st Flr SF', '2nd Flr SF','LowQualFinSF' - as 'GrLivArea'\n",
    "# Combine columns 'BsmtFinSF1', 'BsmtFinSF2', 'BsmtUnfSF'-as 'TotalBsmtSF'\n",
    "df['TotalBsmtSF'] = df['BsmtFinSF1'] + df['BsmtFinSF2']+df['BsmtUnfSF']\n",
    "df['GrLivArea'] = df['1stFlrSF'] + df['2ndFlrSF'] + df['LowQualFinSF']\n"
   ]
  },
  {
   "cell_type": "code",
   "execution_count": null,
   "id": "101163b1",
   "metadata": {},
   "outputs": [],
   "source": [
    "# drop 'BsmtUnfSF','BsmtFinSF1', 'BsmtFinSF2' since there is TotalBsmtSF\n",
    "df.drop(columns = ['BsmtUnfSF','BsmtFinSF1', 'BsmtFinSF2','1stFlrSF','2ndFlrSF','LowQualFinSF'], axis=1, inplace = True)"
   ]
  },
  {
   "cell_type": "code",
   "execution_count": null,
   "id": "7427413e",
   "metadata": {},
   "outputs": [],
   "source": [
    "missing_count=df.isnull().sum()\n",
    "missing_count[missing_count>0].sort_values(ascending=False)"
   ]
  },
  {
   "cell_type": "code",
   "execution_count": null,
   "id": "1685f2e8",
   "metadata": {},
   "outputs": [],
   "source": [
    "# Variables more than 0.70 correlations \n",
    "c = df.corr().abs()\n",
    "s = c.unstack()\n",
    "so = s.sort_values(kind=\"quicksort\", ascending=False)\n",
    "df_corr = pd.DataFrame(so)\n",
    "#df_corr.columns = ['correlations']\n",
    "print(df_corr[(df_corr[0] < 1) & (df_corr[0] > 0.7)])"
   ]
  },
  {
   "cell_type": "code",
   "execution_count": null,
   "id": "96628466",
   "metadata": {},
   "outputs": [],
   "source": [
    "# Checking is there any duplicated data preset\n",
    "df.duplicated().sum().any()"
   ]
  },
  {
   "cell_type": "code",
   "execution_count": null,
   "id": "f7d5b961",
   "metadata": {},
   "outputs": [],
   "source": [
    "df"
   ]
  },
  {
   "cell_type": "code",
   "execution_count": null,
   "id": "784faa1d",
   "metadata": {},
   "outputs": [],
   "source": [
    "plt.figure(figsize=(10,8))\n",
    "plt.subplot(2,1,1)\n",
    "df['MasVnrType'].value_counts(dropna=False).plot.pie(autopct='%1.1f%%')\n",
    "plt.ylabel('')\n",
    "df['MasVnrType'].value_counts(dropna=False)"
   ]
  },
  {
   "cell_type": "markdown",
   "id": "2d803aa0",
   "metadata": {},
   "source": [
    "more than 59% values are none so we can drop this column"
   ]
  },
  {
   "cell_type": "code",
   "execution_count": null,
   "id": "cc7b7d79",
   "metadata": {},
   "outputs": [],
   "source": [
    "plt.figure(figsize=(10,8))\n",
    "plt.subplot(2,1,1)\n",
    "df['BsmtCond'].value_counts(dropna=False).plot.pie(autopct='%1.1f%%')\n",
    "plt.ylabel('')\n",
    "df['BsmtCond'].value_counts(dropna=False)"
   ]
  },
  {
   "cell_type": "markdown",
   "id": "4f3591d1",
   "metadata": {},
   "source": [
    "more than 89% values are none so we can drop this column"
   ]
  },
  {
   "cell_type": "code",
   "execution_count": null,
   "id": "4b675ced",
   "metadata": {},
   "outputs": [],
   "source": [
    "plt.figure(figsize=(10,8))\n",
    "plt.subplot(2,1,1)\n",
    "df['FireplaceQu'].value_counts(dropna=False).plot.pie(autopct='%1.1f%%')\n",
    "plt.ylabel('')\n",
    "df['FireplaceQu'].value_counts(dropna=False)"
   ]
  },
  {
   "cell_type": "markdown",
   "id": "fdefcb5b",
   "metadata": {},
   "source": [
    "more than 47% values are none so we can drop this column"
   ]
  },
  {
   "cell_type": "code",
   "execution_count": null,
   "id": "f0cc4af0",
   "metadata": {},
   "outputs": [],
   "source": [
    "plt.figure(figsize=(10,8))\n",
    "plt.subplot(2,1,1)\n",
    "df['PoolQC'].value_counts(dropna=False).plot.pie(autopct='%1.1f%%')\n",
    "plt.ylabel('')\n",
    "df['PoolQC'].value_counts(dropna=False)"
   ]
  },
  {
   "cell_type": "markdown",
   "id": "991a8d71",
   "metadata": {},
   "source": [
    "more than 99% values are none so we can drop this column"
   ]
  },
  {
   "cell_type": "code",
   "execution_count": null,
   "id": "d218460c",
   "metadata": {},
   "outputs": [],
   "source": [
    "plt.figure(figsize=(10,8))\n",
    "plt.subplot(2,1,1)\n",
    "df['Fence'].value_counts(dropna=False).plot.pie(autopct='%1.1f%%')\n",
    "plt.ylabel('')\n",
    "df['Fence'].value_counts(dropna=False)"
   ]
  },
  {
   "cell_type": "markdown",
   "id": "79e03ca1",
   "metadata": {},
   "source": [
    "more than 79% values are none so we can drop this column"
   ]
  },
  {
   "cell_type": "code",
   "execution_count": null,
   "id": "2834fec2",
   "metadata": {},
   "outputs": [],
   "source": [
    "df['MasVnrArea'].value_counts(normalize=True,dropna=False)*100"
   ]
  },
  {
   "cell_type": "markdown",
   "id": "0ab74d81",
   "metadata": {},
   "source": [
    "more than 59% values are none so we can drop this column"
   ]
  },
  {
   "cell_type": "code",
   "execution_count": null,
   "id": "9550245a",
   "metadata": {},
   "outputs": [],
   "source": [
    "plt.figure(figsize=(10,8))\n",
    "plt.subplot(2,1,1)\n",
    "df['MiscFeature'].value_counts(dropna=False).plot.pie(autopct='%1.1f%%')\n",
    "plt.ylabel('')\n",
    "df['MiscFeature'].value_counts(dropna=False)"
   ]
  },
  {
   "cell_type": "markdown",
   "id": "a9f1865d",
   "metadata": {},
   "source": [
    "more than 96% values are none so we can drop this column"
   ]
  },
  {
   "cell_type": "code",
   "execution_count": null,
   "id": "0d819954",
   "metadata": {},
   "outputs": [],
   "source": [
    "plt.figure(figsize=(10,8))\n",
    "plt.subplot(2,1,1)\n",
    "df['MiscVal'].value_counts(dropna=False).plot.pie(autopct='%1.1f%%')\n",
    "plt.ylabel('')\n",
    "df['MiscVal'].value_counts(dropna=False)"
   ]
  },
  {
   "cell_type": "markdown",
   "id": "7a577a37",
   "metadata": {},
   "source": [
    "more than 96% values are none so we can drop this column"
   ]
  },
  {
   "cell_type": "code",
   "execution_count": null,
   "id": "c7f626cb",
   "metadata": {},
   "outputs": [],
   "source": [
    "plt.figure(figsize=(10,8))\n",
    "plt.subplot(2,1,1)\n",
    "df['MiscVal'].value_counts(dropna=False).plot.pie(autopct='%1.1f%%')\n",
    "plt.ylabel('')\n",
    "df['MiscVal'].value_counts(dropna=False)"
   ]
  },
  {
   "cell_type": "markdown",
   "id": "311eb597",
   "metadata": {},
   "source": [
    "more than 96% values are none so we can drop this column"
   ]
  },
  {
   "cell_type": "code",
   "execution_count": null,
   "id": "dbbd31f1",
   "metadata": {},
   "outputs": [],
   "source": [
    "# replace empty values of the columns by mean,most frequent values\n",
    "import numpy as np\n",
    "from sklearn.impute import SimpleImputer"
   ]
  },
  {
   "cell_type": "code",
   "execution_count": null,
   "id": "ba26de62",
   "metadata": {},
   "outputs": [],
   "source": [
    "for col in [ 'LotFrontage','TotalBsmtSF']:\n",
    "    imp=SimpleImputer(missing_values=np.NaN,strategy=\"mean\")\n",
    "    df[col]=imp.fit_transform(df[col].values.reshape(-1,1))"
   ]
  },
  {
   "cell_type": "code",
   "execution_count": null,
   "id": "3335f92e",
   "metadata": {},
   "outputs": [],
   "source": [
    "for col in [ 'BsmtQual','BsmtCond','BsmtExposure','BsmtFinType1','BsmtFinType2','GarageType','GarageFinish']:\n",
    "    imp=SimpleImputer(missing_values=np.NaN,strategy=\"most_frequent\")\n",
    "    df[col]=imp.fit_transform(df[col].values.reshape(-1,1))"
   ]
  },
  {
   "cell_type": "markdown",
   "id": "7ca63581",
   "metadata": {},
   "source": [
    "drop columns has null values and replace columns which has no garage"
   ]
  },
  {
   "cell_type": "code",
   "execution_count": null,
   "id": "00279375",
   "metadata": {},
   "outputs": [],
   "source": [
    "df.drop(['Alley','MasVnrType','MasVnrArea','FireplaceQu','PoolQC','Fence','MiscFeature','MiscVal'], axis = 1, inplace = True)"
   ]
  },
  {
   "cell_type": "code",
   "execution_count": null,
   "id": "4cb0e11a",
   "metadata": {},
   "outputs": [],
   "source": [
    "df['GarageQual'] = df['GarageQual'].replace(np.nan, 'No Garage')"
   ]
  },
  {
   "cell_type": "code",
   "execution_count": null,
   "id": "8a8db4ac",
   "metadata": {},
   "outputs": [],
   "source": [
    "df['GarageCond'] = df['GarageCond'].replace(np.nan, 'No Garage')"
   ]
  },
  {
   "cell_type": "code",
   "execution_count": null,
   "id": "9b58af33",
   "metadata": {},
   "outputs": [],
   "source": [
    "df"
   ]
  },
  {
   "cell_type": "code",
   "execution_count": null,
   "id": "b5032883",
   "metadata": {},
   "outputs": [],
   "source": [
    "df.shape"
   ]
  },
  {
   "cell_type": "code",
   "execution_count": null,
   "id": "d602e186",
   "metadata": {},
   "outputs": [],
   "source": [
    "#checks nulls values of columns if present any\n",
    "df.isnull().sum()"
   ]
  },
  {
   "cell_type": "markdown",
   "id": "bdf21e96",
   "metadata": {},
   "source": [
    "MAKE TEST SET READY BY APPLYING ABOVE SAME PROCEDURE"
   ]
  },
  {
   "cell_type": "code",
   "execution_count": null,
   "id": "a5ea4494",
   "metadata": {},
   "outputs": [],
   "source": [
    "# Find Missing Ratio of Dataset\n",
    "df_null= (df1.isnull().sum() / len(df1)) * 100\n",
    "df_null= df_null.drop(df_null[df_null == 0].index).sort_values(ascending=False)\n",
    "missing_data = pd.DataFrame({'Missing Ratio' :df_null})\n",
    "missing_data"
   ]
  },
  {
   "cell_type": "code",
   "execution_count": null,
   "id": "99a00c7e",
   "metadata": {},
   "outputs": [],
   "source": [
    "# Create a new column named IsRemodelled - This column would determine whether the house has been remodelled or not based on \n",
    "# the difference between remodelled and built years\n",
    "\n",
    "def checkForRemodel(row):\n",
    "    if(row['YearBuilt'] == row['YearRemodAdd']):\n",
    "        return 0\n",
    "    elif(row['YearBuilt'] < row['YearRemodAdd']):\n",
    "        return 1\n",
    "    else:\n",
    "        return 2\n",
    "df1['IsRemodelled'] = df1.apply(checkForRemodel, axis=1)\n",
    "df1.head()"
   ]
  },
  {
   "cell_type": "code",
   "execution_count": null,
   "id": "c6cf6802",
   "metadata": {},
   "outputs": [],
   "source": [
    "# Create a new column named BuiltOrRemodelledAge and determine the age of the building at the time of selling\n",
    "\n",
    "def getBuiltOrRemodelAge(row):\n",
    "    if(row['YearBuilt'] == row['YearRemodAdd']):\n",
    "        return row['YrSold'] - row['YearBuilt']\n",
    "    else:\n",
    "        return row['YrSold'] - row['YearRemodAdd']\n",
    "       \n",
    "df1['BuiltOrRemodelAge'] = df1.apply(getBuiltOrRemodelAge, axis=1)\n",
    "df1.head()"
   ]
  },
  {
   "cell_type": "code",
   "execution_count": null,
   "id": "c444b562",
   "metadata": {},
   "outputs": [],
   "source": [
    "df1['GarageYrBlt']= df1['GarageYrBlt'].fillna(0)"
   ]
  },
  {
   "cell_type": "code",
   "execution_count": null,
   "id": "f677a647",
   "metadata": {},
   "outputs": [],
   "source": [
    "# Create a new column which would indicate if the Garage is old or new.\n",
    "# Garage Yr Built less than 2000 will be considered as old (1) else new(2). \n",
    "# For GarageYrBuilt , where we have imputed the value as 0 will also be treated as 'No Garrage'\n",
    "\n",
    "def getGarageConstructionPeriod(row):\n",
    "    if row == 0:\n",
    "        return 0\n",
    "    elif row >= 1900 and row < 2000:        \n",
    "        return 1\n",
    "    else:   \n",
    "        return 2\n",
    "    \n",
    "df1['OldOrNewGarage'] =df1['GarageYrBlt'].apply(getGarageConstructionPeriod)\n",
    "df1.head()"
   ]
  },
  {
   "cell_type": "code",
   "execution_count": null,
   "id": "d7a53d80",
   "metadata": {},
   "outputs": [],
   "source": [
    "# Since we have created new features from YearBuilt, YearRemodAdd, YrSold and GarageYrBlt, we can drop these columns as we \n",
    "# would only be using the derived columns for further analysis\n",
    "\n",
    "df1.drop(['YearBuilt', 'YearRemodAdd', 'YrSold', 'GarageYrBlt'], axis = 1, inplace = True)"
   ]
  },
  {
   "cell_type": "code",
   "execution_count": null,
   "id": "0aae1081",
   "metadata": {},
   "outputs": [],
   "source": [
    "# we have to do features engineering on numerical that are not rational for modeling\n",
    "# combine '1st Flr SF', '2nd Flr SF','LowQualFinSF' - as 'GrLivArea'\n",
    "# Combine columns 'BsmtFinSF1', 'BsmtFinSF2', 'BsmtUnfSF'-as 'TotalBsmtSF'\n",
    "df1['TotalBsmtSF'] = df1['BsmtFinSF1'] + df1['BsmtFinSF2']+df1['BsmtUnfSF']\n",
    "df1['GrLivArea'] = df1['1stFlrSF'] + df1['2ndFlrSF'] + df1['LowQualFinSF']"
   ]
  },
  {
   "cell_type": "code",
   "execution_count": null,
   "id": "4946c7b6",
   "metadata": {},
   "outputs": [],
   "source": [
    "# drop 'BsmtUnfSF','BsmtFinSF1', 'BsmtFinSF2' since there is TotalBsmtSF\n",
    "df1.drop(columns = ['BsmtUnfSF','BsmtFinSF1', 'BsmtFinSF2','1stFlrSF','2ndFlrSF','LowQualFinSF'], axis=1, inplace = True)"
   ]
  },
  {
   "cell_type": "code",
   "execution_count": null,
   "id": "9c4fcaa5",
   "metadata": {},
   "outputs": [],
   "source": [
    "missing_count=df1.isnull().sum()\n",
    "missing_count[missing_count>0].sort_values(ascending=False)"
   ]
  },
  {
   "cell_type": "code",
   "execution_count": null,
   "id": "536bb189",
   "metadata": {},
   "outputs": [],
   "source": [
    "# Checking is there any duplicated data preset\n",
    "df1.duplicated().sum().any()"
   ]
  },
  {
   "cell_type": "code",
   "execution_count": null,
   "id": "d0001fcb",
   "metadata": {},
   "outputs": [],
   "source": [
    "# replace empty values of the columns by mean,most frequent values\n",
    "import numpy as np\n",
    "from sklearn.impute import SimpleImputer\n",
    "\n",
    "for col in [ 'LotFrontage','TotalBsmtSF']:\n",
    "    imp=SimpleImputer(missing_values=np.NaN,strategy=\"mean\")\n",
    "    df1[col]=imp.fit_transform(df1[col].values.reshape(-1,1))"
   ]
  },
  {
   "cell_type": "code",
   "execution_count": null,
   "id": "ad96ce3a",
   "metadata": {},
   "outputs": [],
   "source": [
    "for col in [ 'BsmtQual','BsmtCond','BsmtExposure','BsmtFinType1','BsmtFinType2','GarageType','GarageFinish','Electrical']:\n",
    "    imp=SimpleImputer(missing_values=np.NaN,strategy=\"most_frequent\")\n",
    "    df1[col]=imp.fit_transform(df1[col].values.reshape(-1,1))"
   ]
  },
  {
   "cell_type": "code",
   "execution_count": null,
   "id": "f8c92c17",
   "metadata": {},
   "outputs": [],
   "source": [
    "df1.drop(['Alley','MasVnrType','MasVnrArea','FireplaceQu','PoolQC','Fence','MiscFeature','MiscVal'], axis = 1, inplace = True)"
   ]
  },
  {
   "cell_type": "code",
   "execution_count": null,
   "id": "1797888e",
   "metadata": {},
   "outputs": [],
   "source": [
    "df1['GarageQual'] = df1['GarageQual'].replace(np.nan, 'No Garage')"
   ]
  },
  {
   "cell_type": "code",
   "execution_count": null,
   "id": "15da6273",
   "metadata": {},
   "outputs": [],
   "source": [
    "df1['GarageCond'] = df1['GarageCond'].replace(np.nan, 'No Garage')"
   ]
  },
  {
   "cell_type": "code",
   "execution_count": null,
   "id": "578e1059",
   "metadata": {},
   "outputs": [],
   "source": [
    "df1"
   ]
  },
  {
   "cell_type": "code",
   "execution_count": null,
   "id": "75b8de09",
   "metadata": {},
   "outputs": [],
   "source": [
    "df1.shape"
   ]
  },
  {
   "cell_type": "code",
   "execution_count": null,
   "id": "0394adad",
   "metadata": {},
   "outputs": [],
   "source": [
    "missing_count=df1.isnull().sum()\n",
    "missing_count[missing_count>0].sort_values(ascending=False)"
   ]
  },
  {
   "cell_type": "markdown",
   "id": "a77fd313",
   "metadata": {},
   "source": [
    "DATA ANALYSIS AND INSIGHTS"
   ]
  },
  {
   "cell_type": "code",
   "execution_count": null,
   "id": "99b2b3b6",
   "metadata": {},
   "outputs": [],
   "source": [
    "\n",
    "msclass_wise_order=pd.pivot_table(df,values='SalePrice',index=['MSSubClass','MSZoning','OverallCond','SaleCondition','BuiltOrRemodelAge','IsRemodelled','SaleType']).sort_values('SalePrice',ascending=True)\n",
    "\n",
    "cm=sns.light_palette(\"black\", as_cmap=True)\n",
    "msclass_wise_order.style.background_gradient(cmap=cm)"
   ]
  },
  {
   "cell_type": "markdown",
   "id": "df52a54a",
   "metadata": {},
   "source": [
    "shows houses with zone,condition,age,sale type and price details"
   ]
  },
  {
   "cell_type": "code",
   "execution_count": null,
   "id": "5a37d9df",
   "metadata": {},
   "outputs": [],
   "source": [
    "MSSubClass_BldgType=df.groupby(['MSSubClass','BldgType']).size().sort_values(0, ascending=False).reset_index()\n",
    "MSSubClass_BldgType"
   ]
  },
  {
   "cell_type": "markdown",
   "id": "6da5de1e",
   "metadata": {},
   "source": [
    "the mssubclass type 20,60,50  which are 1farm category only most available "
   ]
  },
  {
   "cell_type": "code",
   "execution_count": null,
   "id": "655d0bf9",
   "metadata": {},
   "outputs": [],
   "source": [
    "BldgType_HouseStyle=df.groupby(['BldgType','HouseStyle']).size().sort_values(0, ascending=False).reset_index()\n",
    "BldgType_HouseStyle"
   ]
  },
  {
   "cell_type": "markdown",
   "id": "036dd16a",
   "metadata": {},
   "source": [
    "the building type 1farm and housestyle 1story and 2 story are most available"
   ]
  },
  {
   "cell_type": "code",
   "execution_count": null,
   "id": "946561d1",
   "metadata": {},
   "outputs": [],
   "source": [
    "HouseStyle_MSZoning=df.groupby(['HouseStyle','MSZoning']).size().sort_values(0, ascending=False).reset_index()\n",
    "HouseStyle_MSZoning"
   ]
  },
  {
   "cell_type": "markdown",
   "id": "f07be440",
   "metadata": {},
   "source": [
    "the housestyle 1story and 2story which is in RL zone are most available"
   ]
  },
  {
   "cell_type": "code",
   "execution_count": null,
   "id": "169c1ac5",
   "metadata": {},
   "outputs": [],
   "source": [
    "HouseStyle_Condition2=df.groupby(['HouseStyle','Condition2']).size().sort_values(0, ascending=False).reset_index()\n",
    "HouseStyle_Condition2"
   ]
  },
  {
   "cell_type": "markdown",
   "id": "13f95c58",
   "metadata": {},
   "source": [
    "the housestyle 1story and 2story with condition normal are most available"
   ]
  },
  {
   "cell_type": "code",
   "execution_count": null,
   "id": "39f294b5",
   "metadata": {},
   "outputs": [],
   "source": [
    "pivot_OverallCond = df.pivot_table(index='OverallCond', values='SalePrice', aggfunc=np.median)\n",
    "print(pivot_OverallCond )"
   ]
  },
  {
   "cell_type": "markdown",
   "id": "e750c16b",
   "metadata": {},
   "source": [
    "when overallcondition is 9 which is is excellent then sale price will be increased"
   ]
  },
  {
   "cell_type": "code",
   "execution_count": null,
   "id": "486a3b9f",
   "metadata": {},
   "outputs": [],
   "source": [
    "pivot_SaleCondition= df.pivot_table(index='SaleCondition', values='SalePrice', aggfunc=np.median)\n",
    "print(pivot_SaleCondition)"
   ]
  },
  {
   "cell_type": "markdown",
   "id": "7347c824",
   "metadata": {},
   "source": [
    "when sale condition is partial then sale price also increase"
   ]
  },
  {
   "cell_type": "code",
   "execution_count": null,
   "id": "1b949aec",
   "metadata": {},
   "outputs": [],
   "source": [
    "pivot_OverallQual= df.pivot_table(index='OverallQual', values='SalePrice', aggfunc=np.median)\n",
    "print(pivot_OverallQual)"
   ]
  },
  {
   "cell_type": "markdown",
   "id": "f170cfc3",
   "metadata": {},
   "source": [
    "when overallquality very excellent then sale price also increases and will be high"
   ]
  },
  {
   "cell_type": "code",
   "execution_count": null,
   "id": "1ea635ea",
   "metadata": {},
   "outputs": [],
   "source": [
    "df.groupby(['MSSubClass'])['SalePrice'].agg({'mean','sum','count'})"
   ]
  },
  {
   "cell_type": "markdown",
   "id": "e68a0f18",
   "metadata": {},
   "source": [
    "mssubclass 20 are higher in numbers and has higher sum amount"
   ]
  },
  {
   "cell_type": "code",
   "execution_count": null,
   "id": "b4398a54",
   "metadata": {},
   "outputs": [],
   "source": [
    "price_MSSubClass=df.groupby(['MSSubClass','SalePrice']).size().sort_values(0, ascending=False).reset_index()\n",
    "price_MSSubClass"
   ]
  },
  {
   "cell_type": "markdown",
   "id": "7272f3f8",
   "metadata": {},
   "source": [
    "mssubclass 20 are higher in numbers and has higher amount of selling price too"
   ]
  },
  {
   "cell_type": "markdown",
   "id": "b3204867",
   "metadata": {},
   "source": [
    "VISUALIZATION"
   ]
  },
  {
   "cell_type": "code",
   "execution_count": null,
   "id": "4c1814a0",
   "metadata": {},
   "outputs": [],
   "source": [
    "sp_pivot1 = df.pivot_table(index='OverallCond', values ='SalePrice', aggfunc=np.median)\n",
    "sp_pivot1.plot(kind='bar', color='red')"
   ]
  },
  {
   "cell_type": "markdown",
   "id": "d85ceb93",
   "metadata": {},
   "source": [
    "when overall condition increases from average to excellent the sale price increases.we can buy average condition home in less price and we can sell in higher prices with good returns"
   ]
  },
  {
   "cell_type": "code",
   "execution_count": null,
   "id": "945de42c",
   "metadata": {},
   "outputs": [],
   "source": [
    "sp_pivot = df.pivot_table(index='SaleCondition', values ='SalePrice', aggfunc=np.median)\n",
    "sp_pivot.plot(kind='bar', color='red')"
   ]
  },
  {
   "cell_type": "markdown",
   "id": "b3240e21",
   "metadata": {},
   "source": [
    "when sale condition is partial the sale price increases so we can buy land from other category sale condition land and we can sell in higher sale prices.so that we can get good returns"
   ]
  },
  {
   "cell_type": "code",
   "execution_count": null,
   "id": "a783db7a",
   "metadata": {},
   "outputs": [],
   "source": [
    "# Total Rooms vs Sale Price\n",
    "var = 'BuiltOrRemodelAge'\n",
    "data = pd.concat([df['SalePrice'], df[var]], axis=1)\n",
    "f, ax = plt.subplots(figsize=(16, 8))\n",
    "fig = sns.boxplot(x=var, y=\"SalePrice\", data=data)\n",
    "fig.axis(ymin=0, ymax=800000);\n",
    "plt.xticks(rotation=90);"
   ]
  },
  {
   "cell_type": "markdown",
   "id": "a3a08854",
   "metadata": {},
   "source": [
    "when age of the building is less then sale price increases.we can see when age is 1 and 2 years the sale price is very high"
   ]
  },
  {
   "cell_type": "code",
   "execution_count": null,
   "id": "22dd1eb3",
   "metadata": {},
   "outputs": [],
   "source": [
    "# the numerical values, like sale price, all right skeweed. Will have to tranform all of them in data preprocessing \n",
    "# stage. \n",
    "def boxplot(x,y,**kwargs):\n",
    "            sns.boxplot(x=x,y=y)\n",
    "            x = plt.xticks(rotation=90)\n",
    "\n",
    "cat = [f for f in df.columns if df.dtypes[f] == 'object']\n",
    "\n",
    "p = pd.melt(df, id_vars='SalePrice', value_vars=cat)\n",
    "g = sns.FacetGrid (p, col='variable', col_wrap=2, sharex=False, sharey=False, size=5)\n",
    "g = g.map(boxplot, 'value','SalePrice')\n",
    "g"
   ]
  },
  {
   "cell_type": "markdown",
   "id": "eac04e47",
   "metadata": {},
   "source": [
    "1.sale price is high when ms zone is RL and good when ms zone is FV\n",
    "2.sale price is high when street is paved type and low when street is grvl type\n",
    "3.sale price is high when lotshape is IR1\n",
    "4.sale price is high when landcontour is Lvl\n",
    "5.sale price is high when neighbourhood is stoneBr\n",
    "6.sale price is high when landslope is Gtl\n",
    "7.sale price is high when house style is 1story and 2story\n",
    "8.sale price is high when bldgtype 1farm\n",
    "9.sale price is high when electrical is SBrkr\n",
    "10.sale price is high when garage quality is excellent and garage type is TA\n",
    "11.sale price is high when sale type is WD and new \n",
    "12.sale price is high when sale condition is normal and partial\n"
   ]
  },
  {
   "cell_type": "code",
   "execution_count": null,
   "id": "9984331e",
   "metadata": {},
   "outputs": [],
   "source": [
    "sns.factorplot(x='MSZoning', y='SalePrice', col='MSSubClass', data=df, kind='bar', col_wrap=4, aspect=0.8)"
   ]
  },
  {
   "cell_type": "markdown",
   "id": "c17e25ad",
   "metadata": {},
   "source": [
    "sale price is higher when ms class is 20,60,70,120,160 mostly and with higher number of houses"
   ]
  },
  {
   "cell_type": "code",
   "execution_count": null,
   "id": "9498a386",
   "metadata": {},
   "outputs": [],
   "source": [
    "# Plotting numeric variables against SalePrice\n",
    "sns.pairplot(df, x_vars=['GrLivArea','GarageArea','TotalBsmtSF'], y_vars='SalePrice', kind= 'reg', plot_kws={'line_kws':{'color':'teal'}})\n",
    "sns.pairplot(df, x_vars=['LotFrontage','LotArea','PoolArea'], y_vars='SalePrice', kind= 'reg', plot_kws={'line_kws':{'color':'teal'}})\n",
    "sns.pairplot(df, x_vars=['WoodDeckSF','OpenPorchSF', 'EnclosedPorch', '3SsnPorch', 'ScreenPorch',], y_vars='SalePrice', kind= 'reg', plot_kws={'line_kws':{'color':'teal'}})"
   ]
  },
  {
   "cell_type": "markdown",
   "id": "2dd9614e",
   "metadata": {},
   "source": [
    "the above all are results of area vs price.it clearly shows when the area increases the price will also increase for the house"
   ]
  },
  {
   "cell_type": "code",
   "execution_count": null,
   "id": "b859a360",
   "metadata": {},
   "outputs": [],
   "source": [
    "# Box plot of catego\n",
    "\n",
    "discrete_cols= ['IsRemodelled','OldOrNewGarage','MSSubClass','OverallQual','OverallCond','BsmtFullBath', 'BsmtHalfBath','FullBath','HalfBath','BedroomAbvGr','KitchenAbvGr', 'Fireplaces', 'GarageCars', '3SsnPorch','PoolArea', 'MoSold']\n",
    "\n",
    "plt.figure(figsize=[18, 40])\n",
    "\n",
    "for i, col in enumerate(discrete_cols, 1):\n",
    "    plt.subplot(10,2,i)\n",
    "    title_text= f'plot {col} '\n",
    "    x_label= f'{col}'\n",
    "    fig= sns.boxplot(data= df, x= col, y= 'SalePrice', palette= 'Greens')\n",
    "    fig.set_title(title_text, fontdict= { 'fontsize': 10, 'color': 'Green'})\n",
    "    fig.set_xlabel(x_label, fontdict= {'fontsize': 8, 'color': 'Brown'})\n",
    "plt.show()\n"
   ]
  },
  {
   "cell_type": "markdown",
   "id": "9cfd9a7f",
   "metadata": {},
   "source": [
    "1.when garage is new price increases\n",
    "2.when remodelled then price increases\n",
    "3.when bedroom abv grnd  increases the price increases \n",
    "4.fireplace 2,3,4 the price increases"
   ]
  },
  {
   "cell_type": "code",
   "execution_count": null,
   "id": "ea001ce6",
   "metadata": {},
   "outputs": [],
   "source": [
    "# Check the numerical values using pairplots\n",
    "\n",
    "plt.figure(figsize=(10,5))\n",
    "sns.pairplot(df, x_vars=['MSSubClass','LotFrontage','LotArea'], y_vars='SalePrice',height=4, aspect=1,kind='scatter')\n",
    "sns.pairplot(df, x_vars=['OverallQual', 'OverallCond'], y_vars='SalePrice',height=4, aspect=1,kind='scatter')\n",
    "sns.pairplot(df, x_vars=['TotalBsmtSF'], y_vars='SalePrice',height=4, aspect=1,kind='scatter')\n",
    "sns.pairplot(df, x_vars=[ 'GrLivArea'], y_vars='SalePrice',height=4, aspect=1,kind='scatter')\n",
    "sns.pairplot(df, x_vars=['BsmtFullBath','BsmtHalfBath','FullBath', 'HalfBath'], y_vars='SalePrice',height=4, aspect=1,kind='scatter')\n",
    "sns.pairplot(df, x_vars=['BedroomAbvGr','KitchenAbvGr','TotRmsAbvGrd', 'Fireplaces'], y_vars='SalePrice',height=4, aspect=1,kind='scatter')\n",
    "sns.pairplot(df, x_vars=['GarageCars','GarageArea', 'WoodDeckSF'], y_vars='SalePrice',height=4, aspect=1,kind='scatter')\n",
    "sns.pairplot(df, x_vars=['OpenPorchSF','EnclosedPorch','3SsnPorch','ScreenPorch','PoolArea' ], y_vars='SalePrice',height=4, aspect=1,kind='scatter')\n",
    "sns.pairplot(df, x_vars=['MoSold','IsRemodelled','BuiltOrRemodelAge','OldOrNewGarage'], y_vars='SalePrice',height=4, aspect=1,kind='scatter')\n",
    "plt.show()"
   ]
  },
  {
   "cell_type": "markdown",
   "id": "d7cfb1f0",
   "metadata": {},
   "source": [
    "1.the higher count of selling is there when mssubclass is 20 and 60\n",
    "2.the higher count of selling is there when bsmtfullbath is 1.0\n",
    "3.the higher count of selling is there when fullbath is 2 \n",
    "4.the higher count of selling is there when firplaces is 1\n",
    "5.the higher count of selling is there when totalroomsabvground is 6 to 9 category\n",
    "6.the higher count of selling is there when kitchenaboveground is 1\n",
    "7.the higher count of selling is there when bedroomaboveground is 2 to 4\n",
    "8.the higher count of selling is there when garage cars can be 2 to 3\n",
    "9.the higher count of selling is there when house got remodelled\n",
    "10.the higher count of selling is there when new garage\n",
    "11.month of selling and pool area has no higher impact on prices\n",
    "12.otherwise generally for any area of house features increases then price will increase too\n"
   ]
  },
  {
   "cell_type": "code",
   "execution_count": null,
   "id": "d8b5aac3",
   "metadata": {},
   "outputs": [],
   "source": [
    "plt.figure(figsize = (12,8))\n",
    "sns.swarmplot(x = 'MSSubClass',y = 'LotArea', data = df, palette = 'coolwarm')\n",
    "plt.xlabel('MSSubClass vs LotArea', fontsize = 20)\n",
    "plt.ylabel('LotArea', fontsize = 20)"
   ]
  },
  {
   "cell_type": "markdown",
   "id": "ab73ab1c",
   "metadata": {},
   "source": [
    "the mssubclass 20 has higher lot areas and higher in selling numbers too"
   ]
  },
  {
   "cell_type": "code",
   "execution_count": null,
   "id": "a036a74c",
   "metadata": {},
   "outputs": [],
   "source": [
    "sns.factorplot(x='MSSubClass', y='SalePrice', col='Neighborhood', data=df, kind='bar', col_wrap=4, aspect=0.8)\n",
    "plt.xticks(rotation=60)\n",
    "plt.show()\n"
   ]
  },
  {
   "cell_type": "markdown",
   "id": "7b6bd37c",
   "metadata": {},
   "source": [
    "neighbourhood NAmes,Edwards,Sawyers,Crawfor and Mitchel has higher number of houses"
   ]
  },
  {
   "cell_type": "code",
   "execution_count": null,
   "id": "33f547bc",
   "metadata": {},
   "outputs": [],
   "source": [
    "df_columns=['MSSubClass', 'MSZoning','Street',\n",
    "       'LotShape', 'LandContour', 'LotConfig', 'LandSlope',\n",
    "       'Neighborhood', 'Condition1', 'Condition2', 'BldgType', 'HouseStyle',\n",
    "       'OverallQual', 'OverallCond','RoofStyle', 'RoofMatl', 'Exterior1st',\n",
    "       'Exterior2nd','ExterQual', 'ExterCond', 'Foundation', 'BsmtQual',\n",
    "       'BsmtCond', 'BsmtExposure', 'BsmtFinType1','BsmtFinType2','Heating', 'HeatingQC', 'CentralAir', 'Electrical','BsmtFullBath', 'BsmtHalfBath', 'FullBath', 'HalfBath',\n",
    "       'BedroomAbvGr', 'KitchenAbvGr', 'KitchenQual', 'TotRmsAbvGrd',\n",
    "       'Functional', 'Fireplaces', 'GarageType','GarageFinish', 'GarageCars','GarageQual', 'GarageCond', 'PavedDrive','MoSold', 'SaleType', 'SaleCondition','IsRemodelled',\n",
    "       'BuiltOrRemodelAge', 'OldOrNewGarage']"
   ]
  },
  {
   "cell_type": "code",
   "execution_count": null,
   "id": "970f680c",
   "metadata": {},
   "outputs": [],
   "source": [
    "for col in df_columns:\n",
    "    plt.figure(figsize=(20,12))\n",
    "    col_name = col\n",
    "    values = df[col_name].value_counts()\n",
    "    index = 0\n",
    "    ax = sns.countplot(df[col_name], palette=\"rainbow\")\n",
    "\n",
    "    for i in ax.patches:\n",
    "        h = i.get_height() # getting the count of each value\n",
    "        t = len(df[col_name]) # getting the total number of records using length\n",
    "        s = f\"{h}\\n({round(h*100/t,2)}%)\" # making the string for displaying in count bar\n",
    "        plt.text(index, h/2, s, ha=\"center\", fontweight=\"bold\")\n",
    "        index += 1\n",
    "    \n",
    "    plt.title(f\"Count Plot for {col_name}\\n\")\n",
    "    plt.xlabel(col_name)\n",
    "    plt.ylabel(f\"Number of rows covered\")\n",
    "    plt.xticks(rotation=90)\n",
    "    plt.show()\n"
   ]
  },
  {
   "cell_type": "markdown",
   "id": "40524d90",
   "metadata": {},
   "source": [
    "1.mssubclass 20,50,and 60 are higher in numbers.And 20 is the most among all.we can invest in 70  and 120.\n",
    "2.mszoning RL are higher in numbers and we can invest in RM\n",
    "3.most of the way are paved way only\n",
    "4.lotshape Reg are higher in numbers and we can invest in IR1\n",
    "5.landcontour LVl are higher in numbers.\n",
    "6.lotconfig inside are higher in numbers and we can invest in corner\n",
    "5.Neighbourhood NAmes,CollgCr,OldTown,Edwards has higher number of houses we can ivest in these areas\n",
    "6.all houses selling conditions are mostly in normal only\n",
    "7.bldtype 1 farm has higher number of houses\n",
    "8.1story and 2 story are higher in number of type of houses and we can invest in this\n",
    "9.most of houses has overall quality of 5,6,7\n",
    "10.most of houses overall condition is 5.\n",
    "11.most of roofstyle is Gable\n",
    "12.most of roofmaterial is compshg\n",
    "13.most of the exterior 1 and 2 is Vnyshld only\n",
    "14.most of exterior quality and exterior condition is TA\n",
    "15.most of foundation is CBlock and PConc\n",
    "16.most of bsmt quality and bsmt condition is TA\n",
    "17.most of bsmt exposure is NO\n",
    "18.most of bsmtfintype1 is GLQ and ALQ\n",
    "19.most of bsmtfintype2 is Unf\n",
    "20.most of heating is GasA\n",
    "21.most of heatingQC is TA and EX\n",
    "22.most of times centralAir is Y\n",
    "23.most of times Electrical is Sbrkr\n",
    "24.most of times bsmtfullbath is 0 and 1\n",
    "25.most of times bsmthalfbath is 0\n",
    "26.most of times bedroomabvgrnd  is 2,3,4\n",
    "27.most of times kitchenabvgrnd is 1\n",
    "28.most of times kitchenquality is TA and Gd\n",
    "29.most of times fireplaces is 0 and 1\n",
    "30.most of times garagecars is 1,2,3\n",
    "31.most of times salecondition is normal\n",
    "32.most of times sale type is WD\n",
    "33.most of times garage is old\n",
    "34.50% of garage is remodelled\n",
    "35.month sold has no impact on sale price"
   ]
  },
  {
   "cell_type": "code",
   "execution_count": null,
   "id": "a5caf4a9",
   "metadata": {},
   "outputs": [],
   "source": [
    "plt.figure(figsize=(10,9))\n",
    "ax = sns.countplot(x=\"LandSlope\", hue='MSSubClass', data=df)"
   ]
  },
  {
   "cell_type": "markdown",
   "id": "891967cf",
   "metadata": {},
   "source": [
    "most of landslopes falls under mssubclass 20 and 6o category since this category has higher no of houses "
   ]
  },
  {
   "cell_type": "code",
   "execution_count": null,
   "id": "94249670",
   "metadata": {},
   "outputs": [],
   "source": [
    "plt.figure(figsize=(10,9))\n",
    "ax = sns.countplot(x=\"RoofStyle\", hue='MSSubClass', data=df)"
   ]
  },
  {
   "cell_type": "markdown",
   "id": "41e64f03",
   "metadata": {},
   "source": [
    "most number of houses are in mssubclass 20 and 60 has mostly gable type roofstyle only"
   ]
  },
  {
   "cell_type": "code",
   "execution_count": null,
   "id": "d5623059",
   "metadata": {},
   "outputs": [],
   "source": [
    "plt.figure(figsize=(10,9))\n",
    "ax = sns.countplot(x=\"HouseStyle\", hue='MSSubClass', data=df)"
   ]
  },
  {
   "cell_type": "markdown",
   "id": "ea21d8c3",
   "metadata": {},
   "source": [
    "most of houses are mssubclass 20 and 60 and has 1 story and 2 story houstyle mostly in this category only"
   ]
  },
  {
   "cell_type": "code",
   "execution_count": null,
   "id": "255f92bf",
   "metadata": {},
   "outputs": [],
   "source": [
    "plt.figure(figsize=(10,9))\n",
    "ax = sns.countplot(x=\"BldgType\", hue='MSSubClass', data=df)"
   ]
  },
  {
   "cell_type": "markdown",
   "id": "2a58e28e",
   "metadata": {},
   "source": [
    "most of the bldgtype is in mssubclass 20 and 60 and has 1 farm category mostly "
   ]
  },
  {
   "cell_type": "code",
   "execution_count": null,
   "id": "42d2f83d",
   "metadata": {},
   "outputs": [],
   "source": [
    "plt.figure(figsize=(10,9))\n",
    "ax = sns.countplot(x=\"OverallCond\", hue='MSSubClass', data=df)"
   ]
  },
  {
   "cell_type": "markdown",
   "id": "9eeb42b0",
   "metadata": {},
   "source": [
    "most of houses are in mssubclass 20,60 and has overall condition is 5,6 and  7 in  this cateogory only"
   ]
  },
  {
   "cell_type": "code",
   "execution_count": null,
   "id": "46d89e78",
   "metadata": {},
   "outputs": [],
   "source": [
    "plt.figure(figsize=(10,9))\n",
    "ax = sns.countplot(x=\"SaleType\", hue='MSSubClass', data=df)"
   ]
  },
  {
   "cell_type": "markdown",
   "id": "485d9ca8",
   "metadata": {},
   "source": [
    "most of houses are in mssubclass 20 and 60 and has WD category of sale type mostly in this category"
   ]
  },
  {
   "cell_type": "code",
   "execution_count": null,
   "id": "e8706933",
   "metadata": {},
   "outputs": [],
   "source": [
    "plt.figure(figsize=(15,14))\n",
    "#now lets check the day of the journey relation with the output price column\n",
    "ax=sns.barplot(x='OverallCond',y='SalePrice',hue='MSSubClass',data=df)\n",
    "ax.set_xticklabels(ax.get_xticklabels(), rotation=40, ha=\"right\")\n",
    "plt.tight_layout()\n",
    "plt.show()"
   ]
  },
  {
   "cell_type": "markdown",
   "id": "c922d45a",
   "metadata": {},
   "source": [
    "when overall condition increases in all categories of mssubclass types then their sale value increases for all irrespective of the class types"
   ]
  },
  {
   "cell_type": "code",
   "execution_count": null,
   "id": "56f2bc67",
   "metadata": {},
   "outputs": [],
   "source": [
    "# For Apparent Temperature (C)\n",
    "sns.set_style(\"darkgrid\")\n",
    "sns.FacetGrid(df, hue=\"MSSubClass\", height=10).map(sns.histplot, \"SalePrice\").add_legend()\n",
    "plt.title(\"Analysis of minimum Temperature in  different years\")\n",
    "# save the figure\n",
    "plt.savefig('plot4.png', dpi=300, bbox_inches='tight')\n",
    "plt.show()\n"
   ]
  },
  {
   "cell_type": "markdown",
   "id": "c0e5270e",
   "metadata": {},
   "source": [
    "most number of houses are in mssubclass 20 and 60 category their total sale value is higher in this category among all"
   ]
  },
  {
   "cell_type": "code",
   "execution_count": null,
   "id": "8f5a2b00",
   "metadata": {},
   "outputs": [],
   "source": [
    "# Let's check the distribution of data in numerical variables\n",
    "cols=['WoodDeckSF','GrLivArea','GarageArea','LotFrontage','LotArea','OpenPorchSF','SalePrice','TotalBsmtSF','EnclosedPorch','ScreenPorch','BuiltOrRemodelAge']\n",
    "\n",
    "# Iterate the columns to view the distribution plot\n",
    "for i in cols:\n",
    "    #plt.style.use('dark_background')\n",
    "    plt.figure(figsize=(8,4))\n",
    "    sns.distplot(df[i],color='darkcyan',label=\"skew\"+ str(np.round(df[i].skew(),2)))\n",
    "    ttext = plt.title(\"Distribution plot of \"+i,loc='center',fontsize=16,pad=10)\n",
    "    xtext = plt.xlabel(i,labelpad=10)\n",
    "    ytext = plt.ylabel(\"Density\",labelpad=10)\n",
    "    plt.setp(ttext,  color='darkcyan', style='italic')\n",
    "    plt.setp(xtext, size='large', color='k', style='italic')\n",
    "    plt.setp(ytext, size='large', color='k', style='italic')\n",
    "    plt.show()\n",
    "    print(45*\"--\")"
   ]
  },
  {
   "cell_type": "markdown",
   "id": "95446fc4",
   "metadata": {},
   "source": [
    "there are slight skewness in distribution"
   ]
  },
  {
   "cell_type": "code",
   "execution_count": null,
   "id": "0af11916",
   "metadata": {},
   "outputs": [],
   "source": [
    "df_cols=['LandSlope']\n",
    "plt.figure(figsize=(15,30))\n",
    "for i in enumerate(df_cols):\n",
    "    plt.subplot(4,2,i[0]+1)\n",
    "    sns.countplot(i[1],hue=\"MSSubClass\",data=df)\n",
    "    plt.xticks(rotation=45)"
   ]
  },
  {
   "cell_type": "markdown",
   "id": "2ac004c8",
   "metadata": {},
   "source": [
    "all types of mssubclass has landslopes Gtl type only"
   ]
  },
  {
   "cell_type": "markdown",
   "id": "34820b08",
   "metadata": {},
   "source": [
    "DATA PREPROCESSING AND FEATURE ENGINEERING"
   ]
  },
  {
   "cell_type": "markdown",
   "id": "ff39c786",
   "metadata": {},
   "source": [
    "drop column since no correlation with target"
   ]
  },
  {
   "cell_type": "code",
   "execution_count": null,
   "id": "4a8a988c",
   "metadata": {},
   "outputs": [],
   "source": [
    "df.drop(columns = ['Utilities'], axis=1, inplace = True)"
   ]
  },
  {
   "cell_type": "code",
   "execution_count": null,
   "id": "611b1a6b",
   "metadata": {},
   "outputs": [],
   "source": [
    "#converting string data type to int type using LabelEncoding\n",
    "le=LabelEncoder()\n",
    "\n",
    "list1=['MSZoning','Street','LotShape','LandContour','LotConfig','LandSlope','Neighborhood','Condition1','Condition2','BldgType','HouseStyle','RoofStyle','RoofMatl','Exterior1st','Exterior2nd','ExterQual','ExterCond','Foundation','BsmtQual','BsmtCond','BsmtExposure','BsmtFinType1','BsmtFinType2','Heating','HeatingQC','CentralAir','Electrical','KitchenQual','Functional','GarageType','GarageFinish','GarageQual','GarageCond','PavedDrive','SaleType','SaleCondition']\n",
    "for val in list1:\n",
    "    df[val]=le.fit_transform(df[val].astype(str))\n",
    "df"
   ]
  },
  {
   "cell_type": "code",
   "execution_count": null,
   "id": "2c2b97e7",
   "metadata": {},
   "outputs": [],
   "source": [
    "df.shape"
   ]
  },
  {
   "cell_type": "code",
   "execution_count": null,
   "id": "f1ddfc5f",
   "metadata": {},
   "outputs": [],
   "source": [
    "v=df[list(df.columns)[61]] \n",
    "df=df.drop(['SalePrice'],axis=1) \n",
    "df"
   ]
  },
  {
   "cell_type": "code",
   "execution_count": null,
   "id": "df381435",
   "metadata": {},
   "outputs": [],
   "source": [
    "df.insert(64,'SalePrice',v) \n",
    "df"
   ]
  },
  {
   "cell_type": "code",
   "execution_count": null,
   "id": "e18883c3",
   "metadata": {},
   "outputs": [],
   "source": [
    "df.shape"
   ]
  },
  {
   "cell_type": "code",
   "execution_count": null,
   "id": "9008cbe6",
   "metadata": {},
   "outputs": [],
   "source": [
    "#find correlation co.efficient of all variables in table\n",
    "df.corr()"
   ]
  },
  {
   "cell_type": "code",
   "execution_count": null,
   "id": "d3da3041",
   "metadata": {},
   "outputs": [],
   "source": [
    "plt.figure(figsize=(100,50))\n",
    "sns.heatmap(df.corr(),annot=True,linewidths=0.5,linecolor=\"black\",fmt='.2f')"
   ]
  },
  {
   "cell_type": "markdown",
   "id": "c2fbe365",
   "metadata": {},
   "source": [
    "most positively correlated features are OverallQual,GrLivArea,GarageCars,GarageArea,TotalBsmtSF etc., most negatively correlated columns are BsmtQual,ExterQual,KitchenQual,GarageFinish,BuiltOrRemodelAge,HeatingQC,GarageType Id,IsRemodelled,BsmtHalfBath,street are the columns which has very less correlation with the target column"
   ]
  },
  {
   "cell_type": "code",
   "execution_count": null,
   "id": "3b8696e3",
   "metadata": {},
   "outputs": [],
   "source": [
    "df.describe()"
   ]
  },
  {
   "cell_type": "markdown",
   "id": "7ee5ee3a",
   "metadata": {},
   "source": [
    "slight skewness present in all continous area value numeric columns since due to outliers because of high diff between 75% and maximum value"
   ]
  },
  {
   "cell_type": "code",
   "execution_count": null,
   "id": "8ef3b9ad",
   "metadata": {},
   "outputs": [],
   "source": [
    "plt.figure(figsize=(15,12))\n",
    "sns.heatmap(round(df.describe()[1:].transpose(),2),linewidth=2,annot=True,fmt=\"f\")\n",
    "plt.xticks(fontsize=18)\n",
    "plt.yticks(fontsize=12)\n",
    "plt.title(\"Variables Summary\")\n",
    "plt.show()"
   ]
  },
  {
   "cell_type": "code",
   "execution_count": null,
   "id": "9abe80db",
   "metadata": {},
   "outputs": [],
   "source": [
    "plt.figure(figsize=(10,7))\n",
    "df.corr()['SalePrice'].sort_values(ascending=False).drop(['SalePrice']).plot(kind='bar',color='c')\n",
    "plt.xlabel('Feature',fontsize=14)\n",
    "plt.ylabel('Column with Target names',fontsize=14)\n",
    "plt.title('Correlation',fontsize=18)\n",
    "plt.show()"
   ]
  },
  {
   "cell_type": "markdown",
   "id": "8b9dffcf",
   "metadata": {},
   "source": [
    "this shows positively and negatively correlated columns with the target column"
   ]
  },
  {
   "cell_type": "code",
   "execution_count": null,
   "id": "e9271abd",
   "metadata": {},
   "outputs": [],
   "source": [
    "df.drop(['Id'], axis = 1, inplace = True)"
   ]
  },
  {
   "cell_type": "code",
   "execution_count": null,
   "id": "7f1af5d8",
   "metadata": {},
   "outputs": [],
   "source": [
    "df.shape"
   ]
  },
  {
   "cell_type": "code",
   "execution_count": null,
   "id": "6c9440cb",
   "metadata": {},
   "outputs": [],
   "source": [
    "v=df[list(df.columns)[63]] \n",
    "df=df.drop(['SalePrice'],axis=1) \n",
    "df"
   ]
  },
  {
   "cell_type": "code",
   "execution_count": null,
   "id": "07883dc6",
   "metadata": {},
   "outputs": [],
   "source": [
    "import statsmodels.api as sm\n",
    "from scipy import stats\n",
    "from statsmodels.stats.outliers_influence import variance_inflation_factor"
   ]
  },
  {
   "cell_type": "code",
   "execution_count": null,
   "id": "7775684f",
   "metadata": {},
   "outputs": [],
   "source": [
    "df.shape[1]"
   ]
  },
  {
   "cell_type": "code",
   "execution_count": null,
   "id": "ed1dd05c",
   "metadata": {},
   "outputs": [],
   "source": [
    "#calculates vif\n",
    "def calc_vif(df):\n",
    "    vif=pd.DataFrame()\n",
    "    vif['Variables']=df.columns\n",
    "    vif['VIF FACTOR']=[variance_inflation_factor(df.values,i)for i in range(df.shape[1])]\n",
    "    return(vif)\n",
    "\n",
    "\n",
    "calc_vif(df)"
   ]
  },
  {
   "cell_type": "markdown",
   "id": "aff20cbe",
   "metadata": {},
   "source": [
    "drop the columns which has high vif values"
   ]
  },
  {
   "cell_type": "code",
   "execution_count": null,
   "id": "c9ea5312",
   "metadata": {},
   "outputs": [],
   "source": [
    "df.drop(['Street'], axis = 1, inplace = True)"
   ]
  },
  {
   "cell_type": "code",
   "execution_count": null,
   "id": "de30e0f0",
   "metadata": {},
   "outputs": [],
   "source": [
    "calc_vif(df)"
   ]
  },
  {
   "cell_type": "code",
   "execution_count": null,
   "id": "54188971",
   "metadata": {},
   "outputs": [],
   "source": [
    "df.drop(['TotRmsAbvGrd'], axis = 1, inplace = True)"
   ]
  },
  {
   "cell_type": "code",
   "execution_count": null,
   "id": "178eb0b0",
   "metadata": {},
   "outputs": [],
   "source": [
    "calc_vif(df)"
   ]
  },
  {
   "cell_type": "code",
   "execution_count": null,
   "id": "320a55c7",
   "metadata": {},
   "outputs": [],
   "source": [
    "df.drop(['GarageCond'], axis = 1, inplace = True)"
   ]
  },
  {
   "cell_type": "code",
   "execution_count": null,
   "id": "3568775b",
   "metadata": {},
   "outputs": [],
   "source": [
    "calc_vif(df)"
   ]
  },
  {
   "cell_type": "code",
   "execution_count": null,
   "id": "24e91290",
   "metadata": {},
   "outputs": [],
   "source": [
    "df.shape[1]"
   ]
  },
  {
   "cell_type": "code",
   "execution_count": null,
   "id": "76c7b947",
   "metadata": {},
   "outputs": [],
   "source": [
    "df.insert(60,'SalePrice',v) \n",
    "df"
   ]
  },
  {
   "cell_type": "code",
   "execution_count": null,
   "id": "9d091ace",
   "metadata": {},
   "outputs": [],
   "source": [
    "df.shape[1]"
   ]
  },
  {
   "cell_type": "code",
   "execution_count": null,
   "id": "67100682",
   "metadata": {},
   "outputs": [],
   "source": [
    "df_outliers=['LotFrontage','LotArea','TotalBsmtSF','GrLivArea','GarageArea','WoodDeckSF','OpenPorchSF','EnclosedPorch','3SsnPorch','ScreenPorch','PoolArea','SalePrice']"
   ]
  },
  {
   "cell_type": "code",
   "execution_count": null,
   "id": "6288f5e0",
   "metadata": {},
   "outputs": [],
   "source": [
    "plt.figure(figsize= (15,20))\n",
    "pltnum = 1\n",
    "for i in df_outliers:\n",
    "    if pltnum <=10:\n",
    "        plt.subplot(10,1,pltnum)\n",
    "        sns.boxplot(df[i],color = 'lightblue')\n",
    "        plt.xlabel(i,fontsize=15)\n",
    "    pltnum+=1\n",
    "plt.tight_layout()"
   ]
  },
  {
   "cell_type": "markdown",
   "id": "f7df54f2",
   "metadata": {},
   "source": [
    "all area column values has outliers"
   ]
  },
  {
   "cell_type": "code",
   "execution_count": null,
   "id": "07e1dd05",
   "metadata": {},
   "outputs": [],
   "source": [
    "df_skewness=['LotFrontage','LotArea','TotalBsmtSF','GrLivArea','GarageArea','WoodDeckSF','OpenPorchSF','EnclosedPorch','3SsnPorch','ScreenPorch','PoolArea','SalePrice']"
   ]
  },
  {
   "cell_type": "code",
   "execution_count": null,
   "id": "2da6472d",
   "metadata": {},
   "outputs": [],
   "source": [
    "#ckeck skewness\n",
    "for i in df_skewness:\n",
    "    print(df[i].skew())\n",
    "    "
   ]
  },
  {
   "cell_type": "code",
   "execution_count": null,
   "id": "574b46bd",
   "metadata": {},
   "outputs": [],
   "source": [
    "plt.figure(figsize = (20, 25))\n",
    "plotnumber = 1\n",
    "\n",
    "for col in df_skewness:\n",
    "    if plotnumber <= 12:\n",
    "        ax = plt.subplot(4,3, plotnumber)\n",
    "        sns.distplot(df[col])\n",
    "        plt.xlabel(col, fontsize = 15)\n",
    "        \n",
    "    plotnumber += 1\n",
    "    \n",
    "plt.tight_layout()\n",
    "plt.show()"
   ]
  },
  {
   "cell_type": "markdown",
   "id": "4733ea4d",
   "metadata": {},
   "source": [
    "skewness present due to outliers"
   ]
  },
  {
   "cell_type": "markdown",
   "id": "7ca10a76",
   "metadata": {},
   "source": [
    "#checking Quantile to remove outliers"
   ]
  },
  {
   "cell_type": "code",
   "execution_count": null,
   "id": "c8856d69",
   "metadata": {},
   "outputs": [],
   "source": [
    "cols = ['LotFrontage','LotArea','TotalBsmtSF','GrLivArea','GarageArea','WoodDeckSF','OpenPorchSF','EnclosedPorch','3SsnPorch','ScreenPorch','PoolArea','SalePrice'] # one or more\n",
    "\n",
    "Q1 = df[cols].quantile(0.25)\n",
    "Q3 = df[cols].quantile(0.75)\n",
    "IQR = Q3 - Q1\n",
    "\n",
    "df = df[~((df[cols] < (Q1 - 1.5 * IQR)) |(df[cols] > (Q3 + 1.5 * IQR))).any(axis=1)]"
   ]
  },
  {
   "cell_type": "code",
   "execution_count": null,
   "id": "0015488d",
   "metadata": {},
   "outputs": [],
   "source": [
    "df.shape"
   ]
  },
  {
   "cell_type": "markdown",
   "id": "1f78732f",
   "metadata": {},
   "source": [
    "some outliers got removed"
   ]
  },
  {
   "cell_type": "code",
   "execution_count": null,
   "id": "f8764237",
   "metadata": {},
   "outputs": [],
   "source": [
    "#finds data loss\n",
    "loss_percent=(1168-685)/(1168*100)\n",
    "print(loss_percent)"
   ]
  },
  {
   "cell_type": "markdown",
   "id": "bf4945bd",
   "metadata": {},
   "source": [
    "data loss percentage is very low.data is cleaned also"
   ]
  },
  {
   "cell_type": "code",
   "execution_count": null,
   "id": "92ac8a92",
   "metadata": {},
   "outputs": [],
   "source": [
    "df.shape"
   ]
  },
  {
   "cell_type": "code",
   "execution_count": null,
   "id": "630c4441",
   "metadata": {},
   "outputs": [],
   "source": [
    "#seggregate input data and output data\n",
    "x=df.iloc[:,:-1]\n",
    "y=df.iloc[:,-1]"
   ]
  },
  {
   "cell_type": "code",
   "execution_count": null,
   "id": "c47b87e4",
   "metadata": {},
   "outputs": [],
   "source": [
    "#removing skewness using power transform\n",
    "from sklearn.preprocessing import power_transform\n",
    "x=power_transform(x,method='yeo-johnson',standardize=False)\n",
    "x"
   ]
  },
  {
   "cell_type": "code",
   "execution_count": null,
   "id": "a3b457c4",
   "metadata": {},
   "outputs": [],
   "source": [
    "#scaling to get better model performance\n",
    "from sklearn.preprocessing import MinMaxScaler\n",
    "mmscaler = MinMaxScaler()\n",
    "x= mmscaler.fit_transform(x)\n",
    "x"
   ]
  },
  {
   "cell_type": "markdown",
   "id": "59b8d901",
   "metadata": {},
   "source": [
    "MAKE TEST DATA READY"
   ]
  },
  {
   "cell_type": "code",
   "execution_count": null,
   "id": "de38ad6e",
   "metadata": {},
   "outputs": [],
   "source": [
    "df1.shape"
   ]
  },
  {
   "cell_type": "code",
   "execution_count": null,
   "id": "a577a4e5",
   "metadata": {},
   "outputs": [],
   "source": [
    "df1.drop(columns = ['Utilities'], axis=1, inplace = True)"
   ]
  },
  {
   "cell_type": "code",
   "execution_count": null,
   "id": "ce1397ba",
   "metadata": {},
   "outputs": [],
   "source": [
    "#converting string data type to int type using LabelEncoding\n",
    "le=LabelEncoder()\n",
    "list2=['MSZoning','Street','LotShape','LandContour','LotConfig','LandSlope','Neighborhood','Condition1','Condition2','BldgType','HouseStyle','RoofStyle','RoofMatl','Exterior1st','Exterior2nd','ExterQual','ExterCond','Foundation','BsmtQual','BsmtCond','BsmtExposure','BsmtFinType1','BsmtFinType2','Heating','HeatingQC','CentralAir','Electrical','KitchenQual','Functional','GarageType','GarageFinish','GarageQual','GarageCond','PavedDrive','SaleType','SaleCondition']\n",
    "for val in list2:\n",
    "    df1[val]=le.fit_transform(df1[val].astype(str))\n",
    "df1"
   ]
  },
  {
   "cell_type": "code",
   "execution_count": null,
   "id": "c5baf77d",
   "metadata": {},
   "outputs": [],
   "source": [
    "df1.drop(['Id'], axis = 1, inplace = True)"
   ]
  },
  {
   "cell_type": "code",
   "execution_count": null,
   "id": "c8c8aee4",
   "metadata": {},
   "outputs": [],
   "source": [
    "df1.drop(['Street'], axis = 1, inplace = True)"
   ]
  },
  {
   "cell_type": "code",
   "execution_count": null,
   "id": "dc56a4a5",
   "metadata": {},
   "outputs": [],
   "source": [
    "df1.drop(['TotRmsAbvGrd'], axis = 1, inplace = True)"
   ]
  },
  {
   "cell_type": "code",
   "execution_count": null,
   "id": "634617ce",
   "metadata": {},
   "outputs": [],
   "source": [
    "df1.drop(['GarageCond'], axis = 1, inplace = True)"
   ]
  },
  {
   "cell_type": "markdown",
   "id": "71a7b61f",
   "metadata": {},
   "source": [
    "quantile to remove outliers"
   ]
  },
  {
   "cell_type": "code",
   "execution_count": null,
   "id": "59f67520",
   "metadata": {},
   "outputs": [],
   "source": [
    "cols = ['LotFrontage','LotArea','TotalBsmtSF','GrLivArea','GarageArea','WoodDeckSF','OpenPorchSF','EnclosedPorch','3SsnPorch','ScreenPorch','PoolArea'] # one or more\n",
    "\n",
    "Q1 = df1[cols].quantile(0.25)\n",
    "Q3 = df1[cols].quantile(0.75)\n",
    "IQR = Q3 - Q1\n",
    "\n",
    "df1 = df1[~((df[cols] < (Q1 - 1.5 * IQR)) |(df1[cols] > (Q3 + 1.5 * IQR))).any(axis=1)]"
   ]
  },
  {
   "cell_type": "code",
   "execution_count": null,
   "id": "3fbddbe5",
   "metadata": {},
   "outputs": [],
   "source": [
    "df1.shape"
   ]
  },
  {
   "cell_type": "markdown",
   "id": "00e57fb9",
   "metadata": {},
   "source": [
    "some outliers got removed"
   ]
  },
  {
   "cell_type": "code",
   "execution_count": null,
   "id": "282ea804",
   "metadata": {},
   "outputs": [],
   "source": [
    "#finds data loss\n",
    "loss_percent=(292-230)/(292*100)\n",
    "print(loss_percent)"
   ]
  },
  {
   "cell_type": "markdown",
   "id": "99533013",
   "metadata": {},
   "source": [
    "data loss is very less "
   ]
  },
  {
   "cell_type": "code",
   "execution_count": null,
   "id": "ce2b13d1",
   "metadata": {},
   "outputs": [],
   "source": [
    "test_data=df1.iloc[:,:]"
   ]
  },
  {
   "cell_type": "code",
   "execution_count": null,
   "id": "af3aaf8d",
   "metadata": {},
   "outputs": [],
   "source": [
    "#removing skewness using power transform\n",
    "from sklearn.preprocessing import power_transform\n",
    "test_data=power_transform(test_data,method='yeo-johnson',standardize=False)\n",
    "test_data"
   ]
  },
  {
   "cell_type": "code",
   "execution_count": null,
   "id": "3f1bec3e",
   "metadata": {},
   "outputs": [],
   "source": [
    "test_data=df1"
   ]
  },
  {
   "cell_type": "code",
   "execution_count": null,
   "id": "0e43750d",
   "metadata": {},
   "outputs": [],
   "source": [
    "#scaling to get better model performance\n",
    "from sklearn.preprocessing import MinMaxScaler\n",
    "mmscaler = MinMaxScaler()\n",
    "test_data= mmscaler.fit_transform(test_data)\n",
    "test_data"
   ]
  },
  {
   "cell_type": "markdown",
   "id": "5c64e49a",
   "metadata": {},
   "source": [
    "MODEL EVALUATION"
   ]
  },
  {
   "cell_type": "markdown",
   "id": "b577f612",
   "metadata": {},
   "source": [
    "REGRESSION :"
   ]
  },
  {
   "cell_type": "markdown",
   "id": "1e5725a1",
   "metadata": {},
   "source": [
    "Linear Regression"
   ]
  },
  {
   "cell_type": "code",
   "execution_count": null,
   "id": "a807879d",
   "metadata": {},
   "outputs": [],
   "source": [
    "#Linear Regression\n",
    "#model fitting\n",
    "from sklearn.linear_model import LinearRegression\n",
    "lr=LinearRegression()\n",
    "from sklearn.metrics import mean_squared_error,mean_absolute_error,r2_score\n",
    "from sklearn.model_selection import train_test_split\n",
    "\n"
   ]
  },
  {
   "cell_type": "code",
   "execution_count": null,
   "id": "4bfd6c44",
   "metadata": {},
   "outputs": [],
   "source": [
    "#getting best accuracy with help of selecting random state\n",
    "for i in range(0,100):\n",
    "    x_train,x_test,y_train,y_test=train_test_split(x,y,test_size=0.36,random_state=i)\n",
    "    lr.fit(x_train,y_train)\n",
    "    pred_train=lr.predict(x_train)\n",
    "    pred_test=lr.predict(x_test)\n",
    "    print(f\"At random state {i},the training accuracy is:{r2_score(y_train,pred_train)*100}\")\n",
    "    print(f\"At random state {i},the testing accuracy is:{r2_score(y_test,pred_test)*100}\")\n",
    "    print(\"\\n\")\n",
    "    \n",
    "    \n",
    "    \n",
    "    "
   ]
  },
  {
   "cell_type": "code",
   "execution_count": null,
   "id": "fdb1f9f7",
   "metadata": {},
   "outputs": [],
   "source": [
    "#evaluation metrics\n",
    "\n",
    "print(\"Accuracy:\", r2_score(y_test,pred_test)*100)"
   ]
  },
  {
   "cell_type": "code",
   "execution_count": null,
   "id": "9e1fe14f",
   "metadata": {},
   "outputs": [],
   "source": [
    "#cross validation at random state\n",
    "Train_accuracy=(r2_score(y_train,pred_train)*100)\n",
    "Test_accuracy=r2_score(y_test,pred_test)*100\n",
    "from sklearn.model_selection import cross_val_score\n",
    "for j in range(2,10):\n",
    "    cv_score=cross_val_score(lr,x_test,y_test,cv=j)\n",
    "    cv_mean=cv_score.mean()*100\n",
    "    print(f\"At cross fold {j} the cv score is {cv_mean} and accuracy score for Training is {Train_accuracy} and accuracy score for Testing is {Test_accuracy}\")\n",
    "    print(\"\\n\")\n",
    "    "
   ]
  },
  {
   "cell_type": "markdown",
   "id": "1b928222",
   "metadata": {},
   "source": [
    "parameter tuning"
   ]
  },
  {
   "cell_type": "code",
   "execution_count": null,
   "id": "c9673262",
   "metadata": {},
   "outputs": [],
   "source": [
    "#perform gridsearchcv and cross val score on LinearRegression\n",
    "from sklearn.model_selection import GridSearchCV\n",
    "\n",
    "parameters={ 'fit_intercept':[True,False], 'normalize':[True,False], 'copy_X':[True,False], 'n_jobs':[None,1,-1], 'positive':[True,False]}\n",
    "lr=LinearRegression()\n",
    "clf=GridSearchCV(lr,parameters)\n",
    "clf.fit(x_train,y_train)\n",
    "print(clf.best_params_)\n"
   ]
  },
  {
   "cell_type": "code",
   "execution_count": null,
   "id": "116b7a6b",
   "metadata": {},
   "outputs": [],
   "source": [
    "lr=LinearRegression(copy_X= True, fit_intercept= True, n_jobs= None, normalize= True, positive= False)\n",
    "lr.fit(x_train,y_train)\n",
    "pred_test_lr=lr.predict(x_test)\n",
    "pred_train_lr=lr.predict(x_train)\n",
    "lr_score = lr.score(x_train,y_train)\n",
    "lr_acc_score=r2_score(y_test,pred_test)\n",
    "print(\"Accuracy score is:\",lr_acc_score*100)\n",
    "print(\"score of model is:\",lr_score*100)"
   ]
  },
  {
   "cell_type": "code",
   "execution_count": null,
   "id": "f6b6f838",
   "metadata": {},
   "outputs": [],
   "source": [
    "cv_score_lr=cross_val_score(lr,x_test,y_test,cv=5)\n",
    "cv_mean_lr=cv_score_lr.mean()\n",
    "print(\"cv_mean is:\",cv_mean_lr*100)"
   ]
  },
  {
   "cell_type": "code",
   "execution_count": null,
   "id": "f359b5ec",
   "metadata": {},
   "outputs": [],
   "source": [
    "plt.figure(figsize=(8,6))\n",
    "plt.scatter(x=y_test,y=pred_test,color='r')\n",
    "plt.plot(y_test,y_test,color='b')\n",
    "plt.xlabel('Actual',fontsize=14)\n",
    "plt.ylabel('Predicted',fontsize=14)\n",
    "plt.title('Linear Regression',fontsize=18)\n",
    "plt.show()"
   ]
  },
  {
   "cell_type": "code",
   "execution_count": null,
   "id": "21e64e9a",
   "metadata": {},
   "outputs": [],
   "source": [
    "#evaluation metrics\n",
    "print(\"mean absolute error\",mean_absolute_error(y_test,pred_test))\n",
    "print(\"mean squared error\",mean_squared_error(y_test,pred_test))\n",
    "print(\"Root mean squared error\",np.sqrt(mean_squared_error(y_test,pred_test)))\n",
    "print(\"r2_score is\",r2_score(y_test,pred_test)*100)"
   ]
  },
  {
   "cell_type": "markdown",
   "id": "c0415107",
   "metadata": {},
   "source": [
    "LASSO REGRESSION"
   ]
  },
  {
   "cell_type": "markdown",
   "id": "9b05d1e9",
   "metadata": {},
   "source": [
    "parameter tuning"
   ]
  },
  {
   "cell_type": "code",
   "execution_count": null,
   "id": "45251c17",
   "metadata": {},
   "outputs": [],
   "source": [
    "#perform gridsearchcv and cross val score on lasso regression\n",
    "from sklearn.model_selection import GridSearchCV\n",
    "from sklearn.model_selection import cross_val_score\n",
    "import warnings\n",
    "warnings.filterwarnings('ignore')\n",
    "from sklearn.linear_model import Lasso\n",
    "parameters={'alpha':[0.0001,0.001,0.01,0.1,1,10],'random_state':list(range(0,10)),'fit_intercept':[True,False],'normalize':[True,False],'tol':[0.001]}\n",
    "ls=Lasso()\n",
    "clf=GridSearchCV(ls,parameters)\n",
    "clf.fit(x_train,y_train)\n",
    "print(clf.best_params_)\n"
   ]
  },
  {
   "cell_type": "code",
   "execution_count": null,
   "id": "9f3acfc3",
   "metadata": {},
   "outputs": [],
   "source": [
    "ls=Lasso(alpha=1,random_state=0,fit_intercept= True, normalize= False,tol= 0.001)\n",
    "ls.fit(x_train,y_train)\n",
    "pred_test_ls=ls.predict(x_test)\n",
    "pred_train_ls=ls.predict(x_train)\n",
    "ls_score = ls.score(x_train,y_train)\n",
    "ls_acc_score=r2_score(y_test,pred_test_ls)\n",
    "print(\"Accuracy score is:\",ls_acc_score*100)\n"
   ]
  },
  {
   "cell_type": "code",
   "execution_count": null,
   "id": "09aecd7d",
   "metadata": {},
   "outputs": [],
   "source": [
    "#checks cv score\n",
    "for u in range(2,10):\n",
    "    cv_score_ls=cross_val_score(ls,x,y,cv=5)\n",
    "    cv_mean_ls=cv_score_ls.mean()\n",
    "    print(\"At cv :-\",j )\n",
    "    print(\"cv_score is:\",cv_mean_ls*100)\n",
    "    print(\"accuracy score---r2_score is\",ls_acc_score*100)"
   ]
  },
  {
   "cell_type": "code",
   "execution_count": null,
   "id": "c47f88ec",
   "metadata": {},
   "outputs": [],
   "source": [
    "plt.figure(figsize=(8,6))\n",
    "plt.scatter(x=y_test,y=pred_test_ls,color='r')\n",
    "plt.plot(y_test,y_test,color='b')\n",
    "plt.xlabel('Actual',fontsize=14)\n",
    "plt.ylabel('Predicted',fontsize=14)\n",
    "plt.title('Lasso Regression',fontsize=18)\n",
    "plt.show()"
   ]
  },
  {
   "cell_type": "code",
   "execution_count": null,
   "id": "8cd11008",
   "metadata": {},
   "outputs": [],
   "source": [
    "#evaluation metrics\n",
    "print(\"mean absolute error\",mean_absolute_error(y_test,pred_test_ls))\n",
    "print(\"mean squared error\",mean_squared_error(y_test,pred_test_ls))\n",
    "print(\"Root mean squared error\",np.sqrt(mean_squared_error(y_test,pred_test_ls)))\n",
    "print(\"r2_score is\",r2_score(y_test,pred_test_ls)*100)"
   ]
  },
  {
   "cell_type": "markdown",
   "id": "86aa0d07",
   "metadata": {},
   "source": [
    "RANDOM FOREST REGRESSION"
   ]
  },
  {
   "cell_type": "markdown",
   "id": "b9d0b059",
   "metadata": {},
   "source": [
    "parameter tuning"
   ]
  },
  {
   "cell_type": "code",
   "execution_count": null,
   "id": "f8e68903",
   "metadata": {},
   "outputs": [],
   "source": [
    "#perform gridsearchcv and cross val score on RandomForestRegressor\n",
    "from sklearn.model_selection import GridSearchCV\n",
    "from sklearn.ensemble import RandomForestRegressor\n",
    "parameters={'criterion':['squared_error', 'mse','absolute_error'],'max_features':[\"auto\",\"sqrt\"],'bootstrap': [True, False],'min_samples_split':[1,2],'min_samples_leaf':[1,2]}\n",
    "rf=RandomForestRegressor()\n",
    "clf=GridSearchCV(rf,parameters)\n",
    "clf.fit(x_train,y_train)\n",
    "print(clf.best_params_)\n",
    "\n",
    "                                                      \n"
   ]
  },
  {
   "cell_type": "code",
   "execution_count": null,
   "id": "187b0d0d",
   "metadata": {},
   "outputs": [],
   "source": [
    "rf=RandomForestRegressor(criterion=\"mae\",max_features=\"log2\",bootstrap= True,min_samples_leaf= 2, min_samples_split= 2)\n",
    "rf.fit(x_train,y_train)\n",
    "pred_test_rf=rf.predict(x_test)\n",
    "pred_train_rf=rf.predict(x_train)\n",
    "rf_score = rf.score(x_train,y_train)\n",
    "rf_acc_score=r2_score(y_test,pred_test)\n",
    "print(\"Accuracy score is:\",rf_acc_score*100)\n",
    "print(\"score of model is:\",rf_score*100)"
   ]
  },
  {
   "cell_type": "code",
   "execution_count": null,
   "id": "1ce6533b",
   "metadata": {},
   "outputs": [],
   "source": [
    "cv_score_rf=cross_val_score(rf,x,y,cv=5)\n",
    "cv_mean_rf=cv_score_rf.mean()\n",
    "print(\"cv_mean is:\",cv_mean_rf*100)"
   ]
  },
  {
   "cell_type": "code",
   "execution_count": null,
   "id": "b3312c4c",
   "metadata": {},
   "outputs": [],
   "source": [
    "#evaluation metrics\n",
    "print(\"mean absolute error\",mean_absolute_error(y_test,pred_test_rf))\n",
    "print(\"mean squared error\",mean_squared_error(y_test,pred_test_rf))\n",
    "print(\"Root mean squared error\",np.sqrt(mean_squared_error(y_test,pred_test_rf)))\n",
    "print(\"r2_score is\",r2_score(y_test,pred_test_rf)*100)"
   ]
  },
  {
   "cell_type": "code",
   "execution_count": null,
   "id": "207554a9",
   "metadata": {},
   "outputs": [],
   "source": [
    "plt.figure(figsize=(8,6))\n",
    "plt.scatter(x=y_test,y=pred_test_rf,color='r')\n",
    "plt.plot(y_test,y_test,color='b')\n",
    "plt.xlabel('Actual',fontsize=14)\n",
    "plt.ylabel('Predicted',fontsize=14)\n",
    "plt.title('Random Forest Regression',fontsize=18)\n",
    "plt.show()"
   ]
  },
  {
   "cell_type": "markdown",
   "id": "4373355c",
   "metadata": {},
   "source": [
    "RIDGE REGRESSION"
   ]
  },
  {
   "cell_type": "code",
   "execution_count": null,
   "id": "bfd8f68b",
   "metadata": {},
   "outputs": [],
   "source": [
    "#perform gridsearchcv and cross val score on Ridge Regressor\n",
    "from sklearn.linear_model import Ridge\n",
    "parameters={'alpha':[0.0001,0.001,0.01,0.1,1],'fit_intercept':[True,False],'normalize':[True,False],'tol':[0.001],'random_state':list(range(0,10))}\n",
    "rd=Ridge()\n",
    "clf=GridSearchCV(rd,parameters)\n",
    "clf.fit(x_train,y_train)\n",
    "print(clf.best_params_)\n"
   ]
  },
  {
   "cell_type": "code",
   "execution_count": null,
   "id": "1ee9676f",
   "metadata": {},
   "outputs": [],
   "source": [
    "rd=Ridge(alpha=0.001,fit_intercept=True,normalize=True,random_state=0,tol=0.001)\n",
    "rd.fit(x_train,y_train)\n",
    "pred_test_rd=rd.predict(x_test)\n",
    "pred_train_rd=rd.predict(x_train)\n",
    "rd_score = rd.score(x_train,y_train)\n",
    "rd_acc_score=r2_score(y_test,pred_test_rd)\n",
    "print(\"Accuracy score is:\",rd_acc_score*100)\n",
    "print(\"score of model is:\",rd_score*100)"
   ]
  },
  {
   "cell_type": "code",
   "execution_count": null,
   "id": "0319ba4c",
   "metadata": {},
   "outputs": [],
   "source": [
    "cv_score_rd=cross_val_score(rd,x,y,cv=5)\n",
    "cv_mean_rd=cv_score_rd.mean()\n",
    "print(\"cv_mean is:\",cv_mean_rd*100)"
   ]
  },
  {
   "cell_type": "code",
   "execution_count": null,
   "id": "4457aefe",
   "metadata": {},
   "outputs": [],
   "source": [
    "#evaluation metrics\n",
    "print(\"mean absolute error\",mean_absolute_error(y_test,pred_test_rd))\n",
    "print(\"mean squared error\",mean_squared_error(y_test,pred_test_rd))\n",
    "print(\"Root mean squared error\",np.sqrt(mean_squared_error(y_test,pred_test_rd)))\n",
    "print(\"r2_score is\",r2_score(y_test,pred_test_rd)*100)"
   ]
  },
  {
   "cell_type": "code",
   "execution_count": null,
   "id": "049d0f07",
   "metadata": {},
   "outputs": [],
   "source": [
    "plt.figure(figsize=(8,6))\n",
    "plt.scatter(x=y_test,y=pred_test_rd,color='b')\n",
    "plt.plot(y_test,y_test,color='b')\n",
    "plt.xlabel('Actual',fontsize=14)\n",
    "plt.ylabel('Predicted',fontsize=14)\n",
    "plt.title('Ridge Regression',fontsize=18)\n",
    "plt.show()"
   ]
  },
  {
   "cell_type": "markdown",
   "id": "5d1a6155",
   "metadata": {},
   "source": [
    "DECISION TREE REGRESSOR"
   ]
  },
  {
   "cell_type": "code",
   "execution_count": null,
   "id": "4eb04b13",
   "metadata": {},
   "outputs": [],
   "source": [
    "#perform gridsearchcv and cross val score on Decison Tree Regressor\n",
    "from sklearn.model_selection import GridSearchCV\n",
    "from sklearn.tree import DecisionTreeRegressor\n",
    "parameters={'criterion':['mse','friedman_mse','mae','poisson'],'splitter':['best','random'],'max_features':['auto', 'sqrt', 'log2'],'random_state':list(range(0,10)),'min_weight_fraction_leaf':[0.1,0.2,0.3,0.4,0.5,0.6,0.7,0.8,0.9]}\n",
    "dt=DecisionTreeRegressor()\n",
    "clf=GridSearchCV(dt,parameters)\n",
    "clf.fit(x_train,y_train)\n",
    "print(clf.best_params_)\n",
    "\n",
    "                  "
   ]
  },
  {
   "cell_type": "code",
   "execution_count": null,
   "id": "42298239",
   "metadata": {},
   "outputs": [],
   "source": [
    "dt=DecisionTreeRegressor(criterion='mse',max_features= 'auto', min_weight_fraction_leaf= 0.1, random_state= 1, splitter= 'random')\n",
    "dt.fit(x_train,y_train)\n",
    "pred_test_dt=dt.predict(x_test)\n",
    "pred_train_dt=dt.predict(x_train)\n",
    "dt_score = dt.score(x_train,y_train)\n",
    "dt_acc_score=r2_score(y_test,pred_test_dt)\n",
    "print(\"Accuracy score is:\",dt_acc_score*100)\n",
    "print(\"score of model is:\",dt_score*100)\n"
   ]
  },
  {
   "cell_type": "code",
   "execution_count": null,
   "id": "a95d50b8",
   "metadata": {},
   "outputs": [],
   "source": [
    "cv_score_dt=cross_val_score(dt,x,y,cv=5)\n",
    "cv_mean_dt=cv_score_dt.mean()\n",
    "print(\"cv_mean is:\",cv_mean_dt*100)"
   ]
  },
  {
   "cell_type": "code",
   "execution_count": null,
   "id": "75ca47e6",
   "metadata": {},
   "outputs": [],
   "source": [
    "#evaluation metrics\n",
    "print(\"mean absolute error\",mean_absolute_error(y_test,pred_test_dt))\n",
    "print(\"mean squared error\",mean_squared_error(y_test,pred_test_dt))\n",
    "print(\"Root mean squared error\",np.sqrt(mean_squared_error(y_test,pred_test_dt)))\n",
    "print(\"r2_score is\",r2_score(y_test,pred_test_dt)*100)"
   ]
  },
  {
   "cell_type": "code",
   "execution_count": null,
   "id": "27e07341",
   "metadata": {},
   "outputs": [],
   "source": [
    "plt.figure(figsize=(8,6))\n",
    "plt.scatter(x=y_test,y=pred_test_dt,color='b')\n",
    "plt.plot(y_test,y_test,color='b')\n",
    "plt.xlabel('Actual',fontsize=14)\n",
    "plt.ylabel('Predicted',fontsize=14)\n",
    "plt.title('Decision Tree Regression',fontsize=18)\n",
    "plt.show()"
   ]
  },
  {
   "cell_type": "markdown",
   "id": "a6596fc5",
   "metadata": {},
   "source": [
    "GRADIENT BOOSTING REGRESSOR"
   ]
  },
  {
   "cell_type": "code",
   "execution_count": null,
   "id": "158317bd",
   "metadata": {},
   "outputs": [],
   "source": [
    "#perform gridsearchcv and cross val score on  GradientBoostingRegressor\n",
    "from sklearn.datasets import make_regression\n",
    "from sklearn.ensemble import GradientBoostingRegressor\n",
    "parameters={'loss':['ls','lad','huber','quantile'],'n_estimators':[50,100],'criterion':['friedman_mse','mse'],'learning_rate':[0.05],'max_depth' : [1,3,5,7,9,11,12],'min_weight_fraction_leaf':[0.1,0.2,0.3,0.4,0.5,0.6,0.7,0.8,0.9]}\n",
    "gbr=GradientBoostingRegressor()\n",
    "clf=GridSearchCV(gbr,parameters)\n",
    "clf.fit(x_train,y_train)\n",
    "print(clf.best_params_)\n",
    "\n"
   ]
  },
  {
   "cell_type": "code",
   "execution_count": null,
   "id": "bf497001",
   "metadata": {},
   "outputs": [],
   "source": [
    "\n",
    "gbr=GradientBoostingRegressor(criterion='friedman_mse',loss='huber',n_estimators=100,learning_rate= 0.05,max_depth= 5, min_weight_fraction_leaf= 0.1)\n",
    "gbr.fit(x_train,y_train)\n",
    "pred_test_gbr=gbr.predict(x_test)\n",
    "pred_train_gbr=gbr.predict(x_train)\n",
    "gbr_score = gbr.score(x_train,y_train)\n",
    "gbr_acc_score=r2_score(y_test,pred_test)\n",
    "print(\"Accuracy score is:\",gbr_acc_score*100)\n",
    "print(\"score of model is:\",gbr_score*100)"
   ]
  },
  {
   "cell_type": "code",
   "execution_count": null,
   "id": "4cb4748f",
   "metadata": {},
   "outputs": [],
   "source": [
    "cv_score_gbr=cross_val_score(gbr,x,y,cv=5)\n",
    "cv_mean_gbr=cv_score_gbr.mean()\n",
    "print(\"cv_mean is:\",cv_mean_gbr*100)"
   ]
  },
  {
   "cell_type": "code",
   "execution_count": null,
   "id": "ec7553b8",
   "metadata": {},
   "outputs": [],
   "source": [
    "#evaluation metrics\n",
    "print(\"mean absolute error\",mean_absolute_error(y_test,pred_test_gbr))\n",
    "print(\"mean squared error\",mean_squared_error(y_test,pred_test_gbr))\n",
    "print(\"Root mean squared error\",np.sqrt(mean_squared_error(y_test,pred_test_gbr)))\n",
    "print(\"r2_score is\",r2_score(y_test,pred_test_gbr)*100)"
   ]
  },
  {
   "cell_type": "code",
   "execution_count": null,
   "id": "b251ee0b",
   "metadata": {},
   "outputs": [],
   "source": [
    "plt.figure(figsize=(8,6))\n",
    "plt.scatter(x=y_test,y=pred_test_gbr,color='b')\n",
    "plt.plot(y_test,y_test,color='b')\n",
    "plt.xlabel('Actual',fontsize=14)\n",
    "plt.ylabel('Predicted',fontsize=14)\n",
    "plt.title('Gradient Boosting Regression',fontsize=18)\n",
    "plt.show()"
   ]
  },
  {
   "cell_type": "markdown",
   "id": "2b512812",
   "metadata": {},
   "source": [
    "SUPPORT VECTOR REGRESSOR"
   ]
  },
  {
   "cell_type": "code",
   "execution_count": null,
   "id": "12a52ed8",
   "metadata": {},
   "outputs": [],
   "source": [
    "#perform gridsearchcv and cross val score on Support Vector Regressor\n",
    "from sklearn.svm import SVR\n",
    "parameters ={'kernel':['linear','poly','rbf','sigmoid'],'gamma':['scale', 'auto'],'tol':[0.01,0.0001,0.001],'shrinking':[True,False],'degree':[3,4,5],'max_iter':[1,2,-1]}\n",
    "sv=SVR()\n",
    "clf=GridSearchCV(sv,parameters)\n",
    "clf.fit(x_train,y_train)\n",
    "print(clf.best_params_)\n"
   ]
  },
  {
   "cell_type": "code",
   "execution_count": null,
   "id": "1c6a5461",
   "metadata": {},
   "outputs": [],
   "source": [
    "sv=SVR(kernel='poly',gamma='scale',degree= 5, max_iter= -1, shrinking= False, tol= 0.0001)\n",
    "sv.fit(x_train,y_train)\n",
    "pred_test_sv=sv.predict(x_test)\n",
    "pred_train_sv=sv.predict(x_train)\n",
    "sv_score = sv.score(x_train,y_train)\n",
    "sv_acc_score=r2_score(y_test,pred_test)\n",
    "print(\"Accuracy score is:\",sv_acc_score*100)\n",
    "print(\"score of model is:\",sv_score*100)"
   ]
  },
  {
   "cell_type": "code",
   "execution_count": null,
   "id": "c00d13b9",
   "metadata": {},
   "outputs": [],
   "source": [
    "cv_score_sv=cross_val_score(sv,x,y,cv=5)\n",
    "cv_mean_sv=cv_score_sv.mean()\n",
    "print(\"cv_mean is:\",cv_mean_sv*100)"
   ]
  },
  {
   "cell_type": "code",
   "execution_count": null,
   "id": "347c24e1",
   "metadata": {},
   "outputs": [],
   "source": [
    "#evaluation metrics\n",
    "print(\"mean absolute error\",mean_absolute_error(y_test,pred_test_sv))\n",
    "print(\"mean squared error\",mean_squared_error(y_test,pred_test_sv))\n",
    "print(\"Root mean squared error\",np.sqrt(mean_squared_error(y_test,pred_test_sv)))\n",
    "print(\"r2_score is\",r2_score(y_test,pred_test_sv)*100)"
   ]
  },
  {
   "cell_type": "code",
   "execution_count": null,
   "id": "87155dda",
   "metadata": {},
   "outputs": [],
   "source": [
    "plt.figure(figsize=(8,6))\n",
    "plt.scatter(x=y_test,y=pred_test_sv,color='b')\n",
    "plt.plot(y_test,y_test,color='b')\n",
    "plt.xlabel('Actual',fontsize=14)\n",
    "plt.ylabel('Predicted',fontsize=14)\n",
    "plt.title('Support Vector Regression',fontsize=18)\n",
    "plt.show()"
   ]
  },
  {
   "cell_type": "markdown",
   "id": "490b8ad1",
   "metadata": {},
   "source": [
    "ELASTIC NET REGRESSION(COMBINATION OF L1 AND L2)"
   ]
  },
  {
   "cell_type": "code",
   "execution_count": null,
   "id": "575b2d4f",
   "metadata": {},
   "outputs": [],
   "source": [
    "from sklearn.linear_model import ElasticNet\n",
    "parameters={'alpha':[0.0001,0.001,0.01,0.1,1],'fit_intercept':[True,False],'normalize':[True,False],'tol':[0.001],'random_state':list(range(0,10))}\n",
    "enr=ElasticNet()\n",
    "clf=GridSearchCV(enr,parameters)\n",
    "clf.fit(x_train,y_train)\n",
    "print(clf.best_params_)"
   ]
  },
  {
   "cell_type": "code",
   "execution_count": null,
   "id": "fd938d71",
   "metadata": {},
   "outputs": [],
   "source": [
    "enr=ElasticNet(alpha=0.0001,fit_intercept= True,normalize= False, random_state= 0, tol= 0.001)\n",
    "enr.fit(x_train,y_train)\n",
    "pred_test_enr=enr.predict(x_test)\n",
    "pred_train_enr=enr.predict(x_train)\n",
    "enr_score = enr.score(x_train,y_train)\n",
    "enr_acc_score=r2_score(y_test,pred_test)\n",
    "print(\"Accuracy score is:\",enr_acc_score*100)\n",
    "print(\"score of model is:\",enr_score*100)"
   ]
  },
  {
   "cell_type": "code",
   "execution_count": null,
   "id": "ee70576f",
   "metadata": {},
   "outputs": [],
   "source": [
    "cv_score_enr=cross_val_score(enr,x,y,cv=5)\n",
    "cv_mean_enr=cv_score_enr.mean()\n",
    "print(\"cv_mean is:\",cv_mean_enr*100)"
   ]
  },
  {
   "cell_type": "code",
   "execution_count": null,
   "id": "c34827bd",
   "metadata": {},
   "outputs": [],
   "source": [
    "#evaluation metrics\n",
    "print(\"mean absolute error\",mean_absolute_error(y_test,pred_test_enr))\n",
    "print(\"mean squared error\",mean_squared_error(y_test,pred_test_enr))\n",
    "print(\"Root mean squared error\",np.sqrt(mean_squared_error(y_test,pred_test_enr)))\n",
    "print(\"r2_score is\",r2_score(y_test,pred_test_enr)*100)"
   ]
  },
  {
   "cell_type": "code",
   "execution_count": null,
   "id": "a4339272",
   "metadata": {},
   "outputs": [],
   "source": [
    "plt.figure(figsize=(8,6))\n",
    "plt.scatter(x=y_test,y=pred_test_enr,color='r')\n",
    "plt.plot(y_test,y_test,color='b')\n",
    "plt.xlabel('Actual',fontsize=14)\n",
    "plt.ylabel('Predicted',fontsize=14)\n",
    "plt.title('Elastic Net Regression',fontsize=18)\n",
    "plt.show()"
   ]
  },
  {
   "cell_type": "markdown",
   "id": "56baba30",
   "metadata": {},
   "source": [
    "CONCLUSION\n",
    "\n",
    "OUTPUT\n",
    " \n"
   ]
  },
  {
   "cell_type": "code",
   "execution_count": null,
   "id": "8700b9ba",
   "metadata": {},
   "outputs": [],
   "source": [
    "import numpy as np\n",
    "a=np.array(y_test)\n",
    "predicted=np.array(rd.predict(x_test))\n",
    "df_con=pd.DataFrame({\"Original\":a,\"Predicted\":predicted},index=range(len(a)))\n",
    "df_con\n"
   ]
  },
  {
   "cell_type": "code",
   "execution_count": null,
   "id": "165b2ed1",
   "metadata": {},
   "outputs": [],
   "source": [
    "import pickle\n",
    "filename='HOUSING_SALES_PRICE _PREDICTION__rd.pkl'\n",
    "pickle.dump(rd,open(filename,'wb'))\n"
   ]
  },
  {
   "cell_type": "code",
   "execution_count": null,
   "id": "8ceb9bd7",
   "metadata": {},
   "outputs": [],
   "source": [
    "models=['Linear Regression','Lasso regression','RandomForestRegressor','Ridge Regressor','Decison Tree Regressor','GradientBoostingRegressor'\n",
    ",'Support Vector Regressor','ElasticNet Regression']\n",
    "        \n"
   ]
  },
  {
   "cell_type": "code",
   "execution_count": null,
   "id": "9a78c141",
   "metadata": {},
   "outputs": [],
   "source": [
    "scores=[ r2_score(y_test,pred_test)*100,ls_acc_score*100,rf_acc_score*100,rd_acc_score*100,dt_acc_score*100,gbr_acc_score*100,sv_acc_score*100,enr_acc_score*100]\n",
    "scores"
   ]
  },
  {
   "cell_type": "code",
   "execution_count": null,
   "id": "d12b451d",
   "metadata": {},
   "outputs": [],
   "source": [
    "Nos=[]\n",
    "for i in range(1,len(models)+1):\n",
    "    Nos.append(i)\n",
    "Nos    "
   ]
  },
  {
   "cell_type": "code",
   "execution_count": null,
   "id": "d39cf5d0",
   "metadata": {},
   "outputs": [],
   "source": [
    "import pandas as pd\n",
    "Model_scores=pd.DataFrame({})\n",
    "Model_scores['Nos']=Nos\n",
    "Model_scores['Model Names']=models\n",
    "Model_scores['Scores']=scores\n",
    "Model_scores.sort_values(by='Scores', ascending=False).style.hide_index()"
   ]
  },
  {
   "cell_type": "markdown",
   "id": "0d85fabc",
   "metadata": {},
   "source": [
    "CONCLUSION"
   ]
  },
  {
   "cell_type": "markdown",
   "id": "7b690588",
   "metadata": {},
   "source": [
    "From the above models,Ridge Regressor performs well,Because Ridge regression is a model tuning method that is used to analyse any data that suffers from multicollinearity. This method performs L2 regularization. When the issue of multicollinearity occurs, least-squares are unbiased, and variances are large, this results in predicted values to be far away from the actual values.\n",
    "\n",
    "This is our Best Fit Model.So we save this model for our analysis"
   ]
  },
  {
   "cell_type": "markdown",
   "id": "ec145dc6",
   "metadata": {},
   "source": [
    "FINDINGS"
   ]
  },
  {
   "cell_type": "markdown",
   "id": "0c091be2",
   "metadata": {},
   "source": [
    "Saleprice of the house mostly depends on overall condition,salecondition,house zones and types,garage area,lot area,totalroom above ground,age of the house,remodelled or not,fireplace,Full Bath etc.,"
   ]
  },
  {
   "cell_type": "code",
   "execution_count": null,
   "id": "b5a8d347",
   "metadata": {},
   "outputs": [],
   "source": [
    "df_con.to_csv(\"HOUSING_SALES_PRICE _PREDICTION_rd.csv\",sep='\\t')"
   ]
  },
  {
   "cell_type": "markdown",
   "id": "a9e7e4ff",
   "metadata": {},
   "source": [
    "MAKE PREDICTION BY USING OUR SEPERATE NEW TEST DATA SET "
   ]
  },
  {
   "cell_type": "markdown",
   "id": "21df99be",
   "metadata": {},
   "source": [
    "Predict the output for new unseen Test data"
   ]
  },
  {
   "cell_type": "code",
   "execution_count": null,
   "id": "2cc215bb",
   "metadata": {},
   "outputs": [],
   "source": [
    "pred_test_new_raw_data=lr.predict(test_data)\n",
    "    "
   ]
  },
  {
   "cell_type": "markdown",
   "id": "8e2127c4",
   "metadata": {},
   "source": [
    "Compare Predicted Result with Unseen Result of new unseen Data"
   ]
  },
  {
   "cell_type": "code",
   "execution_count": null,
   "id": "58f951de",
   "metadata": {},
   "outputs": [],
   "source": [
    "import numpy as np\n",
    "a=np.array(y_test)\n",
    "predicted=np.array(lr.predict(test_data))\n",
    "li=[]\n",
    "for i in predicted:\n",
    "    round(i)\n",
    "    np.round(i,decimals=2)\n",
    "    li.append(i)\n"
   ]
  },
  {
   "cell_type": "code",
   "execution_count": null,
   "id": "9922d59d",
   "metadata": {},
   "outputs": [],
   "source": [
    "li1=[]\n",
    "import math\n",
    "for i in li:\n",
    "    y=math.trunc(i)\n",
    "    li1.append(y)\n",
    "li1    "
   ]
  },
  {
   "cell_type": "code",
   "execution_count": null,
   "id": "31928779",
   "metadata": {},
   "outputs": [],
   "source": [
    "df_ouput=pd.DataFrame(data = li1, columns= [\"Predicted Test Set Result\"])"
   ]
  },
  {
   "cell_type": "code",
   "execution_count": null,
   "id": "1ee064d0",
   "metadata": {},
   "outputs": [],
   "source": [
    "df_ouput"
   ]
  },
  {
   "cell_type": "code",
   "execution_count": null,
   "id": "231e91d3",
   "metadata": {},
   "outputs": [],
   "source": [
    "newdf = df_con.join(df_ouput)"
   ]
  },
  {
   "cell_type": "code",
   "execution_count": null,
   "id": "1bcdbdef",
   "metadata": {},
   "outputs": [],
   "source": [
    "newdf"
   ]
  },
  {
   "cell_type": "markdown",
   "id": "89f8d3a6",
   "metadata": {},
   "source": [
    "The predicted result for the new unseen test set is most similar to the actual results.so thus our model performs well\n",
    "and we can save this model for prediction"
   ]
  },
  {
   "cell_type": "markdown",
   "id": "2635b89c",
   "metadata": {},
   "source": [
    "\n",
    "\n"
   ]
  },
  {
   "cell_type": "code",
   "execution_count": null,
   "id": "838dbb55",
   "metadata": {},
   "outputs": [],
   "source": []
  },
  {
   "cell_type": "code",
   "execution_count": null,
   "id": "018e88cf",
   "metadata": {},
   "outputs": [],
   "source": []
  },
  {
   "cell_type": "code",
   "execution_count": null,
   "id": "fdb7572e",
   "metadata": {},
   "outputs": [],
   "source": []
  }
 ],
 "metadata": {
  "kernelspec": {
   "display_name": "Python 3",
   "language": "python",
   "name": "python3"
  },
  "language_info": {
   "codemirror_mode": {
    "name": "ipython",
    "version": 3
   },
   "file_extension": ".py",
   "mimetype": "text/x-python",
   "name": "python",
   "nbconvert_exporter": "python",
   "pygments_lexer": "ipython3",
   "version": "3.8.8"
  }
 },
 "nbformat": 4,
 "nbformat_minor": 5
}
